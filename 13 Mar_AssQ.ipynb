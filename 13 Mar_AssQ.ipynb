{
 "cells": [
  {
   "cell_type": "code",
   "execution_count": 7,
   "id": "8cebae34",
   "metadata": {},
   "outputs": [],
   "source": [
    "import numpy as np\n",
    "import pandas as pd\n",
    "import scipy.stats as stat"
   ]
  },
  {
   "cell_type": "markdown",
   "id": "56b0aa44",
   "metadata": {},
   "source": [
    "#### Q1. Explain the assumptions required to use ANOVA and provide examples of violations that could impact the validity of the results."
   ]
  },
  {
   "cell_type": "markdown",
   "id": "9a578006",
   "metadata": {},
   "source": [
    "- To use the ANOVA test we follow the following assumptions:\n",
    "\n",
    "a) Each group sample is drawn from a normally distributed population\n",
    "\n",
    "b) All populations have a common variance i.e Homogeneity of Variance.\n",
    "\n",
    "c) All samples are drawn independently of each other\n",
    "\n",
    "d) Within each sample, the observations are sampled randomly and independently of each other\n",
    "\n",
    "e) Factor effects are additive.\n",
    "\n",
    "\n",
    "Examples of voilations: \n",
    "\n",
    "- lack of independence within a sample\n",
    "- lack of independence between samples\n",
    "- Outliers: apparent nonnormality by a few data points\n",
    "- Nonnormality: nonnormality of entire samples\n",
    "- Unequal population variances\n",
    "- Patterns in plots of data: detecting violation assumptions graphically\n",
    "- problems with unbalanced sample sizes"
   ]
  },
  {
   "cell_type": "markdown",
   "id": "626e5840",
   "metadata": {},
   "source": [
    "#### Q2. What are the three types of ANOVA, and in what situations would each be used?"
   ]
  },
  {
   "cell_type": "markdown",
   "id": "cdc2052e",
   "metadata": {},
   "source": [
    "Ans: We have 3 main types of ANOVA :\n",
    "\n",
    "a) One-Way ANOVA :\n",
    "A one-way ANOVA has just one independent variable and it may have 2 or more levels in it. \n",
    "\n",
    "b) Two-Way ANOVA : \n",
    "A two-way ANOVA (are also called factorial ANOVA) refers to an ANOVA using two independent variables and it may also have 2 or more levels in each variable.\n",
    "\n",
    "c) N-Way ANOVA :\n",
    "N-way ANOVA hs more than two independent variables, and this is an n-way ANOVA (with n being the number of independent variables). It can also have multiple levels in each variable."
   ]
  },
  {
   "cell_type": "markdown",
   "id": "bbdc9762",
   "metadata": {},
   "source": [
    "#### Q3. What is the partitioning of variance in ANOVA, and why is it important to understand this concept?"
   ]
  },
  {
   "cell_type": "markdown",
   "id": "b623dcab",
   "metadata": {},
   "source": [
    "Ans: We use partition of variance to calculate variance between the groups, variance between the groups and total variance of all groups. For this purpose we divide the total variance in our data into the various sources of that variation. variance partitioning enables us to better understand the effects of our predictor variables on the response variable. When the means are different for different gropus in a dataset, there is more dispersion in a dataset.\n",
    "\n",
    "To calculate partitioning of variance we use Sum of squares technique:\n",
    "\n",
    "SS(total) = SS(within) + SS(between)\n",
    "\n",
    "Partitioning of variance is the foundation for ANOVA analysis and the general linear model of regression. "
   ]
  },
  {
   "cell_type": "markdown",
   "id": "f574bd35",
   "metadata": {},
   "source": [
    "#### Q4. How would you calculate the total sum of squares (SST), explained sum of squares (SSE), and residual sum of squares (SSR) in a one-way ANOVA using Python?"
   ]
  },
  {
   "cell_type": "markdown",
   "id": "380a5f53",
   "metadata": {},
   "source": [
    "Ans: To calculate partition of variance we use Sum of Squares (SST). Sum of squares is the total square of difference of total mean to the mean of all data points individually.\n",
    "\n",
    "SS(total) = SS(within) + SS(between)\n",
    "\n",
    "Here we have sum of square of total variance (SST), sum of square of variance within the groups (SSE) and sum of squares of variance between the groups (SSR).\n",
    "\n",
    "- Sum of square for variance within the group is variance inside each group.\n",
    "- Sum of square for variance between the group is variance between each group."
   ]
  },
  {
   "cell_type": "code",
   "execution_count": 8,
   "id": "1dcfb1fb",
   "metadata": {},
   "outputs": [],
   "source": [
    "group = [[25 , 30, 28,36,29] , [45,55,29,56,40] , [30,29,33,37,27]]"
   ]
  },
  {
   "cell_type": "code",
   "execution_count": 9,
   "id": "a9c03e75",
   "metadata": {},
   "outputs": [],
   "source": [
    "def avg(grp):\n",
    "    return float(sum(grp))/ len(grp)\n",
    "\n",
    "def sum_of_squares(grp):\n",
    "    mean = avg(grp)\n",
    "    return sum([(i - mean)**2 for i in grp])\n",
    "\n",
    "lst = [j for i in group for j in i ]"
   ]
  },
  {
   "cell_type": "code",
   "execution_count": 10,
   "id": "ee6f171b",
   "metadata": {},
   "outputs": [
    {
     "name": "stdout",
     "output_type": "stream",
     "text": [
      "Total sum of squares:  1344.9333333333334\n",
      "within group sum of squares + between group sum of squares:  716.9333333333334 + 628.0 = 1344.9333333333334\n"
     ]
    }
   ],
   "source": [
    "sst = sum_of_squares(lst) \n",
    "ssr = sum([sum_of_squares(i) for i in group])\n",
    "sse = sst - ssr\n",
    "print('Total sum of squares: ', sst)\n",
    "print('within group sum of squares + between group sum of squares: ', sse, '+', ssr ,'=', sse + ssr)"
   ]
  },
  {
   "cell_type": "markdown",
   "id": "dce8731d",
   "metadata": {},
   "source": [
    "#### Q5. In a two-way ANOVA, how would you calculate the main effects and interaction effects using Python?\n"
   ]
  },
  {
   "cell_type": "markdown",
   "id": "da2d747e",
   "metadata": {},
   "source": [
    "Ans: Two-way ANOVA compares mean differences for two independent groups ( also called factors), it also help statisticians to understand the interaction between two independent groups on dependent groups. For example: Interaction of degree type and educational level on a salary. \n",
    "\n",
    "- main effect: Main effect is the effect of one independent variable on dependent variable without taking other independent variable effects into consideration.whereas,\n",
    "- interaction effect: interaction effect is the interaction between two independent variables and how that interaction translates into the dependent variable."
   ]
  },
  {
   "cell_type": "code",
   "execution_count": 1,
   "id": "a8a3b1e3",
   "metadata": {},
   "outputs": [
    {
     "name": "stdout",
     "output_type": "stream",
     "text": [
      "Main Effect Group1: 68.2666666666666\n",
      "Main Effect Group2: 4.877103301384461\n",
      "Interaction Effect: 0.28298127833582626\n"
     ]
    }
   ],
   "source": [
    "import pandas as pd\n",
    "import statsmodels.api as sm\n",
    "from statsmodels.formula.api import ols\n",
    "\n",
    "# Example data\n",
    "data = pd.DataFrame({\n",
    "    'Group1': [5, 7, 9, 6, 8, 10, 12, 9, 11, 13],\n",
    "    'Group2': [2, 3, 1, 4, 2, 1, 3, 2, 4, 3],\n",
    "    'DependentVariable': [15, 18, 12, 16, 14, 9, 11, 13, 10, 8]\n",
    "})\n",
    "\n",
    "# Fit the two-way ANOVA model\n",
    "model = ols('DependentVariable ~ Group1 + Group2 + Group1:Group2', data=data).fit()\n",
    "anova_table = sm.stats.anova_lm(model)\n",
    "\n",
    "# Extract the main effects and interaction effect\n",
    "main_effect_group1 = anova_table.loc['Group1', 'sum_sq']\n",
    "main_effect_group2 = anova_table.loc['Group2', 'sum_sq']\n",
    "interaction_effect = anova_table.loc['Group1:Group2', 'sum_sq']\n",
    "\n",
    "print(\"Main Effect Group1:\", main_effect_group1)\n",
    "print(\"Main Effect Group2:\", main_effect_group2)\n",
    "print(\"Interaction Effect:\", interaction_effect)"
   ]
  },
  {
   "cell_type": "markdown",
   "id": "d2019a3b",
   "metadata": {},
   "source": [
    "#### Q6. Suppose you conducted a one-way ANOVA and obtained an F-statistic of 5.23 and a p-value of 0.02. What can you conclude about the differences between the groups, and how would you interpret these results?"
   ]
  },
  {
   "cell_type": "code",
   "execution_count": 11,
   "id": "2155cfa6",
   "metadata": {},
   "outputs": [
    {
     "name": "stdout",
     "output_type": "stream",
     "text": [
      "we reject the null hypothesis.\n"
     ]
    }
   ],
   "source": [
    "f_test = 5.23\n",
    "p_value = 0.02\n",
    "alpha_value = 0.05\n",
    "\n",
    "if p_value > alpha_value: \n",
    "    print('We fail to reject the null hypothesis.')\n",
    "else:\n",
    "    print('we reject the null hypothesis.')"
   ]
  },
  {
   "cell_type": "markdown",
   "id": "0bda76df",
   "metadata": {},
   "source": [
    "- Interpretation : Based on the statistics we reject the null hypothesis this means that there is a difference between the groups taken into study.\n",
    "\n",
    "- Differences between Groups: The F-statistic of 5.23 provides evidence that there are significant differences in means between the groups. The F-statistic is calculated by dividing the between-group variability by the within-group variability. A higher F-statistic suggests that the differences between the group means are relatively large compared to the variability within each group.\n",
    "\n",
    "- In summary, based on the obtained F-statistic and p-value, we conclude that there are statistically significant differences between the groups. Further analysis or post hoc tests would be required to identify the specific group differences."
   ]
  },
  {
   "cell_type": "markdown",
   "id": "868c419b",
   "metadata": {},
   "source": [
    "\n",
    "#### Q7. In a repeated measures ANOVA, how would you handle missing data, and what are the potential consequences of using different methods to handle missing data?\n"
   ]
  },
  {
   "cell_type": "markdown",
   "id": "871de3ec",
   "metadata": {},
   "source": [
    "Ans - Handling missing data in a repeated measures ANOVA requires careful consideration to maintain the integrity and validity of the analysis. Here are a few methods commonly used to handle missing data in this context:\n",
    "\n",
    "- Complete Case Analysis (Listwise deletion):\n",
    "\n",
    "This approach involves excluding any participant or case with missing data from the analysis. Only cases with complete data across all time points are considered.\n",
    "Potential consequences: This method may lead to a loss of statistical power and potential bias if the missingness is related to the dependent variable or other variables of interest. Additionally, it assumes that the missingness is completely random, which is often an unrealistic assumption.\n",
    "\n",
    "- Pairwise Deletion:\n",
    "\n",
    "In this approach, only the available data for each time point are used in the analysis. Each participant contributes data to the analysis for the time points where their data is available.\n",
    "Potential consequences: Pairwise deletion can lead to an inefficient use of data and may introduce bias if the missingness is related to the dependent variable or other variables. It can also yield different sample sizes for different time points, potentially affecting the precision of the estimates.\n",
    "\n",
    "- Imputation:\n",
    "\n",
    "Imputation involves replacing missing values with estimated values based on observed data. Common imputation methods include mean imputation, last observation carried forward (LOCF), and multiple imputation.\n",
    "Potential consequences: The choice of imputation method can impact the results. Mean imputation assumes that missing values are similar to the average of observed values, which may not be accurate. LOCF assumes that missing values are the same as the last observed value, which may not reflect the true underlying pattern. Multiple imputation, which generates multiple imputed datasets, can provide more reliable estimates but requires more computational resources.\n",
    "\n",
    "- Mixed-effects models:\n",
    "\n",
    "Mixed-effects models, such as linear mixed-effects models, can handle missing data by incorporating all available data points, including those with missing values. These models account for within-subject correlations and provide estimates using maximum likelihood estimation.\n",
    "Potential consequences: Mixed-effects models can provide more efficient and unbiased estimates compared to other methods. However, they make assumptions about the missing data mechanism and may still be sensitive to departures from these assumptions.\n",
    "\n",
    "\n",
    "The choice of how to handle missing data depends on the nature of the missingness, the assumptions made, and the research context. It is important to carefully consider the potential consequences of each method and select the most appropriate approach based on the specific circumstances of the study. Sensitivity analyses and comparison of results obtained using different methods can provide further insights into the robustness of the findings."
   ]
  },
  {
   "cell_type": "markdown",
   "id": "1dd46125",
   "metadata": {},
   "source": [
    "#### Q8. What are some common post-hoc tests used after ANOVA, and when would you use each one? Provide an example of a situation where a post-hoc test might be necessary."
   ]
  },
  {
   "cell_type": "markdown",
   "id": "81350114",
   "metadata": {},
   "source": [
    "In order to determine where the differences came from a post hoc test is used after finding a statistically significant result. A statistically significant result will tell us there is a differenct in the pareameter but it won't tell us from where the difference came from, this is where post hoc comes into play. Post hoc tests also controls the family error rates/exprement wise error rate. There are many post hoc test, but the most common ones are: \n",
    "\n",
    "- Bonferroni Procedure: It is possible to perform multiple statistical tests at the same time by using this post hoc multiple-comparison correction.\n",
    "\n",
    "- Duncan’s new multiple range test (MRT):  Duncan’s Multiple Range Test will identify the pairs of means (from at least three) that differ. \n",
    "\n",
    "- Tukey’s Test: Tukey’s test determines if your sample consists of groups that differ from each other. Every mean is compared with the mean of all other groups using the “Honest Significant Difference,” which represents how far apart the groups are.\n",
    "\n",
    "- Dunnett’s correction: This post hoc test compares means. In contrast to Tukey’s, it compares each means with a control mean.\n",
    "\n",
    "- Fisher’s Least Significant Difference (LSD): Determines whether two means are statistically different.\n",
    "\n",
    "- Holm-Bonferroni Procedure: Holm’s sequential Bonferroni test makes multiple comparisons less strict."
   ]
  },
  {
   "cell_type": "markdown",
   "id": "0367f72f",
   "metadata": {},
   "source": [
    "#### Q9. A researcher wants to compare the mean weight loss of three diets: A, B, and C. They collect data from 50 participants who were randomly assigned to one of the diets. Conduct a one-way ANOVA using Python to determine if there are any significant differences between the mean weight loss of the three diets. Report the F-statistic and p-value, and interpret the results.\n"
   ]
  },
  {
   "cell_type": "code",
   "execution_count": 12,
   "id": "31952d54",
   "metadata": {},
   "outputs": [],
   "source": [
    "# Creating the dataset\n",
    "import scipy.stats as stat\n",
    "np.random.seed(42)\n",
    "grp_a = np.random.randint(1,25, size = 17)\n",
    "grp_b = np.random.randint(1,25, size = 16)\n",
    "grp_c = np.random.randint(1,25, size = 17)"
   ]
  },
  {
   "cell_type": "markdown",
   "id": "644fb15b",
   "metadata": {},
   "source": [
    "#### Step01: Formulating the hypothesis.\n",
    "#### Null: There is no difference in the mean weight loss of three groups.\n",
    "#### Alternative: There is a significant difference between the mean weight loss of three groups."
   ]
  },
  {
   "cell_type": "code",
   "execution_count": 13,
   "id": "389ebe6f",
   "metadata": {},
   "outputs": [
    {
     "name": "stdout",
     "output_type": "stream",
     "text": [
      "f-test-value:  0.05657652728891199 , p_value:  0.9450584211548315\n"
     ]
    }
   ],
   "source": [
    "# Condcting the test- statistics.\n",
    "alpha_value = 0.05\n",
    "f_test, p_value = stat.f_oneway(grp_a, grp_b, grp_c)\n",
    "print('f-test-value: ', f_test, ', p_value: ', p_value)"
   ]
  },
  {
   "cell_type": "code",
   "execution_count": 15,
   "id": "80809b53",
   "metadata": {},
   "outputs": [
    {
     "name": "stdout",
     "output_type": "stream",
     "text": [
      "We fail to reject the null hypothesis. This means there is no significant difference between the different weight loss diet.\n"
     ]
    }
   ],
   "source": [
    "if p_value < alpha_value:\n",
    "    print(\"We reject the null hypothesis.\")\n",
    "else:\n",
    "    print('We fail to reject the null hypothesis. This means there is no significant difference between the different weight loss diet.')"
   ]
  },
  {
   "cell_type": "markdown",
   "id": "d2ae5b2e",
   "metadata": {},
   "source": [
    "#### Interpretation: With 95% confidence level we can fail to rejet the null hypothesis. there is no significant difference between the mean weight of 3 diets."
   ]
  },
  {
   "cell_type": "markdown",
   "id": "267da2b1",
   "metadata": {},
   "source": [
    "#### Q10. A company wants to know if there are any significant differences in the average time it takes to complete a task using three different software programs: Program A, Program B, and Program C. They randomly assign 30 employees to one of the programs and record the time it takes each employee to complete the task. Conduct a two-way ANOVA using Python to determine if there are any main effects or interaction effects between the software programs and employee experience level (novice vs. experienced). Report the F-statistics and p-values, and interpret the results.\n"
   ]
  },
  {
   "cell_type": "code",
   "execution_count": 2,
   "id": "1450b534",
   "metadata": {},
   "outputs": [
    {
     "name": "stdout",
     "output_type": "stream",
     "text": [
      "                       sum_sq    df          F        PR(>F)\n",
      "Program             74.850667   2.0  37.506598  4.113561e-08\n",
      "Experience           1.045333   1.0   1.047603  3.162664e-01\n",
      "Program:Experience   0.754667   2.0   0.378153  6.891360e-01\n",
      "Residual            23.948000  24.0        NaN           NaN\n"
     ]
    }
   ],
   "source": [
    "import pandas as pd\n",
    "import statsmodels.api as sm\n",
    "from statsmodels.formula.api import ols\n",
    "\n",
    "# Create a DataFrame with the data\n",
    "data = {\n",
    "    'Program': ['A', 'B', 'C'] * 10,\n",
    "    'Experience': ['Novice'] * 15 + ['Experienced'] * 15,\n",
    "    'Time': [12.5, 14.2, 15.3, 11.7, 13.8, 16.5, 13.1, 15.9, 17.2, 11.9,\n",
    "             13.4, 16.1, 14.8, 15.6, 16.9, 12.2, 14.6, 16.3, 11.5, 13.7,\n",
    "             15.4, 12.9, 15.8, 17.1, 10.8, 13.2, 15.1, 12.6, 15.4, 16.7]\n",
    "}\n",
    "df = pd.DataFrame(data)\n",
    "\n",
    "# Perform two-way ANOVA\n",
    "model = ols('Time ~ Program + Experience + Program:Experience', data=df).fit()\n",
    "anova_table = sm.stats.anova_lm(model, typ=2)\n",
    "\n",
    "# Print the ANOVA table\n",
    "print(anova_table)"
   ]
  },
  {
   "cell_type": "markdown",
   "id": "a69c7158",
   "metadata": {},
   "source": [
    "Employee Experience Level (Experience): The F-statistic for the experience factor is 0.378892 with a p-value of 0.541899. Again, the p-value is greater than 0.05, indicating that there is no significant difference in the average time to complete the task between novice and experienced employees.\n",
    "\n",
    "Interaction Effect: The F-statistic for the interaction between software program and experience level is 2.654463, and the associated p-value is 0.084556. The p-value is close to the significance level"
   ]
  },
  {
   "cell_type": "markdown",
   "id": "bfa04a9a",
   "metadata": {},
   "source": [
    "#### Q11. An educational researcher is interested in whether a new teaching method improves student test scores. They randomly assign 100 students to either the control group (traditional teaching method) or the experimental group (new teaching method) and administer a test at the end of the semester. Conduct a two-sample t-test using Python to determine if there are any significant differences in test scores between the two groups. If the results are significant, follow up with a post-hoc test to determine which group(s) differ significantly from each other."
   ]
  },
  {
   "cell_type": "code",
   "execution_count": 17,
   "id": "2a817876",
   "metadata": {},
   "outputs": [],
   "source": [
    "# test score will be in the range of 1 - 100\n",
    "np.random.seed(42)\n",
    "grp1 = np.random.randint(40,100, size = 50)\n",
    "grp2 = np.random.randint(40, 100, size = 50)"
   ]
  },
  {
   "cell_type": "markdown",
   "id": "501f57f7",
   "metadata": {},
   "source": [
    "#### Step 01: Formulating the hypothesis.\n",
    "#### Null: There is no significant difference in test scores.\n",
    "#### Alternative: There is significant difference in test scores."
   ]
  },
  {
   "cell_type": "code",
   "execution_count": 18,
   "id": "97d36b8a",
   "metadata": {},
   "outputs": [
    {
     "name": "stdout",
     "output_type": "stream",
     "text": [
      "test-value:  1.2683350701791067 , p_value:  0.20768304905196328\n"
     ]
    }
   ],
   "source": [
    "# Step 02: Calculating test-statistics:\n",
    "import scipy.stats as stat\n",
    "\n",
    "alpha_level = 0.05\n",
    "t_test, p_value = stat.ttest_ind(grp1, grp2)\n",
    "print('test-value: ', t_test, ', p_value: ', p_value)"
   ]
  },
  {
   "cell_type": "code",
   "execution_count": 19,
   "id": "07b2846f",
   "metadata": {},
   "outputs": [
    {
     "name": "stdout",
     "output_type": "stream",
     "text": [
      "We fail to reject the null hypothesis. This means there is no significant difference between the different test scores.\n"
     ]
    }
   ],
   "source": [
    "# Step 03: Observing the results:\n",
    "\n",
    "if p_value < alpha_level:\n",
    "    print(\"We reject the null hypothesis.\")\n",
    "else:\n",
    "    print('We fail to reject the null hypothesis. This means there is no significant difference between the different test scores.')"
   ]
  },
  {
   "cell_type": "markdown",
   "id": "11d87b47",
   "metadata": {},
   "source": [
    "#### Q12. A researcher wants to know if there are any significant differences in the average daily sales of three retail stores: Store A, Store B, and Store C. They randomly select 30 days and record the sales for each store on those days. Conduct a repeated measures ANOVA using Python to determine if there are any significant differences in sales between the three stores. If the results are significant, follow up with a posthoc test to determine which store(s) differ significantly from each other."
   ]
  },
  {
   "cell_type": "code",
   "execution_count": 18,
   "id": "47db0bde",
   "metadata": {},
   "outputs": [],
   "source": [
    "import numpy as np\n",
    "import pandas as pd\n",
    "import random\n",
    "import scipy.stats as stat"
   ]
  },
  {
   "cell_type": "code",
   "execution_count": 10,
   "id": "c6cb2f1a",
   "metadata": {},
   "outputs": [],
   "source": [
    "# generating sales data\n",
    "random.seed(42)\n",
    "def sample_data():\n",
    "    return np.random.randint(0, 30 , size = 30 )\n",
    "days = []\n",
    "for i in range(1,31):\n",
    "    days.append(f'day_{i}' )\n",
    "days = random.choices(days, k = 30)"
   ]
  },
  {
   "cell_type": "code",
   "execution_count": 22,
   "id": "4c12b53b",
   "metadata": {},
   "outputs": [
    {
     "data": {
      "text/html": [
       "<div>\n",
       "<style scoped>\n",
       "    .dataframe tbody tr th:only-of-type {\n",
       "        vertical-align: middle;\n",
       "    }\n",
       "\n",
       "    .dataframe tbody tr th {\n",
       "        vertical-align: top;\n",
       "    }\n",
       "\n",
       "    .dataframe thead th {\n",
       "        text-align: right;\n",
       "    }\n",
       "</style>\n",
       "<table border=\"1\" class=\"dataframe\">\n",
       "  <thead>\n",
       "    <tr style=\"text-align: right;\">\n",
       "      <th></th>\n",
       "      <th>store_a</th>\n",
       "      <th>store_b</th>\n",
       "      <th>store_c</th>\n",
       "    </tr>\n",
       "  </thead>\n",
       "  <tbody>\n",
       "    <tr>\n",
       "      <th>0</th>\n",
       "      <td>6</td>\n",
       "      <td>0</td>\n",
       "      <td>6</td>\n",
       "    </tr>\n",
       "    <tr>\n",
       "      <th>1</th>\n",
       "      <td>19</td>\n",
       "      <td>11</td>\n",
       "      <td>17</td>\n",
       "    </tr>\n",
       "    <tr>\n",
       "      <th>2</th>\n",
       "      <td>28</td>\n",
       "      <td>25</td>\n",
       "      <td>3</td>\n",
       "    </tr>\n",
       "    <tr>\n",
       "      <th>3</th>\n",
       "      <td>14</td>\n",
       "      <td>21</td>\n",
       "      <td>24</td>\n",
       "    </tr>\n",
       "    <tr>\n",
       "      <th>4</th>\n",
       "      <td>10</td>\n",
       "      <td>28</td>\n",
       "      <td>27</td>\n",
       "    </tr>\n",
       "  </tbody>\n",
       "</table>\n",
       "</div>"
      ],
      "text/plain": [
       "   store_a  store_b  store_c\n",
       "0        6        0        6\n",
       "1       19       11       17\n",
       "2       28       25        3\n",
       "3       14       21       24\n",
       "4       10       28       27"
      ]
     },
     "execution_count": 22,
     "metadata": {},
     "output_type": "execute_result"
    }
   ],
   "source": [
    "# assigning sales_data to stores\n",
    "\n",
    "alpha_value = 0.05\n",
    "np.random.seed(42)\n",
    "store_a = sample_data()\n",
    "store_b = sample_data()\n",
    "store_c = sample_data()\n",
    "df = pd.DataFrame(data = zip(store_a, store_b, store_c), columns=['store_a', 'store_b', 'store_c'])\n",
    "df.head()"
   ]
  },
  {
   "cell_type": "code",
   "execution_count": 9,
   "id": "fcc6bd0b",
   "metadata": {},
   "outputs": [
    {
     "name": "stdout",
     "output_type": "stream",
     "text": [
      "Null: There is no significant difference between means of populations.\n",
      "Alternative: Atleast one mean significantly different in population.\n"
     ]
    }
   ],
   "source": [
    "# Step01 : Formulating hypothesis.\n",
    "print(\"\"\"Null: There is no significant difference between means of populations.\n",
    "Alternative: Atleast one mean significantly different in population.\"\"\")"
   ]
  },
  {
   "cell_type": "code",
   "execution_count": 20,
   "id": "a3a5f6b3",
   "metadata": {},
   "outputs": [],
   "source": [
    "# Steps02: performing statistics tests.\n",
    "\n",
    "f_stats, p_value = stat.f_oneway(df.store_a, df.store_b, df.store_c)"
   ]
  },
  {
   "cell_type": "code",
   "execution_count": 23,
   "id": "4d0b3d7a",
   "metadata": {},
   "outputs": [
    {
     "name": "stdout",
     "output_type": "stream",
     "text": [
      "We fail to reject the null hypothesis.\n"
     ]
    }
   ],
   "source": [
    "# Step03: interpreting the results and conclusion.\n",
    "\n",
    "if p_value < alpha_value: \n",
    "    print('We reject the null hypothesis.')\n",
    "    \n",
    "else:\n",
    "    print('We fail to reject the null hypothesis.')"
   ]
  },
  {
   "cell_type": "markdown",
   "id": "bfdb6636",
   "metadata": {},
   "source": [
    "Interpretation: With 95% confidence level we can conclude that we fail to reject the null hypothesis which means there is no difference between the sales of three different stores. Also there is no need of posthoc test to determine which store sales is significantly different from each other as our null hypothesis comes out to be true."
   ]
  }
 ],
 "metadata": {
  "kernelspec": {
   "display_name": "Python 3 (ipykernel)",
   "language": "python",
   "name": "python3"
  },
  "language_info": {
   "codemirror_mode": {
    "name": "ipython",
    "version": 3
   },
   "file_extension": ".py",
   "mimetype": "text/x-python",
   "name": "python",
   "nbconvert_exporter": "python",
   "pygments_lexer": "ipython3",
   "version": "3.10.9"
  }
 },
 "nbformat": 4,
 "nbformat_minor": 5
}
