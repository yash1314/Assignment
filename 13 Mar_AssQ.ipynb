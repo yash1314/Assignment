{
 "cells": [
  {
   "cell_type": "code",
   "execution_count": 64,
   "id": "5667a2e5",
   "metadata": {},
   "outputs": [],
   "source": [
    "import pandas as pd\n",
    "import numpy as np\n",
    "import scipy.stats as stat\n",
    "import seaborn as sns"
   ]
  },
  {
   "cell_type": "markdown",
   "id": "602753f9",
   "metadata": {},
   "source": [
    "#### 1. Write a Python function that takes in two arrays of data and calculates the F-value for a variance ratio test. The function should return the F-value and the corresponding p-value for the test."
   ]
  },
  {
   "cell_type": "code",
   "execution_count": 37,
   "id": "afff5b3a",
   "metadata": {},
   "outputs": [],
   "source": [
    "def f_test(grp1, grp2):\n",
    "    dof1 = len(grp1) - 1\n",
    "    dof2 = len(grp2) - 1\n",
    "    f = np.var(grp1) / np.var(grp2)\n",
    "    p_value = 1 - stat.f.cdf(f , dof1 ,dof2)\n",
    "    return f\"f_value is: {f} and p_value is: {p_value}\""
   ]
  },
  {
   "cell_type": "code",
   "execution_count": 38,
   "id": "c64f2760",
   "metadata": {},
   "outputs": [
    {
     "data": {
      "text/plain": [
       "'f_value is: 1.1629213483146061 and p_value is: 0.4436133379186171'"
      ]
     },
     "execution_count": 38,
     "metadata": {},
     "output_type": "execute_result"
    }
   ],
   "source": [
    "group1 = [0.26, 0.2, 0.21, 0.29, 0.3]\n",
    "group2 = [0.19, 0.29, 0.22, 0.27, 0.21]\n",
    "f_test(group1, group2)"
   ]
  },
  {
   "cell_type": "markdown",
   "id": "7d29ac6f",
   "metadata": {},
   "source": [
    "#### Q2. Given a significance level of 0.05 and the degrees of freedom for the numerator and denominator of an F-distribution, write a Python function that returns the critical F-value for a two-tailed test."
   ]
  },
  {
   "cell_type": "code",
   "execution_count": 57,
   "id": "90e8ff06",
   "metadata": {},
   "outputs": [],
   "source": [
    "def f_critical_value(df1, df2):\n",
    "    left_critical_value = stat.f.ppf(q = 0.05/2, dfn = df1, dfd = df2)\n",
    "    right_critical_value = stat.f.ppf(q = 1- (0.05/2), dfn = df1, dfd = df2)\n",
    "    return f\"left critical region value is: {left_critical_value} and right critical region value is: {right_critical_value}\""
   ]
  },
  {
   "cell_type": "code",
   "execution_count": 58,
   "id": "47d78052",
   "metadata": {},
   "outputs": [
    {
     "data": {
      "text/plain": [
       "'left critical region value is: 0.21497537660866217 and right critical region value is: 5.599623005043049'"
      ]
     },
     "execution_count": 58,
     "metadata": {},
     "output_type": "execute_result"
    }
   ],
   "source": [
    "f_critical_value(8,6)"
   ]
  },
  {
   "cell_type": "markdown",
   "id": "55fe3253",
   "metadata": {},
   "source": [
    "#### Q3. Write a Python program that generates random samples from two normal distributions with known variances and uses an F-test to determine if the variances are equal. The program should output the F\u0002value, degrees of freedom, and p-value for the test."
   ]
  },
  {
   "cell_type": "code",
   "execution_count": 155,
   "id": "a94badd8",
   "metadata": {},
   "outputs": [
    {
     "name": "stdout",
     "output_type": "stream",
     "text": [
      "Null: The two groups have equal variance i.e σ1 = σ2.\n",
      "Alternative: The two groups have unequal variance i.e σ1 != σ2.\n",
      "\n",
      "The value of f-test is: 0.9162609470264066, the value of degree of freedom for both the dataset is: 9 and 9 and at last the value of p is: 0.5507572632144\n",
      "\n",
      "We fail to reject the null hypothesis i.e variance of both the groups are equal.\n"
     ]
    }
   ],
   "source": [
    "np.random.seed(42)\n",
    "\n",
    "# creation of normally distributed dataset.\n",
    "sample1 = np.random.normal(loc = 10, scale = 5, size = 10)\n",
    "sample2 = np.random.normal(loc = 10, scale = 5, size =10)\n",
    "\n",
    "# calculating variance\n",
    "var1 = np.var(sample1)\n",
    "var2 = np.var(sample2)\n",
    "alpha_value = 0.05\n",
    "\n",
    "#Steps 1: Formulating the hypothesis.\n",
    "\n",
    "print(\"\"\"Null: The two groups have equal variance i.e σ1 = σ2.\n",
    "Alternative: The two groups have unequal variance i.e σ1 != σ2.\\n\"\"\")\n",
    "\n",
    "#Step 2: Calculating test Statistics.\n",
    "\n",
    "dof1 = len(sample1) - 1\n",
    "dof2 = len(sample2) - 1\n",
    "f = var1/var2\n",
    "p_value =1 - stat.f.cdf(f, dof1, dof2)\n",
    "print(f\"The value of f-test is: {f}, the value of degree of freedom for both the dataset is: {dof1} and {dof2} and at last the value of p is: {p_value}\")\n",
    "\n",
    "#Step 3: evaluation the results.\n",
    "\n",
    "if p_value > alpha_value:\n",
    "    print('\\nWe fail to reject the null hypothesis i.e variance of both the groups are equal.')\n",
    "else:\n",
    "    print('We reject the null hypothesis i.e variance of both the groups are not equal.')"
   ]
  },
  {
   "cell_type": "markdown",
   "id": "b6fd5935",
   "metadata": {},
   "source": [
    "#### Q4.The variances of two populations are known to be 10 and 15. A sample of 12 observations is taken from each population. Conduct an F-test at the 5% significance level to determine if the variances are significantly different."
   ]
  },
  {
   "cell_type": "code",
   "execution_count": 154,
   "id": "79370fab",
   "metadata": {},
   "outputs": [
    {
     "name": "stdout",
     "output_type": "stream",
     "text": [
      "Null: The two groups have equal variance i.e σ1 = σ2.\n",
      "Alternative: The two groups have unequal variance i.e σ1 != σ2.\n",
      "\n",
      "f-value is: 0.6666666666666666 and p-value is: 0.25619489936789996\n",
      "\n",
      "result - We fail to reject the null hypothesis i.e variance of both the groups are equal.\n"
     ]
    }
   ],
   "source": [
    "var1 = 10\n",
    "var2 = 15\n",
    "sample_size1 = 12\n",
    "sample_size2 = 12\n",
    "alpha_level = 0.05\n",
    "\n",
    "#Steps 1: Formulating the hypothesis.\n",
    "\n",
    "print(\"\"\"Null: The two groups have equal variance i.e σ1 = σ2.\n",
    "Alternative: The two groups have unequal variance i.e σ1 != σ2.\\n\"\"\")\n",
    "\n",
    "#Step 2: Calculating test Statistics.\n",
    "\n",
    "dof1 = sample_size1 - 1\n",
    "dof2 = sample_size2 - 1\n",
    "\n",
    "f = var1/var2\n",
    "\n",
    "p_value = stat.f.cdf(f, dof1, dof2)\n",
    "print(f\"f-value is: {f} and p-value is: {p_value}\")\n",
    "\n",
    "#Step 3: evaluation the results.\n",
    "\n",
    "if p_value > alpha_value:\n",
    "    print('\\nresult - We fail to reject the null hypothesis i.e variance of both the groups are equal.')\n",
    "else:\n",
    "    print('- We reject the null hypothesis i.e variance of both the groups are not equal.')"
   ]
  },
  {
   "cell_type": "markdown",
   "id": "ea6afc7c",
   "metadata": {},
   "source": [
    "#### Q5. A manufacturer claims that the variance of the diameter of a certain product is 0.005. A sample of 25 products is taken, and the sample variance is found to be 0.006. Conduct an F-test at the 1% significance level to determine if the claim is justified."
   ]
  },
  {
   "cell_type": "code",
   "execution_count": 148,
   "id": "dc1968be",
   "metadata": {},
   "outputs": [
    {
     "name": "stdout",
     "output_type": "stream",
     "text": [
      "Null: The two groups have equal variance i.e σ1 = σ2.\n",
      "Alternative: The two groups have unequal variance i.e σ1 < σ2.\n",
      "\n",
      "f-value is: 1.2 and p-value is: 0.6161412413994043\n",
      "\n",
      "result - We fail to reject the null hypothesis..\n"
     ]
    }
   ],
   "source": [
    "var1 = 0.005\n",
    "var2 = 0.006\n",
    "sample1 = 1\n",
    "sample2 = 25\n",
    "\n",
    "alpha_level = 0.01\n",
    "\n",
    "#Steps 1: Formulating the hypothesis.\n",
    "\n",
    "print(\"\"\"Null: The two groups have equal variance i.e σ1 = σ2.\n",
    "Alternative: The two groups have unequal variance i.e σ1 < σ2.\\n\"\"\")\n",
    "\n",
    "#Step 2: Calculating test Statistics.\n",
    "\n",
    "dof1 = sample_size1 - 1\n",
    "dof2 = sample_size2 - 1\n",
    "\n",
    "f = var2/var1\n",
    "\n",
    "p_value = stat.f.cdf(f, dof1, dof2)\n",
    "print(f\"f-value is: {f} and p-value is: {p_value}\")\n",
    "\n",
    "#Step 3: evaluation the results.\n",
    "\n",
    "if p_value > alpha_value:\n",
    "    print('\\nresult - We fail to reject the null hypothesis..')\n",
    "else:\n",
    "    print('- We reject the null hypothesis.')"
   ]
  },
  {
   "cell_type": "markdown",
   "id": "b7b86ef8",
   "metadata": {},
   "source": [
    "#### Q6. Write a Python function that takes in the degrees of freedom for the numerator and denominator of an F-distribution and calculates the mean and variance of the distribution. The function should return the mean and variance as a tuple."
   ]
  },
  {
   "cell_type": "code",
   "execution_count": 140,
   "id": "1f46d591",
   "metadata": {},
   "outputs": [],
   "source": [
    "np.random.seed(42)\n",
    "\n",
    "def m_v_cal(dfn, dfd):\n",
    "    sample_size1 = dfn + 1\n",
    "    sample_size2 = dfd + 1\n",
    "    f = np.random.f(dfnum = dfn, dfden = dfd, size = 10)\n",
    "    return f\"mean is: {np.mean(f)} and variance is: {np.var(f)}\""
   ]
  },
  {
   "cell_type": "code",
   "execution_count": 141,
   "id": "1a1e8d7f",
   "metadata": {},
   "outputs": [
    {
     "data": {
      "text/plain": [
       "'mean is: 1.432483868780909 and variance is: 0.8845762300994563'"
      ]
     },
     "execution_count": 141,
     "metadata": {},
     "output_type": "execute_result"
    }
   ],
   "source": [
    "m_v_cal(dfn = 10, dfd = 8)"
   ]
  },
  {
   "cell_type": "markdown",
   "id": "09e90fb4",
   "metadata": {},
   "source": [
    "#### Q7. A random sample of 10 measurements is taken from a normal population with unknown variance. The sample variance is found to be 25. Another random sample of 15 measurements is taken from another normal population with unknown variance, and the sample variance is found to be 20. Conduct an F-test at the 10% significance level to determine if the variances are significantly different."
   ]
  },
  {
   "cell_type": "code",
   "execution_count": 149,
   "id": "33e7620a",
   "metadata": {},
   "outputs": [
    {
     "name": "stdout",
     "output_type": "stream",
     "text": [
      "Null: The two groups have equal variance i.e σ1 = σ2.\n",
      "Alternative: The two groups have unequal variance i.e σ1 != σ2.\n",
      "\n",
      "f-value is: 1.25 and p-value is: 0.6583902808707024 and alpha_value is: 0.1\n",
      "\n",
      "result - We fail to reject the null hypothesis i.e variance of both the groups are equal.\n"
     ]
    }
   ],
   "source": [
    "a_sample = 10\n",
    "b_sample = 15\n",
    "a_var = 25\n",
    "b_var = 20\n",
    "\n",
    "alpha_level = 0.10\n",
    "\n",
    "#Step 1: Formulating the hypothesis.\n",
    "\n",
    "print(\"\"\"Null: The two groups have equal variance i.e σ1 = σ2.\n",
    "Alternative: The two groups have unequal variance i.e σ1 != σ2.\\n\"\"\")\n",
    "\n",
    "#Step 2: Calculating test Statistics.\n",
    "\n",
    "dof1 = a_sample - 1\n",
    "dof2 = b_sample - 1\n",
    "\n",
    "f = a_var/b_var\n",
    "\n",
    "p_value = stat.f.cdf(f, dof1, dof2)\n",
    "print(f\"f-value is: {f} and p-value is: {p_value} and alpha_value is: {alpha_level}\")\n",
    "\n",
    "#Step 3: evaluation the results.\n",
    "\n",
    "if p_value > alpha_value:\n",
    "    print('\\nresult - We fail to reject the null hypothesis i.e variance of both the groups are equal.')\n",
    "else:\n",
    "    print('- We reject the null hypothesis i.e variance of both the groups are not equal.')"
   ]
  },
  {
   "cell_type": "markdown",
   "id": "44877174",
   "metadata": {},
   "source": [
    "#### Q8. The following data represent the waiting times in minutes at two different restaurants on a Saturday night: Restaurant A: 24, 25, 28, 23, 22, 20, 27; Restaurant B: 31, 33, 35, 30, 32, 36. Conduct an F-test at the 5% significance level to determine if the variances are significantly different."
   ]
  },
  {
   "cell_type": "code",
   "execution_count": 152,
   "id": "9d34de81",
   "metadata": {},
   "outputs": [
    {
     "name": "stdout",
     "output_type": "stream",
     "text": [
      "Null: The two groups have equal variance i.e σ1 = σ2.\n",
      "Alternative: The two groups have unequal variance i.e σ1 != σ2.\n",
      "\n",
      "f-value is: 1.496767651159843 and p-value is: 0.6625866430359175\n",
      "\n",
      "result - We fail to reject the null hypothesis i.e variance of both the groups are equal.\n"
     ]
    }
   ],
   "source": [
    "a = [24, 25, 28, 23, 22, 20, 27]\n",
    "b = [31, 33, 35, 30, 32, 36]\n",
    "\n",
    "alpha_value = 0.05 # at 5% significance level. \n",
    "\n",
    "#Step 1: Formulating the hypothesis.\n",
    "\n",
    "print(\"\"\"Null: The two groups have equal variance i.e σ1 = σ2.\n",
    "Alternative: The two groups have unequal variance i.e σ1 != σ2.\\n\"\"\")\n",
    "\n",
    "#Step 2: Calculating test Statistics.\n",
    "\n",
    "vara = np.var(a)\n",
    "varb = np.var(b)\n",
    "dof1 = len(a) - 1\n",
    "dof2 = len(b) - 1\n",
    "\n",
    "f = vara/varb\n",
    "\n",
    "p_value = stat.f.cdf(f, dof1, dof2)\n",
    "print(f\"f-value is: {f} and p-value is: {p_value}\")\n",
    "\n",
    "#Step 3: evaluation the results.\n",
    "\n",
    "if p_value > alpha_value:\n",
    "    print('\\nresult - We fail to reject the null hypothesis i.e variance of both the groups are equal.')\n",
    "else:\n",
    "    print('- We reject the null hypothesis i.e variance of both the groups are not equal.')"
   ]
  },
  {
   "cell_type": "markdown",
   "id": "f6637b98",
   "metadata": {},
   "source": [
    "#### Q9. The following data represent the test scores of two groups of students: Group A: 80, 85, 90, 92, 87, 83; Group B: 75, 78, 82, 79, 81, 84. Conduct an F-test at the 1% significance level to determine if the variances are significantly different."
   ]
  },
  {
   "cell_type": "code",
   "execution_count": 153,
   "id": "3a15f5c4",
   "metadata": {},
   "outputs": [
    {
     "name": "stdout",
     "output_type": "stream",
     "text": [
      "Null: The two groups have equal variance i.e σ1 = σ2.\n",
      "Alternative: The two groups have unequal variance i.e σ1 != σ2.\n",
      "\n",
      "f-value is: 1.9442622950819677 and p-value is: 0.7584478225464656\n",
      "\n",
      "result - We fail to reject the null hypothesis i.e variance of both the groups are equal.\n"
     ]
    }
   ],
   "source": [
    "a = [ 80, 85, 90, 92, 87, 83]\n",
    "b = [75, 78, 82, 79, 81, 84]\n",
    "\n",
    "alpha_value = 0.01 # at 5% significance level. \n",
    "\n",
    "#Step 1: Formulating the hypothesis.\n",
    "\n",
    "print(\"\"\"Null: The two groups have equal variance i.e σ1 = σ2.\n",
    "Alternative: The two groups have unequal variance i.e σ1 != σ2.\\n\"\"\")\n",
    "\n",
    "#Step 2: Calculating test Statistics.\n",
    "\n",
    "vara = np.var(a)\n",
    "varb = np.var(b)\n",
    "dof1 = len(a) - 1\n",
    "dof2 = len(b) - 1\n",
    "\n",
    "f = vara/varb\n",
    "\n",
    "p_value = stat.f.cdf(f, dof1, dof2)\n",
    "print(f\"f-value is: {f} and p-value is: {p_value}\")\n",
    "\n",
    "#Step 3: evaluation the results.\n",
    "\n",
    "if p_value > alpha_value:\n",
    "    print('\\nresult - We fail to reject the null hypothesis i.e variance of both the groups are equal.')\n",
    "else:\n",
    "    print('- We reject the null hypothesis i.e variance of both the groups are not equal.')"
   ]
  }
 ],
 "metadata": {
  "kernelspec": {
   "display_name": "Python 3 (ipykernel)",
   "language": "python",
   "name": "python3"
  },
  "language_info": {
   "codemirror_mode": {
    "name": "ipython",
    "version": 3
   },
   "file_extension": ".py",
   "mimetype": "text/x-python",
   "name": "python",
   "nbconvert_exporter": "python",
   "pygments_lexer": "ipython3",
   "version": "3.10.10"
  }
 },
 "nbformat": 4,
 "nbformat_minor": 5
}
