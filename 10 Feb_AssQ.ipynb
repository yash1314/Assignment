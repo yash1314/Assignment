{
 "cells": [
  {
   "cell_type": "markdown",
   "id": "ef6d194b",
   "metadata": {},
   "source": [
    "#### Q1. Which function is used to open a file? What are the different modes of opening a file? Explain each mode of file opening."
   ]
  },
  {
   "cell_type": "code",
   "execution_count": 18,
   "id": "3bbaeebd",
   "metadata": {},
   "outputs": [
    {
     "name": "stdout",
     "output_type": "stream",
     "text": [
      "Open() function is used to open a file. There are different mode in open function according to use case. \n",
      "- 'w': is used to create a file if it dosen't exist, if it exist, then it truncates and create a new one.\n",
      "- 'r': is used to read a file. \n",
      "- 'b': is used in case of binary file.\n",
      "- 'a': is used to append content to a existing file. If no file exist it creates one for us.etc\n",
      "\n"
     ]
    }
   ],
   "source": [
    "print(\"\"\"Open() function is used to open a file. There are different mode in open function according to use case. \n",
    "- 'w': is used to create a file if it dosen't exist, if it exist, then it truncates and create a new one.\n",
    "- 'r': is used to read a file. \n",
    "- 'b': is used in case of binary file.\n",
    "- 'a': is used to append content to a existing file. If no file exist it creates one for us.etc\n",
    "\"\"\")\n",
    "\n",
    "# Open function example\n",
    "file = open('First_file.txt', 'w')"
   ]
  },
  {
   "cell_type": "markdown",
   "id": "cfcff96b",
   "metadata": {},
   "source": [
    "#### Q2. Why close() function is used? Why is it important to close a file?"
   ]
  },
  {
   "cell_type": "code",
   "execution_count": 19,
   "id": "0058e4a4",
   "metadata": {},
   "outputs": [
    {
     "name": "stdout",
     "output_type": "stream",
     "text": [
      "close() function is used to close an opened file. Changes made in a file in a file may not be visible until it is closed. So we should always close() an opened file to see the changes in it.\n"
     ]
    }
   ],
   "source": [
    "print(\"close() function is used to close an opened file. Changes made in a file in a file may not be visible until it is closed. So we should always close() an opened file to see the changes in it.\")"
   ]
  },
  {
   "cell_type": "markdown",
   "id": "979c0a25",
   "metadata": {},
   "source": [
    "#### Q3. Write a python program to create a text file. Write ‘I want to become a Data Scientist’ in that file. Then close the file. Open this file and read the content of the file. "
   ]
  },
  {
   "cell_type": "code",
   "execution_count": 28,
   "id": "8ed92b06",
   "metadata": {},
   "outputs": [],
   "source": [
    "file1 = open('test_file.txt', 'w') \n",
    "file1.write('I want to become a Data Scientist.')\n",
    "file1.close()"
   ]
  },
  {
   "cell_type": "code",
   "execution_count": 31,
   "id": "99af63b6",
   "metadata": {},
   "outputs": [
    {
     "data": {
      "text/plain": [
       "'I want to become a Data Scientist.'"
      ]
     },
     "execution_count": 31,
     "metadata": {},
     "output_type": "execute_result"
    }
   ],
   "source": [
    "file2 = open('test_file.txt', 'r')\n",
    "file2.read()"
   ]
  },
  {
   "cell_type": "markdown",
   "id": "2b3e44e0",
   "metadata": {},
   "source": [
    "#### Q4. Explain the following with python code: read(), readline() and readlines()."
   ]
  },
  {
   "cell_type": "code",
   "execution_count": null,
   "id": "758dd1a8",
   "metadata": {},
   "outputs": [],
   "source": []
  },
  {
   "cell_type": "markdown",
   "id": "9f5512c6",
   "metadata": {},
   "source": [
    "#### Q5. Explain why with statement is used with open(). What is the advantage of using with statement and open() together?"
   ]
  },
  {
   "cell_type": "code",
   "execution_count": null,
   "id": "e581fc7c",
   "metadata": {},
   "outputs": [],
   "source": []
  },
  {
   "cell_type": "markdown",
   "id": "b7a22d50",
   "metadata": {},
   "source": [
    "#### Q6. Explain the write() and writelines() functions. Give a suitable example"
   ]
  },
  {
   "cell_type": "code",
   "execution_count": null,
   "id": "5f029758",
   "metadata": {},
   "outputs": [],
   "source": []
  }
 ],
 "metadata": {
  "kernelspec": {
   "display_name": "Python 3 (ipykernel)",
   "language": "python",
   "name": "python3"
  },
  "language_info": {
   "codemirror_mode": {
    "name": "ipython",
    "version": 3
   },
   "file_extension": ".py",
   "mimetype": "text/x-python",
   "name": "python",
   "nbconvert_exporter": "python",
   "pygments_lexer": "ipython3",
   "version": "3.9.7"
  }
 },
 "nbformat": 4,
 "nbformat_minor": 5
}
