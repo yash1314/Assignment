{
 "cells": [
  {
   "cell_type": "markdown",
   "id": "ef6d194b",
   "metadata": {},
   "source": [
    "#### Q1. Which function is used to open a file? What are the different modes of opening a file? Explain each mode of file opening."
   ]
  },
  {
   "cell_type": "code",
   "execution_count": 18,
   "id": "3bbaeebd",
   "metadata": {},
   "outputs": [
    {
     "name": "stdout",
     "output_type": "stream",
     "text": [
      "Open() function is used to open a file. There are different mode in open function according to use case. \n",
      "- 'w': is used to create a file if it dosen't exist, if it exist, then it truncates and create a new one.\n",
      "- 'r': is used to read a file. \n",
      "- 'b': is used in case of binary file.\n",
      "- 'a': is used to append content to a existing file. If no file exist it creates one for us.etc\n",
      "\n"
     ]
    }
   ],
   "source": [
    "print(\"\"\"Open() function is used to open a file. There are different mode in open function according to use case. \n",
    "- 'w': is used to create a file if it dosen't exist, if it exist, then it truncates and create a new one.\n",
    "- 'r': is used to read a file. \n",
    "- 'b': is used in case of binary file.\n",
    "- 'a': is used to append content to a existing file. If no file exist it creates one for us.etc\n",
    "\"\"\")\n",
    "\n",
    "# Open function example\n",
    "file = open('First_file.txt', 'w')"
   ]
  },
  {
   "cell_type": "markdown",
   "id": "cfcff96b",
   "metadata": {},
   "source": [
    "#### Q2. Why close() function is used? Why is it important to close a file?"
   ]
  },
  {
   "cell_type": "code",
   "execution_count": 19,
   "id": "0058e4a4",
   "metadata": {},
   "outputs": [
    {
     "name": "stdout",
     "output_type": "stream",
     "text": [
      "close() function is used to close an opened file. Changes made in a file in a file may not be visible until it is closed. So we should always close() an opened file to see the changes in it.\n"
     ]
    }
   ],
   "source": [
    "print(\"close() function is used to close an opened file. Changes made in a file in a file may not be visible until it is closed. So we should always close() an opened file to see the changes in it.\")"
   ]
  },
  {
   "cell_type": "markdown",
   "id": "979c0a25",
   "metadata": {},
   "source": [
    "#### Q3. Write a python program to create a text file. Write ‘I want to become a Data Scientist’ in that file. Then close the file. Open this file and read the content of the file. "
   ]
  },
  {
   "cell_type": "code",
   "execution_count": 28,
   "id": "8ed92b06",
   "metadata": {},
   "outputs": [],
   "source": [
    "file1 = open('test_file.txt', 'w') \n",
    "file1.write('I want to become a Data Scientist.')\n",
    "file1.close()"
   ]
  },
  {
   "cell_type": "code",
   "execution_count": 31,
   "id": "99af63b6",
   "metadata": {},
   "outputs": [
    {
     "data": {
      "text/plain": [
       "'I want to become a Data Scientist.'"
      ]
     },
     "execution_count": 31,
     "metadata": {},
     "output_type": "execute_result"
    }
   ],
   "source": [
    "file2 = open('test_file.txt', 'r')\n",
    "file2.read()"
   ]
  },
  {
   "cell_type": "markdown",
   "id": "2b3e44e0",
   "metadata": {},
   "source": [
    "#### Q4. Explain the following with python code: read(), readline() and readlines()."
   ]
  },
  {
   "cell_type": "code",
   "execution_count": 6,
   "id": "2fbd70bf",
   "metadata": {},
   "outputs": [
    {
     "name": "stdout",
     "output_type": "stream",
     "text": [
      "All these methods are used to read data from a file. These area as follows:\n",
      "\n",
      "read() : read() method reads whole data and return whole data in string format.\n",
      "readline() : whereas readline() will return a single line from the file.\n",
      "readlines() : readlines() will return a list of data with each elements as single line in a list.\n",
      "\n"
     ]
    }
   ],
   "source": [
    "print(\"\"\"All these methods are used to read data from a file. These area as follows:\n",
    "\n",
    "read() : read() method reads whole data and return whole data in string format.\n",
    "readline() : whereas readline() will return a single line from the file.\n",
    "readlines() : readlines() will return a list of data with each elements as single line in a list.\n",
    "\"\"\")\n",
    "\n",
    "file2 = open('test_file2.txt', 'w')\n",
    "file2.write(\"\"\"Python is an interpreted, object-oriented, high-level programming language with dynamic semantics. Its \n",
    "high-level built in data structures, combined with dynamic typing and dynamic binding, make it very attractive for \n",
    "Rapid Application Development, as well as for use as a scripting or glue language to connect existing components \n",
    "together. Python's simple, easy to learn syntax emphasizes readability and therefore reduces the cost of program \n",
    "maintenance. Python supports modules and packages, which encourages program modularity and code reuse. The Python \n",
    "interpreter and the extensive standard library are available in source or binary form without charge for all major \n",
    "platforms, and can be freely distributed.\"\"\")\n",
    "file2.close()"
   ]
  },
  {
   "cell_type": "code",
   "execution_count": 8,
   "id": "b80249e0",
   "metadata": {},
   "outputs": [
    {
     "data": {
      "text/plain": [
       "\"Python is an interpreted, object-oriented, high-level programming language with dynamic semantics. Its \\nhigh-level built in data structures, combined with dynamic typing and dynamic binding, make it very attractive for \\nRapid Application Development, as well as for use as a scripting or glue language to connect existing components \\ntogether. Python's simple, easy to learn syntax emphasizes readability and therefore reduces the cost of program \\nmaintenance. Python supports modules and packages, which encourages program modularity and code reuse. The Python \\ninterpreter and the extensive standard library are available in source or binary form without charge for all major \\nplatforms, and can be freely distributed.\""
      ]
     },
     "execution_count": 8,
     "metadata": {},
     "output_type": "execute_result"
    }
   ],
   "source": [
    "file2 = open('test_file2.txt', 'r')\n",
    "\n",
    "file2.read()"
   ]
  },
  {
   "cell_type": "code",
   "execution_count": 9,
   "id": "5d3d13e2",
   "metadata": {},
   "outputs": [
    {
     "data": {
      "text/plain": [
       "'Python is an interpreted, object-oriented, high-level programming language with dynamic semantics. Its \\n'"
      ]
     },
     "execution_count": 9,
     "metadata": {},
     "output_type": "execute_result"
    }
   ],
   "source": [
    "file2.seek(0)\n",
    "file2.readline()"
   ]
  },
  {
   "cell_type": "code",
   "execution_count": 47,
   "id": "054a3f2c",
   "metadata": {},
   "outputs": [
    {
     "data": {
      "text/plain": [
       "['high-level built in data structures, combined with dynamic typing and dynamic binding, make it very attractive for \\n',\n",
       " 'Rapid Application Development, as well as for use as a scripting or glue language to connect existing components \\n',\n",
       " \"together. Python's simple, easy to learn syntax emphasizes readability and therefore reduces the cost of program \\n\",\n",
       " 'maintenance. Python supports modules and packages, which encourages program modularity and code reuse. The Python \\n',\n",
       " 'interpreter and the extensive standard library are available in source or binary form without charge for all major \\n',\n",
       " 'platforms, and can be freely distributed.']"
      ]
     },
     "execution_count": 47,
     "metadata": {},
     "output_type": "execute_result"
    }
   ],
   "source": [
    "file2.readlines()"
   ]
  },
  {
   "cell_type": "markdown",
   "id": "9f5512c6",
   "metadata": {},
   "source": [
    "#### Q5. Explain why with statement is used with open(). What is the advantage of using with statement and open() together?"
   ]
  },
  {
   "cell_type": "code",
   "execution_count": 50,
   "id": "e581fc7c",
   "metadata": {},
   "outputs": [
    {
     "name": "stdout",
     "output_type": "stream",
     "text": [
      "Using open() and with open() works fine, but if we use only open() we have to specifically close() the file. But using with open() we don't need to specifically close the file, with statement does it for us. Using with open() ensures prevention of memory, file error.\n"
     ]
    }
   ],
   "source": [
    "print(\"\"\"Using open() and with open() works the same, but when using open() we have to specifically close() the file. whereas when using with open() we don't need to specifically close the file, with statement does it for us. Using with open() ensures prevention of memory, file error.\"\"\")"
   ]
  },
  {
   "cell_type": "markdown",
   "id": "b7a22d50",
   "metadata": {},
   "source": [
    "#### Q6. Explain the write() and writelines() functions. Give a suitable example"
   ]
  },
  {
   "cell_type": "code",
   "execution_count": 53,
   "id": "5f029758",
   "metadata": {},
   "outputs": [
    {
     "name": "stdout",
     "output_type": "stream",
     "text": [
      "Both are used to write and append at the end of file. write() function takes string as an argument and writes this string into the opened file. whereas writelines() take list of string i.e iterables and write it to the file.\n"
     ]
    }
   ],
   "source": [
    "print(\"\"\"Both are used to write and append at the end of file. write() function takes string as an argument and writes this string into the opened file. whereas writelines() take list of string i.e iterables and write it to the file.\"\"\")\n",
    "\n",
    "file3 = open('test_file3.txt', 'w')\n",
    "file3.write(\"\"\"Beautiful is better than ugly.\n",
    "Explicit is better than implicit.\n",
    "Simple is better than complex.\n",
    "Complex is better than complicated.\n",
    "Flat is better than nested.\n",
    "Sparse is better than dense.\n",
    "Readability counts.\n",
    "Special cases aren't special enough to break the rules.\n",
    "Although practicality beats purity.\n",
    "Errors should never pass silently.\n",
    "Unless explicitly silenced.\n",
    "In the face of ambiguity, refuse the temptation to guess.\n",
    "There should be one-- and preferably only one --obvious way to do it.\n",
    "Although that way may not be obvious at first unless you're Dutch.\n",
    "Now is better than never.\n",
    "Although never is often better than *right* now.\n",
    "If the implementation is hard to explain, it's a bad idea.\n",
    "If the implementation is easy to explain, it may be a good idea.\n",
    "Namespaces are one honking great idea -- let's do more of those!\"\"\")\n",
    "file3.close()"
   ]
  },
  {
   "cell_type": "code",
   "execution_count": 1,
   "id": "eefda9b0",
   "metadata": {},
   "outputs": [],
   "source": [
    "#Creating a list for using in writelines() function.\n",
    "file3 = open('test_file3.txt', 'r')\n",
    "lst = [line.strip() for line in file3]"
   ]
  },
  {
   "cell_type": "code",
   "execution_count": 2,
   "id": "cad7be71",
   "metadata": {},
   "outputs": [],
   "source": [
    "#Creating a new file and using writelines() to write to a file.\n",
    "file4 = open('test_file4.txt', 'w')\n",
    "file4.writelines(lst)\n",
    "file4.close()"
   ]
  },
  {
   "cell_type": "code",
   "execution_count": 3,
   "id": "eeede143",
   "metadata": {},
   "outputs": [
    {
     "data": {
      "text/plain": [
       "\"Beautiful is better than ugly.Explicit is better than implicit.Simple is better than complex.Complex is better than complicated.Flat is better than nested.Sparse is better than dense.Readability counts.Special cases aren't special enough to break the rules.Although practicality beats purity.Errors should never pass silently.Unless explicitly silenced.In the face of ambiguity, refuse the temptation to guess.There should be one-- and preferably only one --obvious way to do it.Although that way may not be obvious at first unless you're Dutch.Now is better than never.Although never is often better than *right* now.If the implementation is hard to explain, it's a bad idea.If the implementation is easy to explain, it may be a good idea.Namespaces are one honking great idea -- let's do more of those!\""
      ]
     },
     "execution_count": 3,
     "metadata": {},
     "output_type": "execute_result"
    }
   ],
   "source": [
    "#Checking new created by using read(). \n",
    "file4 = open('test_file4.txt', 'r')\n",
    "file4.read()"
   ]
  }
 ],
 "metadata": {
  "kernelspec": {
   "display_name": "Python 3 (ipykernel)",
   "language": "python",
   "name": "python3"
  },
  "language_info": {
   "codemirror_mode": {
    "name": "ipython",
    "version": 3
   },
   "file_extension": ".py",
   "mimetype": "text/x-python",
   "name": "python",
   "nbconvert_exporter": "python",
   "pygments_lexer": "ipython3",
   "version": "3.9.7"
  }
 },
 "nbformat": 4,
 "nbformat_minor": 5
}
