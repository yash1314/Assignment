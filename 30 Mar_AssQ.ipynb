{
 "cells": [
  {
   "cell_type": "markdown",
   "id": "6825e673",
   "metadata": {},
   "source": [
    "#### Q1. What is Elastic Net Regression and how does it differ from other regression techniques?"
   ]
  },
  {
   "cell_type": "markdown",
   "id": "5cf6ca44",
   "metadata": {},
   "source": [
    "Elastic Net regression is as combination of both Ridge and Lasso regression and in turn L1 & L2 regularization. Elastic regression deals with high number of columns, multicollinearity and situation where we couldn't decide which regression to choose. Elastic uses both penalty combination of L1 and L2 regularization.  \n",
    "\n",
    "Equation:\n",
    "\n",
    "elastic_net_MSE = MSE + a * (sum of squared coefficients) + b * (sum of absolute coefficients) \n",
    "\n",
    "Where,\n",
    "\n",
    "a = penatly lambda factor for ridge regression.\n",
    "\n",
    "b = penalty lambda factor for lasso regression.\n",
    "\n",
    "- if a = 0 then elastic_net_MSE becomes lasso regression and if b = 0 then it becomes ridge regression.\n",
    "\n",
    "- We create the balance between a and b penalty factors to get a optimised model which encompass functionality of both ridge and lasso regression.\n",
    "\n",
    "- It differs from other regression technique by using a combination of both lasso and ridge regression. "
   ]
  },
  {
   "cell_type": "markdown",
   "id": "27c26300",
   "metadata": {},
   "source": [
    "#### Q2. How do you choose the optimal values of the regularization parameters for Elastic Net Regression?"
   ]
  },
  {
   "cell_type": "markdown",
   "id": "6cf5451c",
   "metadata": {},
   "source": [
    "The regularization parameter is selected by using cross-validation specifically 10 fold cross-validation. This is done by splitting the dataset into training, validation and testing. we train the model on training set and then use different settings for parameter values with validation set to check the optimal performance of our model. The particular model with optimal value of parameter will be choosen."
   ]
  },
  {
   "cell_type": "markdown",
   "id": "7e6a6298",
   "metadata": {},
   "source": [
    "#### Q3. What are the advantages and disadvantages of Elastic Net Regression?"
   ]
  },
  {
   "cell_type": "markdown",
   "id": "ac112705",
   "metadata": {},
   "source": [
    "Advantages of elastic net regression:\n",
    "\n",
    "Elastic net regression has several advantages over lasso and ridge regression, depending on the data and the problem. For instance, it can handle multicollinearity better than lasso regression by grouping correlated features and selecting the most representative ones. Additionally, it can reduce model complexity by eliminating irrelevant features, which is more effective than ridge regression. Moreover, elastic net regression can achieve a better trade-off between bias and variance than lasso and ridge regression by tuning the regularization parameters. Furthermore, this type of regression can be applied to various types of data, such as linear, logistic, or Cox regression models.\n",
    "\n",
    "Disadvantages of elastic net regression:\n",
    "\n",
    "Elastic net regression has some drawbacks compared to lasso and ridge regression, such as requiring more computational resources and time due to two regularization parameters and a cross-validation process. It may not perform optimally when there is no correlation between features or when the number of features is much smaller than the number of observations, as it may lose predictive power or introduce bias. Additionally, it may not be easily interpretable, as it could select a large number of features with small coefficients or a small number of features with large coefficients."
   ]
  },
  {
   "cell_type": "markdown",
   "id": "0737c6ec",
   "metadata": {},
   "source": [
    "#### Q4. What are some common use cases for Elastic Net Regression?"
   ]
  },
  {
   "cell_type": "markdown",
   "id": "f506bbee",
   "metadata": {},
   "source": [
    "Some common use case of elastic net regression:\n",
    "\n",
    "- predicting stock price.\n",
    "- predicting customer churn.\n",
    "- predicting crime.\n",
    "- predicting diseases."
   ]
  },
  {
   "cell_type": "markdown",
   "id": "a5954c66",
   "metadata": {},
   "source": [
    "#### Q5. How do you interpret the coefficients in Elastic Net Regression?"
   ]
  },
  {
   "cell_type": "markdown",
   "id": "6056d422",
   "metadata": {},
   "source": [
    "The coefficients of elastic net regression represents the linear relationship between the features and the target variable, adjusted by the regularization penalty factor. The larger the absolute value of a coefficient, the stronger the effect of change of the corresponding feature on the target variable. The sign of a coefficient indicates the direction of the effect change: positive for positive correlation, negative for negative correlation. The coefficients that are zero indicate that the corresponding features are not relevant for the model, and that they are eliminated by the lasso penalty. Therefore, we can use the coefficients of elastic net regression to rank the features by their importance and select the ones that have non-zero coefficients."
   ]
  },
  {
   "cell_type": "markdown",
   "id": "1165d6c3",
   "metadata": {},
   "source": [
    "#### Q6. How do you handle missing values when using Elastic Net Regression?"
   ]
  },
  {
   "cell_type": "markdown",
   "id": "a728626d",
   "metadata": {},
   "source": [
    "We use variour techniques for handling missing values. All these techniques are user case dependent. Some common techniques are:\n",
    "\n",
    "a) Removing the missing values.\n",
    "\n",
    "b) Imputation with mean/median.\n",
    "\n",
    "c) Imputation with Random values.\n",
    "\n",
    "d) Imputation with Arbitary values.\n",
    "\n",
    "e) Imputaiton with mode (categorical data)\n",
    "\n",
    "f) Multiple Imputation.\n",
    "\n",
    "These are all techniques that have some benefits and some drawbacks and are used based on different scenarios."
   ]
  },
  {
   "cell_type": "markdown",
   "id": "ad2b19e2",
   "metadata": {},
   "source": [
    "#### Q7. How do you use Elastic Net Regression for feature selection?"
   ]
  },
  {
   "cell_type": "markdown",
   "id": "b07e2352",
   "metadata": {},
   "source": [
    "Elastic net Regression is a combination of both Lasso and Ridge regularization. Lasso and ridge both can handle multicollinearity and overfitting but lasso has an upper hand, lasso can perfrom feature selection by shrinking the coefficients to zero. Elastic net regression has both L1 norm and L2 norm .e lambda and coefficient parameter. So when l2 norm i.e ridge regression's lambda factor is zero elastic net becomes lasso regularization and can perfrom feature selection. But we don't do this in practical instead we keep ridge regularization along with lasso and achieve a trade-off between the too to obtain the best of both fucntionality. "
   ]
  },
  {
   "cell_type": "markdown",
   "id": "3a2e50b0",
   "metadata": {},
   "source": [
    "#### Q8. How do you pickle and unpickle a trained Elastic Net Regression model in Python?"
   ]
  },
  {
   "cell_type": "markdown",
   "id": "4693b493",
   "metadata": {},
   "source": [
    "import pickle\n",
    "\n",
    "##### save the model to disk\n",
    "filename = 'model_object.sav'\n",
    "pickle.dump(model_object , open(filename, 'wb')) \n",
    "\n",
    "##### load the model from disk\n",
    "loaded_model = pickle.load(open(filename, 'rb'))"
   ]
  },
  {
   "cell_type": "markdown",
   "id": "8084f102",
   "metadata": {},
   "source": [
    "#### Q9. What is the purpose of pickling a model in machine learning?"
   ]
  },
  {
   "cell_type": "markdown",
   "id": "6839e4ec",
   "metadata": {},
   "source": [
    "Pickle is a useful Python tool that allows us to save our ML models, to minimise lengthy re-training and allow us to share, and re-load pre-trained machine learning models. This save time, resources and computing power by storing and loading models for further analysis."
   ]
  }
 ],
 "metadata": {
  "kernelspec": {
   "display_name": "Python 3 (ipykernel)",
   "language": "python",
   "name": "python3"
  },
  "language_info": {
   "codemirror_mode": {
    "name": "ipython",
    "version": 3
   },
   "file_extension": ".py",
   "mimetype": "text/x-python",
   "name": "python",
   "nbconvert_exporter": "python",
   "pygments_lexer": "ipython3",
   "version": "3.10.9"
  }
 },
 "nbformat": 4,
 "nbformat_minor": 5
}
