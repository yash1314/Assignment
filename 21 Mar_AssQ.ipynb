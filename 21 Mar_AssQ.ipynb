{
 "cells": [
  {
   "cell_type": "code",
   "execution_count": 2,
   "id": "464cb3c9",
   "metadata": {},
   "outputs": [],
   "source": [
    "import random\n",
    "import pandas as pd\n",
    "import numpy as np"
   ]
  },
  {
   "cell_type": "markdown",
   "id": "64af15f2",
   "metadata": {},
   "source": [
    "#### Q1. What is the difference between Ordinal Encoding and Label Encoding? Provide an example of when you might choose one over the other."
   ]
  },
  {
   "cell_type": "markdown",
   "id": "23521abe",
   "metadata": {},
   "source": [
    "#### Ans: The main purpose of ordinal, label, Onehot , target guided encoding is to convert categorical features data to numerical data for our algorithms. \n",
    "An ordinal encoding involves mapping each unique label to an integer value. Ordinal encoding is used on categorical data which has some realtionship in the form of natural order or rank. while performing ordinal encodin we provide a order for labels based on this order integers are assigned to labels. Ordinal encoding is used for input data i.e independent data in a dataset. OrdinalEncoder is for 2D data with the shape (n_samples, n_features).\n",
    "\n",
    "On the other hand label encoding is almost same as ordinal with few differences such as label encoding is used for target variables i.e dependent feature. Also, label encoder is for 1D data with the shape (n_samples,) hence the target feature. \n",
    "\n",
    "- When selecting among the two, we use ordinal for input feature whereas we use label encoding for output features i.e target variable.  \n",
    "\n",
    "For example we have categories such as very dissatisfied, dissatisfied, neutral, satisfied, and very satisfied. before jumping into encoding we assign order to our categories. \n",
    "- very dissatisfied < dissatisfied < neutral < satisfied < very satisfied, based on this order integers are assigned to each label and then these integers are used in place of those categories.\n",
    "\n",
    "very dissatisfied - 1\n",
    "dissatisfied - 2\n",
    "neutral - 3\n",
    "satisfied - 4\n",
    "very satisfied - 5"
   ]
  },
  {
   "cell_type": "markdown",
   "id": "7d6f47fb",
   "metadata": {},
   "source": [
    "#### Q2. Explain how Target Guided Ordinal Encoding works and provide an example of when you might use it in a machine learning project."
   ]
  },
  {
   "cell_type": "markdown",
   "id": "974d5e2e",
   "metadata": {},
   "source": [
    "Ans: Target encoding is the process of replacing a categorical value with the mean of the target variable. This creates the monotonic relationship between the target variable and categorical variable. For each distinct element in categorical feature we compute the average/mean of the corresponding values in target feature \n",
    "\n",
    "\n",
    "- we use target guided when we have :\n",
    "\n",
    "When you have many categories, its good to use target encoding over one-hot encoding as it solves the dimensionality problem.\n",
    "\n",
    "Target encoding cannot capture dependencies between different categorical features"
   ]
  },
  {
   "cell_type": "markdown",
   "id": "1e815208",
   "metadata": {},
   "source": [
    "#### Q3. Define covariance and explain why it is important in statistical analysis. How is covariance calculated?"
   ]
  },
  {
   "cell_type": "markdown",
   "id": "587967a8",
   "metadata": {},
   "source": [
    "Ans: Covariance is used to find the nature and magnitude of relationship between variables. Covariance is specifically used for linear relationship between variables. Different features/variables may be related to each other and vary according to it, so it becomes important to know the effect of one variables on other in our analysis cause any unwanted effect can alter the accuracy of our model. \n",
    "\n",
    "In covariance the nature part signifies the direction of change in variables i.e change in one variable with respect to other variable. Two variable can vary in same direction i.e increase or decrease in same direction while two variable can also vary inversely i.e one increasing another decreasing and vice-versa. The value of covariance coefficient vary from -infinity to +infinity due to which its interpretability becomes difficult. Therefore its magnitude part is less significant than nature of relationship."
   ]
  },
  {
   "attachments": {
    "Calculate-Covariance-Matrix-8.png": {
     "image/png": "[encoded data removed]"
    }
   },
   "cell_type": "markdown",
   "id": "1f602c0e",
   "metadata": {},
   "source": [
    "![Calculate-Covariance-Matrix-8.png](attachment:Calculate-Covariance-Matrix-8.png)"
   ]
  },
  {
   "cell_type": "markdown",
   "id": "04880f81",
   "metadata": {},
   "source": [
    "#### Q4. For a dataset with the following categorical variables: Color (red, green, blue), Size (small, medium, large), and Material (wood, metal, plastic), perform label encoding using Python's scikit-learn library. Show your code and explain the output."
   ]
  },
  {
   "cell_type": "code",
   "execution_count": 6,
   "id": "26d2cca2",
   "metadata": {},
   "outputs": [],
   "source": [
    "import pandas as pd\n",
    "from sklearn.preprocessing import LabelEncoder\n",
    "import numpy as np\n",
    "np.random.seed(42)"
   ]
  },
  {
   "cell_type": "code",
   "execution_count": 2,
   "id": "e331aeff",
   "metadata": {},
   "outputs": [],
   "source": [
    "color = pd.Series(data = ['red', 'green', 'blue'])\n",
    "size = pd.Series(data = ['small', 'medium', 'large'])\n",
    "material = pd.Series(data = ['wood', 'metal', 'plastic'])"
   ]
  },
  {
   "cell_type": "code",
   "execution_count": 3,
   "id": "b7d227a6",
   "metadata": {},
   "outputs": [
    {
     "data": {
      "text/plain": [
       "array([2, 1, 0])"
      ]
     },
     "execution_count": 3,
     "metadata": {},
     "output_type": "execute_result"
    }
   ],
   "source": [
    "l_encoder = LabelEncoder()\n",
    "l_encoder.fit_transform(color)"
   ]
  },
  {
   "cell_type": "code",
   "execution_count": 4,
   "id": "801e4f70",
   "metadata": {},
   "outputs": [
    {
     "data": {
      "text/plain": [
       "array([2, 1, 0])"
      ]
     },
     "execution_count": 4,
     "metadata": {},
     "output_type": "execute_result"
    }
   ],
   "source": [
    "l_encoder.fit_transform(size)"
   ]
  },
  {
   "cell_type": "code",
   "execution_count": 5,
   "id": "e80cc45d",
   "metadata": {},
   "outputs": [
    {
     "data": {
      "text/plain": [
       "array([2, 0, 1])"
      ]
     },
     "execution_count": 5,
     "metadata": {},
     "output_type": "execute_result"
    }
   ],
   "source": [
    "l_encoder.fit_transform(material)"
   ]
  },
  {
   "cell_type": "markdown",
   "id": "b0397693",
   "metadata": {},
   "source": [
    "#### Interpretation: \n",
    "From above outputs we can observe that our label encoder object is successful in encoding color, size, material series. The way it encodes these categorical series is by assigning integer values to labels according to alphabet sequence,  for example in color the letter b of blue comes first so it gets 0 integer then letter g of green comes second so it gets 1 and at last comes red and it gets integer 2. In this way encoding is achieved. "
   ]
  },
  {
   "cell_type": "markdown",
   "id": "2274472c",
   "metadata": {},
   "source": [
    "#### Q5. Calculate the covariance matrix for the following variables in a dataset: Age, Income, and Education level. Interpret the results."
   ]
  },
  {
   "cell_type": "code",
   "execution_count": 10,
   "id": "3226e976",
   "metadata": {},
   "outputs": [],
   "source": [
    "# income in lakhs, education level on the scale of 5, 5 being highest level of education while 1 being lowest.\n",
    "np.random.seed(42)\n",
    "age = np.random.randint(20, 40 , 10)\n",
    "income = np.random.randint(2, 50, 10)\n",
    "edu_level = np.random.randint(1,5, 10)"
   ]
  },
  {
   "cell_type": "code",
   "execution_count": 11,
   "id": "325fce60",
   "metadata": {},
   "outputs": [
    {
     "data": {
      "text/html": [
       "<div>\n",
       "<style scoped>\n",
       "    .dataframe tbody tr th:only-of-type {\n",
       "        vertical-align: middle;\n",
       "    }\n",
       "\n",
       "    .dataframe tbody tr th {\n",
       "        vertical-align: top;\n",
       "    }\n",
       "\n",
       "    .dataframe thead th {\n",
       "        text-align: right;\n",
       "    }\n",
       "</style>\n",
       "<table border=\"1\" class=\"dataframe\">\n",
       "  <thead>\n",
       "    <tr style=\"text-align: right;\">\n",
       "      <th></th>\n",
       "      <th>age</th>\n",
       "      <th>income (in lakhs)</th>\n",
       "      <th>edu_level</th>\n",
       "    </tr>\n",
       "  </thead>\n",
       "  <tbody>\n",
       "    <tr>\n",
       "      <th>0</th>\n",
       "      <td>26</td>\n",
       "      <td>41</td>\n",
       "      <td>4</td>\n",
       "    </tr>\n",
       "    <tr>\n",
       "      <th>1</th>\n",
       "      <td>39</td>\n",
       "      <td>25</td>\n",
       "      <td>4</td>\n",
       "    </tr>\n",
       "    <tr>\n",
       "      <th>2</th>\n",
       "      <td>34</td>\n",
       "      <td>4</td>\n",
       "      <td>1</td>\n",
       "    </tr>\n",
       "    <tr>\n",
       "      <th>3</th>\n",
       "      <td>30</td>\n",
       "      <td>23</td>\n",
       "      <td>1</td>\n",
       "    </tr>\n",
       "    <tr>\n",
       "      <th>4</th>\n",
       "      <td>27</td>\n",
       "      <td>3</td>\n",
       "      <td>4</td>\n",
       "    </tr>\n",
       "  </tbody>\n",
       "</table>\n",
       "</div>"
      ],
      "text/plain": [
       "   age  income (in lakhs)  edu_level\n",
       "0   26                 41          4\n",
       "1   39                 25          4\n",
       "2   34                  4          1\n",
       "3   30                 23          1\n",
       "4   27                  3          4"
      ]
     },
     "execution_count": 11,
     "metadata": {},
     "output_type": "execute_result"
    }
   ],
   "source": [
    "data = {'age': age, 'income (in lakhs)': income, 'edu_level': edu_level}\n",
    "df = pd.DataFrame(data)\n",
    "df.head()"
   ]
  },
  {
   "cell_type": "code",
   "execution_count": 12,
   "id": "086189cf",
   "metadata": {},
   "outputs": [
    {
     "data": {
      "text/html": [
       "<div>\n",
       "<style scoped>\n",
       "    .dataframe tbody tr th:only-of-type {\n",
       "        vertical-align: middle;\n",
       "    }\n",
       "\n",
       "    .dataframe tbody tr th {\n",
       "        vertical-align: top;\n",
       "    }\n",
       "\n",
       "    .dataframe thead th {\n",
       "        text-align: right;\n",
       "    }\n",
       "</style>\n",
       "<table border=\"1\" class=\"dataframe\">\n",
       "  <thead>\n",
       "    <tr style=\"text-align: right;\">\n",
       "      <th></th>\n",
       "      <th>age</th>\n",
       "      <th>income (in lakhs)</th>\n",
       "      <th>edu_level</th>\n",
       "    </tr>\n",
       "  </thead>\n",
       "  <tbody>\n",
       "    <tr>\n",
       "      <th>age</th>\n",
       "      <td>27.788889</td>\n",
       "      <td>26.144444</td>\n",
       "      <td>0.644444</td>\n",
       "    </tr>\n",
       "    <tr>\n",
       "      <th>income (in lakhs)</th>\n",
       "      <td>26.144444</td>\n",
       "      <td>254.322222</td>\n",
       "      <td>6.600000</td>\n",
       "    </tr>\n",
       "    <tr>\n",
       "      <th>edu_level</th>\n",
       "      <td>0.644444</td>\n",
       "      <td>6.600000</td>\n",
       "      <td>2.044444</td>\n",
       "    </tr>\n",
       "  </tbody>\n",
       "</table>\n",
       "</div>"
      ],
      "text/plain": [
       "                         age  income (in lakhs)  edu_level\n",
       "age                27.788889          26.144444   0.644444\n",
       "income (in lakhs)  26.144444         254.322222   6.600000\n",
       "edu_level           0.644444           6.600000   2.044444"
      ]
     },
     "execution_count": 12,
     "metadata": {},
     "output_type": "execute_result"
    }
   ],
   "source": [
    "df.cov()"
   ]
  },
  {
   "cell_type": "markdown",
   "id": "b3b08f29",
   "metadata": {},
   "source": [
    "#### Interpretation:\n",
    "\n"
   ]
  },
  {
   "cell_type": "markdown",
   "id": "e0e3ff0f",
   "metadata": {},
   "source": [
    "#### Q6. You are working on a machine learning project with a dataset containing several categorical variables, including \"Gender\" (Male/Female), \"Education Level\" (High School/Bachelor's/Master's/PhD), and \"Employment Status\" (Unemployed/Part-Time/Full-Time). Which encoding method would you use for each variable, and why?\n"
   ]
  },
  {
   "cell_type": "markdown",
   "id": "f2f0f0cd",
   "metadata": {},
   "source": [
    "a)\n",
    "\n",
    "- Gender (Male/Female): As gender is nominal data so we will use one hot encoding which will assign binary integers to labels. 0 for male and 1 for female.\n",
    "\n",
    "b)\n",
    "\n",
    "- Education Level (High School/Bachelor's/Master's/PhD): As we can clearly see education level has order/rank in dataset so we will use ordinal encoding while assigning order to our labels. For ex: High School < Bachelor's < Master's < PhD. So according to this order integers will be assigned to labels.\n",
    "\n",
    "c)\n",
    "\n",
    "- Employment Status (Unemployed/Part-Time/Full-Time): As there is no order we will use nominal encoding i.e one hot encoding. Which will assign binary integer i.e 0 and 1 to data according to their occurance."
   ]
  },
  {
   "cell_type": "markdown",
   "id": "699d2b9f",
   "metadata": {},
   "source": [
    "#### Q7. You are analyzing a dataset with two continuous variables, \"Temperature\" and \"Humidity\", and two categorical variables, \"Weather Condition\" (Sunny/Cloudy/Rainy) and \"Wind Direction\" (North/South/East/West). Calculate the covariance between each pair of variables and interpret the results."
   ]
  },
  {
   "cell_type": "code",
   "execution_count": 7,
   "id": "7cbbc06b",
   "metadata": {},
   "outputs": [
    {
     "data": {
      "text/html": [
       "<div>\n",
       "<style scoped>\n",
       "    .dataframe tbody tr th:only-of-type {\n",
       "        vertical-align: middle;\n",
       "    }\n",
       "\n",
       "    .dataframe tbody tr th {\n",
       "        vertical-align: top;\n",
       "    }\n",
       "\n",
       "    .dataframe thead th {\n",
       "        text-align: right;\n",
       "    }\n",
       "</style>\n",
       "<table border=\"1\" class=\"dataframe\">\n",
       "  <thead>\n",
       "    <tr style=\"text-align: right;\">\n",
       "      <th></th>\n",
       "      <th>Temperature</th>\n",
       "      <th>Humidity</th>\n",
       "      <th>Weather Condition</th>\n",
       "      <th>Wind Direction</th>\n",
       "    </tr>\n",
       "  </thead>\n",
       "  <tbody>\n",
       "    <tr>\n",
       "      <th>0</th>\n",
       "      <td>16</td>\n",
       "      <td>38</td>\n",
       "      <td>Cloudy</td>\n",
       "      <td>North</td>\n",
       "    </tr>\n",
       "    <tr>\n",
       "      <th>1</th>\n",
       "      <td>29</td>\n",
       "      <td>42</td>\n",
       "      <td>Sunny</td>\n",
       "      <td>West</td>\n",
       "    </tr>\n",
       "    <tr>\n",
       "      <th>2</th>\n",
       "      <td>38</td>\n",
       "      <td>30</td>\n",
       "      <td>Cloudy</td>\n",
       "      <td>North</td>\n",
       "    </tr>\n",
       "    <tr>\n",
       "      <th>3</th>\n",
       "      <td>24</td>\n",
       "      <td>30</td>\n",
       "      <td>Cloudy</td>\n",
       "      <td>North</td>\n",
       "    </tr>\n",
       "    <tr>\n",
       "      <th>4</th>\n",
       "      <td>20</td>\n",
       "      <td>43</td>\n",
       "      <td>Cloudy</td>\n",
       "      <td>East</td>\n",
       "    </tr>\n",
       "    <tr>\n",
       "      <th>5</th>\n",
       "      <td>17</td>\n",
       "      <td>72</td>\n",
       "      <td>Cloudy</td>\n",
       "      <td>East</td>\n",
       "    </tr>\n",
       "    <tr>\n",
       "      <th>6</th>\n",
       "      <td>38</td>\n",
       "      <td>55</td>\n",
       "      <td>Sunny</td>\n",
       "      <td>East</td>\n",
       "    </tr>\n",
       "    <tr>\n",
       "      <th>7</th>\n",
       "      <td>30</td>\n",
       "      <td>59</td>\n",
       "      <td>Sunny</td>\n",
       "      <td>South</td>\n",
       "    </tr>\n",
       "    <tr>\n",
       "      <th>8</th>\n",
       "      <td>16</td>\n",
       "      <td>43</td>\n",
       "      <td>Cloudy</td>\n",
       "      <td>West</td>\n",
       "    </tr>\n",
       "    <tr>\n",
       "      <th>9</th>\n",
       "      <td>35</td>\n",
       "      <td>22</td>\n",
       "      <td>Cloudy</td>\n",
       "      <td>West</td>\n",
       "    </tr>\n",
       "  </tbody>\n",
       "</table>\n",
       "</div>"
      ],
      "text/plain": [
       "   Temperature  Humidity Weather Condition Wind Direction\n",
       "0           16        38            Cloudy          North\n",
       "1           29        42             Sunny           West\n",
       "2           38        30            Cloudy          North\n",
       "3           24        30            Cloudy          North\n",
       "4           20        43            Cloudy           East\n",
       "5           17        72            Cloudy           East\n",
       "6           38        55             Sunny           East\n",
       "7           30        59             Sunny          South\n",
       "8           16        43            Cloudy           West\n",
       "9           35        22            Cloudy           West"
      ]
     },
     "execution_count": 7,
     "metadata": {},
     "output_type": "execute_result"
    }
   ],
   "source": [
    "# Import pandas and numpy libraries\n",
    "import pandas as pd\n",
    "import numpy as np\n",
    "\n",
    "# Set the random seed for reproducibility\n",
    "np.random.seed(42)\n",
    "\n",
    "# Create a dataframe with 10 rows and 4 columns\n",
    "df = pd.DataFrame()\n",
    "\n",
    "df[\"Temperature\"] = np.random.randint(10, 40, size=10)\n",
    "df[\"Humidity\"] = np.random.randint(20, 80, size=10)\n",
    "\n",
    "df[\"Weather Condition\"] = np.random.choice([\"Sunny\", \"Cloudy\", \"Rainy\"], size=10)\n",
    "df[\"Wind Direction\"] = np.random.choice([\"North\", \"South\", \"East\", \"West\"], size=10)\n",
    "\n",
    "df"
   ]
  },
  {
   "cell_type": "markdown",
   "id": "42831c8e",
   "metadata": {},
   "source": [
    "- To calculate the covariance between each pair of variables, we need to have numerical values for all the variables. For the categorical variables, we can use label encoding or one-hot encoding to convert them to numbers. For example, we can assign 0 for Sunny, 1 for Cloudy, and 2 for Rainy for the “Weather Condition” variable, and 0 for North, 1 for South, 2 for East, and 3 for West for the “Wind Direction” variable."
   ]
  },
  {
   "cell_type": "code",
   "execution_count": 8,
   "id": "c21ebba1",
   "metadata": {},
   "outputs": [
    {
     "data": {
      "text/html": [
       "<div>\n",
       "<style scoped>\n",
       "    .dataframe tbody tr th:only-of-type {\n",
       "        vertical-align: middle;\n",
       "    }\n",
       "\n",
       "    .dataframe tbody tr th {\n",
       "        vertical-align: top;\n",
       "    }\n",
       "\n",
       "    .dataframe thead th {\n",
       "        text-align: right;\n",
       "    }\n",
       "</style>\n",
       "<table border=\"1\" class=\"dataframe\">\n",
       "  <thead>\n",
       "    <tr style=\"text-align: right;\">\n",
       "      <th></th>\n",
       "      <th>Temperature</th>\n",
       "      <th>Humidity</th>\n",
       "      <th>Weather Condition</th>\n",
       "      <th>Wind Direction</th>\n",
       "    </tr>\n",
       "  </thead>\n",
       "  <tbody>\n",
       "    <tr>\n",
       "      <th>0</th>\n",
       "      <td>16</td>\n",
       "      <td>38</td>\n",
       "      <td>0</td>\n",
       "      <td>1</td>\n",
       "    </tr>\n",
       "    <tr>\n",
       "      <th>1</th>\n",
       "      <td>29</td>\n",
       "      <td>42</td>\n",
       "      <td>1</td>\n",
       "      <td>3</td>\n",
       "    </tr>\n",
       "    <tr>\n",
       "      <th>2</th>\n",
       "      <td>38</td>\n",
       "      <td>30</td>\n",
       "      <td>0</td>\n",
       "      <td>1</td>\n",
       "    </tr>\n",
       "    <tr>\n",
       "      <th>3</th>\n",
       "      <td>24</td>\n",
       "      <td>30</td>\n",
       "      <td>0</td>\n",
       "      <td>1</td>\n",
       "    </tr>\n",
       "    <tr>\n",
       "      <th>4</th>\n",
       "      <td>20</td>\n",
       "      <td>43</td>\n",
       "      <td>0</td>\n",
       "      <td>0</td>\n",
       "    </tr>\n",
       "    <tr>\n",
       "      <th>5</th>\n",
       "      <td>17</td>\n",
       "      <td>72</td>\n",
       "      <td>0</td>\n",
       "      <td>0</td>\n",
       "    </tr>\n",
       "    <tr>\n",
       "      <th>6</th>\n",
       "      <td>38</td>\n",
       "      <td>55</td>\n",
       "      <td>1</td>\n",
       "      <td>0</td>\n",
       "    </tr>\n",
       "    <tr>\n",
       "      <th>7</th>\n",
       "      <td>30</td>\n",
       "      <td>59</td>\n",
       "      <td>1</td>\n",
       "      <td>2</td>\n",
       "    </tr>\n",
       "    <tr>\n",
       "      <th>8</th>\n",
       "      <td>16</td>\n",
       "      <td>43</td>\n",
       "      <td>0</td>\n",
       "      <td>3</td>\n",
       "    </tr>\n",
       "    <tr>\n",
       "      <th>9</th>\n",
       "      <td>35</td>\n",
       "      <td>22</td>\n",
       "      <td>0</td>\n",
       "      <td>3</td>\n",
       "    </tr>\n",
       "  </tbody>\n",
       "</table>\n",
       "</div>"
      ],
      "text/plain": [
       "   Temperature  Humidity  Weather Condition  Wind Direction\n",
       "0           16        38                  0               1\n",
       "1           29        42                  1               3\n",
       "2           38        30                  0               1\n",
       "3           24        30                  0               1\n",
       "4           20        43                  0               0\n",
       "5           17        72                  0               0\n",
       "6           38        55                  1               0\n",
       "7           30        59                  1               2\n",
       "8           16        43                  0               3\n",
       "9           35        22                  0               3"
      ]
     },
     "execution_count": 8,
     "metadata": {},
     "output_type": "execute_result"
    }
   ],
   "source": [
    "from sklearn.preprocessing import LabelEncoder\n",
    "\n",
    "# creating the label encoder object\n",
    "le = LabelEncoder()\n",
    "\n",
    "df[\"Weather Condition\"] = le.fit_transform(df[\"Weather Condition\"])\n",
    "df[\"Wind Direction\"] = le.fit_transform(df[\"Wind Direction\"])\n",
    "\n",
    "df"
   ]
  },
  {
   "cell_type": "code",
   "execution_count": 9,
   "id": "e638ea11",
   "metadata": {},
   "outputs": [
    {
     "data": {
      "text/html": [
       "<div>\n",
       "<style scoped>\n",
       "    .dataframe tbody tr th:only-of-type {\n",
       "        vertical-align: middle;\n",
       "    }\n",
       "\n",
       "    .dataframe tbody tr th {\n",
       "        vertical-align: top;\n",
       "    }\n",
       "\n",
       "    .dataframe thead th {\n",
       "        text-align: right;\n",
       "    }\n",
       "</style>\n",
       "<table border=\"1\" class=\"dataframe\">\n",
       "  <thead>\n",
       "    <tr style=\"text-align: right;\">\n",
       "      <th></th>\n",
       "      <th>Temperature</th>\n",
       "      <th>Humidity</th>\n",
       "      <th>Weather Condition</th>\n",
       "      <th>Wind Direction</th>\n",
       "    </tr>\n",
       "  </thead>\n",
       "  <tbody>\n",
       "    <tr>\n",
       "      <th>Temperature</th>\n",
       "      <td>79.344444</td>\n",
       "      <td>-36.244444</td>\n",
       "      <td>2.011111</td>\n",
       "      <td>1.088889</td>\n",
       "    </tr>\n",
       "    <tr>\n",
       "      <th>Humidity</th>\n",
       "      <td>-36.244444</td>\n",
       "      <td>227.155556</td>\n",
       "      <td>2.866667</td>\n",
       "      <td>-7.844444</td>\n",
       "    </tr>\n",
       "    <tr>\n",
       "      <th>Weather Condition</th>\n",
       "      <td>2.011111</td>\n",
       "      <td>2.866667</td>\n",
       "      <td>0.233333</td>\n",
       "      <td>0.088889</td>\n",
       "    </tr>\n",
       "    <tr>\n",
       "      <th>Wind Direction</th>\n",
       "      <td>1.088889</td>\n",
       "      <td>-7.844444</td>\n",
       "      <td>0.088889</td>\n",
       "      <td>1.600000</td>\n",
       "    </tr>\n",
       "  </tbody>\n",
       "</table>\n",
       "</div>"
      ],
      "text/plain": [
       "                   Temperature    Humidity  Weather Condition  Wind Direction\n",
       "Temperature          79.344444  -36.244444           2.011111        1.088889\n",
       "Humidity            -36.244444  227.155556           2.866667       -7.844444\n",
       "Weather Condition     2.011111    2.866667           0.233333        0.088889\n",
       "Wind Direction        1.088889   -7.844444           0.088889        1.600000"
      ]
     },
     "execution_count": 9,
     "metadata": {},
     "output_type": "execute_result"
    }
   ],
   "source": [
    "df.cov()"
   ]
  },
  {
   "cell_type": "markdown",
   "id": "d0dc80c4",
   "metadata": {},
   "source": [
    "We can interpret the results as follows:\n",
    "\n",
    "- The covariance between temperature and humidity is negative, which means that they tend to move in opposite directions, i.e., as temperature increases, humidity tends to decrease.\n",
    "\n",
    "- The covariance between temperature and weather condition is also negative, which means that they tend to move in opposite directions, i.e., as temperature increases, weather condition tends to be less rainy.\n",
    "\n",
    "- The covariance between temperature and wind direction is also negative, which means that they tend to move in opposite directions, i.e., as temperature increases, wind direction tends to be more westward.\n",
    "\n",
    "- The covariance between humidity and weather condition is negative, which means that they tend to move in opposite directions, i.e., as humidity increases, weather condition tends to be less rainy.\n",
    "\n",
    "- The covariance between humidity and wind direction is also negative, which means that they tend to move in opposite directions, i.e., as humidity increases, wind direction tends to be more westward.\n",
    "\n",
    "- The covariance between weather condition and wind direction is close to zero, which means that they have no significant relationship."
   ]
  }
 ],
 "metadata": {
  "kernelspec": {
   "display_name": "Python 3 (ipykernel)",
   "language": "python",
   "name": "python3"
  },
  "language_info": {
   "codemirror_mode": {
    "name": "ipython",
    "version": 3
   },
   "file_extension": ".py",
   "mimetype": "text/x-python",
   "name": "python",
   "nbconvert_exporter": "python",
   "pygments_lexer": "ipython3",
   "version": "3.10.9"
  }
 },
 "nbformat": 4,
 "nbformat_minor": 5
}
