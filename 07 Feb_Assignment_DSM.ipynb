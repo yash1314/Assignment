{
 "cells": [
  {
   "cell_type": "markdown",
   "id": "33ef955d",
   "metadata": {},
   "source": [
    "#### Q1. You are writing code for a company. The requirement of the company is that you create a python function that will check whether the password entered by the user is correct or not. The function should take the password as input and return the string “Valid Password” if the entered password follows the below-given password guidelines else it should return “Invalid Password”.\n",
    "Note: \n",
    "\n",
    "1.The Password should contain at least two uppercase letters and at least two lowercase letters.\n",
    "\n",
    "2.The Password should contain at least a number and three special characters.\n",
    "\n",
    "3.The length of the password should be 10 characters long."
   ]
  },
  {
   "cell_type": "code",
   "execution_count": 145,
   "id": "afe9538d",
   "metadata": {},
   "outputs": [],
   "source": [
    "def pass_check():\n",
    "    \n",
    "    n = input('Enter your desired password: ')\n",
    "    count_upper, count_lower, count_isdigit, count_special_char, count_len = 0,0,0,0,0\n",
    "    \n",
    "    for i in n:\n",
    "        if i in '!@#$%^&*':\n",
    "            count_special_char += 1\n",
    "            \n",
    "        elif i.isdigit():\n",
    "            count_isdigit += 1\n",
    "            \n",
    "        elif i.isupper():\n",
    "            count_upper += 1\n",
    "            \n",
    "        elif  i.islower():\n",
    "            count_lower += 1\n",
    "            \n",
    "    if len(n) >= 10:\n",
    "        count_len+=1\n",
    "    else:\n",
    "        pass\n",
    "            \n",
    "        \n",
    "    print(count_upper, count_lower, count_isdigit, count_special_char, count_len)\n",
    "    \n",
    "    if count_upper >= 2 and count_lower >= 2 and count_isdigit >= 1 and count_special_char >= 3 and count_len >= 1:\n",
    "        print('Valid Password')\n",
    "        \n",
    "    else:\n",
    "        print('Invalid Password')"
   ]
  },
  {
   "cell_type": "code",
   "execution_count": 146,
   "id": "798b7eec",
   "metadata": {},
   "outputs": [
    {
     "name": "stdout",
     "output_type": "stream",
     "text": [
      "Enter your desired password: YYaa1@#$qw\n",
      "2 4 1 3 1\n",
      "Valid Password\n"
     ]
    }
   ],
   "source": [
    "pass_check()"
   ]
  },
  {
   "cell_type": "markdown",
   "id": "63fd04dc",
   "metadata": {},
   "source": [
    "#### Q2. Solve the below-given questions using at least one of the following: \n",
    "\n",
    "1. Lambda function\n",
    "2. Filter function\n",
    "3. Map function\n",
    "4. List Comprehension\n",
    "\n",
    "-Check if the string starts with a particular letter.\n",
    "\n",
    "-Check if the string is numeric.\n",
    "\n",
    "-Sort a list of tuples having fruit names and their quantity. [(\"mango\",99),(\"orange\",80), (\"grapes\", 1000)]\n",
    "\n",
    "-Find the squares of numbers from 1 to 10.\n",
    "\n",
    "-Find the cube root of numbers from 1 to 10.\n",
    "\n",
    "-Check if a given number is even.\n",
    "\n",
    "-Filter odd numbers from the given list.\n",
    " [1,2,3,4,5,6,7,8,9,10]\n",
    "    \n",
    "-Sort a list of integers into positive and negative integers lists.\n",
    " [1,2,3,4,5,6,-1,-2,-3,-4,-5,0]"
   ]
  },
  {
   "cell_type": "markdown",
   "id": "3b01f5e7",
   "metadata": {},
   "source": [
    "#### - Check if the string starts with a particular letter."
   ]
  },
  {
   "cell_type": "code",
   "execution_count": 25,
   "id": "e486e9ff",
   "metadata": {},
   "outputs": [
    {
     "name": "stdout",
     "output_type": "stream",
     "text": [
      "Enter any string: asdfk\n",
      "Enter any letter: s\n"
     ]
    },
    {
     "data": {
      "text/plain": [
       "False"
      ]
     },
     "execution_count": 25,
     "metadata": {},
     "output_type": "execute_result"
    }
   ],
   "source": [
    "s = input(\"Enter any string: \").lower()\n",
    "letter = input(\"Enter any letter: \")\n",
    "a = (lambda x:x==letter)\n",
    "a(s[0])"
   ]
  },
  {
   "cell_type": "markdown",
   "id": "91ab3d23",
   "metadata": {},
   "source": [
    "#### - Check if the string is numeric."
   ]
  },
  {
   "cell_type": "code",
   "execution_count": 32,
   "id": "64187b65",
   "metadata": {},
   "outputs": [
    {
     "name": "stdout",
     "output_type": "stream",
     "text": [
      "Enter any string: 1234\n",
      "True\n"
     ]
    }
   ],
   "source": [
    "s = input('Enter any string: ')\n",
    "a1 = (lambda x:x.isdigit())\n",
    "print(a1(s))"
   ]
  },
  {
   "cell_type": "markdown",
   "id": "98f66fbb",
   "metadata": {},
   "source": [
    "#### - Sort a list of tuples having fruit names and their quantity. [(\"mango\",99),(\"orange\",80), (\"grapes\", 1000)]"
   ]
  },
  {
   "cell_type": "code",
   "execution_count": 43,
   "id": "f9e2348c",
   "metadata": {},
   "outputs": [],
   "source": [
    "l1 = [(\"mango\",99),(\"orange\",80), (\"grapes\", 1000)]\n",
    "l1.sort(key = lambda x:x, reverse = True)"
   ]
  },
  {
   "cell_type": "markdown",
   "id": "1effc5fd",
   "metadata": {},
   "source": [
    "#### - Find the squares of numbers from 1 to 10."
   ]
  },
  {
   "cell_type": "code",
   "execution_count": 53,
   "id": "1eb3e9d2",
   "metadata": {},
   "outputs": [
    {
     "data": {
      "text/plain": [
       "[1, 4, 9, 16, 25, 36, 49, 64, 81, 100]"
      ]
     },
     "execution_count": 53,
     "metadata": {},
     "output_type": "execute_result"
    }
   ],
   "source": [
    "a2 = list(map(lambda x:x**2, range(1,11)))\n",
    "a2"
   ]
  },
  {
   "cell_type": "markdown",
   "id": "b79e79b3",
   "metadata": {},
   "source": [
    "#### - Find the cube root of numbers from 1 to 10."
   ]
  },
  {
   "cell_type": "code",
   "execution_count": 62,
   "id": "50297405",
   "metadata": {},
   "outputs": [
    {
     "data": {
      "text/plain": [
       "[1.0,\n",
       " 1.2599210498948732,\n",
       " 1.4422495703074083,\n",
       " 1.5874010519681994,\n",
       " 1.7099759466766968,\n",
       " 1.8171205928321397,\n",
       " 1.912931182772389,\n",
       " 2.0,\n",
       " 2.080083823051904,\n",
       " 2.154434690031884]"
      ]
     },
     "execution_count": 62,
     "metadata": {},
     "output_type": "execute_result"
    }
   ],
   "source": [
    "list(map(lambda x: x**(1./3), range(1,11)))"
   ]
  },
  {
   "cell_type": "markdown",
   "id": "3a0bcdeb",
   "metadata": {},
   "source": [
    "#### - Check if a given number is even."
   ]
  },
  {
   "cell_type": "code",
   "execution_count": 77,
   "id": "000815b6",
   "metadata": {},
   "outputs": [
    {
     "name": "stdout",
     "output_type": "stream",
     "text": [
      "Enter any number: 5\n",
      "False\n"
     ]
    }
   ],
   "source": [
    "n = int(input('Enter any number: '))\n",
    "a3 = lambda x:x%2==0\n",
    "print(a3(n))"
   ]
  },
  {
   "cell_type": "markdown",
   "id": "38482ed9",
   "metadata": {},
   "source": [
    "#### - Filter odd numbers from the given list. [1,2,3,4,5,6,7,8,9,10]"
   ]
  },
  {
   "cell_type": "code",
   "execution_count": 84,
   "id": "498622f0",
   "metadata": {},
   "outputs": [
    {
     "data": {
      "text/plain": [
       "[1, 3, 5, 7, 9]"
      ]
     },
     "execution_count": 84,
     "metadata": {},
     "output_type": "execute_result"
    }
   ],
   "source": [
    "l3 = [1,2,3,4,5,6,7,8,9,10]\n",
    "a4 = list(filter(lambda x: x%2 != 0, l3))\n",
    "a4"
   ]
  },
  {
   "cell_type": "markdown",
   "id": "f0669696",
   "metadata": {},
   "source": [
    "#### - Sort a list of integers into positive and negative integers lists. [1,2,3,4,5,6,-1,-2,-3,-4,-5,0]"
   ]
  },
  {
   "cell_type": "code",
   "execution_count": 113,
   "id": "78e06060",
   "metadata": {},
   "outputs": [
    {
     "name": "stdout",
     "output_type": "stream",
     "text": [
      "[1, 2, 3, 4, 5, 6]\n",
      "[-1, -2, -3, -4, -5]\n"
     ]
    }
   ],
   "source": [
    "l4 = [1,2,3,4,5,6,-1,-2,-3,-4,-5,0]\n",
    "\n",
    "pos_list = [i for i in l4 if i > 0]\n",
    "neg_list = [j for j in l4 if j < 0]\n",
    "\n",
    "print(pos_list)\n",
    "print(neg_list)"
   ]
  }
 ],
 "metadata": {
  "kernelspec": {
   "display_name": "Python 3 (ipykernel)",
   "language": "python",
   "name": "python3"
  },
  "language_info": {
   "codemirror_mode": {
    "name": "ipython",
    "version": 3
   },
   "file_extension": ".py",
   "mimetype": "text/x-python",
   "name": "python",
   "nbconvert_exporter": "python",
   "pygments_lexer": "ipython3",
   "version": "3.9.7"
  }
 },
 "nbformat": 4,
 "nbformat_minor": 5
}
