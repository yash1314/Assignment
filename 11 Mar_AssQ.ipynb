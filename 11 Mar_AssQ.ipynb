{
 "cells": [
  {
   "cell_type": "markdown",
   "id": "b543da2f",
   "metadata": {},
   "source": [
    "#### Q1: What is the difference between a t-test and a z-test? Provide an example scenario where you would use each type of test."
   ]
  },
  {
   "cell_type": "markdown",
   "id": "af084b38",
   "metadata": {},
   "source": [
    "Ans: - The t-test can be understood as a statistical test which is used to compare and analyse whether the means of the two population is different from one another. whereas, Z-test is a parametric test, which is applied when the means of the two datasets differ from each other.\n",
    "\n",
    "- A z-test is used to test a Null Hypothesis if the population variance is known, or if the sample size is larger than 30, for an unknown population variance. Whereas a t-test is used when the sample size is less than 30 and the population variance is unknown.\n",
    "\n",
    "- It is assumed that the z-statistic follows a standard normal distribution, whereas the t-statistic follows the t-distribution with a degree of freedom equal to n-1, where n is the sample size.\n",
    "\n",
    "- Formulas:\n",
    "\n",
    "T = (X̄ – μ) / (S/√n), where S = sample standard deviation\n",
    "\n",
    "z = (X̄ – µ) / (σ/√n), where σ = population standard deviation \n",
    "\n",
    "- Examples: \n",
    "\n",
    "- z-test: \n",
    "\n",
    "Q1 - A teacher claims that the mean score of students in his class is greater than 82 with a standard deviation of 20. If a sample of 81 students was selected with a mean score of 90 then check if there is enough evidence to support this claim at a 0.05 significance level.\n",
    "\n",
    "Explaination: We can observe from the question that the sample size is 81 and population standard deviation is known which is 20, this is an example of a right-tailed one-sample z test.\n",
    "\n",
    "- t-test: \n",
    "\n",
    "Q2 - A company wants to improve its sales. The previous sales data indicated that the average sale of 25 salesmen was 50 dollar per transaction. After training, the recent data showed an average sale of 80 dollar per transaction. If the standard deviation is 15 dollar, find the t-score. Has the training provided improved the sales?\n",
    "\n",
    "Explaination: We can observe that the sample mean is 80 along with sample size 25 and no population standard devation is given, so therefore this is an example of one sample t-test."
   ]
  },
  {
   "cell_type": "markdown",
   "id": "60e2841e",
   "metadata": {},
   "source": [
    "#### Q2: Differentiate between one-tailed and two-tailed tests."
   ]
  },
  {
   "cell_type": "markdown",
   "id": "7c97aaf7",
   "metadata": {},
   "source": [
    "Ans:\n",
    "- A one-tailed test results from an alternative hypothesis which specifies a direction. i.e. when the parameter is in fact either bigger or smaller than the value specified in the null hypothesis whereas a two-tailed test results from an alternative hypothesis which does not specify a direction. i.e. when the alternative hypothesis states that the null hypothesis is wrong.\n",
    "\n",
    "- The main difference between one-tailed and two-tailed tests is that one-tailed tests will only have one critical region whereas two-tailed tests will have two critical regions\n",
    "\n",
    "- A one-tailed test may be either left-tailed or right-tailed whereas two-tail test will be on both the ends.\n",
    "\n",
    "- The confidence interval must remain a constant size, so if we are performing a two-tailed test, as there are twice as many critical regions then these critical regions must be half the size. This means that when we read the tables, when performing a two-tailed test, we need to consider alpha value/2 instead of alpha."
   ]
  },
  {
   "cell_type": "markdown",
   "id": "669a16d4",
   "metadata": {},
   "source": [
    "#### Q3: Explain the concept of Type 1 and Type 2 errors in hypothesis testing. Provide an example scenario for each type of error."
   ]
  },
  {
   "cell_type": "markdown",
   "id": "ad216bfa",
   "metadata": {},
   "source": [
    "Ans: Hypothesis testing is used in statistics to verify a hypothesis made by researchers or analysts. Sometimes, our conclusions about an experiment may not match reality. This can be due to errors in analysis. Therefore it is necessary to identify and handle such error.  \n",
    "There are two types of errors in hypothesis testing are: Type I Error and Type II Error:\n",
    "\n",
    "- A Type I error is when the null hypothesis is true, but we reject it in the favor of the alternate. It is also known as a false positive. \n",
    "\n",
    "- whereas Type II error is when the null hypothesis is false, but we do not reject it. It is sometimes known as a false negative.\n",
    " \n",
    "For example: let us take pandemic case of coronavirus. During test and results we can make following errors,\n",
    "\n",
    "- Type I error (false positive): the test result says you have coronavirus, but you actually don’t.\n",
    "\n",
    "- Type II error (false negative): the test result says you don’t have coronavirus, but you actually do."
   ]
  },
  {
   "cell_type": "markdown",
   "id": "8da95f61",
   "metadata": {},
   "source": [
    "#### Q4:  Explain Bayes's theorem with an example.\n"
   ]
  },
  {
   "cell_type": "markdown",
   "id": "4050e849",
   "metadata": {},
   "source": [
    "Ans: Bayes theorem, in simple words, determines the conditional probability of an event 'A' given that event 'B' has already occurred. Bayes theorem is also known as the Bayes Rule or Bayes Law. It is a method to determine the probability of an event based on the occurrences of prior/preceding events. It is used to calculate conditional probability. Bayes theorem calculates the probability based on the hypothesis. \n",
    "\n",
    "Bayes theorem states that the conditional probability of an event A, given the occurrence of another event B, is equal to the product of the likelihood of B, given A and the probability of A. It is given as:"
   ]
  },
  {
   "attachments": {
    "images.png": {
     "image/png": "[encoded data removed]"
    }
   },
   "cell_type": "markdown",
   "id": "e61cab3d",
   "metadata": {},
   "source": [
    "![images.png](attachment:images.png)"
   ]
  },
  {
   "cell_type": "markdown",
   "id": "165a51ab",
   "metadata": {},
   "source": [
    "Example: \n",
    "\n",
    "- Dangerous fires are rare (1%)\n",
    "- But smoke is fairly common (10%) due to barbecues,\n",
    "- And 90% of dangerous fires make smoke\n",
    "- What is the probability of dangerous Fire when there is Smoke?\n",
    "\n",
    "solution: using bias formula -\n",
    "\n",
    "P(Fire|Smoke) = P(Fire) P(Smoke|Fire)/P(Smoke)\n",
    "\n",
    "= 1% x 90%/10% \n",
    "\n",
    "= 9%"
   ]
  },
  {
   "cell_type": "markdown",
   "id": "0f855c5b",
   "metadata": {},
   "source": [
    "#### Q5: What is a confidence interval? How to calculate the confidence interval, explain with an example.`"
   ]
  },
  {
   "cell_type": "markdown",
   "id": "bd0a9e3f",
   "metadata": {},
   "source": [
    "Ans: Confidence interval helps us to find the actual value of the unknown population parameter. Confidence Interval is the interval estimation of unknown parameter. It gives us the estimiate in the form of actual low and high limits of estimate at a significance value of alpha. For example, if we get a confidence interval with a 95% confidence level, we are confident that 95 out of 100 times the estimate will fall between the upper and lower values specified by the confidence interval.\n",
    "\n",
    "Formula: \n",
    "Confidence interval (CI) = X̄ ± Z(S ÷ √n)\n",
    "\n",
    "steps to calculate the confidence interval:\n",
    "\n",
    "1. Find the sample mean.\n",
    "2. Calculate the standard deviation.\n",
    "3. Find the standard error.\n",
    "4. Find the margin of error.\n",
    "5. Use these results in the above formula.\n",
    "6. Interpret obtained results"
   ]
  },
  {
   "cell_type": "markdown",
   "id": "97ceada3",
   "metadata": {},
   "source": [
    "#### Q6. Use Bayes' Theorem to calculate the probability of an event occurring given prior knowledge of the event's probability and new evidence. Provide a sample problem and solution."
   ]
  },
  {
   "cell_type": "markdown",
   "id": "746d7718",
   "metadata": {},
   "source": [
    "Ans: Suppose the probability of the weather being cloudy is 40%. \n",
    "\n",
    "Also suppose the probability of rain on a given day is 20%.\n",
    "\n",
    "Also suppose the probability of clouds on a rainy day is 85%.\n",
    "\n",
    "If it's coludy on a given day, what is the probability that it will rain that day."
   ]
  },
  {
   "cell_type": "code",
   "execution_count": 3,
   "id": "06cbefc5",
   "metadata": {},
   "outputs": [
    {
     "data": {
      "text/plain": [
       "0.425"
      ]
     },
     "execution_count": 3,
     "metadata": {},
     "output_type": "execute_result"
    }
   ],
   "source": [
    "def bayes(pA, pB, pBA):\n",
    "    return pA * pBA / pB\n",
    "\n",
    "pRain = 0.2\n",
    "pCloudy = 0.4\n",
    "pCloudyRain = 0.85\n",
    "\n",
    "bayes(pRain, pCloudy, pCloudyRain)"
   ]
  },
  {
   "cell_type": "markdown",
   "id": "1cf3ce05",
   "metadata": {},
   "source": [
    "Interpretation: This tells us that if it's cloudy outside on a given day the probability that it will rain that day id 42.5%."
   ]
  },
  {
   "cell_type": "markdown",
   "id": "f42c79a8",
   "metadata": {},
   "source": [
    "#### Q7. Calculate the 95% confidence interval for a sample of data with a mean of 50 and a standard deviation of 5. Interpret the results."
   ]
  },
  {
   "cell_type": "code",
   "execution_count": 2,
   "id": "f0647e01",
   "metadata": {},
   "outputs": [
    {
     "name": "stdout",
     "output_type": "stream",
     "text": [
      "95% Confidence Interval will be (40, 60)\n"
     ]
    }
   ],
   "source": [
    "sample_mean = 50\n",
    "sample_std = 5\n",
    "\n",
    "# By emperical rule formula 95% of confidence level falls within 2 standard deviation of distribution. \n",
    "# Hence we will use below formula to calculate:\n",
    "\n",
    "lower_limit = sample_mean - 2 * sample_std\n",
    "upper_limit = sample_mean + 2 * sample_std\n",
    "\n",
    "print(f\"95% Confidence Interval will be {lower_limit, upper_limit}\")"
   ]
  },
  {
   "cell_type": "markdown",
   "id": "6477b37e",
   "metadata": {},
   "source": [
    "Interpretation: The above statement states that with 95% confidence level the population estimate will in between the range of 40 to 60. "
   ]
  },
  {
   "cell_type": "markdown",
   "id": "c84d96eb",
   "metadata": {},
   "source": [
    "#### Q8. What is the margin of error in a confidence interval? How does sample size affect the margin of error? Provide an example of a scenario where a larger sample size would result in a smaller margin of error.\n"
   ]
  },
  {
   "cell_type": "markdown",
   "id": "98ce6337",
   "metadata": {},
   "source": [
    "Ans: The margin of error is defined a the range of values below and above the sample statistic in a confidence interval.\n",
    "For example, a 95% confidence interval with a 4 percent margin of error means that our statistic will be within 4 percentage points of the real population value 95% of the time. In more simpler terms, margin of error tells you how many percentage points your results will differ from the real population value.\n",
    "\n",
    "There is inverse relationship between sample size and margin of error. So if the sample size is large, margin of error will be small and vice-versa.\n",
    "\n",
    "Example:\n",
    "- Q: 900 students were surveyed and had an average GPA of 2.7 with a standard deviation of 0.4. Calculate the margin of error for a 90% confidence level:\n",
    "\n",
    "Solution: The critical value is 1.645 for 90% confidence interval. \n",
    "\n",
    "The standard deviation is 0.4, but as this is a sample, we need the standard error for the mean. \n",
    "\n",
    "The formula for the SE of the mean is :\n",
    "\n",
    "SE = Standard deviation / √(sample size), so: \n",
    "\n",
    "SE = 0.4 / √(900) = 0.013.\n",
    "\n",
    "Therefore, MOE = z-critical_value * standard_error\n",
    "\n",
    "- MOE = 1.645 * 0.013 = 0.021385"
   ]
  },
  {
   "cell_type": "markdown",
   "id": "c63155ad",
   "metadata": {},
   "source": [
    "#### Q9. Calculate the z-score for a data point with a value of 75, a population mean of 70, and a population standard deviation of 5. Interpret the results.\n"
   ]
  },
  {
   "cell_type": "code",
   "execution_count": 1,
   "id": "a8bc9b20",
   "metadata": {},
   "outputs": [
    {
     "name": "stdout",
     "output_type": "stream",
     "text": [
      "Z-score:  1.0 , A score of 1 indicates that the data point is one standard deviation above from the mean. This data point lies in positive region of distribution.\n"
     ]
    }
   ],
   "source": [
    "# Z-score formula is z-score = (data point - population mean)/ population standard deviation\n",
    "data_point = 75\n",
    "population_mean = 70\n",
    "population_std = 5\n",
    "\n",
    "z_score = (data_point - population_mean) / population_std\n",
    "print('Z-score: ', z_score , ', A score of 1 indicates that the data point is one standard deviation above from the mean. This data point lies in positive region of distribution.')"
   ]
  },
  {
   "cell_type": "markdown",
   "id": "caa66257",
   "metadata": {},
   "source": [
    "#### Q10. In a study of the effectiveness of a new weight loss drug, a sample of 50 participants lost an average of 6 pounds with a standard deviation of 2.5 pounds. Conduct a hypothesis test to determine if the drug is significantly effective at a 95% confidence level using a t-test.\n"
   ]
  },
  {
   "cell_type": "code",
   "execution_count": 2,
   "id": "ce65f896",
   "metadata": {},
   "outputs": [
    {
     "name": "stdout",
     "output_type": "stream",
     "text": [
      "Null: There is no difference between sample mean and population mean i.e X̄ = U,\n",
      "Alternative: There is a difference between sample mean and population mean i.e X̄ != U.\n",
      "\n",
      "T-critical-value is:  1.6766\n",
      "\n",
      "t-test value is:  16.970562748477143\n",
      "\n",
      "t-test value > t-critical-value\n",
      "\n",
      "On comparing t-value and t-critical value we find that t-value is greater than t-critial value, therefore we reject the null hypothesis.\n"
     ]
    }
   ],
   "source": [
    "import math\n",
    "sample_size = 50\n",
    "sample_mean = 6\n",
    "std = 2.5\n",
    "alpha_value = 0.05\n",
    "\n",
    "\n",
    "# Step 01: formulating the hypothesis.\n",
    "print(\"\"\"Null: There is no difference between sample mean and population mean i.e X̄ = U,\n",
    "Alternative: There is a difference between sample mean and population mean i.e X̄ != U.\"\"\")\n",
    "\n",
    "# Step 02: Claculating test-statistics.\n",
    "degree_of_freedom = sample_size - 1\n",
    "alpha_value = 0.05\n",
    "\n",
    "#based on DOF and alpha value our t-critical value is :\n",
    "t_critical_value = 1.6766\n",
    "print('\\nT-critical-value is: ', t_critical_value)\n",
    "\n",
    "# t-test formula: t-test = (sample_mean - hypothesis_mean) / (std / √ sample_size)\n",
    "\n",
    "t_test = (sample_mean - 0) / (std/math.sqrt(sample_size))\n",
    "\n",
    "print('\\nt-test value is: ', t_test)\n",
    "\n",
    "# Comparison and conclusion:\n",
    "\n",
    "print('\\nt-test value > t-critical-value')\n",
    "print('''\\nOn comparing t-value and t-critical value we find that t-value is greater than t-critial value, therefore we reject the null hypothesis.''')"
   ]
  },
  {
   "cell_type": "markdown",
   "id": "89e2326d",
   "metadata": {},
   "source": [
    "#### Q11. In a survey of 500 people, 65% reported being satisfied with their current job. Calculate the 95% confidence interval for the true proportion of people who are satisfied with their job."
   ]
  },
  {
   "cell_type": "code",
   "execution_count": 10,
   "id": "5ad775cf",
   "metadata": {},
   "outputs": [
    {
     "name": "stdout",
     "output_type": "stream",
     "text": [
      "Ci_low, Ci_high:  0.6021892458203358 , 0.6978107541796642\n",
      "\n",
      "The 95% confidence interval for true proportion of people who are satisfied by their job is (0.6021892458203358, 0.6978107541796642)\n"
     ]
    }
   ],
   "source": [
    "import statsmodels as sm\n",
    "\n",
    "# Finding confidence interval for proportions.\n",
    "\n",
    "n = 500    #number of trials\n",
    "x = 325    #number of success trials 65% of 500\n",
    "confidence_level = 0.95 \n",
    "alpha = (1-0.95)/2    # alpha = 1-confidence_level \n",
    "\n",
    "ci_low, ci_upp = sm.stats.proportion.proportion_confint(count = x, nobs = n, alpha=alpha, method='normal')\n",
    "print(f\"Ci_low, Ci_high: \", ci_low, ',',ci_upp)\n",
    "print(f\"\\nThe 95% confidence interval for true proportion of people who are satisfied by their job is {ci_low, ci_upp}\")"
   ]
  },
  {
   "cell_type": "markdown",
   "id": "2040c321",
   "metadata": {},
   "source": [
    "#### Q12. A researcher is testing the effectiveness of two different teaching methods on student performance. Sample A has a mean score of 85 with a standard deviation of 6, while sample B has a mean score of 82 with a standard deviation of 5. Conduct a hypothesis test to determine if the two teaching methods have a significant difference in student performance using a t-test with a significance level of 0.01."
   ]
  },
  {
   "cell_type": "code",
   "execution_count": 19,
   "id": "707e4168",
   "metadata": {},
   "outputs": [
    {
     "name": "stdout",
     "output_type": "stream",
     "text": [
      "Null: There is no difference between sample01 mean and sample02 mean i.e Ud(mean difference) = 0,\n",
      "Alternative: There is a difference between sample01 mean and sample02 mean i.e Ud(mean difference != 0).\n",
      "\n",
      "[84.13545802253243, 83.96257839801089, 84.33210483059402, 89.21190235059318, 84.23447029730268, 76.01587951395426, 86.9939100644063, 83.39597512901699, 83.69824789512883, 85.69530872020513, 86.39378642144032, 91.98135211959486, 88.93981904079202, 85.66304306466299, 80.57007038593107, 78.9120257950737, 86.4780531712672, 92.8664849632243, 85.2499411834203, 84.36206023737529] \n",
      "\n",
      "[81.27954835211035, 81.1354819983424, 81.44342069216168, 85.50991862549432, 81.36205858108556, 74.51323292829521, 83.66159172033858, 80.66331260751416, 80.91520657927403, 82.57942393350427, 83.16148868453361, 87.81779343299571, 85.28318253399334, 82.55253588721916, 78.3083919882759, 76.92668816256142, 83.23171097605601, 88.55540413602024, 82.20828431951692, 81.46838353114607]\n",
      "2.627391423085882 0.012340270569595293\n",
      "\n",
      "We reject the null hypothesis.\n",
      "We conclude that there is a difference in teaching method.\n"
     ]
    }
   ],
   "source": [
    "import scipy.stats as stats\n",
    "import statistics as s\n",
    "\n",
    "s1_m = 85\n",
    "s2_m = 82\n",
    "std1 = 6\n",
    "std2 = 5\n",
    "alpha_value = 0.1\n",
    "\n",
    "# step 01: Formulating the hypothesis.\n",
    "print(\"\"\"Null: There is no difference between sample01 mean and sample02 mean i.e Ud(mean difference) = 0,\n",
    "Alternative: There is a difference between sample01 mean and sample02 mean i.e Ud(mean difference != 0).\\n\"\"\")\n",
    "\n",
    "# Step 02: Creating the samples using mean and std given in question. This sample will be used in t-test estimation.\n",
    "\n",
    "a = s.NormalDist(mu = s1_m,sigma=std1)\n",
    "samples_1 = a.samples(20, seed = 42)\n",
    "print(samples_1,'\\n')\n",
    "\n",
    "b = s.NormalDist(mu = s2_m, sigma = std2)\n",
    "samples_2 = b.samples(20, seed = 42)\n",
    "print(samples_2)\n",
    "\n",
    "# step 02: conducting test statistics.\n",
    "t_test, p_value = stats.ttest_ind(a = samples_1, b = samples_2)\n",
    "\n",
    "print(t_test, p_value)\n",
    "\n",
    "# results comparision and conclusion:\n",
    "\n",
    "if p_value < alpha_value:\n",
    "    print('\\nWe reject the null hypothesis.')\n",
    "else:\n",
    "    print('We fail to reject the null hypothesis.')\n",
    "    \n",
    "# conclusion:\n",
    "print('We conclude that there is a difference in teaching method.')"
   ]
  },
  {
   "cell_type": "markdown",
   "id": "5d670294",
   "metadata": {},
   "source": [
    "#### Q13. A population has a mean of 60 and a standard deviation of 8. A sample of 50 observations has a mean of 65. Calculate the 90% confidence interval for the true population mean.\n"
   ]
  },
  {
   "cell_type": "code",
   "execution_count": 34,
   "id": "36e6e5e3",
   "metadata": {},
   "outputs": [
    {
     "name": "stdout",
     "output_type": "stream",
     "text": [
      "Null: There is no difference between true population mean and sample mean.\n",
      "Alternative: There is difference between true population mean and sample mean.\n",
      "\n",
      "Z_critical value is :  1.645\n",
      "ci_low, ci_upp: - 1.8611050480829932 , 1.8611050480829932\n",
      "\n",
      "90% Confidence interval for true population mean is 65 ± 1.8611050480829903\n"
     ]
    }
   ],
   "source": [
    "pop_mean = 60\n",
    "pop_std = 8\n",
    "sample_size = 50\n",
    "sample_mean = 65 \n",
    "\n",
    "# Step 01: Fornulating the hypothesis:\n",
    "\n",
    "print(\"\"\"Null: There is no difference between true population mean and sample mean.\n",
    "Alternative: There is difference between true population mean and sample mean.\\n\"\"\")\n",
    "\n",
    "# step 02: calculating the test statistics:\n",
    "\n",
    "z_score = (sample_mean - pop_mean) / pop_std\n",
    "z_critical =  1.645\n",
    "print(\"Z_critical value is : \", z_critical)\n",
    "\n",
    "# to calculate confidence interval using z-test we have the following formula: ci = sample_mean + z_critical(√(pop_std_)/sample_size)\n",
    "ci_upp =  z_critical * (pop_std/math.sqrt(sample_size))\n",
    "ci_low =  z_critical * (pop_std/math.sqrt(sample_size))\n",
    "print(\"ci_low, ci_upp:\", '-', ci_low, ',', ci_upp)\n",
    "\n",
    "# conclusion:\n",
    "\n",
    "print(f\"\"\"\\n90% Confidence interval for true population mean is 65 ± 1.8611050480829903\"\"\")"
   ]
  },
  {
   "cell_type": "markdown",
   "id": "dd14bda6",
   "metadata": {},
   "source": [
    "#### Q14. In a study of the effects of caffeine on reaction time, a sample of 30 participants had an average reaction time of 0.25 seconds with a standard deviation of 0.05 seconds. Conduct a hypothesis test to determine if the caffeine has a significant effect on reaction time at a 90% confidence level using a t-test."
   ]
  },
  {
   "cell_type": "code",
   "execution_count": 7,
   "id": "fc4a27a1",
   "metadata": {},
   "outputs": [
    {
     "name": "stdout",
     "output_type": "stream",
     "text": [
      "NUll: There is no significant effect of caffeine on reaction time.\n",
      "Alternative: There is significant effect of caffeine on reaction time.\n",
      "\n",
      "T-test score is: 27.386127875258307\n",
      "\n",
      "Critical_value is:  1.311\n",
      "\n",
      "On comparing t-test score and critical_value value we observe that t-test value is greater than critical_value value which means we reject the null hypothesis.\n",
      "Therefore with 90% confidence level we reject the null hypothesis that there is significant effect of caffeine on reaction time.\n"
     ]
    }
   ],
   "source": [
    "import math\n",
    "sample_size = 30\n",
    "sample_mean = 0.25 \n",
    "std = 0.05\n",
    "alpha_value = 0.1\n",
    "hypothesis_mean = 0\n",
    "\n",
    "# step 01: Formulating the hypothesis.\n",
    "\n",
    "print(\"\"\"NUll: There is no significant effect of caffeine on reaction time.\n",
    "Alternative: There is significant effect of caffeine on reaction time.\\n\"\"\")\n",
    "\n",
    "# step 02: conducting test-statistics.\n",
    "dof = sample_size - 1\n",
    "critical_value = 1.311\n",
    "\n",
    "t_test = (sample_mean - hypothesis_mean) / (std/(math.sqrt(sample_size))) \n",
    "\n",
    "print('T-test score is:',t_test)\n",
    "print('\\nCritical_value is: ', critical_value)\n",
    "\n",
    "# comparing results.\n",
    "\n",
    "print(\"\"\"\\nOn comparing t-test score and critical_value value we observe that t-test value is greater than critical_value value which means we reject the null hypothesis.\n",
    "Therefore with 90% confidence level we reject the null hypothesis that there is significant effect of caffeine on reaction time.\"\"\")"
   ]
  }
 ],
 "metadata": {
  "kernelspec": {
   "display_name": "Python 3 (ipykernel)",
   "language": "python",
   "name": "python3"
  },
  "language_info": {
   "codemirror_mode": {
    "name": "ipython",
    "version": 3
   },
   "file_extension": ".py",
   "mimetype": "text/x-python",
   "name": "python",
   "nbconvert_exporter": "python",
   "pygments_lexer": "ipython3",
   "version": "3.10.9"
  }
 },
 "nbformat": 4,
 "nbformat_minor": 5
}
