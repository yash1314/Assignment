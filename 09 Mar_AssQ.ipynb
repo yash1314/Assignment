{
 "cells": [
  {
   "cell_type": "markdown",
   "id": "af7128d3",
   "metadata": {},
   "source": [
    "#### Q1: What are the Probability Mass Function (PMF) and Probability Density Function (PDF)? Explain with an example."
   ]
  },
  {
   "cell_type": "markdown",
   "id": "a0c2e9f2",
   "metadata": {},
   "source": [
    "#### Probability Mass Function: \n",
    "\n",
    "Probability Mass Funcition is a probability distribution for descrete random variable. It is also known as Frequency function. The descrete part here means that there are fixed set of outcomes. To find the probability at certain point we have to calculate the cumulative sum of all the probability upto and equal to that point.\n",
    "The area under the probability mass funcion is 100%. Here all the probabilites are positive and ranges from 0 to 1.\n",
    "\n",
    "Formula: \n",
    " f(x) = P(X = x)\n",
    " \n",
    "#### Probability Density function: \n",
    "\n",
    "Probability density function is a probability distribution for continuous random variable. Here probability is calculated by area under a curve. Calculating the probability for continuous random variable which contains infinite number of possible value is close to zero. That is why instead of finding probability at a fixed point we take interval 'a and b' and calculate the probability around it. We integrate in this interval to get the probability. \n",
    "In probability density funciton, the density part is the probability of a variable in a certain interval. \n",
    "\n",
    "Formula:\n",
    " p(a<x<b) = ∫ f(t)dt"
   ]
  },
  {
   "cell_type": "markdown",
   "id": "61f8d336",
   "metadata": {},
   "source": [
    "#### Q2: What is Cumulative Density Function (CDF)? Explain with an example. Why CDF is used?"
   ]
  },
  {
   "cell_type": "markdown",
   "id": "d43f3fe3",
   "metadata": {},
   "source": [
    "Ans: Cumulative Distribution function is a distribution function for descrete random variable , continuous random variable and combination of both. So when we are having continuous random variable we call it 'Cumulative Density Function'. The cdf for continuous random variable gives us a cumulative probability which is 'integral' function. \n",
    "\n",
    "Using CDF we can calculate probability above a certain value, below a certain value and between certain values.\n",
    "\n",
    "- Cumulative density function is found by integrating the probability density function.\n",
    "\n",
    "Ex: Suppose we have a CDF of weights of cat: We can use this to find,\n",
    "- The probability of cat weighing more than 4.9 kg.\n",
    "- The probability of cat weighing less than 4.9 kg.\n",
    "- The probability of cat weighing between 4.9 kg to 6.8 kg  \n",
    "\n",
    "It is crucial for pharamceutical company knowing the probability of cats weighing a certain weight in order to produce right amount of medicaiton to supply medicines for certain weights.    "
   ]
  },
  {
   "cell_type": "markdown",
   "id": "b43ca82f",
   "metadata": {},
   "source": [
    "#### Q3: What are some examples of situations where the normal distribution might be used as a model? Explain how the parameters of the normal distribution relate to the shape of the distribution."
   ]
  },
  {
   "cell_type": "markdown",
   "id": "4ef0de11",
   "metadata": {},
   "source": [
    "Some common examples of Normal distribution:\n",
    "\n",
    "a) Birth Weight of babaies : It is found that birth weight of newbron babies is generally found to be normally distributed to a mean of around 3.4 kg.\n",
    "\n",
    "b) Shoe size: The distribution of shoe size is normally distributed to a mean of 7 to 8 shoe size for men and 6 to 7 shoe size for women.\n",
    "\n",
    "c) Drug manufacturers and pharam industry will use it to validate its clinical research.\n",
    "\n",
    "d) Sales and marketing will collect data on liklihood of demand at different price point to determine correct price for products. \n",
    "\n",
    "- There are two parameters in Normal distribuiton, 'Mean' and 'Standard Deviation' and any changes made to these parameters will change the distribution. \n",
    "\n",
    "\n",
    "- Mean: Mean defines the locaiton of peak in normal distribution where most of the data is clustered around. Any changes made to mean will shift the peak location to either left or right along the x-axis.\n",
    "\n",
    "\n",
    "- Standard Deviation: Standard deviation defines the width of the curve. It tightens or expands the width of distribution on the x-axis. A small std will produce a steep curve while large std will produce the flatten curve."
   ]
  },
  {
   "cell_type": "markdown",
   "id": "5c3e0854",
   "metadata": {},
   "source": [
    "#### Q4: Explain the importance of Normal Distribution. Give a few real-life examples of Normal Distribution."
   ]
  },
  {
   "cell_type": "markdown",
   "id": "37930457",
   "metadata": {},
   "source": [
    "Ans: Many continuous data in nature and many natural occurances shows a bell curve distribution when studies and plotted. It is widely used in many fields to understand the distributions of parameters/factors in population. Because of the symmetry and equal central tendencies it becomes easy for statisticians to perform analysis. \n",
    "\n",
    "- Real life examples such as Passing percentage and scoring of students in an exam, height and weight of people, covid analysis, etc."
   ]
  },
  {
   "cell_type": "markdown",
   "id": "d809a2e1",
   "metadata": {},
   "source": [
    "#### Q5: What is Bernaulli Distribution? Give an Example. What is the difference between Bernoulli Distribution and Binomial Distribution?"
   ]
  },
  {
   "cell_type": "markdown",
   "id": "fc436fb8",
   "metadata": {},
   "source": [
    "Ans: Bernaulli distribution is a special case of binomial distribution where only single trial is conducted and the outcome is always binary. Binary outcome is a outcome having only two distinct values i.e yes/no, True/False. etc. It is a descrete probability distribution. \n",
    "\n",
    "#### Formula:\n",
    "##### f(x) =  p**x (1 – p)**(1 – x)\n",
    "\n",
    "where,\n",
    "##### p = probability of success,\n",
    "##### q = (1-p) = probability of failure,\n",
    "##### x = random variable\n",
    "      \n",
    "Ex : Flipping a fair coin single time: Probability of Heads (success, p) is 0.5 while probability of tails (failure, 1-p) is also 0.5. This is a common example of bernaulli distribution or binomial distribution with n = 1 (n = number of trials).\n",
    "\n",
    "- The different between bernaulli and binomial distribution is that the binomial distribution can have n number of trials while bernaulli distribution can only have single trial. Binomial distribution can also be interpreted as a group of bernaulli distributions. "
   ]
  },
  {
   "cell_type": "markdown",
   "id": "24bed2f5",
   "metadata": {},
   "source": [
    "#### Q6. Consider a dataset with a mean of 50 and a standard deviation of 10. If we assume that the dataset is normally distributed, what is the probability that a randomly selected observation will be greater than 60? Use the appropriate formula and show your calculations."
   ]
  },
  {
   "cell_type": "code",
   "execution_count": 14,
   "id": "4a337969",
   "metadata": {},
   "outputs": [
    {
     "name": "stdout",
     "output_type": "stream",
     "text": [
      "Z-score is:  1.0\n",
      "Z-table_value is: 0.84134\n",
      "Probability of observatioin being greater than 60 is: 0.15866000000000002\n"
     ]
    }
   ],
   "source": [
    "# Here we have to use z-score formula and a z-table to get probability value. \n",
    "\n",
    "mean = 50\n",
    "std = 10 \n",
    "\n",
    "# Using z-score. \n",
    "# z-score = (data point - mean)/ standard deviation\n",
    "\n",
    "z_score = (60- 50)/10\n",
    "print('Z-score is: ',z_score)\n",
    "\n",
    "# now we have to look at z table to get the probability.\n",
    "z_table_value = 0.84134\n",
    "print('Z-table_value is:', z_table_value)\n",
    "\n",
    "# Since we have to calculate a probability of obervation greater than 60, we have to substract it with 1 i.e (1 - z-table_value) \n",
    "\n",
    "true_prob = 1 - 0.84134\n",
    "print('Probability of observatioin being greater than 60 is:', true_prob )"
   ]
  },
  {
   "cell_type": "markdown",
   "id": "2b26343c",
   "metadata": {},
   "source": [
    "#### Q7: Explain uniform Distribution with an example."
   ]
  },
  {
   "cell_type": "markdown",
   "id": "4d57dfa1",
   "metadata": {},
   "source": [
    "Ans: Uniform Distribution is a distribution in which all the outcomes have equal probability of occurace. Uniform distribution is further divided into:\n",
    "\n",
    "a) Descrete uniform distribution: Descrete unifrom dist is a dist. in which the probability of outcomes is euqually likely with finite values. \n",
    "\n",
    "b) Continuous uniform distribution: Continuous uniform distribution is a distribution in which probability of outcome is equally likely in a fixed continuous interval/range.\n",
    "\n",
    "Ex: \n",
    "- A deck of cards has uniform distribution because the likelihood of drawing a card of diamond, spade, heart, club is eually likely.\n",
    "- Tossing a fair coin also has uniform distribution because the likelihood of getting a heads or tail is same."
   ]
  },
  {
   "cell_type": "markdown",
   "id": "0d02b708",
   "metadata": {},
   "source": [
    "#### Q8: What is the z score? State the importance of the z score.\n"
   ]
  },
  {
   "cell_type": "markdown",
   "id": "2c772cc9",
   "metadata": {},
   "source": [
    "Ans: A z-score is a mesasure of how many standard deviations away a data point from the mean. Z-score allows comparison between different data from different normally distributed dataset.\n",
    "\n",
    "It is useful to standardize the values/raw score of a normal distribution by converting them into z-scores because :\n",
    "\n",
    "(a) it allows researchers to calculate the probability of a score occurring within a standard normal distribution;\n",
    "\n",
    "(b) and enables us to compare two scores that are from different samples (which may have different means and standard deviations)."
   ]
  },
  {
   "cell_type": "markdown",
   "id": "5b169402",
   "metadata": {},
   "source": [
    "#### Q9: What is Central Limit Theorem? State the significance of the Central Limit Theorem."
   ]
  },
  {
   "cell_type": "markdown",
   "id": "4bf45505",
   "metadata": {},
   "source": [
    "The central limit theorem states that the sampling distribution of mean will always be normally distributed when the sample size is large enough. Sample will be normally distributed regardless of type of distribution of population.\n",
    "The central limit theorem is useful when analyzing large data sets because it allows us to assume that the sampling distribution of the mean will be normally-distributed in most cases. This allows for easier statistical analysis and inference"
   ]
  },
  {
   "cell_type": "markdown",
   "id": "d66c579e",
   "metadata": {},
   "source": [
    "#### Q10: State the assumptions of the Central Limit Theorem."
   ]
  },
  {
   "cell_type": "markdown",
   "id": "e2f83177",
   "metadata": {},
   "source": [
    "Ans: Assumptions :-\n",
    "\n",
    "- Sampling from population should be at random.\n",
    "- Sample size should be greater or equal to 30 i.e \n",
    "    n >= 30\n",
    "- Samples should be unrelated to each other. One sample should not affect analysis of other sample.  "
   ]
  }
 ],
 "metadata": {
  "kernelspec": {
   "display_name": "Python 3 (ipykernel)",
   "language": "python",
   "name": "python3"
  },
  "language_info": {
   "codemirror_mode": {
    "name": "ipython",
    "version": 3
   },
   "file_extension": ".py",
   "mimetype": "text/x-python",
   "name": "python",
   "nbconvert_exporter": "python",
   "pygments_lexer": "ipython3",
   "version": "3.9.7"
  }
 },
 "nbformat": 4,
 "nbformat_minor": 5
}
