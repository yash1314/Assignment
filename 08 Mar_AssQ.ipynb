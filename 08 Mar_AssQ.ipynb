{
 "cells": [
  {
   "cell_type": "markdown",
   "id": "e8e39a34",
   "metadata": {},
   "source": [
    "#### Q1. What is the Probability density function?"
   ]
  },
  {
   "cell_type": "markdown",
   "id": "7085fe4c",
   "metadata": {},
   "source": [
    "Ans: The probability density function produces the likelihood of values of the continuous random variable. It produces a density of a continuous random variable lying in a certain range of values. It is done by taking an integral (area under the curve) of the density of the variable density over a given range. To find the probability for a continuous random variable for a fixed point is zero. So instead of calculating at fixed point we take a interval(a,b) and integrate within this interval. This gives us a probability for a continuous radnom point.\n",
    "\n",
    "Formula: p(a<x<b) = ∫ f(t)dt"
   ]
  },
  {
   "cell_type": "markdown",
   "id": "33145e1e",
   "metadata": {},
   "source": [
    "#### Q2. What are the types of Probability distribution?"
   ]
  },
  {
   "cell_type": "markdown",
   "id": "b8595517",
   "metadata": {},
   "source": [
    "Ans: There are two types of probability distributions:\n",
    "\n",
    "        a) Probability Mass fuction (for descrete random variable)\n",
    "        b) probability desnsity fucnion (for continuous random variable)"
   ]
  },
  {
   "cell_type": "markdown",
   "id": "536153d7",
   "metadata": {},
   "source": [
    "#### Q3. Write a Python function to calculate the probability density function of a normal distribution with given mean and standard deviation at a given point"
   ]
  },
  {
   "cell_type": "code",
   "execution_count": 50,
   "id": "a76f78df",
   "metadata": {},
   "outputs": [],
   "source": [
    "# Importing the libraries\n",
    "\n",
    "from scipy.stats import norm\n",
    "import numpy as np\n",
    "  \n",
    "def find_pdf(data, point):\n",
    "    \n",
    "    mean = np.mean(data)\n",
    "    std = np.std(data)\n",
    "\n",
    "    pdf_probability = norm.pdf(point, loc=mean, scale=std)\n",
    "    return pdf_probability"
   ]
  },
  {
   "cell_type": "code",
   "execution_count": 24,
   "id": "4833e4ad",
   "metadata": {},
   "outputs": [
    {
     "data": {
      "text/plain": [
       "0.05668582612248957"
      ]
     },
     "execution_count": 24,
     "metadata": {},
     "output_type": "execute_result"
    }
   ],
   "source": [
    "data1 = [-5, -4, -3, -2, -1,  0,  1,  2,  3,  4,  5]\n",
    "find_pdf(data = data1, point= 4)"
   ]
  },
  {
   "cell_type": "markdown",
   "id": "a8408cc7",
   "metadata": {},
   "source": [
    "#### Q4. What are the properties of Binomial distribution? Give two examples of events where binomial distribution can be applied."
   ]
  },
  {
   "cell_type": "markdown",
   "id": "609515b0",
   "metadata": {},
   "source": [
    "Ans: Binomial distributioin is a distribution in which we perform n-numbers of trails and the outcome of each trial is binary i.e only two outcome. For a single trail, binomial distribution becomes bernoullie distribution.\n",
    "\n",
    "Properties:\n",
    "a) In binomial dist. we have n-numbers of trials.\n",
    "b) The outcome of each trail is binary i.e either success/fail, true/false.\n",
    "c) The probability of success is same for each trial.\n",
    "\n",
    "Ex: a) Tossing a coin, we can have only two outcome either head or tail.\n",
    "\n",
    "b) participating in a lucky draw, here also we have only two outcomes either we win or lose the contest. "
   ]
  },
  {
   "cell_type": "markdown",
   "id": "4916c794",
   "metadata": {},
   "source": [
    "#### Q5. Generate a random sample of size 1000 from a binomial distribution with probability of success 0.4 and plot a histogram of the results using matplotlib."
   ]
  },
  {
   "cell_type": "code",
   "execution_count": 42,
   "id": "aba03ebc",
   "metadata": {},
   "outputs": [
    {
     "data": {
      "text/plain": [
       "(array([ 62.,   0., 264.,   0., 390.,   0., 206.,   0.,  70.,   8.]),\n",
       " array([0. , 0.5, 1. , 1.5, 2. , 2.5, 3. , 3.5, 4. , 4.5, 5. ]),\n",
       " <BarContainer object of 10 artists>)"
      ]
     },
     "execution_count": 42,
     "metadata": {},
     "output_type": "execute_result"
    },
    {
     "data": {
      "image/png": "[encoded data removed]",
      "text/plain": [
       "<Figure size 432x288 with 1 Axes>"
      ]
     },
     "metadata": {
      "needs_background": "light"
     },
     "output_type": "display_data"
    }
   ],
   "source": [
    "# importing matplotlib library\n",
    "from matplotlib import pyplot as plt\n",
    "\n",
    "data2 = np.random.binomial(n =5, p = 0.4 , size = 1000 )\n",
    "plt.hist(data2)"
   ]
  },
  {
   "cell_type": "markdown",
   "id": "1995878b",
   "metadata": {},
   "source": [
    "#### Q6. Write a Python function to calculate the cumulative distribution function of a Poisson distribution with given mean at a given point."
   ]
  },
  {
   "cell_type": "code",
   "execution_count": 54,
   "id": "6fc655a5",
   "metadata": {},
   "outputs": [],
   "source": [
    "# creating the fuction for calculating CDF of poisson dist.\n",
    "\n",
    "from scipy.stats import poisson\n",
    "\n",
    "def find_cdf(point, mean):\n",
    "\n",
    "    cdf_poisson = poisson.cdf(k=point, mu = mean)\n",
    "    return cdf_poisson"
   ]
  },
  {
   "cell_type": "code",
   "execution_count": 56,
   "id": "8b155556",
   "metadata": {},
   "outputs": [
    {
     "data": {
      "text/plain": [
       "0.9882002484221359"
      ]
     },
     "execution_count": 56,
     "metadata": {},
     "output_type": "execute_result"
    }
   ],
   "source": [
    "#Generating a poisson distribution dataset and find the mean of the same.\n",
    "data3 = np.random.poisson(lam = 1.0, size = 200)\n",
    "mean = np.mean(data3)\n",
    "\n",
    "find_cdf(mean = mean, point = 3)"
   ]
  },
  {
   "cell_type": "markdown",
   "id": "b9727eec",
   "metadata": {},
   "source": [
    "#### Q7. How Binomial distribution different from Poisson distribution?"
   ]
  },
  {
   "cell_type": "markdown",
   "id": "f31d1bb3",
   "metadata": {},
   "source": [
    "Ans: Difference between Binomial and poisson dist is as follows:\n",
    "- Binomial dist. is one in which the probability of n number of trials are studied whereas poisson dist gives the count of independent events occuring randomly with a given period of time.\n",
    "\n",
    "- Binomial dist. is one whose number of outcome is limited to two whereas in poisson dist there is no limit in possible outcome.\n",
    " \n",
    "- In Binomial dist. the number of trials are fixed whereas in poisson dist. the trials we infinite.\n",
    "\n",
    "- In binomial dist. the mean > variance whereas in poisson dist. mean = variance."
   ]
  },
  {
   "cell_type": "markdown",
   "id": "2aa7b5a8",
   "metadata": {},
   "source": [
    "#### Q8. Generate a random sample of size 1000 from a Poisson distribution with mean 5 and calculate the sample mean and variance."
   ]
  },
  {
   "cell_type": "code",
   "execution_count": 63,
   "id": "12e5107f",
   "metadata": {},
   "outputs": [
    {
     "name": "stdout",
     "output_type": "stream",
     "text": [
      "Sample mean is: 1\n",
      "Variance is: 2\n",
      "We can see from above results that mean and variance in case of poisson distribution is same i.e mean == variance\n"
     ]
    }
   ],
   "source": [
    "#Importing statistics library to calculate sample mean.\n",
    "import statistics as stats\n",
    "\n",
    "#Generating a poisson distribution dataset and find the mean of the same.\n",
    "data4 = np.random.poisson(lam = 2, size = 1000)\n",
    "\n",
    "mean = stats.mean(data4)\n",
    "var = stats.variance(data4)\n",
    "\n",
    "print('Sample mean is:', mean)\n",
    "print('Variance is:', var)\n",
    "print(\"We can see from above results that mean and variance in case of poisson distribution is same i.e mean == variance\")"
   ]
  },
  {
   "cell_type": "markdown",
   "id": "d346495d",
   "metadata": {},
   "source": [
    "#### Q9. How mean and variance are related in Binomial distribution and Poisson distribution?"
   ]
  },
  {
   "cell_type": "markdown",
   "id": "9632ab5d",
   "metadata": {},
   "source": [
    "Ans: Binomial distribution - The mean of the binomial distribution is np, and the variance of the binomial distribution is np(1 − p). Also the variance of binomial dist. is less than the mean of the same.\n",
    "\n",
    "Formula :\n",
    "For the binomial distribution B(n, p), mean = np and variance = np(1–p).\n",
    "\n",
    "Poisson distribution - The mean and variance in case of poisson distribution is same. \n",
    "\n",
    "Formula:\n",
    "mean = variance = λ"
   ]
  },
  {
   "cell_type": "markdown",
   "id": "f5178dc2",
   "metadata": {},
   "source": [
    "#### Q10. In normal distribution with respect to mean position, where does the least frequent data appear?"
   ]
  },
  {
   "cell_type": "markdown",
   "id": "a14234ea",
   "metadata": {},
   "source": [
    "Ans: In normal distribution the least frequent data will lie on curve that tappers off on both the ends with respect to the mean. If we talk with respect to standard deviation, the least frequent data will lie in 2 to 3 standard deviation with respect to mean."
   ]
  }
 ],
 "metadata": {
  "kernelspec": {
   "display_name": "Python 3 (ipykernel)",
   "language": "python",
   "name": "python3"
  },
  "language_info": {
   "codemirror_mode": {
    "name": "ipython",
    "version": 3
   },
   "file_extension": ".py",
   "mimetype": "text/x-python",
   "name": "python",
   "nbconvert_exporter": "python",
   "pygments_lexer": "ipython3",
   "version": "3.9.7"
  }
 },
 "nbformat": 4,
 "nbformat_minor": 5
}
