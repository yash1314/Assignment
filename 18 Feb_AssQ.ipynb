{
 "cells": [
  {
   "cell_type": "markdown",
   "id": "afc65bb5",
   "metadata": {},
   "source": [
    "#### Q1. What is an API? Give an example, where an API is used in real life."
   ]
  },
  {
   "cell_type": "markdown",
   "id": "9a733c16",
   "metadata": {},
   "source": [
    "Ans - API stands for Application Programming Interface. It acts as an interface between different systems for communication, data exchange, etc. It makes use of API endpoint, URL, parameters and set of protocols to send and communicate data. API is all around us. \n",
    "\n",
    "- Examples: paypal, UPI , Twitter bots, telegram bots, Travel booking, Facebook, google login api, etc."
   ]
  },
  {
   "cell_type": "markdown",
   "id": "00bcaf59",
   "metadata": {},
   "source": [
    "#### Q2. Give advantages and disadvantages of using API. "
   ]
  },
  {
   "cell_type": "markdown",
   "id": "15c8a18f",
   "metadata": {},
   "source": [
    "Ans - Advantages:\n",
    "\n",
    "- Increased Compatibility : API solutions enable different software systems to communicate with each other, regardless of their programming language or platform. This enhances the compatibility between systems, allowing for the exchange of data and functionality.\n",
    "- Improved Efficiency: API driven infrastructures enable developers to reuse code and functionality from existing software systems, saving time and reducing the amount of code that needs to be written from scratch.\n",
    "- Better User Experience: APIs can enable third-party developers to create applications that integrate with existing software systems, providing a better user experience and increased functionality.\n",
    "- Increased Flexibility: APIs provide developers with flexibility, enabling them to choose the best programming languages and frameworks for their needs.\n",
    ".\n",
    "    \n",
    "Disadvantages:\n",
    "\n",
    "- Security Concerns: API infrastructures can be vulnerable to security breaches, such as SQL injection attacks and other attacks, making it crucial to implement security measures to protect against these threats.\n",
    "- Complexity: APIs can be complex, requiring a significant amount of development effort to implement and maintain.\n",
    "- Compatibility Issues: APIs can have compatibility issues between different versions of the same software system or between different systems, which can lead to errors and system failures.\n",
    "- Dependency on Third-Party Developers: APIs rely on third-party developers to create applications that integrate with the software system. This can create dependencies that are outside of the control of the company that owns the software system.\n",
    "- Governance and Management: APIs require proper governance and management to ensure they are used in accordance to proper guidelines and protocols."
   ]
  },
  {
   "cell_type": "markdown",
   "id": "9aef3ee1",
   "metadata": {},
   "source": [
    "#### Q3. What is a Web API? Differentiate between API and Web API"
   ]
  },
  {
   "cell_type": "markdown",
   "id": "4a66a87f",
   "metadata": {},
   "source": [
    "Ans: Web API is an API that can be accessed over the web using HTTP protocol. Web API is used either on a web server or web browser. It is basically a web development concept. Web API is enhanced form of web application.\n",
    "\n",
    "- Difference:\n",
    "- Web API is used to communicate between two machines on a network whereas API is used as an interface between two different applications for communicating with each other.\n",
    "- A web API is just an API wrapped around HTTP, whereas simple API is not always web-based.\n",
    "- All Web Services are APIs, but all APIs are not web service.\n",
    "- Generally, Web API uses the HTTP protocol for communication. It also uses SOAP, REST, and XML as communication whereas simple API may use any means of communication protocol.\n",
    "- Web api uses XML as structured data for exchanging information and communication whereas simple API used XML, JSON or plain structure data."
   ]
  },
  {
   "cell_type": "markdown",
   "id": "70492506",
   "metadata": {},
   "source": [
    "#### Q4. Explain REST and SOAP Architecture. Mention shortcomings of SOAP."
   ]
  },
  {
   "cell_type": "markdown",
   "id": "0e4047d3",
   "metadata": {},
   "source": [
    "Ans - REST: REST stands for REpresentational state Transfer. REST is a software Architecture style for creating a protocols/guidelines for web services. Web services which follows REST style is knowns as RESTful Web service. When HTTP is used in a transition, as it most commonly is, the GET, HEAD, POST, PUT, PATCH, DELETE, CONNECT, OPTIONS and TRACE operations are available to use.\n",
    "REST Architecture style: Uniform Interface, Stateless, Cacheable, Client-Server, Layered System, Code on Demand.\n",
    "                            \n",
    "SOAP: SOAP stands for Simple Object Access Protocol. It is a protocol for the exchange of information in a distributed environment. SOAP messages are encoded as XML documents and can be exchanged using various underlying protocols.\n",
    "\n",
    "- Shortcomings of SOAP are -\n",
    "\n",
    "- Highly Complex\n",
    "- Not variety of data formats\n",
    "- API calls are not catched.\n",
    "- Uses more bandwidth.\n",
    "    \n",
    "                            \n",
    "                        \n",
    "        "
   ]
  },
  {
   "cell_type": "markdown",
   "id": "20a4b7ce",
   "metadata": {},
   "source": [
    "#### Q5. Differentiate between REST and SOAP."
   ]
  },
  {
   "cell_type": "markdown",
   "id": "6ac2a4ac",
   "metadata": {},
   "source": [
    "Ans- Difference: \n",
    "- SOAP relies on SOAP (Simple Object Access Protocol) Whereas rest relies on REST (Representational State Transfer) architecture using HTTP.\n",
    "- SOAP transports data in standard XML format whereas REST generally transports data in JSON. It is based on URL. Because REST follows stateless model, REST does not enforces message format as XML or JSON etc.\n",
    "- SOAP is XML based and hence works with WSDL whereas REST works with GET, POST, PUT, DELETE.\n",
    "- SOAP works over HTTP, HTTPS, SMTP, XMPP whereas REST works over HTTP and HTTPS.- SOAP is highly structured/typed whereas -- REST is less structured hence less bulky data.\n",
    "- SOAP is designed with large enterprise applications in mind whereas REST is designed with mobile devices in mind."
   ]
  }
 ],
 "metadata": {
  "kernelspec": {
   "display_name": "Python 3 (ipykernel)",
   "language": "python",
   "name": "python3"
  },
  "language_info": {
   "codemirror_mode": {
    "name": "ipython",
    "version": 3
   },
   "file_extension": ".py",
   "mimetype": "text/x-python",
   "name": "python",
   "nbconvert_exporter": "python",
   "pygments_lexer": "ipython3",
   "version": "3.9.7"
  }
 },
 "nbformat": 4,
 "nbformat_minor": 5
}
