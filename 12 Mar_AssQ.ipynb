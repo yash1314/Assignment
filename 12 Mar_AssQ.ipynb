{
 "cells": [
  {
   "cell_type": "code",
   "execution_count": 5,
   "id": "f65f06d1",
   "metadata": {},
   "outputs": [],
   "source": [
    "import pandas as pd\n",
    "import numpy as np\n",
    "import scipy.stats as stats\n",
    "import statistics\n",
    "import matplotlib.pyplot as plt\n",
    "import math"
   ]
  },
  {
   "cell_type": "markdown",
   "id": "8e90a792",
   "metadata": {},
   "source": [
    "#### Q1. Calculate the 95% confidence interval for a sample of data with a mean of 50 and a standard deviation of 5 using Python. Interpret the results."
   ]
  },
  {
   "cell_type": "code",
   "execution_count": 1,
   "id": "3c4683fd",
   "metadata": {},
   "outputs": [
    {
     "name": "stdout",
     "output_type": "stream",
     "text": [
      "95% confidence interval is [40, 60]\n"
     ]
    }
   ],
   "source": [
    "sample_mean = 50\n",
    "sample_std = 5\n",
    "\n",
    "# By following emperical rule of normal distribution, 95% of confidence level falls within 2 standard deviation.\n",
    "# hence, we will use (mean ± 2 * standard_deviation) formula.\n",
    "\n",
    "lower_limit = (sample_mean - 2 * sample_std) \n",
    "upper_limit = (sample_mean + 2 * sample_std)\n",
    "\n",
    "confidence_interval = [lower_limit , upper_limit]\n",
    "print(f'95% confidence interval is {confidence_interval}')"
   ]
  },
  {
   "cell_type": "markdown",
   "id": "99130c36",
   "metadata": {},
   "source": [
    "Interpretation: The above statement states that with 95% confidence level the population estimate will in between the range of 40 to 60. "
   ]
  },
  {
   "cell_type": "markdown",
   "id": "53359a57",
   "metadata": {},
   "source": [
    "####  _______________________________________________________________________"
   ]
  },
  {
   "cell_type": "markdown",
   "id": "dbf23604",
   "metadata": {},
   "source": [
    "."
   ]
  },
  {
   "cell_type": "markdown",
   "id": "a3ff93d3",
   "metadata": {},
   "source": [
    "#### Q2. Conduct a chi-square goodness of fit test to determine if the distribution of colors of M&Ms in a bag matches the expected distribution of 20% blue, 20% orange, 20% green, 10% yellow, 10% red, and 20% brown. Use Python to perform the test with a significance level of 0.05."
   ]
  },
  {
   "cell_type": "code",
   "execution_count": 2,
   "id": "35460fa8",
   "metadata": {},
   "outputs": [
    {
     "name": "stdout",
     "output_type": "stream",
     "text": [
      "[60.0, 60.0, 60.0, 30.0, 30.0, 60.0]\n"
     ]
    }
   ],
   "source": [
    "# lets take 1_sample size 300. \n",
    "\n",
    "n1 = 300\n",
    "alpha_value = 0.05\n",
    "exp_lst = [0.2, 0.2, 0.2, 0.1, 0.1, 0.2]\n",
    "\n",
    "expected_sample = [n1 * i for i in exp_lst]\n",
    "\n",
    "print(expected_sample)"
   ]
  },
  {
   "cell_type": "code",
   "execution_count": 74,
   "id": "2b0f7407",
   "metadata": {},
   "outputs": [
    {
     "name": "stdout",
     "output_type": "stream",
     "text": [
      "Null: There is no relative difference in observed and expected values.\n",
      "Alternative: There is a difference in observed and expected values.\n",
      "\n"
     ]
    }
   ],
   "source": [
    "# Step- 01: Formulating the hypothesis.\n",
    "\n",
    "print(\"\"\"Null: There is no relative difference in observed and expected values.\n",
    "Alternative: There is a difference in observed and expected values.\\n\"\"\")"
   ]
  },
  {
   "cell_type": "code",
   "execution_count": 75,
   "id": "b9e832d4",
   "metadata": {},
   "outputs": [
    {
     "name": "stdout",
     "output_type": "stream",
     "text": [
      "chi_score:  24.0 p_value:  0.0002171129434527233\n"
     ]
    }
   ],
   "source": [
    "# step- 02: Calculating test - statistics. \n",
    "\n",
    "chi_score, p_value = stats.chisquare(f_obs = expected_sample)\n",
    "print(\"chi_score: \", chi_score, \"p_value: \", p_value)"
   ]
  },
  {
   "cell_type": "code",
   "execution_count": 77,
   "id": "d07baa01",
   "metadata": {},
   "outputs": [
    {
     "name": "stdout",
     "output_type": "stream",
     "text": [
      "Reject the null hypothesis.\n"
     ]
    }
   ],
   "source": [
    "# checking the results and conclusion.\n",
    "\n",
    "if p_value < alpha_value:\n",
    "    print('Reject the null hypothesis.')\n",
    "    \n",
    "else:\n",
    "    print(\"Fail to reject null hypothesis.\")"
   ]
  },
  {
   "cell_type": "markdown",
   "id": "6a7f0afa",
   "metadata": {},
   "source": [
    "####  _______________________________________________________________________"
   ]
  },
  {
   "cell_type": "markdown",
   "id": "1924503d",
   "metadata": {},
   "source": [
    "."
   ]
  },
  {
   "cell_type": "markdown",
   "id": "5e3b5e72",
   "metadata": {},
   "source": [
    "\n",
    "#### Q3. Use Python to calculate the chi-square statistic and p-value for a contingency table with the following data:\n",
    "    \n",
    "    \n",
    "Group     A   B\n",
    "Outcome_1 20 15\n",
    "Outcome_2 10 25\n",
    "Outcome_3 15 20\n",
    "\n",
    "Interpret the results of the test.\n"
   ]
  },
  {
   "cell_type": "code",
   "execution_count": 49,
   "id": "dbb62e3a",
   "metadata": {},
   "outputs": [
    {
     "data": {
      "text/html": [
       "<div>\n",
       "<style scoped>\n",
       "    .dataframe tbody tr th:only-of-type {\n",
       "        vertical-align: middle;\n",
       "    }\n",
       "\n",
       "    .dataframe tbody tr th {\n",
       "        vertical-align: top;\n",
       "    }\n",
       "\n",
       "    .dataframe thead th {\n",
       "        text-align: right;\n",
       "    }\n",
       "</style>\n",
       "<table border=\"1\" class=\"dataframe\">\n",
       "  <thead>\n",
       "    <tr style=\"text-align: right;\">\n",
       "      <th></th>\n",
       "      <th>A</th>\n",
       "      <th>B</th>\n",
       "    </tr>\n",
       "  </thead>\n",
       "  <tbody>\n",
       "    <tr>\n",
       "      <th>outcome_1</th>\n",
       "      <td>20</td>\n",
       "      <td>15</td>\n",
       "    </tr>\n",
       "    <tr>\n",
       "      <th>outcome_2</th>\n",
       "      <td>10</td>\n",
       "      <td>25</td>\n",
       "    </tr>\n",
       "    <tr>\n",
       "      <th>outcome_3</th>\n",
       "      <td>15</td>\n",
       "      <td>20</td>\n",
       "    </tr>\n",
       "  </tbody>\n",
       "</table>\n",
       "</div>"
      ],
      "text/plain": [
       "            A   B\n",
       "outcome_1  20  15\n",
       "outcome_2  10  25\n",
       "outcome_3  15  20"
      ]
     },
     "execution_count": 49,
     "metadata": {},
     "output_type": "execute_result"
    }
   ],
   "source": [
    "table = pd.DataFrame(data = {'A': [20, 10, 15], 'B': [15, 25, 20]}, index = ['outcome_1', 'outcome_2', 'outcome_3'])\n",
    "table"
   ]
  },
  {
   "cell_type": "code",
   "execution_count": 57,
   "id": "112e8aab",
   "metadata": {},
   "outputs": [
    {
     "name": "stdout",
     "output_type": "stream",
     "text": [
      "chi_stats_score: 5.833333333333334, chi_stat p_value: 0.05411376622282158, chi_stat dof: 2\n"
     ]
    }
   ],
   "source": [
    "chi_stats = stats.chi2_contingency(observed= table)\n",
    "print(f\"chi_stats_score: {chi_stats.statistic}, chi_stat p_value: {chi_stats.pvalue}, chi_stat dof: {chi_stats.dof}\")"
   ]
  },
  {
   "cell_type": "markdown",
   "id": "ec90ae38",
   "metadata": {},
   "source": [
    "Interpretation: We got a chi_square score as 5.833 and p_value as 0.05411. We will use p_value to compare to significance value to decide for null hypothesis. We use these value to test for singificance between different features or variables. "
   ]
  },
  {
   "cell_type": "markdown",
   "id": "51564333",
   "metadata": {},
   "source": [
    "####  _______________________________________________________________________"
   ]
  },
  {
   "cell_type": "markdown",
   "id": "e67d0b0a",
   "metadata": {},
   "source": [
    "."
   ]
  },
  {
   "cell_type": "markdown",
   "id": "11ddb4df",
   "metadata": {},
   "source": [
    "\n",
    "#### Q4. A study of the prevalence of smoking in a population of 500 individuals found that 60 individuals smoked. Use Python to calculate the 95% confidence interval for the true proportion of individuals in the population who smoke.\n"
   ]
  },
  {
   "cell_type": "code",
   "execution_count": 6,
   "id": "a93482e0",
   "metadata": {},
   "outputs": [
    {
     "data": {
      "text/plain": [
       "0.12"
      ]
     },
     "execution_count": 6,
     "metadata": {},
     "output_type": "execute_result"
    }
   ],
   "source": [
    "smoked_percentage = 60/500\n",
    "smoked_percentage"
   ]
  },
  {
   "cell_type": "code",
   "execution_count": 7,
   "id": "d108e5a1",
   "metadata": {},
   "outputs": [
    {
     "data": {
      "text/plain": [
       "0.028484134531349202"
      ]
     },
     "execution_count": 7,
     "metadata": {},
     "output_type": "execute_result"
    }
   ],
   "source": [
    "margin_of_error = 1.96 * (math.sqrt((smoked_percentage*(1-smoked_percentage))/500))\n",
    "margin_of_error"
   ]
  },
  {
   "cell_type": "code",
   "execution_count": 8,
   "id": "af4cdfdf",
   "metadata": {},
   "outputs": [
    {
     "name": "stdout",
     "output_type": "stream",
     "text": [
      "confidence_interval: [0.12 +/- 0.028484134531349202]\n",
      "\n",
      "(0.09151586546865079, 0.1484841345313492)\n"
     ]
    }
   ],
   "source": [
    "# hence 95% confidence interval for true proportion of population who smoke is:\n",
    "\n",
    "print(f\"confidence_interval: [{smoked_percentage} +/- {margin_of_error}]\")\n",
    "\n",
    "lower_limit = smoked_percentage - margin_of_error\n",
    "upper_limit = smoked_percentage + margin_of_error\n",
    "print()\n",
    "print((lower_limit, upper_limit))"
   ]
  },
  {
   "cell_type": "markdown",
   "id": "1f68884e",
   "metadata": {},
   "source": [
    "####  _______________________________________________________________________"
   ]
  },
  {
   "cell_type": "markdown",
   "id": "c3a4c9d1",
   "metadata": {},
   "source": [
    "."
   ]
  },
  {
   "cell_type": "markdown",
   "id": "55fdaa0d",
   "metadata": {},
   "source": [
    "#### Q5. Calculate the 90% confidence interval for a sample of data with a mean of 75 and a standard deviation of 12 using Python. Interpret the results."
   ]
  },
  {
   "cell_type": "code",
   "execution_count": 59,
   "id": "7f3a6296",
   "metadata": {},
   "outputs": [
    {
     "name": "stdout",
     "output_type": "stream",
     "text": [
      "90% confidence Interval for mean: 75 and std: 12 is [55.26, 94.74000000000001]\n"
     ]
    }
   ],
   "source": [
    "# By following emperical rule of normal distribution, 90% of confidence level falls within 1.645 standard deviation.\n",
    "# hence, we will use (mean ± 1.645 * standard_deviation) formula.\n",
    "\n",
    "mean = 75\n",
    "std = 12\n",
    "\n",
    "lower_limit = mean - 1.645 * std\n",
    "upper_limit = mean + 1.645 * std\n",
    "\n",
    "confidence_interval =[lower_limit , upper_limit]\n",
    "print(f\"90% confidence Interval for mean: 75 and std: 12 is {confidence_interval}\")"
   ]
  },
  {
   "cell_type": "markdown",
   "id": "0414eb2c",
   "metadata": {},
   "source": [
    "####  _______________________________________________________________________"
   ]
  },
  {
   "cell_type": "markdown",
   "id": "94d4dabd",
   "metadata": {},
   "source": [
    "."
   ]
  },
  {
   "cell_type": "markdown",
   "id": "ef634205",
   "metadata": {},
   "source": [
    "#### Q6. Use Python to plot the chi-square distribution with 10 degrees of freedom. Label the axes and shade the area corresponding to a chi-square statistic of 15."
   ]
  },
  {
   "cell_type": "code",
   "execution_count": 91,
   "id": "d318c4b7",
   "metadata": {},
   "outputs": [
    {
     "data": {
      "text/plain": [
       "<matplotlib.patches.Polygon at 0x1e43b79d1e0>"
      ]
     },
     "execution_count": 91,
     "metadata": {},
     "output_type": "execute_result"
    },
    {
     "data": {
      "image/png": "[encoded data removed]",
      "text/plain": [
       "<Figure size 640x480 with 1 Axes>"
      ]
     },
     "metadata": {},
     "output_type": "display_data"
    }
   ],
   "source": [
    "df = 10\n",
    "\n",
    "x = np.linspace(stats.chi2.ppf(0.01, df),\n",
    "                stats.chi2.ppf(0.99, df), 100)\n",
    "plt.plot(x, stats.chi2.pdf(x, df), label='chi2 pdf')\n",
    "plt.xlabel('Chi2 pdf')\n",
    "plt.ylabel('Density')\n",
    "plt.axvspan(15, 15, color='red', alpha=1)"
   ]
  },
  {
   "cell_type": "markdown",
   "id": "1c07eb74",
   "metadata": {},
   "source": [
    "####  _______________________________________________________________________"
   ]
  },
  {
   "cell_type": "markdown",
   "id": "002f4b83",
   "metadata": {},
   "source": [
    "."
   ]
  },
  {
   "cell_type": "markdown",
   "id": "25aeea79",
   "metadata": {},
   "source": [
    "#### Q7. A random sample of 1000 people was asked if they preferred Coke or Pepsi. Of the sample, 520 preferred Coke. Calculate a 99% confidence interval for the true proportion of people in the population who prefer Coke."
   ]
  },
  {
   "cell_type": "code",
   "execution_count": 116,
   "id": "f0f1ce63",
   "metadata": {},
   "outputs": [
    {
     "data": {
      "text/html": [
       "<div>\n",
       "<style scoped>\n",
       "    .dataframe tbody tr th:only-of-type {\n",
       "        vertical-align: middle;\n",
       "    }\n",
       "\n",
       "    .dataframe tbody tr th {\n",
       "        vertical-align: top;\n",
       "    }\n",
       "\n",
       "    .dataframe thead th {\n",
       "        text-align: right;\n",
       "    }\n",
       "</style>\n",
       "<table border=\"1\" class=\"dataframe\">\n",
       "  <thead>\n",
       "    <tr style=\"text-align: right;\">\n",
       "      <th></th>\n",
       "      <th>coke</th>\n",
       "      <th>pepsi</th>\n",
       "    </tr>\n",
       "  </thead>\n",
       "  <tbody>\n",
       "    <tr>\n",
       "      <th>preferred</th>\n",
       "      <td>520</td>\n",
       "      <td>480</td>\n",
       "    </tr>\n",
       "  </tbody>\n",
       "</table>\n",
       "</div>"
      ],
      "text/plain": [
       "           coke  pepsi\n",
       "preferred   520    480"
      ]
     },
     "execution_count": 116,
     "metadata": {},
     "output_type": "execute_result"
    }
   ],
   "source": [
    "pd.DataFrame(data = {'coke': 520, 'pepsi': 480}, index = ['preferred'])"
   ]
  },
  {
   "cell_type": "code",
   "execution_count": 120,
   "id": "e7b9e8c2",
   "metadata": {},
   "outputs": [],
   "source": [
    "coke_percentage = 520/1000"
   ]
  },
  {
   "cell_type": "markdown",
   "id": "a9da0217",
   "metadata": {},
   "source": [
    "confidence interval (CI) estimate of the population proportion of people who favor coke is given by:\n",
    "\n",
    "point estimate +/-  (critical value) x (standard error)"
   ]
  },
  {
   "cell_type": "code",
   "execution_count": 127,
   "id": "f2679187",
   "metadata": {},
   "outputs": [
    {
     "data": {
      "text/plain": [
       "0.0203487695549387"
      ]
     },
     "execution_count": 127,
     "metadata": {},
     "output_type": "execute_result"
    }
   ],
   "source": [
    "margin_of_error = (2.576 / 2) * (math.sqrt((coke_percentage*(1-coke_percentage))/1000))\n",
    "margin_of_error"
   ]
  },
  {
   "cell_type": "code",
   "execution_count": 134,
   "id": "c30ae94a",
   "metadata": {},
   "outputs": [
    {
     "name": "stdout",
     "output_type": "stream",
     "text": [
      "confidence_interval: [0.52 +/- 0.0203487695549387]\n",
      "\n",
      "(0.4996512304450613, 0.5403487695549387)\n"
     ]
    }
   ],
   "source": [
    "# hence 99% confidence interval for true proportion of population who preferred coke is:\n",
    "\n",
    "print(f\"confidence_interval: [{coke_percentage} +/- {margin_of_error}]\")\n",
    "\n",
    "lower_limit = coke_percentage - margin_of_error\n",
    "upper_limit = coke_percentage + margin_of_error\n",
    "print()\n",
    "print((lower_limit, upper_limit))"
   ]
  },
  {
   "cell_type": "markdown",
   "id": "b14b376b",
   "metadata": {},
   "source": [
    "####  _______________________________________________________________________"
   ]
  },
  {
   "cell_type": "markdown",
   "id": "e4ba4363",
   "metadata": {},
   "source": [
    "."
   ]
  },
  {
   "cell_type": "markdown",
   "id": "2a37d3e2",
   "metadata": {},
   "source": [
    "#### Q8. A researcher hypothesizes that a coin is biased towards tails. They flip the coin 100 times and observe 45 tails. Conduct a chi-square goodness of fit test to determine if the observed frequencies match the expected frequencies of a fair coin. Use a significance level of 0.05."
   ]
  },
  {
   "cell_type": "code",
   "execution_count": 112,
   "id": "b68b63a7",
   "metadata": {},
   "outputs": [
    {
     "data": {
      "text/html": [
       "<div>\n",
       "<style scoped>\n",
       "    .dataframe tbody tr th:only-of-type {\n",
       "        vertical-align: middle;\n",
       "    }\n",
       "\n",
       "    .dataframe tbody tr th {\n",
       "        vertical-align: top;\n",
       "    }\n",
       "\n",
       "    .dataframe thead th {\n",
       "        text-align: right;\n",
       "    }\n",
       "</style>\n",
       "<table border=\"1\" class=\"dataframe\">\n",
       "  <thead>\n",
       "    <tr style=\"text-align: right;\">\n",
       "      <th></th>\n",
       "      <th>observed</th>\n",
       "      <th>expected</th>\n",
       "    </tr>\n",
       "  </thead>\n",
       "  <tbody>\n",
       "    <tr>\n",
       "      <th>head</th>\n",
       "      <td>55</td>\n",
       "      <td>50</td>\n",
       "    </tr>\n",
       "    <tr>\n",
       "      <th>tail</th>\n",
       "      <td>45</td>\n",
       "      <td>50</td>\n",
       "    </tr>\n",
       "  </tbody>\n",
       "</table>\n",
       "</div>"
      ],
      "text/plain": [
       "      observed  expected\n",
       "head        55        50\n",
       "tail        45        50"
      ]
     },
     "execution_count": 112,
     "metadata": {},
     "output_type": "execute_result"
    }
   ],
   "source": [
    "# preparing the data\n",
    "\n",
    "data1 = pd.DataFrame(data = {'observed':[55 , 45], 'expected': [50, 50]}, index = ['head', 'tail'])\n",
    "data1"
   ]
  },
  {
   "cell_type": "code",
   "execution_count": 113,
   "id": "b8e5d72d",
   "metadata": {},
   "outputs": [
    {
     "name": "stdout",
     "output_type": "stream",
     "text": [
      "Null: Coin is fair.\n",
      "Alternative: Coin is unfair.\n",
      "\n"
     ]
    }
   ],
   "source": [
    "# Formulating the hypothesis.\n",
    "\n",
    "print(\"\"\"Null: Coin is fair.\n",
    "Alternative: Coin is unfair.\\n\"\"\")"
   ]
  },
  {
   "cell_type": "code",
   "execution_count": 110,
   "id": "c42e8e1d",
   "metadata": {},
   "outputs": [
    {
     "data": {
      "text/plain": [
       "1.0"
      ]
     },
     "execution_count": 110,
     "metadata": {},
     "output_type": "execute_result"
    }
   ],
   "source": [
    "# Calculating test-statistics.\n",
    "# we will perfrom chi-squre goodness of fit manually. We will use the below formula.\n",
    "\n",
    "# chi-square = (((observed_head - expected_head)**2) / expected_head) + (((observed_tail - expected_tail)**2) / expected_tail)\n",
    "chi_square = (((55-50)**2)/50) + (((45-50)**2)/50)\n",
    "chi_square"
   ]
  },
  {
   "cell_type": "code",
   "execution_count": 111,
   "id": "a2bf5181",
   "metadata": {},
   "outputs": [
    {
     "name": "stdout",
     "output_type": "stream",
     "text": [
      "We fail to reject the null hypothesis.\n"
     ]
    }
   ],
   "source": [
    "# result comparison and conclusion.\n",
    "# We look at a chi-square table at alpha_Value = 0.05 and with dof = 1 and get a critical value of 3.841.\n",
    "critical_region = 3.841\n",
    "\n",
    "if chi_square < critical_region:\n",
    "    print('We fail to reject the null hypothesis.')\n",
    "else:\n",
    "    print('We reject the null hypothesis.')"
   ]
  },
  {
   "cell_type": "markdown",
   "id": "6bfbf17b",
   "metadata": {},
   "source": [
    "Conclusion: By observing our hypothesis results we can say with 95% confidence level that we fail to reject the null hypothesis and our coin turns our to be fair."
   ]
  },
  {
   "cell_type": "markdown",
   "id": "1e35019d",
   "metadata": {},
   "source": [
    "####  _______________________________________________________________________"
   ]
  },
  {
   "cell_type": "markdown",
   "id": "9a922c0d",
   "metadata": {},
   "source": [
    "."
   ]
  },
  {
   "cell_type": "markdown",
   "id": "7dc7baa8",
   "metadata": {},
   "source": [
    "#### Q9. A study was conducted to determine if there is an association between smoking status (smoker or non-smoker) and lung cancer diagnosis (yes or no). The results are shown in the contingency table below. Conduct a chi-square test for independence to determine if there is a significant association between smoking status and lung cancer diagnosis.\n",
    "\n",
    "Lung Cancer:    Yes No\n",
    "Smoker          60  140\n",
    "Non-smoker      30  170\n",
    "\n",
    "Use a significance level of 0.05.\n"
   ]
  },
  {
   "cell_type": "code",
   "execution_count": 9,
   "id": "69a14929",
   "metadata": {},
   "outputs": [
    {
     "data": {
      "text/html": [
       "<div>\n",
       "<style scoped>\n",
       "    .dataframe tbody tr th:only-of-type {\n",
       "        vertical-align: middle;\n",
       "    }\n",
       "\n",
       "    .dataframe tbody tr th {\n",
       "        vertical-align: top;\n",
       "    }\n",
       "\n",
       "    .dataframe thead th {\n",
       "        text-align: right;\n",
       "    }\n",
       "</style>\n",
       "<table border=\"1\" class=\"dataframe\">\n",
       "  <thead>\n",
       "    <tr style=\"text-align: right;\">\n",
       "      <th></th>\n",
       "      <th>lung_cancer_yes</th>\n",
       "      <th>lung_cancer_no</th>\n",
       "    </tr>\n",
       "  </thead>\n",
       "  <tbody>\n",
       "    <tr>\n",
       "      <th>smoker</th>\n",
       "      <td>60</td>\n",
       "      <td>140</td>\n",
       "    </tr>\n",
       "    <tr>\n",
       "      <th>non-smoker</th>\n",
       "      <td>30</td>\n",
       "      <td>170</td>\n",
       "    </tr>\n",
       "  </tbody>\n",
       "</table>\n",
       "</div>"
      ],
      "text/plain": [
       "            lung_cancer_yes  lung_cancer_no\n",
       "smoker                   60             140\n",
       "non-smoker               30             170"
      ]
     },
     "execution_count": 9,
     "metadata": {},
     "output_type": "execute_result"
    }
   ],
   "source": [
    "# Preparing the data\n",
    "\n",
    "data = pd.DataFrame(data = {'lung_cancer_yes': [60, 30], 'lung_cancer_no': [140, 170]}, index = ['smoker', 'non-smoker'])\n",
    "data"
   ]
  },
  {
   "cell_type": "code",
   "execution_count": 10,
   "id": "739cbda9",
   "metadata": {},
   "outputs": [
    {
     "name": "stdout",
     "output_type": "stream",
     "text": [
      "Null: There is no association between smoking status and lung cancer diagnosis.\n",
      "Alternative: There is a associaiton between smoking status and lung cancer diagnosis.\n",
      "\n"
     ]
    }
   ],
   "source": [
    "# Forlulating the hypothesis.\n",
    "\n",
    "print(\"\"\"Null: There is no association between smoking status and lung cancer diagnosis.\n",
    "Alternative: There is a associaiton between smoking status and lung cancer diagnosis.\\n\"\"\")"
   ]
  },
  {
   "cell_type": "code",
   "execution_count": 14,
   "id": "f49f811c",
   "metadata": {},
   "outputs": [
    {
     "name": "stdout",
     "output_type": "stream",
     "text": [
      "chi_stats_score: 12.057347670250895, chi_stat p_value: 0.0005158863863703744, chi_stat dof: 1\n"
     ]
    }
   ],
   "source": [
    "#  conducting hypothesis test. \n",
    "\n",
    "alpha_value = 0.05\n",
    "\n",
    "chi_stats = stats.chi2_contingency(data)\n",
    "print(f\"chi_stats_score: {chi_stats.statistic}, chi_stat p_value: {chi_stats.pvalue}, chi_stat dof: {chi_stats.dof}\")\n",
    "p_value = chi_stats.pvalue"
   ]
  },
  {
   "cell_type": "code",
   "execution_count": 15,
   "id": "9a2e85a2",
   "metadata": {},
   "outputs": [
    {
     "name": "stdout",
     "output_type": "stream",
     "text": [
      "We reject the null hypothesis.\n"
     ]
    }
   ],
   "source": [
    "# comparing results and conclusion \n",
    "\n",
    "if p_value < alpha_value:\n",
    "    print('We reject the null hypothesis.')\n",
    "    \n",
    "else:\n",
    "    print('We fail to reject the null hypothesis.')"
   ]
  },
  {
   "cell_type": "markdown",
   "id": "59225dda",
   "metadata": {},
   "source": [
    "conclusion: We reject the null hypothesis. It means that with 95% confidence level we can say we reject the null hypothesis and there is a significant relationship between the smoking status and lung cancer status.   "
   ]
  },
  {
   "cell_type": "markdown",
   "id": "0cf0ea0d",
   "metadata": {},
   "source": [
    "####  _______________________________________________________________________"
   ]
  },
  {
   "cell_type": "markdown",
   "id": "a634e29b",
   "metadata": {},
   "source": [
    "."
   ]
  },
  {
   "cell_type": "markdown",
   "id": "b855aa85",
   "metadata": {},
   "source": [
    "#### Q10. A study was conducted to determine if the proportion of people who prefer milk chocolate, dark chocolate, or white chocolate is different in the U.S. versus the U.K. A random sample of 500 people from the U.S. and a random sample of 500 people from the U.K. were surveyed. The results are shown in the contingency table below. Conduct a chi-square test for independence to determine if there is a significant association between chocolate preference and country of origin. \n",
    "\n",
    "\n",
    "             Milk Chocolate  Dark Chocolate White Chocolate\n",
    "U.S. (n=500) 200             150            150\n",
    "U.K. (n=500) 225             175            100\n",
    "\n",
    "Use a significance level of 0.01.\n",
    "\n"
   ]
  },
  {
   "cell_type": "code",
   "execution_count": 172,
   "id": "19721675",
   "metadata": {},
   "outputs": [
    {
     "data": {
      "text/html": [
       "<div>\n",
       "<style scoped>\n",
       "    .dataframe tbody tr th:only-of-type {\n",
       "        vertical-align: middle;\n",
       "    }\n",
       "\n",
       "    .dataframe tbody tr th {\n",
       "        vertical-align: top;\n",
       "    }\n",
       "\n",
       "    .dataframe thead th {\n",
       "        text-align: right;\n",
       "    }\n",
       "</style>\n",
       "<table border=\"1\" class=\"dataframe\">\n",
       "  <thead>\n",
       "    <tr style=\"text-align: right;\">\n",
       "      <th></th>\n",
       "      <th>Milk_chocolate</th>\n",
       "      <th>Dark_chocolate</th>\n",
       "      <th>White_chocolate</th>\n",
       "    </tr>\n",
       "  </thead>\n",
       "  <tbody>\n",
       "    <tr>\n",
       "      <th>us</th>\n",
       "      <td>200</td>\n",
       "      <td>150</td>\n",
       "      <td>150</td>\n",
       "    </tr>\n",
       "    <tr>\n",
       "      <th>uk</th>\n",
       "      <td>225</td>\n",
       "      <td>175</td>\n",
       "      <td>100</td>\n",
       "    </tr>\n",
       "  </tbody>\n",
       "</table>\n",
       "</div>"
      ],
      "text/plain": [
       "    Milk_chocolate  Dark_chocolate  White_chocolate\n",
       "us             200             150              150\n",
       "uk             225             175              100"
      ]
     },
     "execution_count": 172,
     "metadata": {},
     "output_type": "execute_result"
    }
   ],
   "source": [
    "# Data preperation.\n",
    "alpha_level = 0.01\n",
    "\n",
    "data = pd.DataFrame(data = {'Milk_chocolate': [200, 225] ,'Dark_chocolate': [150, 175], 'White_chocolate': [150, 100]}, index = ['us', 'uk'])\n",
    "data"
   ]
  },
  {
   "cell_type": "code",
   "execution_count": 168,
   "id": "7931a0f3",
   "metadata": {},
   "outputs": [
    {
     "name": "stdout",
     "output_type": "stream",
     "text": [
      "(H0) Null: There is no relationship between chocolate preference and country of origin.\n",
      "(Ha) Alternative: There is a relationship between chocolate preference and country of origin..\n"
     ]
    }
   ],
   "source": [
    "# Formulating hypothesis.\n",
    "\n",
    "print(\"\"\"(H0) Null: There is no relationship between chocolate preference and country of origin.\n",
    "(Ha) Alternative: There is a relationship between chocolate preference and country of origin..\"\"\")"
   ]
  },
  {
   "cell_type": "code",
   "execution_count": 169,
   "id": "1edb6e50",
   "metadata": {},
   "outputs": [],
   "source": [
    "# conducting test_statistics.\n",
    "\n",
    "chi_stats = stats.chi2_contingency(data)"
   ]
  },
  {
   "cell_type": "code",
   "execution_count": 171,
   "id": "1af3bc5d",
   "metadata": {},
   "outputs": [
    {
     "name": "stdout",
     "output_type": "stream",
     "text": [
      "chi_stats_score: 13.393665158371041, chi_stat p_value: 0.0012348168997745915, chi_stat dof: 2\n"
     ]
    }
   ],
   "source": [
    "print(f\"chi_stats_score: {chi_stats.statistic}, chi_stat p_value: {chi_stats.pvalue}, chi_stat dof: {chi_stats.dof}\")\n",
    "p_value = chi_stats.pvalue"
   ]
  },
  {
   "cell_type": "code",
   "execution_count": 173,
   "id": "43caa02b",
   "metadata": {},
   "outputs": [
    {
     "name": "stdout",
     "output_type": "stream",
     "text": [
      "We reject the null hypothesis.\n"
     ]
    }
   ],
   "source": [
    "# results comparison and conclusion.\n",
    "\n",
    "if p_value < alpha_value:\n",
    "    print('We reject the null hypothesis.')\n",
    "    \n",
    "else:\n",
    "    print('We fail to reject the null hypothesis.')"
   ]
  },
  {
   "cell_type": "markdown",
   "id": "76329f61",
   "metadata": {},
   "source": [
    "Conclusion: By observing our results we conclude that with 99% confidence level we reject the null hypothesis and there is a significant relationship between chocolate preference and country of origin. "
   ]
  },
  {
   "cell_type": "markdown",
   "id": "fda1b541",
   "metadata": {},
   "source": [
    "####  _______________________________________________________________________"
   ]
  },
  {
   "cell_type": "markdown",
   "id": "5e5eabf1",
   "metadata": {},
   "source": [
    "."
   ]
  },
  {
   "cell_type": "markdown",
   "id": "591a2c4d",
   "metadata": {},
   "source": [
    "#### Q11. A random sample of 30 people was selected from a population with an unknown mean and standard deviation. The sample mean was found to be 72 and the sample standard deviation was found to be 10. Conduct a hypothesis test to determine if the population mean is significantly different from 70. Use a significance level of 0.05."
   ]
  },
  {
   "cell_type": "code",
   "execution_count": 93,
   "id": "363b3f21",
   "metadata": {},
   "outputs": [],
   "source": [
    "import math"
   ]
  },
  {
   "cell_type": "code",
   "execution_count": 99,
   "id": "2a129fed",
   "metadata": {},
   "outputs": [
    {
     "name": "stdout",
     "output_type": "stream",
     "text": [
      "Null: The means are significanlty same i.e μ = μo.\n",
      "Alternative: The means are significanlty different μ != μo.\n",
      "\n",
      "z-test: score is: 1.0954451150103321\n",
      "The corresponding p-value from z-test and z-table is 0.864.\n",
      "\n",
      "We fail to reject the null hypothesis.\n"
     ]
    }
   ],
   "source": [
    "sample_size = 30 \n",
    "sample_mean = 72\n",
    "sample_std = 10\n",
    "population_mean = 70\n",
    "alpha_level = 0.05\n",
    "\n",
    "# Formulating the hypothesis.\n",
    "\n",
    "print(\"\"\"Null: The means are significanlty same i.e μ = μo.\n",
    "Alternative: The means are significanlty different μ != μo.\\n\"\"\")\n",
    "\n",
    "# Calculating the test-statistics. Since we want to test for difference in mean we will use two tailed one sample z-test. \n",
    "\n",
    "z_test = (sample_mean - population_mean) / (sample_std/math.sqrt(sample_size))\n",
    "print(f'z-test: score is: {z_test}')\n",
    "\n",
    "print('The corresponding p-value from z-test and z-table is 0.864.\\n')\n",
    "p_value = 0.864\n",
    "\n",
    "# comparing the results\n",
    "\n",
    "if p_value < alpha_value:\n",
    "    print('We rejet the null hypothesis.')\n",
    "    \n",
    "else:\n",
    "    print('We fail to reject the null hypothesis.')"
   ]
  },
  {
   "cell_type": "markdown",
   "id": "8d897767",
   "metadata": {},
   "source": [
    "Conclusion: By performing test statistics we conclude with 95% confidence level that population mean is not significanlty different from 70.  "
   ]
  }
 ],
 "metadata": {
  "kernelspec": {
   "display_name": "Python 3 (ipykernel)",
   "language": "python",
   "name": "python3"
  },
  "language_info": {
   "codemirror_mode": {
    "name": "ipython",
    "version": 3
   },
   "file_extension": ".py",
   "mimetype": "text/x-python",
   "name": "python",
   "nbconvert_exporter": "python",
   "pygments_lexer": "ipython3",
   "version": "3.10.9"
  }
 },
 "nbformat": 4,
 "nbformat_minor": 5
}
