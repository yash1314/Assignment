{
 "cells": [
  {
   "cell_type": "markdown",
   "id": "72bb3505",
   "metadata": {},
   "source": [
    "#### Q1. Create a dictionary called fruits with the following key-value pairs:\n",
    "\n",
    "\"apple\": 0.75\n",
    "\n",
    "\"banana\": 1.25\n",
    "\n",
    "\"orange\": 0.90\n",
    "\n",
    "Then, print out the price of a banana."
   ]
  },
  {
   "cell_type": "code",
   "execution_count": 2,
   "id": "0dd84519",
   "metadata": {},
   "outputs": [],
   "source": [
    "fruits = {\"apple\": 0.75, \"banana\": 1.25, \"orange\": 0.90}"
   ]
  },
  {
   "cell_type": "code",
   "execution_count": 3,
   "id": "8616b1e2",
   "metadata": {},
   "outputs": [
    {
     "data": {
      "text/plain": [
       "1.25"
      ]
     },
     "execution_count": 3,
     "metadata": {},
     "output_type": "execute_result"
    }
   ],
   "source": [
    "fruits['banana']"
   ]
  },
  {
   "cell_type": "markdown",
   "id": "fa4b30e5",
   "metadata": {},
   "source": [
    "#### Q2. Create an empty dictionary called ages. Add the following key-value pairs to the dictionary:\n",
    "\n",
    "\"Alice\": 30\n",
    "\n",
    "\"Bob\": 25\n",
    "\n",
    "\"Charlie\": 35\n",
    "\n",
    "Then, print out the age of Charlie.\n"
   ]
  },
  {
   "cell_type": "code",
   "execution_count": 4,
   "id": "aeaee7f6",
   "metadata": {},
   "outputs": [],
   "source": [
    "ages = {}\n",
    "ages['Alice'] = 30\n",
    "ages['Bob'] = 25\n",
    "ages['Charlie'] = 35"
   ]
  },
  {
   "cell_type": "code",
   "execution_count": 6,
   "id": "f85cafc8",
   "metadata": {},
   "outputs": [
    {
     "data": {
      "text/plain": [
       "35"
      ]
     },
     "execution_count": 6,
     "metadata": {},
     "output_type": "execute_result"
    }
   ],
   "source": [
    "ages['Charlie']"
   ]
  },
  {
   "cell_type": "markdown",
   "id": "0fcc16f3",
   "metadata": {},
   "source": [
    "#### Q3. Write a function called word_count(text) that takes a string as input and returns a dictionary where each key is a word in the text and its value is the number of times that word appears in the text. For example, word_count(\"hello world hello\") should return {\"hello\": 2, \"world\": 1}."
   ]
  },
  {
   "cell_type": "code",
   "execution_count": 24,
   "id": "00802629",
   "metadata": {},
   "outputs": [],
   "source": [
    "def word_count(text):\n",
    "    dic = {}\n",
    "    for i in text.split():\n",
    "        dic[i] = text.count(i)\n",
    "    return dic"
   ]
  },
  {
   "cell_type": "code",
   "execution_count": 25,
   "id": "19247a9e",
   "metadata": {},
   "outputs": [
    {
     "data": {
      "text/plain": [
       "{'hello': 2, 'world': 1}"
      ]
     },
     "execution_count": 25,
     "metadata": {},
     "output_type": "execute_result"
    }
   ],
   "source": [
    "word_count('hello world hello')"
   ]
  },
  {
   "cell_type": "markdown",
   "id": "3b9399f5",
   "metadata": {},
   "source": [
    "#### `Q4. Create a dictionary called phone_book with the following key-value pairs:\n",
    "\n",
    "\"Alice\": \"555-1234\"\n",
    "\n",
    "\"Bob\": \"555-5678\"\n",
    "\n",
    "\"Charlie\": \"555-9012\"\n",
    "\n",
    "Then, prompt the user to enter a name and print out the corresponding phone number. If the name is not\n",
    "in the phone book, print out a message saying that the name was not found."
   ]
  },
  {
   "cell_type": "code",
   "execution_count": 26,
   "id": "5ec152f1",
   "metadata": {},
   "outputs": [],
   "source": [
    "phone_book = {'Alic': '555-1234', 'Bob': '55-5678', 'Charlie': '555-9012'}"
   ]
  },
  {
   "cell_type": "code",
   "execution_count": 35,
   "id": "05ebd547",
   "metadata": {},
   "outputs": [
    {
     "name": "stdout",
     "output_type": "stream",
     "text": [
      "Enter a name to fetch phone number: Bob\n",
      "55-5678\n"
     ]
    }
   ],
   "source": [
    "name = input('Enter a name to fetch phone number: ')\n",
    "if name in phone_book.keys():\n",
    "    print(phone_book[name])\n",
    "else:\n",
    "    print('The name was not found')"
   ]
  },
  {
   "cell_type": "markdown",
   "id": "375ee0b1",
   "metadata": {},
   "source": [
    "#### Q5. Write a program that prompts the user to enter a number between 1 and 10. If the number is less than 5, print out \"Too low!\", otherwise print out \"Too high!\"."
   ]
  },
  {
   "cell_type": "code",
   "execution_count": 39,
   "id": "b551d277",
   "metadata": {},
   "outputs": [
    {
     "name": "stdout",
     "output_type": "stream",
     "text": [
      "Enter a number between 1 to 10: 7\n",
      "Too high!\n"
     ]
    }
   ],
   "source": [
    "num = int(input('Enter a number between 1 to 10: '))\n",
    "\n",
    "if num < 5:\n",
    "    print('Too low!')\n",
    "else:\n",
    "    print('Too high!')"
   ]
  },
  {
   "cell_type": "markdown",
   "id": "40de465f",
   "metadata": {},
   "source": [
    "#### Q6. Write a program that prompts the user to enter a password. If the password is \"password123\", print out \"Access granted\", otherwise print out \"Access denied\".\n"
   ]
  },
  {
   "cell_type": "code",
   "execution_count": 42,
   "id": "c02141c0",
   "metadata": {},
   "outputs": [
    {
     "name": "stdout",
     "output_type": "stream",
     "text": [
      "Enter your password: password123\n",
      "Access granted!\n"
     ]
    }
   ],
   "source": [
    "password = input('Enter your password: ').lower()\n",
    "\n",
    "if password == 'password123':\n",
    "    print('Access granted!')\n",
    "else:\n",
    "    print('Access denied!')"
   ]
  },
  {
   "cell_type": "markdown",
   "id": "090b212f",
   "metadata": {},
   "source": [
    "#### Q7. Write a program that prompts the user to enter a positive integer. Then, use a loop to print out all the odd numbers from 1 to that integer.\n",
    "\n"
   ]
  },
  {
   "cell_type": "code",
   "execution_count": 46,
   "id": "97f5b85e",
   "metadata": {},
   "outputs": [
    {
     "name": "stdout",
     "output_type": "stream",
     "text": [
      "Enter any positive integer: 10\n",
      "1 3 5 7 9 "
     ]
    }
   ],
   "source": [
    "num2 = int(input('Enter any positive integer: '))\n",
    "\n",
    "for i in range(1, num2):\n",
    "    if i % 2 != 0:\n",
    "        print(i, end = ' ')"
   ]
  },
  {
   "cell_type": "markdown",
   "id": "ea215e6a",
   "metadata": {},
   "source": [
    "#### Q8. Write a program that generates a random number between 1 and 100 and then prompts the user to guess the number. If the user's guess is too low, print out \"Too low!\", if the guess is too high, print out \"Too high!\", and if the guess is correct, print out \"You win!\".\n",
    "\n"
   ]
  },
  {
   "cell_type": "code",
   "execution_count": 77,
   "id": "7353b3ee",
   "metadata": {},
   "outputs": [
    {
     "name": "stdout",
     "output_type": "stream",
     "text": [
      "Guess any number: 52\n",
      "Correct, You win!\n"
     ]
    }
   ],
   "source": [
    "import numpy as np\n",
    "\n",
    "np.random.seed(42)\n",
    "num3 = np.random.randint(1, 100)\n",
    "\n",
    "guess = int(input('Guess any number: '))\n",
    "\n",
    "if num3 > guess:\n",
    "    print('Too low!')\n",
    "elif num3 < guess:\n",
    "    print('Too high!')\n",
    "elif num3 == guess:\n",
    "    print('Correct, You win!')"
   ]
  },
  {
   "cell_type": "markdown",
   "id": "846ef95c",
   "metadata": {},
   "source": [
    "#### Q9. Write a program that generates a random number between 1 and 10 and then prompts the user to guess the number. The user has three attempts to guess the number. If the user guesses correctly within three attempts, print out \"You win!\", otherwise print out \"You lose!\".\n"
   ]
  },
  {
   "cell_type": "code",
   "execution_count": 85,
   "id": "bcd8a07a",
   "metadata": {},
   "outputs": [
    {
     "name": "stdout",
     "output_type": "stream",
     "text": [
      "Guess the number: 5\n",
      "Too low!\n",
      "Guess the number: 8\n",
      "Too high!\n",
      "Guess the number: 7\n",
      "Correct, You win!\n"
     ]
    }
   ],
   "source": [
    "np.random.seed(42)\n",
    "num4 = np.random.randint(1,10)\n",
    "\n",
    "attempts = 1\n",
    "\n",
    "while attempts <=3 :\n",
    "    guess2 = int(input('Guess the number: '))\n",
    "    \n",
    "    if num4 > guess2:\n",
    "        print('Too low!')\n",
    "        attempts+=1\n",
    "        \n",
    "    elif num4 < guess2:\n",
    "        print('Too high!')\n",
    "        attempts+=1\n",
    "        \n",
    "    elif num4 == guess2:\n",
    "        print('Correct, You win!')\n",
    "        break"
   ]
  },
  {
   "cell_type": "markdown",
   "id": "a381b7e8",
   "metadata": {},
   "source": [
    "#### Q10. Write a program that prompts the user to enter their age and then prints out whether they are a child (age 0-12), a teenager (age 13-19), an adult (age 20-59), or a senior (age 60+)"
   ]
  },
  {
   "cell_type": "code",
   "execution_count": 87,
   "id": "acefc93a",
   "metadata": {},
   "outputs": [
    {
     "name": "stdout",
     "output_type": "stream",
     "text": [
      "Enter your age: 10\n",
      "You are a child\n"
     ]
    }
   ],
   "source": [
    "age = int(input('Enter your age: '))\n",
    "\n",
    "if 0 < age < 12:\n",
    "    print('You are a child')\n",
    "    \n",
    "elif 12 <= age < 19:\n",
    "    print('You are a teenager')\n",
    "\n",
    "elif  20 <= age < 59:\n",
    "    print('You are adult')\n",
    "\n",
    "else:\n",
    "    print('You are a senior')\n",
    "    "
   ]
  }
 ],
 "metadata": {
  "kernelspec": {
   "display_name": "Python 3 (ipykernel)",
   "language": "python",
   "name": "python3"
  },
  "language_info": {
   "codemirror_mode": {
    "name": "ipython",
    "version": 3
   },
   "file_extension": ".py",
   "mimetype": "text/x-python",
   "name": "python",
   "nbconvert_exporter": "python",
   "pygments_lexer": "ipython3",
   "version": "3.10.10"
  }
 },
 "nbformat": 4,
 "nbformat_minor": 5
}
