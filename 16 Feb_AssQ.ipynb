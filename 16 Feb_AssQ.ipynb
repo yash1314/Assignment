{
 "cells": [
  {
   "cell_type": "markdown",
   "id": "346709ae",
   "metadata": {},
   "source": [
    "#### Q1. What is a database? Differentiate between SQL and NoSQL databases."
   ]
  },
  {
   "cell_type": "markdown",
   "id": "f71b273e",
   "metadata": {},
   "source": [
    "Ans- A database is a structured collection/repository of data. It is usually controlled by database management system. This data can be easily accessed and managed.\n",
    "\n",
    "Difference between SQL and NoSQL database:\n",
    "\n",
    "- Sql database is categorized as Relational database management system, whereas No-sql is categorized as non-relational system.\n",
    "- Sql stands for structured query language and No-sql is not only sql.\n",
    "- Sql database is in tabular structure whereas No-sql is structure as key-value pair, document based, graph based, etc.\n",
    "- Sql databse uses queries and therefore it can handle complex queries whereas nosql cannot handle complex query as they are not powerful as sql queries.\n",
    "- Sql databases are vertically scalable while nosql are horizontally scalable.\n",
    "- My-sql, postgresSql, DB2, oracle, sqlite are SQL example whereas MongoDB, cassandra, CouchDB, Hbase, etc are Nosql example."
   ]
  },
  {
   "cell_type": "markdown",
   "id": "5e7611b5",
   "metadata": {},
   "source": [
    "#### Q2. What is DDL? Explain why CREATE, DROP, ALTER, and TRUNCATE are used with an example."
   ]
  },
  {
   "cell_type": "markdown",
   "id": "e32dbff4",
   "metadata": {},
   "source": [
    "Ans- DDL stands for Data Definition language. It is used to define and modify the structure of database. It contains queries such as CREATE, ALTER, DROP, TRUNCATE, and RENAME.\n",
    "\n",
    "Database name = test, table name = testnew\n",
    "\n",
    "- CREATE: It creates a new database or table. \n",
    "\n",
    "Ex: CREATE DATABASE test; / CREATE TABLE testnew;\n",
    "\n",
    "- DROP: Drop is used to delete the table or database. \n",
    "\n",
    "Ex: DROP DATABASE test; / DROP TABLE testnew;\n",
    "\n",
    "- ALTER: The alter command is used to make changes to a table or database, it can add, modify, drop columns. \n",
    "\n",
    "Ex: ALTER TABLE testnew ADD Last_name VARCHAR(20);\n",
    "\n",
    "- TRUNCATE: It is same as drop, the only difference is that while drop deletes the whole table and its content, the truncate command deletes the content of the table not the table itself.\n",
    "\n",
    "Ex: TRUNCATE TABLE testnew;"
   ]
  },
  {
   "cell_type": "markdown",
   "id": "438ac7bb",
   "metadata": {},
   "source": [
    "#### Q3. What is DML? Explain INSERT, UPDATE, and DELETE with an example."
   ]
  },
  {
   "cell_type": "markdown",
   "id": "39f3fccc",
   "metadata": {},
   "source": [
    "Ans- DML stands for Database Manipulation Language. We create the table using DDL commands and then we use DML commands to manipulate the data inside the table and the table itself. With DML command we can reverse any changes made to the table.\n",
    "\n",
    "- INSERT: Insert command is used to insert data into the table. We can add one or more rows to the table. \n",
    "\n",
    "Ex: INSERT INTO testnew\n",
    "    (first_name, last_name, ...)\n",
    "    VALUES('yash', 'keshari', ...)\n",
    "    \n",
    "- UPDATE: This command is used to make changes to the table data.\n",
    "\n",
    "Ex: Update testnew\n",
    "    SET employed=true\n",
    "    WHERE age=12;\n",
    "    \n",
    "- DELETE: This command is used to remove a row from the table.\n",
    "\n",
    "Ex: DELETE FROM testnew\n",
    "    WHERE first_name = \"yash\";\"\"\")"
   ]
  },
  {
   "cell_type": "markdown",
   "id": "e9b1f799",
   "metadata": {},
   "source": [
    "#### Q4. What is DQL? Explain SELECT with an example."
   ]
  },
  {
   "cell_type": "markdown",
   "id": "09c1b2a2",
   "metadata": {},
   "source": [
    "Ans- DQL stands for data query language. This command is used for fetching data only. It make use of SELECT command to read and fetch data. we can use other condition clause such as WHERE clause.\n",
    "\n",
    "- Select: This command is used to fetch data from the table. It can also use other condition clauses.\n",
    "\n",
    "SELECT * FROM testnew;\n"
   ]
  },
  {
   "cell_type": "markdown",
   "id": "5eb19584",
   "metadata": {},
   "source": [
    "#### Q5. Explain Primary Key and Foreign Key."
   ]
  },
  {
   "cell_type": "markdown",
   "id": "f1670d94",
   "metadata": {},
   "source": [
    "- Primary key: A primary key is used to assure that a column only has unique values. such a column cannot have NULL values. A table can only have single primary key and its value cannot be deleted.\n",
    "\n",
    "- Foreign key: A foreign key is used to link data between two tables. A column from a table refers to another column from the different table. A table can have more than one foreign key. a columns with foreign key can contain null and duplicat values."
   ]
  },
  {
   "cell_type": "markdown",
   "id": "fdbe91ad",
   "metadata": {},
   "source": [
    "#### Q6. Write a python code to connect MySQL to python. Explain the cursor() and execute() method."
   ]
  },
  {
   "cell_type": "code",
   "execution_count": null,
   "id": "edce55b1",
   "metadata": {},
   "outputs": [],
   "source": [
    "import mysql.connector\n",
    "\n",
    "mydb = mysql.connector.connect(\n",
    "  host=\"localhost\",\n",
    "  user=\"your_username\",\n",
    "  password=\"your_password\"\n",
    ")\n",
    "\n",
    "print(mydb)"
   ]
  },
  {
   "cell_type": "markdown",
   "id": "7f47f251",
   "metadata": {
    "scrolled": true
   },
   "source": [
    "Ans- Cursor(): Cursor is used to execute the query and fetch the record from the database.\n",
    "\n",
    "- Execute(): The Execute method executes a specified query, SQL statement, stored procedure, or provider-specific text."
   ]
  },
  {
   "cell_type": "markdown",
   "id": "a08146c3",
   "metadata": {},
   "source": [
    "#### Q7. Give the order of execution of SQL clauses in an SQL query."
   ]
  },
  {
   "cell_type": "raw",
   "id": "ab110fca",
   "metadata": {},
   "source": [
    "Ans- SELECT Customers.customer_id, Customers.first_name, Orders.amount, Orders.order_id\n",
    "     FROM Customers\n",
    "     JOIN Orders\n",
    "     ON Customers.customer_id = Orders.customer_id\n",
    "     WHERE Orders.order_id <=4\n",
    "     ORDER BY Orders.order_id ASC\n",
    "     LIMIT 2"
   ]
  }
 ],
 "metadata": {
  "kernelspec": {
   "display_name": "Python 3 (ipykernel)",
   "language": "python",
   "name": "python3"
  },
  "language_info": {
   "codemirror_mode": {
    "name": "ipython",
    "version": 3
   },
   "file_extension": ".py",
   "mimetype": "text/x-python",
   "name": "python",
   "nbconvert_exporter": "python",
   "pygments_lexer": "ipython3",
   "version": "3.9.7"
  }
 },
 "nbformat": 4,
 "nbformat_minor": 5
}
