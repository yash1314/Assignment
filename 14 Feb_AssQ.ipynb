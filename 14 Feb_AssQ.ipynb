{
 "cells": [
  {
   "cell_type": "markdown",
   "id": "4bba3ef9",
   "metadata": {},
   "source": [
    "#### Q1. What is Multithreading in python? Why is it used? Name the module used to handle threads in python."
   ]
  },
  {
   "cell_type": "markdown",
   "id": "4cc4ee09",
   "metadata": {},
   "source": [
    "Ans - Multithreading refers to running multiple threads concurrently i.e at the same time. Multithreading is a way of achieving multitasking. It is achieved by frequently switiching between threads and is called context switching. This is used beacuse through mutlithreading we achieve efficient performance, good response time, efficient utilization of memory and resources. We use threading  and thread method to handle threads in python."
   ]
  },
  {
   "cell_type": "markdown",
   "id": "55e2e9d6",
   "metadata": {},
   "source": [
    "#### Q2. Why threading module is used? Write the use of the following functions:\n",
    "1. activeCount()\n",
    "2. currentThread()\n",
    "3. enumerate()"
   ]
  },
  {
   "cell_type": "markdown",
   "id": "407fc653",
   "metadata": {},
   "source": [
    "Ans - Threading allows us to have different parts of our program run concurrently and can simplify our process. Multiple threads can run concurrently which improves performance, response time, efficient memory and process utilization, etc.\n",
    "\n",
    "- ActiveCount(): Activecount() is used to return the numbers of active threads at any instance.\n",
    "- CurrentThread(): CurrentThread() is used to return the reference of currently executed thread at an instance.\n",
    "- enumerate(): enumerate() return the list of all the threads currently alive/executing."
   ]
  },
  {
   "cell_type": "markdown",
   "id": "79b5ee81",
   "metadata": {},
   "source": [
    "#### Q3. Explain the following functions:\n",
    "1. run()\n",
    "2. start()\n",
    "3. join()\n",
    "4. isAlive()"
   ]
  },
  {
   "cell_type": "markdown",
   "id": "d1cdab51",
   "metadata": {},
   "source": [
    "- run(): run() basically executes the target funtion on current thread to which it belongs. No new thread is created when executing run()\n",
    "\n",
    "- start(): the start() method starts the thread activity. It must be called during every new thread object creation.\n",
    "\n",
    "- join(): The .join() method delays a program’s flow of execution until the target thread has been completely terminated.\n",
    "\n",
    "- isAlive(): As the name suggest, it returns true if the thread is still alive or false if the thread is terminated."
   ]
  },
  {
   "cell_type": "markdown",
   "id": "ae8e1b4e",
   "metadata": {},
   "source": [
    "#### Q4. Write a python program to create a two thread. Thread one must print the list of squares and thread two must print the list of cubes "
   ]
  },
  {
   "cell_type": "code",
   "execution_count": 1,
   "id": "426cbed9",
   "metadata": {},
   "outputs": [],
   "source": [
    "import time\n",
    "import threading\n",
    "\n",
    "#creating a class with odd and even methods\n",
    "\n",
    "class lst:\n",
    "    \n",
    "    def lst_sq(self, num):\n",
    "        print(num**2, end = ' ')\n",
    "    \n",
    "    def lst_cube(self, num):\n",
    "        print(num**3, end = ' ')"
   ]
  },
  {
   "cell_type": "code",
   "execution_count": 4,
   "id": "d5108c23",
   "metadata": {},
   "outputs": [],
   "source": [
    "# Creating an object of lst class\n",
    "\n",
    "l = lst()"
   ]
  },
  {
   "cell_type": "code",
   "execution_count": 5,
   "id": "b9ac128d",
   "metadata": {},
   "outputs": [],
   "source": [
    "#creating 2 threads for both even and odd\n",
    "\n",
    "thread1 = [threading.Thread(target = l.lst_sq, args= (i,)) for i in range(1,6)]\n",
    "thread2 = [threading.Thread(target = l.lst_cube, args = (i,)) for i in range(1,6)]"
   ]
  },
  {
   "cell_type": "code",
   "execution_count": 6,
   "id": "4f29d395",
   "metadata": {},
   "outputs": [
    {
     "name": "stdout",
     "output_type": "stream",
     "text": [
      "1 4 9 16 25 "
     ]
    }
   ],
   "source": [
    "# printing out the list of even numbers upto 5. \n",
    "\n",
    "for t in thread1:\n",
    "    t.start()"
   ]
  },
  {
   "cell_type": "code",
   "execution_count": 7,
   "id": "735d677b",
   "metadata": {},
   "outputs": [
    {
     "name": "stdout",
     "output_type": "stream",
     "text": [
      "1 8 27 64 125 "
     ]
    }
   ],
   "source": [
    "# printing out the list of odd numbers upto 5. \n",
    "\n",
    "for j in thread2:\n",
    "    j.start()"
   ]
  },
  {
   "cell_type": "markdown",
   "id": "54dd3578",
   "metadata": {},
   "source": [
    "#### Q5. Explain the advantages and disadvantages of multithreading in python."
   ]
  },
  {
   "cell_type": "markdown",
   "id": "eadc5b92",
   "metadata": {},
   "source": [
    "Ans - Advantages: \n",
    "- Enhanced performance by decreased development time.\n",
    "- Simplified and streamlined program coding.\n",
    "- Improvised response time.\n",
    "- Better utilization of resources and memory.\n",
    "- Decreased cost of maintenance\n",
    "- Better use of CPU resource.\"\"\")\n",
    "\n",
    "Disadvantages:\n",
    "- Complex debugging and testing processes.\n",
    "- Overhead switching of context.\n",
    "- Increased potential for deadlock occurrence.\n",
    "- Increased difficulty level in writing a program.\n",
    "- Unpredictable results."
   ]
  },
  {
   "cell_type": "markdown",
   "id": "e777c25b",
   "metadata": {},
   "source": [
    "#### Q6. Expalin deadlocks and race condition."
   ]
  },
  {
   "cell_type": "markdown",
   "id": "67438849",
   "metadata": {},
   "source": [
    "Deadlock: A deadlock condition is a concurrency failure where a thread or more threads wait for a condition that never occurs. The result is that the deadlock threads are unable to progress and the program is stuck and must be terminated forcefully.\n",
    "\n",
    "Race: A race condition occurs when two threads access a shared variable at the same time. The first thread reads the variable, and the second thread reads the same value from the variable."
   ]
  }
 ],
 "metadata": {
  "kernelspec": {
   "display_name": "Python 3 (ipykernel)",
   "language": "python",
   "name": "python3"
  },
  "language_info": {
   "codemirror_mode": {
    "name": "ipython",
    "version": 3
   },
   "file_extension": ".py",
   "mimetype": "text/x-python",
   "name": "python",
   "nbconvert_exporter": "python",
   "pygments_lexer": "ipython3",
   "version": "3.9.7"
  }
 },
 "nbformat": 4,
 "nbformat_minor": 5
}
