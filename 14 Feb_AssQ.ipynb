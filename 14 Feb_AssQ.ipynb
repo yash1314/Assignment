{
 "cells": [
  {
   "cell_type": "markdown",
   "id": "4bba3ef9",
   "metadata": {},
   "source": [
    "#### Q1. What is Multithreading in python? Why is it used? Name the module used to handle threads in python."
   ]
  },
  {
   "cell_type": "code",
   "execution_count": 1,
   "id": "f6a16574",
   "metadata": {},
   "outputs": [
    {
     "name": "stdout",
     "output_type": "stream",
     "text": [
      "Multithreading refers to running multiple threads concurrently i.e at the same time. Multithreading is a way of achieving multitasking. It is achieved by frequently switiching between threads and is called context switching. This is used beacuse through mutlithreading we achieve efficient performance, good response time, efficient utilization of memory and resources. We use threading  and thread method to handle threads in python.\n"
     ]
    }
   ],
   "source": [
    "print(\"\"\"Multithreading refers to running multiple threads concurrently i.e at the same time. Multithreading is a way of achieving multitasking. It is achieved by frequently switiching between threads and is called context switching. This is used beacuse through mutlithreading we achieve efficient performance, good response time, efficient utilization of memory and resources. We use threading  and thread method to handle threads in python.\"\"\")"
   ]
  },
  {
   "cell_type": "markdown",
   "id": "55e2e9d6",
   "metadata": {},
   "source": [
    "#### Q2. Why threading module is used? Write the use of the following functions:\n",
    "1. activeCount()\n",
    "2. currentThread()\n",
    "3. enumerate()"
   ]
  },
  {
   "cell_type": "code",
   "execution_count": 7,
   "id": "2d729eb8",
   "metadata": {},
   "outputs": [
    {
     "name": "stdout",
     "output_type": "stream",
     "text": [
      "Threading allows us to have different parts of our program run concurrently and can simplify our process. Multiple threads can run concurrently which improves performance, response time, efficient memory and process utilization, etc.\n",
      "\n",
      "ActiveCount(): Activecount() is used to return the numbers of active threads at any instance.\n",
      "CurrentThread(): CurrentThread() is used to return the reference of currently executed thread at an instance.\n",
      "enumerate(): enumerate() return the list of all the threads currently alive/executing.\n"
     ]
    }
   ],
   "source": [
    "print(\"\"\"Threading allows us to have different parts of our program run concurrently and can simplify our process. Multiple threads can run concurrently which improves performance, response time, efficient memory and process utilization, etc.\"\"\")\n",
    "print(\"\")\n",
    "print(\"\"\"ActiveCount(): Activecount() is used to return the numbers of active threads at any instance.\n",
    "CurrentThread(): CurrentThread() is used to return the reference of currently executed thread at an instance.\n",
    "enumerate(): enumerate() return the list of all the threads currently alive/executing.\"\"\")"
   ]
  },
  {
   "cell_type": "markdown",
   "id": "79b5ee81",
   "metadata": {},
   "source": [
    "#### Q3. Explain the following functions:\n",
    "1. run()\n",
    "2. start()\n",
    "3. join()\n",
    "4. isAlive()"
   ]
  },
  {
   "cell_type": "code",
   "execution_count": 169,
   "id": "f5201f96",
   "metadata": {},
   "outputs": [
    {
     "name": "stdout",
     "output_type": "stream",
     "text": [
      "run(): run() basically executes the target funtion on current thread to which it belongs. No new thread is created when executing run()\n",
      "start(): the start() method starts the thread activity. It must be called during every new thread object creation.\n",
      "join(): The .join() method delays a program’s flow of execution until the target thread has been completely terminated.\n",
      "isAlive(): As the name suggest, it returns true if the thread is still alive or false if the thread is terminated. \n"
     ]
    }
   ],
   "source": [
    "print(\"\"\"run(): run() basically executes the target funtion on current thread to which it belongs. No new thread is created when executing run()\n",
    "start(): the start() method starts the thread activity. It must be called during every new thread object creation.\n",
    "join(): The .join() method delays a program’s flow of execution until the target thread has been completely terminated.\n",
    "isAlive(): As the name suggest, it returns true if the thread is still alive or false if the thread is terminated. \"\"\")"
   ]
  },
  {
   "cell_type": "markdown",
   "id": "ae8e1b4e",
   "metadata": {},
   "source": [
    "#### Q4. Write a python program to create a two thread. Thread one must print the list of squares and thread two must print the list of cubes "
   ]
  },
  {
   "cell_type": "code",
   "execution_count": 152,
   "id": "426cbed9",
   "metadata": {},
   "outputs": [],
   "source": [
    "import time\n",
    "import threading\n",
    "\n",
    "class lst:\n",
    "    \n",
    "    def lst_sq(self, num):\n",
    "        print(num**2, end = ' ')\n",
    "    \n",
    "    def lst_cube(self, num):\n",
    "        print(num**3, end = ' ')"
   ]
  },
  {
   "cell_type": "code",
   "execution_count": 153,
   "id": "d5108c23",
   "metadata": {},
   "outputs": [],
   "source": [
    "l = lst()"
   ]
  },
  {
   "cell_type": "code",
   "execution_count": 154,
   "id": "b9ac128d",
   "metadata": {},
   "outputs": [],
   "source": [
    "thread1 = [threading.Thread(target = l.lst_sq, args= (i,)) for i in range(1,6)]\n",
    "thread2 = [threading.Thread(target = l.lst_cube, args = (i,)) for i in range(1,6)]"
   ]
  },
  {
   "cell_type": "code",
   "execution_count": 155,
   "id": "4f29d395",
   "metadata": {},
   "outputs": [
    {
     "name": "stdout",
     "output_type": "stream",
     "text": [
      "1 4 9 16 25 "
     ]
    }
   ],
   "source": [
    "for t in thread1:\n",
    "    t.start()"
   ]
  },
  {
   "cell_type": "code",
   "execution_count": 156,
   "id": "735d677b",
   "metadata": {},
   "outputs": [
    {
     "name": "stdout",
     "output_type": "stream",
     "text": [
      "1 8 27 64 125 "
     ]
    }
   ],
   "source": [
    "for j in thread2:\n",
    "    j.start()"
   ]
  },
  {
   "cell_type": "markdown",
   "id": "54dd3578",
   "metadata": {},
   "source": [
    "#### Q5. Explain the advantages and disadvantages of multithreading in python."
   ]
  },
  {
   "cell_type": "code",
   "execution_count": 170,
   "id": "d8dd43a2",
   "metadata": {},
   "outputs": [
    {
     "name": "stdout",
     "output_type": "stream",
     "text": [
      "Advantages: \n",
      "- Enhanced performance by decreased development time.\n",
      "- Simplified and streamlined program coding.\n",
      "- Improvised response time.\n",
      "- Better utilization of resources and memory.\n",
      "- Decreased cost of maintenance\n",
      "- Better use of CPU resource.\n",
      "\n",
      "Disadvantages:\n",
      "- Complex debugging and testing processes.\n",
      "- Overhead switching of context.\n",
      "- Increased potential for deadlock occurrence.\n",
      "- Increased difficulty level in writing a program.\n",
      "- Unpredictable results.\n"
     ]
    }
   ],
   "source": [
    "print(\"\"\"Advantages: \n",
    "- Enhanced performance by decreased development time.\n",
    "- Simplified and streamlined program coding.\n",
    "- Improvised response time.\n",
    "- Better utilization of resources and memory.\n",
    "- Decreased cost of maintenance\n",
    "- Better use of CPU resource.\"\"\")\n",
    "print('')\n",
    "print(\"\"\"Disadvantages:\n",
    "- Complex debugging and testing processes.\n",
    "- Overhead switching of context.\n",
    "- Increased potential for deadlock occurrence.\n",
    "- Increased difficulty level in writing a program.\n",
    "- Unpredictable results.\"\"\")"
   ]
  },
  {
   "cell_type": "markdown",
   "id": "e777c25b",
   "metadata": {},
   "source": [
    "#### Q6. Expalin deadlocks and race condition."
   ]
  },
  {
   "cell_type": "code",
   "execution_count": 177,
   "id": "40186cf8",
   "metadata": {},
   "outputs": [
    {
     "name": "stdout",
     "output_type": "stream",
     "text": [
      "deadlock: A deadlock condition is a concurrency failure where a thread or more threads wait for a condition that never occurs. The result is that the deadlock threads are unable to progress and the program is stuck and must be terminated forcefully.\n",
      "\n",
      "race: A race condition occurs when two threads access a shared variable at the same time. The first thread reads the variable, and the second thread reads the same value from the variable\n"
     ]
    }
   ],
   "source": [
    "print(\"\"\"deadlock: A deadlock condition is a concurrency failure where a thread or more threads wait for a condition that never occurs. The result is that the deadlock threads are unable to progress and the program is stuck and must be terminated forcefully.\"\"\")\n",
    "print(\"\")\n",
    "print(\"\"\"race: A race condition occurs when two threads access a shared variable at the same time. The first thread reads the variable, and the second thread reads the same value from the variable\"\"\")"
   ]
  }
 ],
 "metadata": {
  "kernelspec": {
   "display_name": "Python 3 (ipykernel)",
   "language": "python",
   "name": "python3"
  },
  "language_info": {
   "codemirror_mode": {
    "name": "ipython",
    "version": 3
   },
   "file_extension": ".py",
   "mimetype": "text/x-python",
   "name": "python",
   "nbconvert_exporter": "python",
   "pygments_lexer": "ipython3",
   "version": "3.9.7"
  }
 },
 "nbformat": 4,
 "nbformat_minor": 5
}
