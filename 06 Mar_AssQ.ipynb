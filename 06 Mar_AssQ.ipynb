{
 "cells": [
  {
   "cell_type": "markdown",
   "id": "fd218cd9",
   "metadata": {},
   "source": [
    "#### Q1. What is Statistics?"
   ]
  },
  {
   "cell_type": "markdown",
   "id": "0fa3b131",
   "metadata": {},
   "source": [
    "Ans- Statistics is the science of collecting, organising and analysing data. We use statistics to draw inferences, data visualizaiton and decision making. In statistics we make use of theories, formulas on data to draw conclusions or solve problems about sample, population data. This data is a piece of information we are interested in."
   ]
  },
  {
   "cell_type": "markdown",
   "id": "d5cb76de",
   "metadata": {},
   "source": [
    "#### Q2. Define the different types of statistics and give an example of when each type might be used."
   ]
  },
  {
   "cell_type": "markdown",
   "id": "de02a849",
   "metadata": {},
   "source": [
    "Ans- We have two types of statistics: \n",
    "- (i) Descriptive statistics  (ii) Inferential statistics\n",
    "    \n",
    "- #### Descriptive: \n",
    "Descriptive statistics uses data that provides a description of the population either through numerical calculation, graph or table. It provides a summary of data. It is simply used for summarizing data, and gathering insights from data, etc.\n",
    "\n",
    "Example: The average maths test score of a class, The average height of students in a class. Most eaten candy in a particular age group.etc\n",
    " \n",
    "    \n",
    "- #### Inferences: \n",
    "Inferential Statistics makes inference and prediction about population based on a sample of data which is taken from population. It generalizes a large dataset and applies probabilities to draw a conclusion for population. It is simply used for explaining meaning of descriptive stats. It is simply used to analyze, interpret result, and draw conclusions.\n",
    "\n",
    "Example: For the entire state, is the IQ of girls same as that of boys?, what is the average number of car accidents in a particular state based on different cities?, etc \n",
    "    \n",
    "Both descriptive and inferential stats goes hand in hand to analyze the data in best possible way."
   ]
  },
  {
   "cell_type": "markdown",
   "id": "8dcda854",
   "metadata": {},
   "source": [
    "#### Q3.  What are the different types of data and how do they differ from each other? Provide an example of each type of data."
   ]
  },
  {
   "cell_type": "markdown",
   "id": "9ae63271",
   "metadata": {},
   "source": [
    "Ans: Basically data is piece of facts or information. It is mainly divided into:\n",
    "\n",
    "- ### Numerical (Quantitative) : \n",
    "\n",
    "Data which is in numerical form i.e numbers. We can perform arithmetic calculations, statistical computations with numerical data. \n",
    "\n",
    "##### Types:\n",
    "- ##### Discrete data: \n",
    "Discrete data is a data which is certain i.e fixed like whole numbers, it can't be divided into decimal or fractions. Discrete data is countable and is finite in number. \n",
    "Ex: Number of students in a class, days in a week, number of players in a team, etc.\n",
    "        \n",
    "- ##### Continuous data: \n",
    "Continuous data is a data which is in fractions or decimals. It can take up any values within a range. It is infinite in numbers hence the name continuous.\n",
    "Ex: Weight of a person, market share price, speed of a vehicle etc.\n",
    "\n",
    "        \n",
    "- ### Categorical (Qualitative) : \n",
    "\n",
    "Data which is not in numerical form, this data is mostly used as labels for categories, etc. Here we cannot perform numerical computations.\n",
    "\n",
    "##### Types: \n",
    "- ##### Nominal data: \n",
    "Nominal data is used as a label for categories, it dosen't have any numerical significance. It dosen't have any order or rank. We cannot sort out nominal data. Data such as types of colors, types of drinks falls into this category.\n",
    "Ex: Gender, nationality, colors, modes of transport(bus, car, bike, train,etc), eye color,etc\n",
    "        \n",
    "- ##### Ordinal data: \n",
    "Ordinal data is same as nominal data except it as natural order/ rank in the data. It means that we can sort the data based on high, medium and low value. But just like nominal data, this data dosen't have numerical significance which means that we cannot find the numerical difference between order/ ranks. \n",
    "Ex: customer satisfaction, feedback, happiness, ranking of people in competition, exam, education level, etc"
   ]
  },
  {
   "cell_type": "markdown",
   "id": "ca723f14",
   "metadata": {},
   "source": [
    "Q4. Categorise the following datasets with respect to quantitative and qualitative data types:\n",
    "\n",
    "(i)\tGrading in exam: A+, A, B+, B, C+, C, D, E\n",
    "\n",
    "(ii)\tColour of mangoes: yellow, green, orange, red\n",
    "\n",
    "(iii)\tHeight data of a class: [178.9, 179, 179.5, 176, 177.2, 178.3, 175.8,...]\n",
    "\n",
    "(iv)\tNumber of mangoes exported by a farm: [500, 600, 478, 672, …]"
   ]
  },
  {
   "cell_type": "markdown",
   "id": "00da702b",
   "metadata": {},
   "source": [
    "#### -----------------------------------------------------------------------------------------------------------\n",
    "Ans- \n",
    "(i) Grading in exam: A+, A, B+, B, C+, C, D, E => Qualitative, Ordinal data.\n",
    "\n",
    "(ii) Colour of mangoes: yellow, green, orange, red => Qualitative, Nominal data.\n",
    "\n",
    "(iii) Height data of a class: [178.9, 179, 179.5, 176, 177.2, 178.3, 175.8,...] => Numerical, Continuous data.\n",
    "\n",
    "(iv) Number of mangoes exported by a farm: [500, 600, 478, 672, …] => Numerical, Discrete data."
   ]
  },
  {
   "cell_type": "markdown",
   "id": "c940a63a",
   "metadata": {},
   "source": [
    "#### Q5. Explain the concept of levels of measurement and give an example of a variable for each level."
   ]
  },
  {
   "cell_type": "markdown",
   "id": "cb9930e1",
   "metadata": {},
   "source": [
    "Ans- Levels of Measurement also known as levels of scale is used to describe information within the values. How we measure each variable and the numerical nature of the values assigned to the variable is known as levels of measurements. This helps us to determine what kind of analysis can be performed. \n",
    "\n",
    "- Levels of measurement can be divided into four category :-\n",
    "\n",
    "- #### Nominal scale: \n",
    "This data is used only for labeling/categorizing the variables. It dosen't have any order or rank of any sort. We cannot use it for any statistical analysis nor it has any numeircal significance. \n",
    "        Ex: Eyes color, dye color, gender, etc.\n",
    "        \n",
    "- #### Ordinal scale:\n",
    "This data is same as nominal except it has natural rank/order and we can sort based on this rank or order. We cannot perform any numerical analysis with it.  \n",
    "        Ex: ranking in exams, competitions, happiness index. etc.\n",
    "        \n",
    "- #### Interval scale:\n",
    "Interval scale is a numerical scale which labels and orders variables, within a evenly spaced interval between each of the values. Here we can measure difference in the order. It dosen't have any true zero. ALso the ratio cannot be measured.\n",
    "        Ex: Temperature in fahrenheit, time, etc \n",
    "        \n",
    "- #### Ratio scale:\n",
    "The ratio scale is same as the interval scale, with one difference which is ratio scale has a true zero. Here we can calcuate the ratio and the difference in each value. \n",
    "        Ex: Weight, students marks ,etc."
   ]
  },
  {
   "cell_type": "markdown",
   "id": "7a260699",
   "metadata": {},
   "source": [
    "#### Q6. Why is it important to understand the level of measurement when analyzing data? Provide an example to illustrate your answer."
   ]
  },
  {
   "cell_type": "markdown",
   "id": "8f1a3498",
   "metadata": {},
   "source": [
    "Ans- Level of measurement is important as it determines the type of statistical analysis we can carry out. As a result, it affects both the nature and the depth of analysis and insights we are able to get from our data, this in turn determines the type of conclusion we get. \n",
    "\n",
    "Let us imagine we want to gather data relating to peoples income. There are various levels of measurement we could use for this variable. we could ask people to provide an exact figure, or we can ask them to select their answers from a variety of ranges.\n",
    "\n",
    "For example: (a) 10-19k, (b) 20-29k, (c) 30-39k, and so on. We could ask them to simply categorize their income as 'high', 'medium', or 'low'.\n",
    "\n",
    "We can see how these levels vary in their precision? If we ask participants for an exact figure, we can calculate just how much the incomes vary across our entire dataset. However, if we only have classifications of 'high', 'medium', and 'low', we can’t exactly see how much one participant earns compared to another. We also have no concept of what salary counts as 'high' and what counts as 'low' — these classifications have no numerical value. Thus, the latter is a less precise level of measurement."
   ]
  },
  {
   "cell_type": "markdown",
   "id": "bb306faf",
   "metadata": {},
   "source": [
    "#### Q7. How nominal data type is different from ordinal data type."
   ]
  },
  {
   "cell_type": "markdown",
   "id": "2c151b6d",
   "metadata": {},
   "source": [
    "Ans- Nominal data is a data which is only used for labels and categories for variables. It does not have any order and numerical significance so it cannot be used for arithmetic computations. Also because of this it cannot be sorted out. Ordinal data is same as nominal data except it has natural order in it and can be sorted out based on this. The difference in ordinal data is unknown as it has no numerical significance.\n",
    "\n",
    "So in nutshell nominal data dosen't have any order whereas ordinal data has. Nominal data cannot be sorted out whereas ordinal data can be.  "
   ]
  },
  {
   "cell_type": "markdown",
   "id": "6255dd24",
   "metadata": {},
   "source": [
    "#### Q8. Which type of plot can be used to display data in terms of range?"
   ]
  },
  {
   "cell_type": "markdown",
   "id": "0a2d5520",
   "metadata": {},
   "source": [
    "Ans - Histogram plot can show the distribution of corresponding range of values."
   ]
  },
  {
   "cell_type": "markdown",
   "id": "420a21c8",
   "metadata": {},
   "source": [
    "#### Q9. Describe the difference between descriptive and inferential statistics. Give an example of each type of statistics and explain how they are used."
   ]
  },
  {
   "cell_type": "markdown",
   "id": "0021440b",
   "metadata": {},
   "source": [
    "Ans- Descriptive Statistics gives information about raw data regarding its description/features. Inferential statistics, on the other hand, draw inferences about the population by using data extracted from the population. \n",
    "\n",
    "- We use descriptive statistics to describe a situation, while we use inferential statistics to explain the probability of occurrence of an event.\n",
    "\n",
    "- As for descriptive statistics, it helps to organize, analyze and present data in a meaningful manner. Inferential statistics helps to compare data, make hypotheses and predictions. \n",
    "\n",
    "- Descriptive statistics explains already known data related to a particular sample or population of a small size. Inferential statistics, however, aims to draw inferences or conclusions about a whole population.\n",
    "\n",
    "- We use charts, graphs, and tables to represent descriptive statistics, while we use probability and its methods for inferential statistics.\n",
    "\n",
    "- It is simpler to perform a study using descriptive statistics rather than inferential statistics, where you need to establish a relationship between variables in an entire population.\n",
    "\n",
    "Ex:\n",
    "- The average maths test score of a class, the average height of students in a class, most eaten candy in a particular age group.etc comes under descriptive statistics whereas, is the height of boys for a particular age group same as other poplation group, what is the average number of car accidents in a particular state based on different cities?, etc "
   ]
  },
  {
   "cell_type": "markdown",
   "id": "e566299a",
   "metadata": {},
   "source": [
    "#### Q10. What are some common measures of central tendency and variability used in statistics? Explain how each measure can be used to describe a dataset."
   ]
  },
  {
   "cell_type": "markdown",
   "id": "6ecff2c2",
   "metadata": {},
   "source": [
    "Ans - Measure of central tendencies and measure of vaiability comes under descriptive statistics that summarizes data.\n",
    "Measure of central tendency gives us the central point or region of data whereas measure of variability gives the spread of data i.e how how apart data points are to each other and to the mean.\n",
    "\n",
    "- #### MEASURE OF CENTRAL TENDENCY : \n",
    "\n",
    "- #### Mean:\n",
    "Mean is the average of all the values in a dataset. It is calculated by adding up all the values and then dividing by total number values in a dataset. It gives us a numerical value that mostly describes the centre of data and it relative relations to other values in dataset. Mean is mostly affected by outliers and is therefore not as precise in terms of outliers. \n",
    "\n",
    "- #### Median: \n",
    "Median is also the centre/ middle value, due to this middle value we have a dataset which is divided into two halfs. Median is calculated by following steps:\n",
    "    - first we sort our data in either ascending or descending order.\n",
    "    - then we check for odd or even number of values, if it is odd then we simply get the middle value by dividing the total number of values by 2. But if it is even then we have to take number of values plus 1 and whole divided by 2.\n",
    "    - and the value we get corresponds to the postion of middle value. In this way we can find the middle value by median.\n",
    "    Median is less affected by outliers than mean and is therefore prefered ove mean.\n",
    "    Consider the given dataset with the odd number of observations arranged in descending order – 21, 24, 10, 11, 31, 12, 10, 18, 9, 6, 2, 1, and 13.\n",
    "\n",
    "    Here 11 is the middle or median number that has 6 values above it and 6 values below it.\n",
    "\n",
    "- #### Mode:\n",
    "Mode is the most frequent value in a dataset. Mode can be used for both numerical or categorical data as it deals with occurace of data and not with type of data.\n",
    "    To calculate mode we first sort our data value in order by ascending or descending. And then we can find the most frequently occuring value.\n",
    "    Consider the given dataset 1,3,7,2,6,7,3,7,9,1\n",
    "    Here 7 is the most occuring value.\n",
    "\n",
    "Ex: Suppose we have a dataset of heights of students in a class. We can answers question such as:\n",
    "- What is the average height of the students.\n",
    "- what is the most repeated height among the students in a class. etc\n",
    "\n",
    "- #### MEAUSRE OF VARIABILITY : \n",
    "\n",
    "- #### Range:\n",
    "Range is the measure of the difference between the largest and smallest value of the dataset. The range is the simplest form of Measures of variability/ despersion.\n",
    "\n",
    "Example: 1,2,3,4,5,6,7,8,9\n",
    "\n",
    "Range = Highest value – Lowest value\n",
    "\n",
    "= ( 9 – 1 ) = 8 \n",
    "    \n",
    "- #### Variance: \n",
    "Variance is the average squared deviation from the mean, i.e how far apart our data points are from the mean. Variance tells us the data spread with respect to the mean.  \n",
    "we can calculate how far students marks are from the mean of the entire class, this measure can give an idea about despersion of students marks for an entire class. \n",
    "\n",
    "Formula:\n",
    "(σ2) = ∑ ( X − μ)2 / N\n",
    "\n",
    "- #### Standard Deviation:\n",
    "\n",
    "Standard deviation can be represented as the square root of Variance or the average deviation from the mean. To find the standard deviation of any data, we need to find the variance first. Standard Deviation is considered the best measure of dispersion as it is not square and hence no change in scale of mearurement unlike variance.  \n",
    "\n",
    "Formula:\n",
    "Standard Deviation = √σ"
   ]
  }
 ],
 "metadata": {
  "kernelspec": {
   "display_name": "Python 3 (ipykernel)",
   "language": "python",
   "name": "python3"
  },
  "language_info": {
   "codemirror_mode": {
    "name": "ipython",
    "version": 3
   },
   "file_extension": ".py",
   "mimetype": "text/x-python",
   "name": "python",
   "nbconvert_exporter": "python",
   "pygments_lexer": "ipython3",
   "version": "3.9.7"
  }
 },
 "nbformat": 4,
 "nbformat_minor": 5
}
