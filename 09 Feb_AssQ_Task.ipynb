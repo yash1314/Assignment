{
 "cells": [
  {
   "cell_type": "markdown",
   "id": "068f6740",
   "metadata": {},
   "source": [
    "#### Q1, Create a vehicle class with an init method having instance variables as name_of_vehicle, max_speed and average_of_vehicle."
   ]
  },
  {
   "cell_type": "code",
   "execution_count": 50,
   "id": "711f8e1c",
   "metadata": {},
   "outputs": [],
   "source": [
    "class vehicle:\n",
    "    \n",
    "    def __init__(self, name_of_vehicle, max_speed, average_of_vehicle):\n",
    "        self.name_of_vehicle = name_of_vehicle\n",
    "        self.max_speed = max_speed\n",
    "        self.average_of_vehicle = average_of_vehicle"
   ]
  },
  {
   "cell_type": "markdown",
   "id": "7be6691a",
   "metadata": {},
   "source": [
    "#### Q2.  Create a child class car from the vehicle class created in Que 1, which will inherit the vehicle class.Create a method named seating_capacity which takes capacity as an argument and returns the name of the vehicle and its seating capacity."
   ]
  },
  {
   "cell_type": "code",
   "execution_count": 51,
   "id": "46f9f041",
   "metadata": {},
   "outputs": [],
   "source": [
    "class car(vehicle):\n",
    "    \n",
    "    def seating_capacity(self, seating_capacity):\n",
    "        return self.name_of_vehicle, seating_capacity"
   ]
  },
  {
   "cell_type": "code",
   "execution_count": 52,
   "id": "bef49fad",
   "metadata": {},
   "outputs": [
    {
     "data": {
      "text/plain": [
       "('Audi', 4)"
      ]
     },
     "execution_count": 52,
     "metadata": {},
     "output_type": "execute_result"
    }
   ],
   "source": [
    "#Example:\n",
    "car1 = car('Audi', 310, 20)\n",
    "car1.seating_capacity(4)"
   ]
  },
  {
   "cell_type": "markdown",
   "id": "8fcb26a8",
   "metadata": {},
   "source": [
    "#### Q3. What is multiple inheritance? Write a python code to demonstrate multiple inheritance."
   ]
  },
  {
   "cell_type": "code",
   "execution_count": 53,
   "id": "c6eaf818",
   "metadata": {},
   "outputs": [
    {
     "name": "stdout",
     "output_type": "stream",
     "text": [
      "Inheritance means taking on properties and behaviour of other class and using it in own class. It promotes code reusability and thus easy maintainability. When child class inherits from more than one class i.e multiple classes it is known as multiple inheritance.\n",
      "\n",
      "Let us see an example:\n",
      "\n",
      "Mother Enjoys Cooking\n",
      "Child Loves Playing\n",
      "Father Enjoys Driving\n",
      "We can see from above example that we are able to inherit father and mother class into child class and then use methods of parent class through child class.\n"
     ]
    }
   ],
   "source": [
    "print(\"\"\"Inheritance means taking on properties and behaviour of other class and using it in own class. It promotes code reusability and thus easy maintainability. When child class inherits from more than one class i.e multiple classes it is known as multiple inheritance.\n",
    "\"\"\")\n",
    "print('Let us see an example:')\n",
    "print('')\n",
    "\n",
    "class Father():\n",
    "    def driving(self):\n",
    "        print(\"Father Enjoys Driving\")\n",
    "        \n",
    "class Mother():\n",
    "    def cooking(self):\n",
    "        print(\"Mother Enjoys Cooking\")\n",
    "\n",
    "class Child(Father, Mother):\n",
    "    def playing(self):\n",
    "        print(\"Child Loves Playing\")\n",
    "        \n",
    "c = Child()\n",
    "\n",
    "c.cooking()\n",
    "c.playing()\n",
    "c.driving()\n",
    "\n",
    "print(\"We can see from above example that we are able to inherit father and mother class into child class and then use methods of parent class through child class.\")"
   ]
  },
  {
   "cell_type": "markdown",
   "id": "61568f55",
   "metadata": {},
   "source": [
    "#### Q4. What are getter and setter in python? Create a class and create a getter and a setter method in this class."
   ]
  },
  {
   "cell_type": "code",
   "execution_count": 54,
   "id": "265b63e7",
   "metadata": {},
   "outputs": [
    {
     "name": "stdout",
     "output_type": "stream",
     "text": [
      "Getter and setter are property decorators that helps us to create class methods and in turn functionality that gives access to user to access and modify private attributes.\n",
      "Example : \n"
     ]
    }
   ],
   "source": [
    "print(\"\"\"Getter and setter are property decorators that helps us to create class methods and in turn functionality that gives access to user to access and modify private attributes.\"\"\")\n",
    "\n",
    "print(\"Example : \")\n",
    "\n",
    "class ride:\n",
    "    \n",
    "    def __init__(self, age):\n",
    "        self._age = age\n",
    "    \n",
    "    @property\n",
    "    def age(self):\n",
    "        return self._age\n",
    "    \n",
    "    @age.setter\n",
    "    def set_age(self, a):\n",
    "        if a < 18:\n",
    "            raise ValueError('Sorry you are too little for this ride')\n",
    "        self._age = a"
   ]
  },
  {
   "cell_type": "code",
   "execution_count": 55,
   "id": "ef26841f",
   "metadata": {},
   "outputs": [
    {
     "ename": "ValueError",
     "evalue": "Sorry you are too little for this ride",
     "output_type": "error",
     "traceback": [
      "\u001b[1;31m---------------------------------------------------------------------------\u001b[0m",
      "\u001b[1;31mValueError\u001b[0m                                Traceback (most recent call last)",
      "\u001b[1;32m~\\AppData\\Local\\Temp/ipykernel_13992/515139089.py\u001b[0m in \u001b[0;36m<module>\u001b[1;34m\u001b[0m\n\u001b[0;32m      1\u001b[0m \u001b[0mr\u001b[0m \u001b[1;33m=\u001b[0m \u001b[0mride\u001b[0m\u001b[1;33m(\u001b[0m\u001b[1;36m19\u001b[0m\u001b[1;33m)\u001b[0m\u001b[1;33m\u001b[0m\u001b[1;33m\u001b[0m\u001b[0m\n\u001b[0;32m      2\u001b[0m \u001b[0mr\u001b[0m\u001b[1;33m.\u001b[0m\u001b[0mage\u001b[0m\u001b[1;33m\u001b[0m\u001b[1;33m\u001b[0m\u001b[0m\n\u001b[1;32m----> 3\u001b[1;33m \u001b[0mr\u001b[0m\u001b[1;33m.\u001b[0m\u001b[0mset_age\u001b[0m \u001b[1;33m=\u001b[0m \u001b[1;36m17\u001b[0m\u001b[1;33m\u001b[0m\u001b[1;33m\u001b[0m\u001b[0m\n\u001b[0m\u001b[0;32m      4\u001b[0m \u001b[0mr\u001b[0m\u001b[1;33m.\u001b[0m\u001b[0mage\u001b[0m\u001b[1;33m\u001b[0m\u001b[1;33m\u001b[0m\u001b[0m\n",
      "\u001b[1;32m~\\AppData\\Local\\Temp/ipykernel_13992/1765141039.py\u001b[0m in \u001b[0;36mset_age\u001b[1;34m(self, a)\u001b[0m\n\u001b[0;32m     15\u001b[0m     \u001b[1;32mdef\u001b[0m \u001b[0mset_age\u001b[0m\u001b[1;33m(\u001b[0m\u001b[0mself\u001b[0m\u001b[1;33m,\u001b[0m \u001b[0ma\u001b[0m\u001b[1;33m)\u001b[0m\u001b[1;33m:\u001b[0m\u001b[1;33m\u001b[0m\u001b[1;33m\u001b[0m\u001b[0m\n\u001b[0;32m     16\u001b[0m         \u001b[1;32mif\u001b[0m \u001b[0ma\u001b[0m \u001b[1;33m<\u001b[0m \u001b[1;36m18\u001b[0m\u001b[1;33m:\u001b[0m\u001b[1;33m\u001b[0m\u001b[1;33m\u001b[0m\u001b[0m\n\u001b[1;32m---> 17\u001b[1;33m             \u001b[1;32mraise\u001b[0m \u001b[0mValueError\u001b[0m\u001b[1;33m(\u001b[0m\u001b[1;34m'Sorry you are too little for this ride'\u001b[0m\u001b[1;33m)\u001b[0m\u001b[1;33m\u001b[0m\u001b[1;33m\u001b[0m\u001b[0m\n\u001b[0m\u001b[0;32m     18\u001b[0m         \u001b[0mself\u001b[0m\u001b[1;33m.\u001b[0m\u001b[0m_age\u001b[0m \u001b[1;33m=\u001b[0m \u001b[0ma\u001b[0m\u001b[1;33m\u001b[0m\u001b[1;33m\u001b[0m\u001b[0m\n",
      "\u001b[1;31mValueError\u001b[0m: Sorry you are too little for this ride"
     ]
    }
   ],
   "source": [
    "r = ride(19)\n",
    "r.age\n",
    "r.set_age = 17\n",
    "r.age"
   ]
  },
  {
   "cell_type": "code",
   "execution_count": 56,
   "id": "2620a32b",
   "metadata": {},
   "outputs": [
    {
     "data": {
      "text/plain": [
       "20"
      ]
     },
     "execution_count": 56,
     "metadata": {},
     "output_type": "execute_result"
    }
   ],
   "source": [
    "r.set_age = 20\n",
    "r.age"
   ]
  },
  {
   "cell_type": "markdown",
   "id": "1deda74b",
   "metadata": {},
   "source": [
    "#### Q5.What is method overriding in python? Write a python code to demonstrate method overriding."
   ]
  },
  {
   "cell_type": "code",
   "execution_count": 57,
   "id": "2a6bbcc8",
   "metadata": {},
   "outputs": [
    {
     "name": "stdout",
     "output_type": "stream",
     "text": [
      "Method overriding in python is related to inheritance. When a child class modifies the parents class methods or implement its own new functionality in its class, then it is known as method overriding. By overriding we can add new functionality, properties in child class.\n",
      "\n"
     ]
    }
   ],
   "source": [
    "print(\"\"\"Method overriding in python is related to inheritance. When a child class modifies the parents class methods or implement its own new functionality in its class, then it is known as method overriding. By overriding we can add new functionality, properties in child class.\"\"\")\n",
    "\n",
    "print('')\n",
    "\n",
    "class parent:\n",
    "    def job(self):\n",
    "        return 'Take care of his family'\n",
    "    \n",
    "class child(parent):\n",
    "    def job(self):\n",
    "        return 'Give his best and study hard!'"
   ]
  },
  {
   "cell_type": "code",
   "execution_count": 49,
   "id": "9f76e24c",
   "metadata": {},
   "outputs": [
    {
     "data": {
      "text/plain": [
       "('Take care of his family', 'Give his best and study hard!')"
      ]
     },
     "execution_count": 49,
     "metadata": {},
     "output_type": "execute_result"
    }
   ],
   "source": [
    "p = parent()\n",
    "c = child()\n",
    "p.job(), c.job()"
   ]
  }
 ],
 "metadata": {
  "kernelspec": {
   "display_name": "Python 3 (ipykernel)",
   "language": "python",
   "name": "python3"
  },
  "language_info": {
   "codemirror_mode": {
    "name": "ipython",
    "version": 3
   },
   "file_extension": ".py",
   "mimetype": "text/x-python",
   "name": "python",
   "nbconvert_exporter": "python",
   "pygments_lexer": "ipython3",
   "version": "3.9.7"
  }
 },
 "nbformat": 4,
 "nbformat_minor": 5
}
