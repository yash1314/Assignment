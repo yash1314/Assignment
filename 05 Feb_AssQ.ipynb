{
 "cells": [
  {
   "cell_type": "markdown",
   "id": "5d74fdfa",
   "metadata": {},
   "source": [
    "#### Q1. Explain Class and Object with respect to Object-Oriented Programming. Give a suitable example."
   ]
  },
  {
   "cell_type": "markdown",
   "id": "a27a6359",
   "metadata": {},
   "source": [
    "Object-oriented programming is a style of programming centred around objects, data, classes and methods. It has several advantages over conventional style of programming such as code modularity, resuability, security, design, maintenance, etc.\n",
    "\n",
    "Class represent a real world thing/element. It contains properties and behaviours of real world object. Classes acts as a blueprint in creation of object in programming. We can consider a person as a class which has behaviours and properties, we can also consider a fruit as a class which can have color, type, taste as properties and behaviour. Class is a user-define type to create custom methods, objects to use in programming. \n",
    "\n",
    "objects are an particular state/instance of a class. We can create as many instance/object we want out of a class. Particular object created from a class will contain properties (data) and behaviours (methods)."
   ]
  },
  {
   "cell_type": "code",
   "execution_count": 3,
   "id": "95246891",
   "metadata": {},
   "outputs": [],
   "source": [
    "class Fruits:\n",
    "    \n",
    "    def __init__(self, name, color, taste):\n",
    "        self.name = name\n",
    "        self.color = color\n",
    "        self.taste = taste\n",
    "        \n",
    "    def apple(self):\n",
    "        self.name = 'apple'\n",
    "        self.color = 'red'\n",
    "        self.taste = 'sweet'\n",
    "        return self.name, self.color, self.taste "
   ]
  },
  {
   "cell_type": "code",
   "execution_count": 7,
   "id": "ae64a3be",
   "metadata": {},
   "outputs": [],
   "source": [
    "fruit = Fruits('mango', 'yellow', 'sweet')"
   ]
  },
  {
   "cell_type": "code",
   "execution_count": 8,
   "id": "eaf2ac11",
   "metadata": {},
   "outputs": [
    {
     "data": {
      "text/plain": [
       "('mango', 'yellow', 'sweet')"
      ]
     },
     "execution_count": 8,
     "metadata": {},
     "output_type": "execute_result"
    }
   ],
   "source": [
    "fruit.name, fruit. color, fruit. taste"
   ]
  },
  {
   "cell_type": "code",
   "execution_count": 12,
   "id": "8913b9cd",
   "metadata": {},
   "outputs": [
    {
     "data": {
      "text/plain": [
       "('apple', 'red', 'sweet')"
      ]
     },
     "execution_count": 12,
     "metadata": {},
     "output_type": "execute_result"
    }
   ],
   "source": [
    "fruit.apple()"
   ]
  },
  {
   "cell_type": "markdown",
   "id": "5bacd886",
   "metadata": {},
   "source": [
    "#### Q2. Name the four pillars of OOPs."
   ]
  },
  {
   "cell_type": "markdown",
   "id": "d54b89db",
   "metadata": {},
   "source": [
    "The four pillars of OOPs are:\n",
    "\n",
    "a) Polymorphism\n",
    "\n",
    "b) Inheritance\n",
    "\n",
    "c) Abstraction\n",
    "\n",
    "d) Encapsulation"
   ]
  },
  {
   "cell_type": "markdown",
   "id": "eded36e8",
   "metadata": {},
   "source": [
    "#### Q3. Explain why the __init__() function is used. Give a suitable example."
   ]
  },
  {
   "cell_type": "markdown",
   "id": "7f141b96",
   "metadata": {},
   "source": [
    "init() stands for initialization. init() is a constructor for attributes/ variables for class. init() is use to initiliaze instance variables. These variables can be use by objects i.e class instance."
   ]
  },
  {
   "cell_type": "code",
   "execution_count": 2,
   "id": "d19b198c",
   "metadata": {},
   "outputs": [],
   "source": [
    "class Animal:\n",
    "    \n",
    "    def __init__(self, animal_name):\n",
    "        self.animal_name = animal_name"
   ]
  },
  {
   "cell_type": "code",
   "execution_count": 5,
   "id": "517d8078",
   "metadata": {},
   "outputs": [
    {
     "data": {
      "text/plain": [
       "'cat'"
      ]
     },
     "execution_count": 5,
     "metadata": {},
     "output_type": "execute_result"
    }
   ],
   "source": [
    "animal = Animal('cat')\n",
    "animal.animal_name"
   ]
  },
  {
   "cell_type": "markdown",
   "id": "2a4d12b4",
   "metadata": {},
   "source": [
    "#### Q4. Why self is used in OOPs?"
   ]
  },
  {
   "cell_type": "markdown",
   "id": "c7b5bda8",
   "metadata": {},
   "source": [
    "Self keyword referes to the object itself i.e instance of the class. Just like we use word myself, ourself to represent oneself in the same manner we in OOPs class use self to refer back to itself."
   ]
  },
  {
   "cell_type": "markdown",
   "id": "e3875d9b",
   "metadata": {},
   "source": [
    "#### Q5. What is inheritance? Give an example for each type of inheritance."
   ]
  },
  {
   "cell_type": "markdown",
   "id": "8a763420",
   "metadata": {},
   "source": [
    "Inheritance is a concept and functionality of giving/inheriting properties, behaviours to other class. Through inheritance we achieve code modularity, code reusability, addition of new features in derived class, etc. The class whose properties and methods are inherited is known as the Parent class and the class that inherits the properties from the parent class is the Child class. \n",
    "\n",
    "Types:\n",
    "\n",
    "a) single inheritance.\n",
    "b) multiple inheritance.\n",
    "c) multilevel inheritance.\n",
    "d) hierarchical inheritance"
   ]
  },
  {
   "cell_type": "markdown",
   "id": "568a5b03",
   "metadata": {},
   "source": [
    "a) Single inheritance: This is the most simple type of inheritance in Opps. Here only one parent is inherited by one child class.\n",
    "    \n",
    "b) multiple inheritance: In multiple inheritance when as child class derives more than one parent class, such inheritance is multiple inheritance.\n",
    "\n",
    "c) multilevel inheritance: When there are multiple levels in inheritance such as grandparent class, parent class, child class such inheritance is called multilevel inheritance.\n",
    "\n",
    "d) hierarchical inheritance: When more than one child class is created from one parent class such inheritance is called hierarchical inheritance. It represents tree structure from."
   ]
  }
 ],
 "metadata": {
  "kernelspec": {
   "display_name": "Python 3 (ipykernel)",
   "language": "python",
   "name": "python3"
  },
  "language_info": {
   "codemirror_mode": {
    "name": "ipython",
    "version": 3
   },
   "file_extension": ".py",
   "mimetype": "text/x-python",
   "name": "python",
   "nbconvert_exporter": "python",
   "pygments_lexer": "ipython3",
   "version": "3.10.9"
  }
 },
 "nbformat": 4,
 "nbformat_minor": 5
}
