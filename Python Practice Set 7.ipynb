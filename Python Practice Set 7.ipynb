{
 "cells": [
  {
   "cell_type": "markdown",
   "id": "2c291aa1",
   "metadata": {},
   "source": [
    "Q1. Write a program that spawns two threads. One thread should print even numbers between 0 and 10,\n",
    "and the other thread should print odd numbers between 1 and 9.\n",
    "\n",
    "\n",
    "Q2. Write a program that generates a list of random numbers and sorts them using multithreading. Use\n",
    "two threads to sort the first half and the second half of the list in parallel.\n",
    "\n",
    "\n",
    "Q3. Write a program that simulates a bank account transaction. The program should create two threads,\n",
    "one for a deposit and one for a withdrawal. The deposit thread should add \n",
    "\n",
    "100 to the account,and the withdrawal thread should withdraw\n",
    "\n",
    "50 from the account. Run the program for 10 iterations.\n",
    "\n",
    "\n",
    "Q4. Write a Python program that creates a thread to print out the current date and time every 5 seconds.\n",
    "The program should continue running until the user presses the 'q' key.\n",
    " ",
    "\n",
    "Q5. Write a Python program that creates two threads. Each thread should print out the numbers from 1 to\n",
    "10. The two threads should run concurrently and print out the numbers in an interleaved fashion.\n",
    "\n",
    "\n",
    "Q6. Write a Python program to create a shared variable between two threads and increment its value in\n",
    "each thread.\n",
    "\n",
    "\n",
    "Q7. Here's a Python program that creates a thread to count down from 5 to 0 and prints \"Blastoff!\" when\n",
    "the count reaches 0:\n",
    " ",
    "\n",
    "Q8. Write a program that creates a thread to print the Fibonacci sequence up to a certain number n. The\n",
    "main thread should prompt the user for the value of n.\n",
    " ",
    "\n",
    "Q9. Write a program that creates two threads to add and subtract numbers from a shared variable. The\n",
    "shared variable should start at 0, and each thread should perform 10 iterations of adding or subtracting a\n",
    "random integer between 1 and 10. The program should print the final value of the shared variable.\n",
    "\n",
    "\n",
    "Q10. Write a program that creates a thread to calculate the sum of the numbers from 1 to 100 and prints\n",
    "the result."
   ]
  }
 ],
 "metadata": {
  "kernelspec": {
   "display_name": "Python 3 (ipykernel)",
   "language": "python",
   "name": "python3"
  },
  "language_info": {
   "codemirror_mode": {
    "name": "ipython",
    "version": 3
   },
   "file_extension": ".py",
   "mimetype": "text/x-python",
   "name": "python",
   "nbconvert_exporter": "python",
   "pygments_lexer": "ipython3",
   "version": "3.10.10"
  }
 },
 "nbformat": 4,
 "nbformat_minor": 5
}
