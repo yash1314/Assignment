{
 "cells": [
  {
   "cell_type": "code",
   "execution_count": 33,
   "id": "43d6a043",
   "metadata": {},
   "outputs": [],
   "source": [
    "import pandas as pd\n",
    "import statistics as stat\n",
    "import seaborn as sns\n",
    "import re"
   ]
  },
  {
   "cell_type": "markdown",
   "id": "b27d4e93",
   "metadata": {},
   "source": [
    "#### Q1. Can you create a Python program that reads a text file and counts the number of words contained within it? The program should be designed to read the file and break it down into individual words, using spaces, punctuation marks, and other delimiters to separate the words. It should then count the number of words found in the file and display this count as output. The program should be flexible enough to work with different text files and should be able to handle a variety of formatting and punctuation styles."
   ]
  },
  {
   "cell_type": "code",
   "execution_count": 10,
   "id": "3b6c0975",
   "metadata": {},
   "outputs": [],
   "source": [
    "x = \"\"\"Python is a computer programming language often used to build websites and software, automate tasks, and conduct \n",
    "data analysis. Python is a general-purpose language, meaning it can be used to create a variety of different programs and \n",
    "isn’t specialized for any specific problems. This versatility, along with its beginner-friendliness, has made it one of \n",
    "the most-used programming languages today.\"\"\""
   ]
  },
  {
   "cell_type": "code",
   "execution_count": 79,
   "id": "6fe0c001",
   "metadata": {},
   "outputs": [],
   "source": [
    "file1 = open('python.txt', mode= 'w')\n",
    "file1.write(x)\n",
    "file1.close()"
   ]
  },
  {
   "cell_type": "code",
   "execution_count": 84,
   "id": "38eb104a",
   "metadata": {},
   "outputs": [],
   "source": [
    "file2 = open('python.txt','r')\n",
    "count = 0\n",
    "for i in file2.read().split():\n",
    "    if i:\n",
    "        count+=1"
   ]
  },
  {
   "cell_type": "code",
   "execution_count": 88,
   "id": "a33b8410",
   "metadata": {},
   "outputs": [
    {
     "data": {
      "text/plain": [
       "59"
      ]
     },
     "execution_count": 88,
     "metadata": {},
     "output_type": "execute_result"
    }
   ],
   "source": [
    "count"
   ]
  },
  {
   "cell_type": "markdown",
   "id": "e61ed50e",
   "metadata": {},
   "source": [
    "#### Q2. Could you help me create a Python program that can find and display the longest word in a text file? The program should be able to read any text file and separate its contents into individual words, taking into account various delimiters like spaces, punctuation marks, and other characters. Then, it should compare the length of each word and determine which one is the longest, and finally, print that word as output. The program should be versatile enough to work with various text files and be able to handle different formatting styles and punctuation."
   ]
  },
  {
   "cell_type": "code",
   "execution_count": 154,
   "id": "cbd3ec70",
   "metadata": {},
   "outputs": [],
   "source": [
    "import re\n",
    "def longest_word(filename):\n",
    "    file = open(filename,'r')\n",
    "    d = {i:len(i) for i in re.findall(r\"\\w+|[^\\w\\s]\", file.read(), re.UNICODE)}\n",
    "    lst = []\n",
    "    for key,value in d.items():\n",
    "        lst.append(value)\n",
    "\n",
    "    for k,v in d.items():\n",
    "        if v == max(lst):\n",
    "            print(k)"
   ]
  },
  {
   "cell_type": "code",
   "execution_count": 155,
   "id": "48ff6326",
   "metadata": {},
   "outputs": [
    {
     "name": "stdout",
     "output_type": "stream",
     "text": [
      "friendliness\n"
     ]
    }
   ],
   "source": [
    "longest_word('python.txt')"
   ]
  },
  {
   "cell_type": "markdown",
   "id": "b6f58207",
   "metadata": {},
   "source": [
    "#### Q3. Write a Python program to read a text file and print out the most frequent word(s) in the file."
   ]
  },
  {
   "cell_type": "code",
   "execution_count": 34,
   "id": "2df76175",
   "metadata": {},
   "outputs": [],
   "source": [
    "def freq_word(filename):\n",
    "    \n",
    "    file = open(filename, 'r')\n",
    "    lst1 = []\n",
    "    \n",
    "    for i in re.findall(r\"\\w+|[^\\w\\s]\", file.read(), re.UNICODE):\n",
    "        if i in [',', '!', '-', '.']:\n",
    "            pass\n",
    "        else:\n",
    "            lst1.append(i)\n",
    "        \n",
    "    return f\"The most occuring word is: {stat.mode(lst1)}\""
   ]
  },
  {
   "cell_type": "code",
   "execution_count": 35,
   "id": "c992dc38",
   "metadata": {},
   "outputs": [
    {
     "data": {
      "text/plain": [
       "'The most occuring word is: a'"
      ]
     },
     "execution_count": 35,
     "metadata": {},
     "output_type": "execute_result"
    }
   ],
   "source": [
    "freq_word('python.txt')"
   ]
  },
  {
   "cell_type": "markdown",
   "id": "096b7f0d",
   "metadata": {},
   "source": [
    "#### Q4. How can you use Python to count the number of rows in a CSV file?"
   ]
  },
  {
   "cell_type": "markdown",
   "id": "ead751b7",
   "metadata": {},
   "source": [
    "Ans: we can use pandas library to open a file. Then we can apply len function on file to get the total number of rows.\n",
    "\n",
    "example:\n",
    "\n",
    "df = pd.read_csv(\"filename.csv\")\n",
    "\n",
    "len(df)"
   ]
  },
  {
   "cell_type": "markdown",
   "id": "4714146a",
   "metadata": {},
   "source": [
    "#### Q5. How can you use Python to calculate the average of a specific column in a CSV file?"
   ]
  },
  {
   "cell_type": "code",
   "execution_count": 185,
   "id": "b1a59703",
   "metadata": {},
   "outputs": [
    {
     "data": {
      "text/plain": [
       "2.99827868852459"
      ]
     },
     "execution_count": 185,
     "metadata": {},
     "output_type": "execute_result"
    }
   ],
   "source": [
    "# Demo:\n",
    "\n",
    "# loading the dataset via seaborn library.\n",
    "\n",
    "df = sns.load_dataset('tips') \n",
    "\n",
    "# calcuating the average of tips column in df dataframe.\n",
    "df['tip'].mean()"
   ]
  },
  {
   "cell_type": "markdown",
   "id": "5edf15dc",
   "metadata": {},
   "source": [
    "#### Q6. Write a Python program to read a JSON file and print out the value of a specified key."
   ]
  },
  {
   "cell_type": "code",
   "execution_count": 35,
   "id": "f93a7548",
   "metadata": {},
   "outputs": [],
   "source": [
    "import json"
   ]
  },
  {
   "cell_type": "code",
   "execution_count": 36,
   "id": "5ad6dfb5",
   "metadata": {},
   "outputs": [],
   "source": [
    "f = open('state_code.json', 'r')"
   ]
  },
  {
   "cell_type": "code",
   "execution_count": 37,
   "id": "5d4d2f2e",
   "metadata": {},
   "outputs": [],
   "source": [
    "df1 = json.load(f)"
   ]
  },
  {
   "cell_type": "code",
   "execution_count": 40,
   "id": "8a1516f9",
   "metadata": {},
   "outputs": [
    {
     "data": {
      "text/plain": [
       "{'state': {'state_id': 'AP', 'state_name': 'Andhra Pradesh'}}"
      ]
     },
     "execution_count": 40,
     "metadata": {},
     "output_type": "execute_result"
    }
   ],
   "source": [
    "df1['states'][1]"
   ]
  },
  {
   "cell_type": "markdown",
   "id": "e836eddd",
   "metadata": {},
   "source": [
    "\n",
    "#### Q7. Can you provide a Python code snippet to write a list of strings into a text file where each string is written on a new line?"
   ]
  },
  {
   "cell_type": "code",
   "execution_count": 41,
   "id": "be9921c5",
   "metadata": {},
   "outputs": [],
   "source": [
    "lst3 = ['a','b','c','d','e','f']"
   ]
  },
  {
   "cell_type": "code",
   "execution_count": 46,
   "id": "035c54fa",
   "metadata": {},
   "outputs": [],
   "source": [
    "f2 = open('strings_file.txt', 'w')"
   ]
  },
  {
   "cell_type": "code",
   "execution_count": 47,
   "id": "d8cc4861",
   "metadata": {},
   "outputs": [],
   "source": [
    "for i in lst3:\n",
    "    f2.write(i +\"\\n\")"
   ]
  },
  {
   "cell_type": "code",
   "execution_count": 48,
   "id": "e7b83b42",
   "metadata": {},
   "outputs": [],
   "source": [
    "f2.close()"
   ]
  },
  {
   "cell_type": "markdown",
   "id": "9a2e7313",
   "metadata": {},
   "source": [
    "#### Q8. Can you provide a Python code to read a binary file and display the data in hexadecimal format."
   ]
  },
  {
   "cell_type": "markdown",
   "id": "a6c5135d",
   "metadata": {},
   "source": [
    "Ans:\n",
    "##### open the binary file using 'rb' statement.\n",
    "\n",
    "f4 = open('filename', 'rb')\n",
    "\n",
    "##### read binary file and display the data in hexadecimal format.\n",
    "\n",
    "f4.read().hex()\n",
    "\n",
    "##### close the file.\n",
    "f4.close()"
   ]
  },
  {
   "cell_type": "markdown",
   "id": "785b51b6",
   "metadata": {},
   "source": [
    "#### Q9. Can you write a Python code to read a Comma-Separated Values (CSV) file, apply a specific condition to each row, and create a new CSV file that contains only the rows that satisfy the condition? For example, if the CSV file contains information about products and their prices, you may want to create a new CSV file that only includes the products that are within a certain price range. The program should be able to read the CSV file, compare the values in each row to the specified condition, and write the rows that meet the criteria to a new CSV file."
   ]
  },
  {
   "cell_type": "code",
   "execution_count": 233,
   "id": "3358c26f",
   "metadata": {},
   "outputs": [],
   "source": [
    "df2 = pd.read_csv('tips.csv')\n",
    "df2.head()\n",
    "\n",
    "df3 = df2[df2['sex'] == 'Male']\n",
    "df3.to_csv('male_tips.csv')"
   ]
  },
  {
   "cell_type": "markdown",
   "id": "4071f417",
   "metadata": {},
   "source": [
    "\n",
    "#### Q10. Write a Python program to read a text file, count the frequency of each word, and write the results to a new text file."
   ]
  },
  {
   "cell_type": "code",
   "execution_count": 36,
   "id": "2ffe8f3a",
   "metadata": {},
   "outputs": [],
   "source": [
    "file = open('python.txt', 'r')\n",
    "lst1 = [i for i in re.findall(r\"\\w+|[^\\w\\s]\", file.read(), re.UNICODE) if i not in [',', '!', '-', '.']]\n",
    "d1 = {}\n",
    "for i in lst1:\n",
    "    d1[i] = lst1.count(i)"
   ]
  },
  {
   "cell_type": "code",
   "execution_count": 39,
   "id": "2ea6a658",
   "metadata": {},
   "outputs": [
    {
     "data": {
      "text/plain": [
       "636"
      ]
     },
     "execution_count": 39,
     "metadata": {},
     "output_type": "execute_result"
    }
   ],
   "source": [
    "import json\n",
    "\n",
    "file = open('new_python.csv', 'w')\n",
    "file.write(str(d1))"
   ]
  },
  {
   "cell_type": "code",
   "execution_count": 40,
   "id": "005cd3a8",
   "metadata": {},
   "outputs": [],
   "source": [
    "file.close()"
   ]
  }
 ],
 "metadata": {
  "kernelspec": {
   "display_name": "Python 3 (ipykernel)",
   "language": "python",
   "name": "python3"
  },
  "language_info": {
   "codemirror_mode": {
    "name": "ipython",
    "version": 3
   },
   "file_extension": ".py",
   "mimetype": "text/x-python",
   "name": "python",
   "nbconvert_exporter": "python",
   "pygments_lexer": "ipython3",
   "version": "3.10.10"
  }
 },
 "nbformat": 4,
 "nbformat_minor": 5
}
