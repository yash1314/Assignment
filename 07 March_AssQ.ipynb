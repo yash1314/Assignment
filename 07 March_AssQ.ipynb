{
 "cells": [
  {
   "cell_type": "markdown",
   "id": "ea201b65",
   "metadata": {},
   "source": [
    "#### Q1. What are the three measures of central tendency?"
   ]
  },
  {
   "cell_type": "markdown",
   "id": "119081c5",
   "metadata": {},
   "source": [
    "Ans- The three measures of central tendency are:\n",
    "    \n",
    " 1) MEAN \n",
    "\n",
    " 2) MEDIAN\n",
    "\n",
    " 3) MODE"
   ]
  },
  {
   "cell_type": "markdown",
   "id": "10b58e4b",
   "metadata": {},
   "source": [
    "#### Q2. What is the difference between the mean, median, and mode? How are they used to measure the central tendency of a dataset?"
   ]
  },
  {
   "cell_type": "markdown",
   "id": "f5f4efaa",
   "metadata": {},
   "source": [
    "#### Measure of Central Tendency -\n",
    "A measure of central tendencies is a single value that attempts to describe a dataset by identifying the central value/position within the dataset. Measures of central tendency is also called measures of central location. They are also classed as summary statistics as it provides the summary of dataset.\n",
    "\n",
    "##### Mean -\n",
    "The mean represents the average value of the dataset. It can be calculated as the sum of all the values divided by the total number of values.\n",
    "\n",
    "##### Median -\n",
    "Median is the middle value of the dataset when the dataset is arranged in the ascending or in descending order. Median divides the dataset into two equal halfs. When the dataset contains an even number of values, the median value of the dataset can be found by taking the mean of the two middle values and when dataset contains an odd number of values then the middle value is simply calculated by taking the total number of values divided by 2. \n",
    "\n",
    "Consider the given dataset with the odd number of observations arranged in descending order – 21, 24, 10, 11, 31, 12, 10, 18, 9, 6, 2, 1, and 13.\n",
    "\n",
    "In above dataset 11 is the middle or median number that has 6 values above it and 6 values below it.\n",
    "\n",
    "##### Mode -\n",
    "The mode represents the repeated occurring value in the dataset. Sometimes the dataset may contain multiple modes and in some cases, it does not contain any mode at all.\n",
    "\n",
    "Consider the given dataset 4, 5, 1, 3, 1, 2, 4, 5, 4\n",
    "\n",
    "Hence, the most frequently occuring value in the given dataset is 4."
   ]
  },
  {
   "cell_type": "markdown",
   "id": "4852511b",
   "metadata": {},
   "source": [
    "#### Q3. Measure the three measures of central tendency for the given height data:\n",
    "\n",
    " [178,177,176,177,178.2,178,175,179,180,175,178.9,176.2,177,172.5,178,176.5]"
   ]
  },
  {
   "cell_type": "code",
   "execution_count": 21,
   "id": "d06f2c2b",
   "metadata": {},
   "outputs": [
    {
     "name": "stdout",
     "output_type": "stream",
     "text": [
      "Mean of height data is: 177.01875 \n",
      "Median of height data is: 177.0 \n",
      "Mode of height data is: 178 \n"
     ]
    }
   ],
   "source": [
    "# importing statistics library\n",
    "import statistics as stats\n",
    "\n",
    "h = [178,177,176,177,178.2,178,175,179,180,175,178.9,176.2,177,172.5,178,176.5]\n",
    "\n",
    "h_mean = stats.mean(h) \n",
    "h_median = stats.median(h)\n",
    "h_mode = stats.mode(h)\n",
    "\n",
    "print(f'Mean of height data is: {h_mean} ')\n",
    "print(f'Median of height data is: {h_median} ')\n",
    "print(f'Mode of height data is: {h_mode} ')"
   ]
  },
  {
   "cell_type": "markdown",
   "id": "d9207668",
   "metadata": {},
   "source": [
    "#### Q4. Find the standard deviation for the given data:\n",
    "\n",
    "[178,177,176,177,178.2,178,175,179,180,175,178.9,176.2,177,172.5,178,176.5]"
   ]
  },
  {
   "cell_type": "code",
   "execution_count": 20,
   "id": "c20c4640",
   "metadata": {},
   "outputs": [
    {
     "name": "stdout",
     "output_type": "stream",
     "text": [
      "1.8472389305844188 , here statistics library uses (n-1) degree of freedom i.e standard deviation for sample dataset.\n",
      "1.7885814036548633 , whereas here numpy library uses simpy n degree of freedom i.e standard deviation for population dataset.\n"
     ]
    }
   ],
   "source": [
    "l = [178,177,176,177,178.2,178,175,179,180,175,178.9,176.2,177,172.5,178,176.5]\n",
    "\n",
    "# importing numpy library\n",
    "import numpy as np\n",
    "\n",
    "print(stats.stdev(l), ', here statistics library uses (n-1) degree of freedom i.e standard deviation for sample dataset.')\n",
    "print(np.std(l), ', whereas here numpy library uses simpy n degree of freedom i.e standard deviation for population dataset.')"
   ]
  },
  {
   "cell_type": "markdown",
   "id": "40ebc812",
   "metadata": {},
   "source": [
    "#### Q5. How are measures of dispersion such as range, variance, and standard deviation used to describe the spread of a dataset? Provide an example."
   ]
  },
  {
   "cell_type": "markdown",
   "id": "0958a22e",
   "metadata": {},
   "source": [
    "#### Range:\n",
    "Range is the measure of the difference between the largest and smallest value of the dataset. Range is the simplest form of Measures of Dispersion/variability.\n",
    "\n",
    "Example: 1,2,3,4,5,6,7,8,9\n",
    "\n",
    "Range = Highest value – Lowest value\n",
    "\n",
    "Range = ( 9 – 1 ) = 8\n",
    "\n",
    "#### Variance:\n",
    "In simple terms, the variance can be calculated by obtaining the sum of the squared deviation of each term in the distribution from the Mean, and then dividing this by the total number of the terms in the distribution.\n",
    "It shows how far a number is from the mean and this in turn provides the spreadness of the whole dataset.\n",
    "\n",
    "Formula:\n",
    "(σ2) = ∑ ( X − μ)2 / N\n",
    "\n",
    "#### Standard Deviation:\n",
    "Standard Deviation is represented as the square root of Variance. Standard deviation is the first choice between variance and std because the outcome of std is more interpretable than variance. This is beacuse the std doesnt change scale of mearurement because of square root it remains same.\n",
    "\n",
    "Formula:\n",
    "Standard Deviation = √σ"
   ]
  },
  {
   "cell_type": "markdown",
   "id": "d0134272",
   "metadata": {},
   "source": [
    "#### Q6. What is a Venn diagram?"
   ]
  },
  {
   "cell_type": "markdown",
   "id": "c4c9682f",
   "metadata": {},
   "source": [
    "Ans: A Venn diagram is an illustration that uses circles to show the relationships between things or finite groups of things. Circles that overlap have a common area while circles that do not overlap do not share common area. By common area we mean they share common traits or elements and in case of no overlap it shares no trait.  \n",
    "\n",
    "Venn diagrams help to visually represent the similarities and differences between two sets."
   ]
  },
  {
   "cell_type": "markdown",
   "id": "fb4e30d2",
   "metadata": {},
   "source": [
    "#### Q7. For the two given sets A = (2,3,4,5,6,7) & B = (0,2,6,8,10). Find:\n",
    "\n",
    "(i) A ∩ B \n",
    "\n",
    "(ii) A ⋃ B"
   ]
  },
  {
   "cell_type": "code",
   "execution_count": 26,
   "id": "31a38244",
   "metadata": {},
   "outputs": [],
   "source": [
    "A = {2,3,4,5,6,7}\n",
    "B = {0,2,6,8,10}"
   ]
  },
  {
   "cell_type": "code",
   "execution_count": 31,
   "id": "78f8d4c1",
   "metadata": {},
   "outputs": [
    {
     "name": "stdout",
     "output_type": "stream",
     "text": [
      "Intersection: {2, 6}\n",
      "Union: {0, 2, 3, 4, 5, 6, 7, 8, 10}\n"
     ]
    }
   ],
   "source": [
    "print('Intersection:', A & B)\n",
    "print('Union:', A | B)"
   ]
  },
  {
   "cell_type": "markdown",
   "id": "541c2076",
   "metadata": {},
   "source": [
    "#### Q8. What do you understand about skewness in data?"
   ]
  },
  {
   "cell_type": "markdown",
   "id": "3f974390",
   "metadata": {},
   "source": [
    "Ans: Skewness is the measure of the asymmetry of an ideally symmetric probability distribution (Normal distribution).In simple words, skewness is the measure of how much the probability distribution of a random variable deviates from the normal distribution."
   ]
  },
  {
   "cell_type": "markdown",
   "id": "6be442fd",
   "metadata": {},
   "source": [
    "#### Q9. If a data is right skewed then what will be the position of median with respect to mean?"
   ]
  },
  {
   "cell_type": "markdown",
   "id": "dd50a180",
   "metadata": {},
   "source": [
    "Ans: When the distribution is skewed to the right, the mean is often greater than the median. This is becasue outliers and that to extreme values affect the mean more than the median."
   ]
  },
  {
   "cell_type": "markdown",
   "id": "c5d8f25d",
   "metadata": {},
   "source": [
    "#### Q10. Explain the difference between covariance and correlation. How are these measures used in statistical analysis?"
   ]
  },
  {
   "cell_type": "markdown",
   "id": "a4b1a13f",
   "metadata": {},
   "source": [
    "Ans: \n",
    "#### Covariance:\n",
    "\n",
    "Covariance refers to a systematic relationship between two random variables in which a change in the other reflects a change another. \n",
    "\n",
    "The covariance value can range from -∞ to +∞, with a negative value indicating a negative relationship and a positive value indicating a positive relationship.\n",
    "\n",
    "The greater this number, the more reliant the relationship. Positive covariance denotes a direct relationship and is represented by a positive number, where a negative covariance denotes a indirect relaitonship and is represented by a negative number.\n",
    "\n",
    "#### Correlation:\n",
    "\n",
    "Correlation is a measure that determines the degree to which two or more random variables moves in sequence. It tells us the magnitude and the type of the relationship between different variables.\n",
    "\n",
    "It ranges from -1 to +1, with negative value denoting negative relaitonship and positive value denoting postive relationship. The more closer the value to either -1 or +1 the greater the relationship. "
   ]
  },
  {
   "cell_type": "markdown",
   "id": "eaa894f4",
   "metadata": {},
   "source": [
    "#### Q11. What is the formula for calculating the sample mean? Provide an example calculation for a dataset."
   ]
  },
  {
   "attachments": {
    "sample-mean-formula-2.jpg": {
     "image/jpeg": "[encoded data removed]"
    }
   },
   "cell_type": "markdown",
   "id": "bfa78195",
   "metadata": {},
   "source": [
    "![sample-mean-formula-2.jpg](attachment:sample-mean-formula-2.jpg)"
   ]
  },
  {
   "cell_type": "markdown",
   "id": "845833f8",
   "metadata": {},
   "source": [
    "Find the sample mean of 45, 65, 23, 70.\n",
    "\n",
    "Solution:\n",
    "\n",
    "To find: Sample mean\n",
    "\n",
    "Sum of terms = 45+65+23+70 = 203\n",
    "\n",
    "Number of terms = 4\n",
    "\n",
    "Using sample mean formula,\n",
    "\n",
    "mean = (sum of terms)/(number of terms)\n",
    "\n",
    "mean = 203/4 = 50.75\n",
    "\n",
    "Answer: The sample mean is 50.75."
   ]
  },
  {
   "cell_type": "markdown",
   "id": "35dbddfe",
   "metadata": {},
   "source": [
    "#### 2. For a normal distribution data what is the relationship between its measure of central tendency?"
   ]
  },
  {
   "attachments": {
    "distribution1.jpg": {
     "image/jpeg": "[encoded data removed]"
    }
   },
   "cell_type": "markdown",
   "id": "d80b5307",
   "metadata": {},
   "source": [
    "![distribution1.jpg](attachment:distribution1.jpg)"
   ]
  },
  {
   "cell_type": "markdown",
   "id": "20d5ff8b",
   "metadata": {},
   "source": [
    "Ans: We call this a normal distribution curve also know as bell shaped curve and Gaussian distribution as well.\n",
    "\n",
    "This is the most occuring natural distribution in the nature. This distribution is symmertric and tappers off on both the ends. Here most of the data lie in the centre which is why mean, median and mode also known as the measure of central tendencies are same and lies at the centre..  "
   ]
  },
  {
   "cell_type": "markdown",
   "id": "c8e7772d",
   "metadata": {},
   "source": [
    "#### Q13. How is covariance different from correlation"
   ]
  },
  {
   "cell_type": "markdown",
   "id": "5956ae91",
   "metadata": {},
   "source": [
    "Ans: Covariance and correlation both quantify the relationship between variables. Covariance range lies between -infinity to +infinity whereas for correlation it is -1 to +1. Also because of this infinity range in covaraince it is hard to interpret covariance magnitude compared to correlation as correlation lie in fixed range of -1 to +1. It becomes easy in case of correlation to interpret the results because of this range. \n",
    "\n",
    "Generally we use covariance to know only the type of realtionship (postive or negative relationship) and use correlation to know both the magnitude and type of relationship."
   ]
  },
  {
   "cell_type": "markdown",
   "id": "1a209ba2",
   "metadata": {},
   "source": [
    "#### Q14. How do outliers affect measures of central tendency and dispersion? Provide an example."
   ]
  },
  {
   "cell_type": "code",
   "execution_count": 46,
   "id": "e0d915d9",
   "metadata": {},
   "outputs": [
    {
     "name": "stdout",
     "output_type": "stream",
     "text": [
      "An outlier is a extreme low or extreme high value compared to other values in a dataset.\n",
      "Mean with outlier:  14.428571428571429\n",
      "Median with outlier:  6.0\n",
      "Standard deviation with outlier:  22.815139978639138\n",
      "\n",
      "---------------------------------------------------------\n",
      "Mean without outlier:  5.166666666666667\n",
      "Median without outlier:  5.5\n",
      "Standard deviation without outlier:  2.6087459737497545\n",
      "---------------------------------------------------------\n",
      "we can observe from the above results mean is most affected by outliers whereas median is less affected that is why median is prefered over mean. In case of despersion, standard deviation is also much affected by outliers just like mean. \n"
     ]
    }
   ],
   "source": [
    "Ans: print('An outlier is a extreme low or extreme high value compared to other values in a dataset.')\n",
    "\n",
    "# importing numpy library    \n",
    "import numpy as np\n",
    "\n",
    "# preparing the dataset \n",
    "dataset1 = [1,5,9,7,3,6,70]\n",
    "dataset2 = [1,5,9,7,3,6]\n",
    "\n",
    "# Calculations with outlier.\n",
    "\n",
    "print('Mean with outlier: ', np.mean(dataset1))\n",
    "print('Median with outlier: ', np.median(dataset1))\n",
    "print('Standard deviation with outlier: ', np.std(dataset1))\n",
    "print('')\n",
    "print('---------------------------------------------------------')\n",
    "# Calculations without outlier.\n",
    "\n",
    "print('Mean without outlier: ', np.mean(dataset2))\n",
    "print('Median without outlier: ', np.median(dataset2))\n",
    "print('Standard deviation without outlier: ', np.std(dataset2))\n",
    "\n",
    "print('---------------------------------------------------------')\n",
    "print('we can observe from the above results mean is most affected by outliers whereas median is less affected that is why median is prefered over mean. In case of despersion, standard deviation is also much affected by outliers just like mean. ')\n"
   ]
  }
 ],
 "metadata": {
  "kernelspec": {
   "display_name": "Python 3 (ipykernel)",
   "language": "python",
   "name": "python3"
  },
  "language_info": {
   "codemirror_mode": {
    "name": "ipython",
    "version": 3
   },
   "file_extension": ".py",
   "mimetype": "text/x-python",
   "name": "python",
   "nbconvert_exporter": "python",
   "pygments_lexer": "ipython3",
   "version": "3.9.7"
  }
 },
 "nbformat": 4,
 "nbformat_minor": 5
}
