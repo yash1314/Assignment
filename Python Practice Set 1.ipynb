{
 "cells": [
  {
   "cell_type": "markdown",
   "id": "0129b1c0",
   "metadata": {},
   "source": [
    "#### Q1. Write a Python program that defines a function called \"add_numbers\" that takes two arguments (i.e.,numbers) and returns their sum. Within the function, add the two numbers together and return the result using the return statement. Call the function with the values 5 and 6, and print out the returned result. This will result in the addition of 5 and 6, with the output of the program being the sum of these two numbers."
   ]
  },
  {
   "cell_type": "code",
   "execution_count": 8,
   "id": "35afc6b2",
   "metadata": {},
   "outputs": [],
   "source": [
    "def add_numbers(n1, n2):\n",
    "    return f\" The sum of {n1} and {n2} is: {n1+n2}\""
   ]
  },
  {
   "cell_type": "code",
   "execution_count": 9,
   "id": "e0c93ab1",
   "metadata": {},
   "outputs": [
    {
     "data": {
      "text/plain": [
       "' The sum of 5 and 6 is: 11'"
      ]
     },
     "execution_count": 9,
     "metadata": {},
     "output_type": "execute_result"
    }
   ],
   "source": [
    "add_numbers(5,6)"
   ]
  },
  {
   "cell_type": "markdown",
   "id": "57008ce7",
   "metadata": {},
   "source": [
    "#### Q2. Write a Python program that calculates the square root of a given number using a built-in function. Specifically, the program should take an integer or float input from the user, calculate its square root using the 'sqrt()' function from the 'math' module, and print out the result to the user. As an example, calculate the square root of the number 625 using this program, which should output the value of 25."
   ]
  },
  {
   "cell_type": "code",
   "execution_count": 12,
   "id": "7e23556e",
   "metadata": {},
   "outputs": [],
   "source": [
    "import math\n",
    "\n",
    "def square_num(n3):\n",
    "    return f\"The square root of {n3} is : {math.sqrt(n3)}\""
   ]
  },
  {
   "cell_type": "code",
   "execution_count": 14,
   "id": "7611fc31",
   "metadata": {},
   "outputs": [
    {
     "data": {
      "text/plain": [
       "'The square root of 4.0 is : 2.0'"
      ]
     },
     "execution_count": 14,
     "metadata": {},
     "output_type": "execute_result"
    }
   ],
   "source": [
    "square_num(4.0)"
   ]
  },
  {
   "cell_type": "code",
   "execution_count": 15,
   "id": "a1d57250",
   "metadata": {},
   "outputs": [
    {
     "data": {
      "text/plain": [
       "'The square root of 625 is : 25.0'"
      ]
     },
     "execution_count": 15,
     "metadata": {},
     "output_type": "execute_result"
    }
   ],
   "source": [
    "square_num(625)"
   ]
  },
  {
   "cell_type": "markdown",
   "id": "52aa5635",
   "metadata": {},
   "source": [
    "#### Q3.Write a program that prints all prime numbers between 0 to 50."
   ]
  },
  {
   "cell_type": "code",
   "execution_count": 34,
   "id": "e1f25a82",
   "metadata": {},
   "outputs": [
    {
     "name": "stdout",
     "output_type": "stream",
     "text": [
      "2 3 5 7 11 13 17 19 23 29 31 37 41 43 47 "
     ]
    }
   ],
   "source": [
    "for i in range(0,50):\n",
    "    if i > 1:\n",
    "        for j in range(2, i):\n",
    "            if (i % j) == 0:\n",
    "                break\n",
    "        else:\n",
    "            print(i, end = ' ')"
   ]
  },
  {
   "cell_type": "markdown",
   "id": "dc953b79",
   "metadata": {},
   "source": [
    "#### Q4.How can we swap the values of three variables (let's say a, b, and c) without using a fourth variable? For example, if we have a=5, b=8, and c=9, how can we obtain a=9, b=5, and c=8? The challenge is to perform this operation without using an additional variable to store any of the values during the swapping process."
   ]
  },
  {
   "cell_type": "code",
   "execution_count": 37,
   "id": "925c3edc",
   "metadata": {},
   "outputs": [],
   "source": [
    "a , b , c = 5 ,8, 9\n",
    "a = a + b + c\n",
    "b = a - (b+c)\n",
    "c = a - (b+c)\n",
    "a = a - (b+c)"
   ]
  },
  {
   "cell_type": "code",
   "execution_count": 38,
   "id": "c8272a83",
   "metadata": {},
   "outputs": [
    {
     "data": {
      "text/plain": [
       "(9, 5, 8)"
      ]
     },
     "execution_count": 38,
     "metadata": {},
     "output_type": "execute_result"
    }
   ],
   "source": [
    "a,b,c"
   ]
  },
  {
   "cell_type": "markdown",
   "id": "c27be62f",
   "metadata": {},
   "source": [
    "#### Q5. Can you write a program that determines the nature of a given number (in this case, 87) as being positive, negative, or zero? The program should be designed to take the number as input and perform the necessary calculations to determine if the number is positive (i.e., greater than zero), negative (i.e., less than zero), or zero (i.e., equal to zero). The output of the program should indicate which of these three categories the given number falls into."
   ]
  },
  {
   "cell_type": "code",
   "execution_count": 55,
   "id": "7e6d22a6",
   "metadata": {},
   "outputs": [
    {
     "name": "stdout",
     "output_type": "stream",
     "text": [
      "Enter your number: 4\n",
      "4 is a positive number\n"
     ]
    }
   ],
   "source": [
    "n4 = int(input('Enter your number: '))\n",
    "if n4 < 0:\n",
    "    print(f\"{n4} is a negative number\")\n",
    "elif n4 > 1:\n",
    "    print(f\"{n4} is a positive number\")\n",
    "else:\n",
    "    print(f\"{n4} is zero\")"
   ]
  },
  {
   "cell_type": "markdown",
   "id": "639ea43f",
   "metadata": {},
   "source": [
    "#### Q6. How can you create a program that determines whether a given number (in this case, 98) is even or odd? The program should be designed to take the number as input and perform the necessary calculations to determine whether it is divisible by two. If the number is divisible by two without leaving a remainder, it is an even number, and if there is a remainder, it is an odd number. The output of the program should indicate whether the given number is even or odd."
   ]
  },
  {
   "cell_type": "code",
   "execution_count": 58,
   "id": "60a8d5c2",
   "metadata": {},
   "outputs": [
    {
     "name": "stdout",
     "output_type": "stream",
     "text": [
      "Enter your number: 1\n",
      "1 is odd\n"
     ]
    }
   ],
   "source": [
    "n5 = int(input('Enter your number: '))\n",
    "\n",
    "if n5 % 2 == 0 :\n",
    "    print(n5, 'is even')\n",
    "else:\n",
    "    print(n5, 'is odd')"
   ]
  },
  {
   "cell_type": "markdown",
   "id": "084a1546",
   "metadata": {},
   "source": [
    "#### Q7.Write a program for sum of digits.the digits are 76543 and the output should be  25."
   ]
  },
  {
   "cell_type": "code",
   "execution_count": 66,
   "id": "c83e9170",
   "metadata": {},
   "outputs": [
    {
     "name": "stdout",
     "output_type": "stream",
     "text": [
      "Enter your number: 76543\n",
      "The sum of digits is: 25\n"
     ]
    }
   ],
   "source": [
    "n6 = list(input('Enter your number: '))\n",
    "n7 = 0\n",
    "for i in n6:\n",
    "    n7 += int(i)\n",
    "print(f\"The sum of digits is: {n7}\")"
   ]
  },
  {
   "cell_type": "markdown",
   "id": "047cb7a6",
   "metadata": {},
   "source": [
    "#### Q8.Write a program for reversing the given number  5436 and the output  should be 6345."
   ]
  },
  {
   "cell_type": "code",
   "execution_count": 80,
   "id": "bc10d8c6",
   "metadata": {},
   "outputs": [
    {
     "name": "stdout",
     "output_type": "stream",
     "text": [
      "Enter your number: 5436\n",
      "6345\n"
     ]
    }
   ],
   "source": [
    "n8 = input('Enter your number: ')\n",
    "print(int(n8[::-1]))"
   ]
  },
  {
   "cell_type": "markdown",
   "id": "ee25dacc",
   "metadata": {},
   "source": [
    "#### Q9.Write a program to check if a given number 371 is an Armstrong number?"
   ]
  },
  {
   "cell_type": "code",
   "execution_count": 90,
   "id": "8d3b6ff5",
   "metadata": {},
   "outputs": [
    {
     "name": "stdout",
     "output_type": "stream",
     "text": [
      "371 is a armstrong number\n"
     ]
    }
   ],
   "source": [
    "# An Armstrong number is one whose sum of digits raised to the power three equals the number itself. \n",
    "\n",
    "n9 = str(371)\n",
    "n10 = 0\n",
    "for i in range(3):\n",
    "    n10 += int(n9[i]) ** 3\n",
    "    \n",
    "if n10 == int(n9):\n",
    "    print(n9, 'is a armstrong number')\n",
    "    \n",
    "else:\n",
    "    print(n9, 'is not a armstrong number')"
   ]
  },
  {
   "cell_type": "markdown",
   "id": "2d26cdcf",
   "metadata": {},
   "source": [
    "#### Q10.Write a program the given year is 1996, a leap year."
   ]
  },
  {
   "cell_type": "code",
   "execution_count": 91,
   "id": "dda542cb",
   "metadata": {},
   "outputs": [
    {
     "name": "stdout",
     "output_type": "stream",
     "text": [
      "1996  is a leap year.\n"
     ]
    }
   ],
   "source": [
    "year = 1996\n",
    "\n",
    "if year % 4 == 0:\n",
    "    print(year,' is a leap year.')\n",
    "else:\n",
    "    print(year,' is not a leap year')"
   ]
  }
 ],
 "metadata": {
  "kernelspec": {
   "display_name": "Python 3 (ipykernel)",
   "language": "python",
   "name": "python3"
  },
  "language_info": {
   "codemirror_mode": {
    "name": "ipython",
    "version": 3
   },
   "file_extension": ".py",
   "mimetype": "text/x-python",
   "name": "python",
   "nbconvert_exporter": "python",
   "pygments_lexer": "ipython3",
   "version": "3.10.10"
  }
 },
 "nbformat": 4,
 "nbformat_minor": 5
}
