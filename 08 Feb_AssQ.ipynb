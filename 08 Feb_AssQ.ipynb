{
 "cells": [
  {
   "cell_type": "markdown",
   "id": "258c6c39",
   "metadata": {},
   "source": [
    "#### Q1. What is Abstraction in OOps? Explain with an example."
   ]
  },
  {
   "cell_type": "code",
   "execution_count": 1,
   "id": "e18d1088",
   "metadata": {},
   "outputs": [
    {
     "name": "stdout",
     "output_type": "stream",
     "text": [
      "Abstraction is a way of providing template or skeleton for other classes. In abstraction we create an abstract class using abstract methods and abc module. We just create methods in an abstract class, we don't provide the implementation for these abstract methods. when other classes uses this abstract class through inheritance, they use these abstract methods and provide their own implementation. Through abstraction we achieve security by hiding essential informations about methods and showing only non-essential information to users.\n"
     ]
    }
   ],
   "source": [
    "print(\"Abstraction is a way of providing template or skeleton for other classes. In abstraction we create an abstract class using abstract methods and abc module. We just create methods in an abstract class, we don't provide the implementation for these abstract methods. when other classes uses this abstract class through inheritance, they use these abstract methods and provide their own implementation. Through abstraction we achieve security by hiding essential informations about methods and showing only non-essential information to users.\")"
   ]
  },
  {
   "cell_type": "markdown",
   "id": "271d8486",
   "metadata": {},
   "source": [
    "#### Q2. Differentiate between Abstraction and Encapsulation. Explain with an example."
   ]
  },
  {
   "cell_type": "code",
   "execution_count": 15,
   "id": "9e1d87f7",
   "metadata": {},
   "outputs": [
    {
     "name": "stdout",
     "output_type": "stream",
     "text": [
      "- Abstraction is more realted to classes design, whereas encapsulation is more related to internal of class such as hiding objects, methods and attributes.\n",
      "- Abstraction is be implemented by using abstract classes and abc modules and methods, whereas encapsulation is implemented using access modifiers like public, private, protected.\n",
      "- In encapsulating our main objective is to prevent direct access to data and methods, whereas in abstraction we are concerned about hiding the how part of functionality.  \n",
      "- Abstraction solves the problem at design level, whereas encapsulation is more at security level.\n",
      "\n",
      "- We can understand this with an example of a company, in company we have different sections like sales deptartment, accounting dept., marketing dept., IT dept., etc. Now if any department need something (data) they don't directly go to the department and ask for data, instead they contact an officer form the department and then ask for desired thing. This is what encapsulation is, here everything is hidden from each other and nobody can access from outside. Only with proper permission and access they can interact with methods and data.\n",
      "\n",
      "- Now to understand abstraction we can look at the very common example of a switch board to switch on various appliances. We press button to ON or OFF a certain device. Now here we are only interested in using the button to switching ON or OFF, we don't need to know the internal working of switch board to access the button functionality. It is abstract to us. This is where abstracition comes in. We don't need to know any of the interanl working of soo many things in our daily life, we are just interested in using and getting our end result. All of the internal working is hidden from us and we only see and access essential parts of it.\n"
     ]
    }
   ],
   "source": [
    "print(\"\"\"- Abstraction is more realted to classes design, whereas encapsulation is more related to internal of class such as hiding objects, methods and attributes.\n",
    "- Abstraction is be implemented by using abstract classes and abc modules and methods, whereas encapsulation is implemented using access modifiers like public, private, protected.\n",
    "- In encapsulating our main objective is to prevent direct access to data and methods, whereas in abstraction we are concerned about hiding the how part of functionality.  \n",
    "- Abstraction solves the problem at design level, whereas encapsulation is more at security level.\"\"\")\n",
    "print('')\n",
    "print(\"\"\"- We can understand this with an example of a company, in company we have different sections like sales deptartment, accounting dept., marketing dept., IT dept., etc. Now if any department need something (data) they don't directly go to the department and ask for data, instead they contact an officer form the department and then ask for desired thing. This is what encapsulation is, here everything is hidden from each other and nobody can access from outside. Only with proper permission and access they can interact with methods and data.\"\"\")\n",
    "print('')\n",
    "print(\"\"\"- Now to understand abstraction we can look at the very common example of a switch board to switch on various appliances. We press button to ON or OFF a certain device. Now here we are only interested in using the button to switching ON or OFF, we don't need to know the internal working of switch board to access the button functionality. It is abstract to us. This is where abstracition comes in. We don't need to know any of the interanl working of soo many things in our daily life, we are just interested in using and getting our end result. All of the internal working is hidden from us and we only see and access essential parts of it.\"\"\")"
   ]
  },
  {
   "cell_type": "markdown",
   "id": "c1e514ae",
   "metadata": {},
   "source": [
    "#### Q3. What is abc module in python? Why is it used?"
   ]
  },
  {
   "cell_type": "code",
   "execution_count": 8,
   "id": "8dee5285",
   "metadata": {},
   "outputs": [
    {
     "name": "stdout",
     "output_type": "stream",
     "text": [
      "Abc module is a python module which is used for creating abstract classes and methods. It creates rules for subclass to which methods it will have from abstract class. Bascially it creates a framework or infrastructure for what subclass will have.\n"
     ]
    }
   ],
   "source": [
    "print(\"Abc module is a python module which is used for creating abstract classes and methods. It creates rules for subclass as to which methods it will have from abstract class. Bascially it creates a framework or infrastructure for what subclass will have.\")"
   ]
  },
  {
   "cell_type": "markdown",
   "id": "71c6eea1",
   "metadata": {},
   "source": [
    "#### Q4. How can we achieve data abstraction?"
   ]
  },
  {
   "cell_type": "code",
   "execution_count": 2,
   "id": "0c522d8e",
   "metadata": {},
   "outputs": [
    {
     "name": "stdout",
     "output_type": "stream",
     "text": [
      "We can achieve data abstraction through using abstract classes, abstract methods and abc modules.\n"
     ]
    }
   ],
   "source": [
    "print(\"We can achieve data abstraction through using abstract classes, abstract methods and abc modules.\")"
   ]
  },
  {
   "cell_type": "markdown",
   "id": "9d518f6b",
   "metadata": {},
   "source": [
    "#### Q5. Can we create an instance of an abstract class? Explain your answer"
   ]
  },
  {
   "cell_type": "code",
   "execution_count": 18,
   "id": "c00c1bc8",
   "metadata": {},
   "outputs": [
    {
     "name": "stdout",
     "output_type": "stream",
     "text": [
      "Abstract class cannot have implementation so we cannot create any instance of abstract class. Abstract class only act as a template for creating other classes. For a class to be instantiated it should have all the necessary methods and attributes which an abstract class lacks.  \n"
     ]
    }
   ],
   "source": [
    "print(\"Abstract class cannot have implementation so we cannot create any instance of abstract class. Abstract class only act as a template for creating other classes. For a class to be instantiated it should have all the necessary methods and attributes which an abstract class lacks.  \")"
   ]
  },
  {
   "cell_type": "code",
   "execution_count": null,
   "id": "99fb443e",
   "metadata": {},
   "outputs": [],
   "source": []
  }
 ],
 "metadata": {
  "kernelspec": {
   "display_name": "Python 3 (ipykernel)",
   "language": "python",
   "name": "python3"
  },
  "language_info": {
   "codemirror_mode": {
    "name": "ipython",
    "version": 3
   },
   "file_extension": ".py",
   "mimetype": "text/x-python",
   "name": "python",
   "nbconvert_exporter": "python",
   "pygments_lexer": "ipython3",
   "version": "3.9.7"
  }
 },
 "nbformat": 4,
 "nbformat_minor": 5
}
