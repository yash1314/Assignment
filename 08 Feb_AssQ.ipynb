{
 "cells": [
  {
   "cell_type": "markdown",
   "id": "258c6c39",
   "metadata": {},
   "source": [
    "#### Q1. What is Abstraction in OOps? Explain with an example."
   ]
  },
  {
   "cell_type": "code",
   "execution_count": 1,
   "id": "e18d1088",
   "metadata": {},
   "outputs": [
    {
     "name": "stdout",
     "output_type": "stream",
     "text": [
      "Abstraction is a way of providing template or skeleton for other classes. In abstraction we create an abstract class using abstract methods and abc module. We just create methods in an abstract class, we don't provide the implementation for these abstract methods. when other classes uses this abstract class through inheritance, they use these abstract methods and provide their own implementation. Through abstraction we achieve security by hiding essential informations about methods and attributes and showing only non-essential information to users.\n"
     ]
    }
   ],
   "source": [
    "print(\"Abstraction is a way of providing template or skeleton for other classes. In abstraction we create an abstract class using abstract methods and abc module. We just create methods in an abstract class, we don't provide the implementation for these abstract methods. when other classes uses this abstract class through inheritance, they use these abstract methods and provide their own implementation. Through abstraction we achieve security by hiding essential informations about methods and attributes and showing only non-essential information to users.\")"
   ]
  },
  {
   "cell_type": "markdown",
   "id": "271d8486",
   "metadata": {},
   "source": [
    "#### Q2. Differentiate between Abstraction and Encapsulation. Explain with an example."
   ]
  },
  {
   "cell_type": "code",
   "execution_count": 7,
   "id": "9e1d87f7",
   "metadata": {},
   "outputs": [
    {
     "name": "stdout",
     "output_type": "stream",
     "text": [
      "- Abstraction is more realted to classes, whereas encapsulation is more related to internal of class such as objects, methods and attributes.\n",
      "- Abstraction is needed to model the system that is why we say it as a skeleton for other classes, whereas encapsulation is more about enchancing system security. \n",
      "- In encapsulating our main objective is to prevent direct access to data and methods, whereas in abstraction we are concerned about hiding the how part of implementation of functionality.  \n",
      "\n"
     ]
    }
   ],
   "source": [
    "print(\"\"\"- Abstraction is more realted to classes, whereas encapsulation is more related to internal of class such as objects, methods and attributes.\n",
    "- Abstraction is needed to model the system that is why we say it as a skeleton for other classes, whereas encapsulation is more about enchancing system security. \n",
    "- In encapsulating our main objective is to prevent direct access to data and methods, whereas in abstraction we are concerned about hiding the how part of functionality.  \n",
    "- Abstraction solves the problem at design level, whereas encapsulation is more at security level.\"\"\") "
   ]
  },
  {
   "cell_type": "markdown",
   "id": "c1e514ae",
   "metadata": {},
   "source": [
    "#### Q3. What is abc module in python? Why is it used?"
   ]
  },
  {
   "cell_type": "code",
   "execution_count": 8,
   "id": "8dee5285",
   "metadata": {},
   "outputs": [
    {
     "name": "stdout",
     "output_type": "stream",
     "text": [
      "Abc module is a python module which is used for creating abstract classes and methods. It creates rules for subclass to which methods it will have from abstract class. Bascially it creates a framework or infrastructure for what subclass will have.\n"
     ]
    }
   ],
   "source": [
    "print(\"Abc module is a python module which is used for creating abstract classes and methods. It creates rules for subclass to which methods it will have from abstract class. Bascially it creates a framework or infrastructure for what subclass will have.\")"
   ]
  },
  {
   "cell_type": "markdown",
   "id": "71c6eea1",
   "metadata": {},
   "source": [
    "#### Q4. How can we achieve data abstraction?"
   ]
  },
  {
   "cell_type": "code",
   "execution_count": 7,
   "id": "0c522d8e",
   "metadata": {},
   "outputs": [
    {
     "name": "stdout",
     "output_type": "stream",
     "text": [
      "We can achieve data abstraction through using abstract calsses, abstract methods and abc modules.\n"
     ]
    }
   ],
   "source": [
    "print(\"We can achieve data abstraction through using abstract calsses, abstract methods and abc modules.\")"
   ]
  },
  {
   "cell_type": "markdown",
   "id": "9d518f6b",
   "metadata": {},
   "source": [
    "#### Q5. Can we create an instance of an abstract class? Explain your answer"
   ]
  },
  {
   "cell_type": "code",
   "execution_count": 9,
   "id": "c00c1bc8",
   "metadata": {},
   "outputs": [
    {
     "name": "stdout",
     "output_type": "stream",
     "text": [
      "Abstract class cannot have implementation so we cannot create any instance of abstract class. Abstract class only act as a template for creating other classes. \n"
     ]
    }
   ],
   "source": [
    "print(\"Abstract class cannot have implementation so we cannot create any instance of abstract class. Abstract class only act as a template for creating other classes. \")"
   ]
  },
  {
   "cell_type": "code",
   "execution_count": null,
   "id": "834b6c0c",
   "metadata": {},
   "outputs": [],
   "source": []
  }
 ],
 "metadata": {
  "kernelspec": {
   "display_name": "Python 3 (ipykernel)",
   "language": "python",
   "name": "python3"
  },
  "language_info": {
   "codemirror_mode": {
    "name": "ipython",
    "version": 3
   },
   "file_extension": ".py",
   "mimetype": "text/x-python",
   "name": "python",
   "nbconvert_exporter": "python",
   "pygments_lexer": "ipython3",
   "version": "3.9.7"
  }
 },
 "nbformat": 4,
 "nbformat_minor": 5
}
