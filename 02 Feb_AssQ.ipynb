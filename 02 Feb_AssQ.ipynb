{
 "cells": [
  {
   "cell_type": "code",
   "execution_count": 1,
   "id": "229593bf-2d81-48bc-923d-68393d3dc4c6",
   "metadata": {},
   "outputs": [
    {
     "name": "stdout",
     "output_type": "stream",
     "text": [
      "1\n",
      "2\n",
      "3\n",
      "4\n",
      "5\n"
     ]
    }
   ],
   "source": [
    "## Q1. Explain with an example each when to use a for loop and a while loop.\n",
    "\n",
    "# For loop :\n",
    "# We use for loop in python when we know the number of iterations i.e fixed number of iterations. Also for loop dosen't need any \n",
    "# counter variable to flip the condition, whereas it uses a iterable object to iterate over fixed number of times.\n",
    "# Example:\n",
    "for i in range(1,6):\n",
    "    print(i)"
   ]
  },
  {
   "cell_type": "code",
   "execution_count": 2,
   "id": "980fc4fe-2915-4ecf-b1b9-d3784c131ee5",
   "metadata": {},
   "outputs": [
    {
     "name": "stdout",
     "output_type": "stream",
     "text": [
      "1\n",
      "working\n",
      "2\n",
      "working\n",
      "3\n",
      "working\n",
      "4\n",
      "working\n",
      "5\n"
     ]
    }
   ],
   "source": [
    "# While loop :\n",
    "# We use while loop in python when the number of iterations is unknown, we just use a condition and upon changing (True or false) of\n",
    "# that condition our loop stops. For such condition we use a kind of counter variable to keep track of condition and it's number of\n",
    "# iterations.\n",
    "# Example\n",
    "a = 0\n",
    "counter_variable = True\n",
    "while counter_variable:\n",
    "    a += 1\n",
    "    print(a)\n",
    "    if a == 5:\n",
    "        counter_variable = False\n",
    "    else:\n",
    "        print('working')\n",
    "        continue"
   ]
  },
  {
   "cell_type": "code",
   "execution_count": null,
   "id": "0abb5f34-8c6c-49c2-971a-cb73304b4368",
   "metadata": {},
   "outputs": [],
   "source": []
  },
  {
   "cell_type": "code",
   "execution_count": null,
   "id": "3cb808ec-5f07-4fc6-9b4c-0709bc639394",
   "metadata": {},
   "outputs": [],
   "source": [
    "## Q2. Write a python program to print the sum and product of the first 10 natural numbers using for\n",
    "## and while loop.\n",
    "\n",
    "# For loop\n",
    "x = 0\n",
    "y = 1\n",
    "for i in range(1,11):\n",
    "    x += i\n",
    "    y *= i\n",
    "    \n",
    "print('Sum = ', x, ',' , 'Product = ', y)"
   ]
  },
  {
   "cell_type": "code",
   "execution_count": null,
   "id": "5c393abb-ff87-49b1-94e5-35731988363d",
   "metadata": {},
   "outputs": [],
   "source": [
    "# While loop\n",
    "\n",
    "x = 0\n",
    "y = 1\n",
    "a = 1\n",
    "while a <= 10:\n",
    "    x += a\n",
    "    y *= a\n",
    "    a += 1\n",
    "    \n",
    "print('Sum = ', x, ',', 'Product = ', y)"
   ]
  },
  {
   "cell_type": "code",
   "execution_count": null,
   "id": "41ce9e50-8733-467a-8bd0-7a76c30d0aad",
   "metadata": {},
   "outputs": [],
   "source": []
  },
  {
   "cell_type": "code",
   "execution_count": 14,
   "id": "2fce3111-ec47-4732-9a00-c0f24815aeff",
   "metadata": {},
   "outputs": [
    {
     "name": "stdin",
     "output_type": "stream",
     "text": [
      "Enter your unit of electricity consumed in a month:  310\n"
     ]
    },
    {
     "name": "stdout",
     "output_type": "stream",
     "text": [
      "2250.0\n"
     ]
    }
   ],
   "source": [
    "# ## Q3. Create a python program to compute the electricity bill for a household.\n",
    "# ## The per-unit charges in rupees are as follows: For the first 100 units, the user will be charged Rs. 4.5 per\n",
    "# ## unit, for the next 100 units, the user will be charged Rs. 6 per unit, and for the next 100 units, the user will\n",
    "# ## be charged Rs. 10 per unit, After 300 units and above the user will be charged Rs. 20 per unit.\n",
    "# ## You are required to take the units of electricity consumed in a month from the user as input.\n",
    "# ## Your program must pass this test case: when the unit of electricity consumed by the user in a month is\n",
    "# ## 310, the total electricity bill should be 2250.\n",
    "\n",
    "unit = int(input('Enter your unit of electricity consumed in a month: '))\n",
    "bill = 0\n",
    "\n",
    "if unit < 100:\n",
    "    bill = 4.5 * unit\n",
    "    print(bill)\n",
    "    \n",
    "elif unit <= 200:\n",
    "    bill = 6 * (unit - 100) + 4.5 * 100    \n",
    "    print(bill)\n",
    "\n",
    "elif unit <= 300:\n",
    "    bill = 10 * (unit - 200) + 6 * 100 + 4.5 * 100  \n",
    "    print(bill)\n",
    "    \n",
    "else:\n",
    "    bill = 20 * (unit - 300) + 10 * 100 + 6 * 100 + 4.5 * 100 \n",
    "    print(bill)"
   ]
  },
  {
   "cell_type": "code",
   "execution_count": null,
   "id": "5ccdf145-9a31-427b-8bcb-e51188a44402",
   "metadata": {},
   "outputs": [],
   "source": []
  },
  {
   "cell_type": "code",
   "execution_count": 7,
   "id": "8c825978-22b0-4cdd-bed0-ae00991a74ec",
   "metadata": {},
   "outputs": [],
   "source": [
    "## Q4. Create a list of numbers from 1 to 100. Use for loop and while loop to calculate the cube of each\n",
    "## number and if the cube of that number is divisible by 4 or 5 then append that number in a list and print\n",
    "## that list.\n",
    "\n",
    "l = [i for i in range(1,101)]"
   ]
  },
  {
   "cell_type": "code",
   "execution_count": 8,
   "id": "6dec32df-ca7b-4e6d-a415-35f00df71252",
   "metadata": {},
   "outputs": [],
   "source": [
    "# For loop \n",
    "\n",
    "l2 = [i**3 for i in l]\n",
    "final_list = [j for j in l2 if j % 4 == 0 or j % 5 == 0]\n",
    "print(final_list)"
   ]
  },
  {
   "cell_type": "code",
   "execution_count": null,
   "id": "4672b7a9-3425-403c-88e0-f9eea46d6ed0",
   "metadata": {},
   "outputs": [],
   "source": [
    "# While loop.\n",
    "\n",
    "n = 1\n",
    "final_list2 = []\n",
    "while n <= 100:\n",
    "    a = n ** 3\n",
    "    if a % 4 == 0 or a % 5 == 0:\n",
    "        final_list2.append(a)\n",
    "    n += 1\n",
    "\n",
    "print(final_list2)"
   ]
  },
  {
   "cell_type": "code",
   "execution_count": null,
   "id": "aafd951f-27de-4ac3-8160-2665841e401c",
   "metadata": {},
   "outputs": [],
   "source": []
  },
  {
   "cell_type": "code",
   "execution_count": 16,
   "id": "48673f66-24df-472d-bd78-3ec10f0b920d",
   "metadata": {},
   "outputs": [
    {
     "name": "stdout",
     "output_type": "stream",
     "text": [
      "12\n"
     ]
    }
   ],
   "source": [
    "## Q5.  Write a program to filter count vowels in the below-given string.\n",
    "\n",
    "string = \"I want to become a data scientist\"\n",
    "count = 0\n",
    "for i in string:\n",
    "    for j in ['a', 'e' ,'i', 'o', 'u']:\n",
    "        if i.lower() == j:\n",
    "            count+=1\n",
    "        else:\n",
    "            pass\n",
    "        \n",
    "print(count)"
   ]
  },
  {
   "cell_type": "code",
   "execution_count": 18,
   "id": "e5231abc-dbd2-4fa1-8018-7fbfc51ac00a",
   "metadata": {},
   "outputs": [
    {
     "data": {
      "text/plain": [
       "'-------------------------------X----------------------------------'"
      ]
     },
     "execution_count": 18,
     "metadata": {},
     "output_type": "execute_result"
    }
   ],
   "source": [
    "'-------------------------------X----------------------------------'"
   ]
  }
 ],
 "metadata": {
  "kernelspec": {
   "display_name": "Python 3 (ipykernel)",
   "language": "python",
   "name": "python3"
  },
  "language_info": {
   "codemirror_mode": {
    "name": "ipython",
    "version": 3
   },
   "file_extension": ".py",
   "mimetype": "text/x-python",
   "name": "python",
   "nbconvert_exporter": "python",
   "pygments_lexer": "ipython3",
   "version": "3.10.8"
  }
 },
 "nbformat": 4,
 "nbformat_minor": 5
}
