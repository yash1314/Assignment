{
 "cells": [
  {
   "cell_type": "markdown",
   "id": "3852ebc0",
   "metadata": {},
   "source": [
    "#### Q1. Explain the following with example: \n",
    "\n",
    "1. Artificial Intelligence.\n",
    "2. Machine Learning\n",
    "3. Deep learning."
   ]
  },
  {
   "cell_type": "markdown",
   "id": "bfc03967",
   "metadata": {},
   "source": [
    "Ans: a) Artificial Intelligence: Ai is the field of science which replicates human intelligence through computer systems, machines. Ai tends to mimic human brain in every aspects of it. We have many examples of Ai around us such as computer vision, natural language processing, speech recognition, etc. The stage of Ai in which we are dealing now is Augmented Ai, in this stage systems, machine requires human intervention to work, update, etc. Ai at its finest form will be exact replica of human and will no longer require human intervention to work upon. Ai is always the end product that we can interact or work with.  \n",
    "\n",
    "b) Machine learning: Machine learning is a subset of Ai in which machine makes use of data on alogrithms to perform some task without explicit programming. It learns and imitate human tasks without human intervention. It can learn from past data and predict and make inferences about events. It also provides us statistical tools/techniques like Supervised, Unsupervised, and Reinforcement learning to explore and analyze the data.\n",
    "\n",
    "c) Deep learning: Deep learning is a broad subset of machine learning and in turn of artificial intelligence which uses artificial neural networks and processes data in a way human brain does. It can process, recognize complex patterns in data, pictures, sound, text, etc to produce accurate human like results. It uses many layers in data just like we humans have many neurons in our brain.  "
   ]
  },
  {
   "cell_type": "markdown",
   "id": "fe6257a8",
   "metadata": {},
   "source": [
    "#### Q2. What is supervised learning? List some examples of supervised learning."
   ]
  },
  {
   "cell_type": "markdown",
   "id": "f0f9255d",
   "metadata": {},
   "source": [
    "Ans: Supervised learning is a one of the type of machine learning. Supervised learning is the process in which we have output label/target in our dataset which is used in training of model/algorithms. Ouput label act as a guidance or supervision in training process of our model. This type of machine learning is very commonly used.   \n",
    "\n",
    "The goal is to approximate the mapping function so well that when you have new input data we can predict the output variables for that data. Some examples of supervised learning are:\n",
    "\n",
    "- Spam detection\n",
    "- Recommendation systems\n",
    "- Speech recognition\n",
    "- Machine vision\n",
    "\n",
    "Supervised learning is divided into two category:\n",
    "\n",
    "a) Regression     b) Classification"
   ]
  },
  {
   "cell_type": "markdown",
   "id": "97150c64",
   "metadata": {},
   "source": [
    "#### Q3. What is unsupervised learning? List some examples of unsupervised learning."
   ]
  },
  {
   "cell_type": "markdown",
   "id": "fc900225",
   "metadata": {},
   "source": [
    "Ans: Unsupervised learning is also a type of machine learning. In unsupervised learning we don't have output label to learn from. Infact our dataset is unlabeled. There is no guidance like mechanism in our dataset to learn from. So instead our unsupervised learning model find hidden patterns, clusters, visulaization in our dataset. Unsupervised learning is very useful in exploratory analysis because it can automatically identify structure in data. \n",
    "\n",
    "Unsupervised machine learning types:\n",
    "a) Clustering b) Association\n",
    "\n",
    "Examples of unsupervised learning:\n",
    " - The classification of heavenly bodies such as stars and planets.\n",
    " - Credit card fraud detection / Anomaly detection."
   ]
  },
  {
   "cell_type": "markdown",
   "id": "c0b71a96",
   "metadata": {},
   "source": [
    "#### Q4. what is difference between AI, ML, DL, and DS?"
   ]
  },
  {
   "cell_type": "markdown",
   "id": "eea1606d",
   "metadata": {},
   "source": [
    "- Artificial Intelligence (AI) enables machines to think and act by understanding, learning from the data, and taking decisions based on patterns hidden in the data or make inferences that would otherwise be very difficult for humans to make manually. The end goal of using ML or DL is to create an AI product or machine as smart as humans.\n",
    "\n",
    "- Machine Learning (ML) is a subset of AI; it provides us statistical tools/techniques like Supervised, Unsupervised, and Reinforcement learning to explore and analyze the data.\n",
    "\n",
    "- Deep Learning (DL) is further a subset of ML, and the main idea behind it is to make machines learn by mimicking the human brain. Here, we create a multi neural network architecture with the help of different techniques like ANN, CNN, and RNN.\n",
    "\n",
    "- Data Science (DS) is basically drawing insights from structured and unstructured data either by using ML or DL or without these techniques. We can even use different visualization tools, statistics, and probability to gain these insights."
   ]
  },
  {
   "cell_type": "markdown",
   "id": "ca28158f",
   "metadata": {},
   "source": [
    "#### Q5. What are the main differences between supervised, unsupervised and semi-supervised learning?"
   ]
  },
  {
   "cell_type": "markdown",
   "id": "c603adf9",
   "metadata": {},
   "source": [
    "Supervised - Supervised learning is the process in which we have output label/target in our dataset which is used in training of model/algorithms. Ouput label act as a guidance or supervision in training process of our model. This type of machine learning is very commonly used. The goal here is to approximate the mapping function so well that when we have new input data that you can predict the output variables for that data\n",
    "\n",
    "Unsupervised - Unsupervised learning is also a type of machine learning. In unsupervised learning we don't have output label to learn from. Infact our dataset is unlabeled. There is no guidance like mechanism in our dataset to learn from. So instead our unsupervised learning model find hidden patterns, clusters, visulaization in our dataset.\n",
    "\n",
    "Semisupervised - In supervised learning we have output label in our data, whereas in unsupervised output label is absent. In semisupervised learning we deal with data which is semi labeled i.e some labeled part and some unlabeled part. Now labeling a dataset is very cost and time consuming task also using human intervention on labeling data introduces human biasness. Therefore in semisupervised learning we use unsupervised techniques on unlabeled data to make it label and then pass this very labeled dataset into supervised learning to make accurate prediction out of it. "
   ]
  },
  {
   "cell_type": "markdown",
   "id": "cfed0f89",
   "metadata": {},
   "source": [
    "#### Q6. What is train, test, and validation split? Explain the importance of each term."
   ]
  },
  {
   "cell_type": "markdown",
   "id": "c1a6527d",
   "metadata": {},
   "source": [
    "Ans- When we have our hands on dataset generally we split it into three parts a training set, a testing set, and a validation set. Each set is independent of each other\n",
    "\n",
    "- Training set: The training set is the dataset that we employ to train our model. It is this dataset that our model uses to learn any underlying patterns or relationships that will enable making predictions later on. Also the training set should be as representative as possible of the population that we are trying to model. Additionally, we need to be careful and ensure that it is as unbiased as possible, as any bias at this stage may be disturbe the accuracy and in turn inferences. It is the largest set among the three. \n",
    "\n",
    "- Validation set: The validation set is an intermediate phase used for choosing the best model and optimizing it. Validation is sometimes considered a part of the training phase. It is in this phase that parameter tuning occurs for optimizing the selected model. Overfitting is checked and avoided in the validation set to eliminate errors that can be caused for future predictions and observations if an analysis corresponds too precisely to a specific dataset.\n",
    "\n",
    "- Testing set: Once we have used the validation set to determine the algorithm and parameter choices that we would like to use in production, the test set is used to approximate the models's true performance in the wild. It is the final step in evaluating our model's performance on unseen data. We should never look at the test set performance before selecting a model. Peeking at our test set may introduce a form of overfitting which will affect our model preformance in producation.\n"
   ]
  },
  {
   "cell_type": "markdown",
   "id": "4ac4b284",
   "metadata": {},
   "source": [
    "#### Q7. How can unsupervised learning be used in anomaly detection?"
   ]
  },
  {
   "cell_type": "markdown",
   "id": "030265e6",
   "metadata": {},
   "source": [
    "Ans: Anomaly is a synonym for outliers. Anomaly detection is the identification of some rare datapoints in dataset which corresponds to some rare events, items or observations. These data points differ from normal points as they are rare species in our dataset. \n",
    "\n",
    "Anomaly detection techniques of unsupervised machine learning assume that normal data points occur considerably more frequently than anomalous data points. This assumption is used to classify data points that occur less frequently as anomalies. Unsupervised techniques assign each data point a score instead of a label. This score indicates how likely it is that the data point is an anomaly. How the score is calculated depends on the model used."
   ]
  },
  {
   "cell_type": "markdown",
   "id": "1e637670",
   "metadata": {},
   "source": [
    "#### Q8. List down some commonly used supervised learning algorithms and unsupervised learning algorithms."
   ]
  },
  {
   "cell_type": "markdown",
   "id": "9b605be0",
   "metadata": {},
   "source": [
    "- Supervised Learning Algorithms:\n",
    "All classification and regression algorithms come under supervised learning.\n",
    "\n",
    "Logistic Regression, Decision trees, Support vector machine (SVM), k-Nearest Neighbors, Naive Bayes, Random forest, Linear regression, polynomial regression, SVM for regression.\n",
    "\n",
    "- Unsupervised learning algorithms:\n",
    "All clustering algorithms come under unsupervised learning algorithms.\n",
    "\n",
    "K – means clustering, Hierarchical clustering, Hidden Markov models"
   ]
  }
 ],
 "metadata": {
  "kernelspec": {
   "display_name": "Python 3 (ipykernel)",
   "language": "python",
   "name": "python3"
  },
  "language_info": {
   "codemirror_mode": {
    "name": "ipython",
    "version": 3
   },
   "file_extension": ".py",
   "mimetype": "text/x-python",
   "name": "python",
   "nbconvert_exporter": "python",
   "pygments_lexer": "ipython3",
   "version": "3.10.10"
  }
 },
 "nbformat": 4,
 "nbformat_minor": 5
}
