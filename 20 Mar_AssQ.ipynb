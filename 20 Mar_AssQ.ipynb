{
 "cells": [
  {
   "cell_type": "markdown",
   "id": "35c50578",
   "metadata": {},
   "source": [
    "#### Q1. What is data encoding? How is it useful in data science?"
   ]
  },
  {
   "cell_type": "markdown",
   "id": "d076127e",
   "metadata": {},
   "source": [
    "Encoding is the process of converting characters, alphabetic data into numerical data for different purposes such as processing, calculations, model training etc. When working with datasets we may encounter categorical variable which our model may not understand or handle well because of this encoding becomes must. Our machine learning models , computer works with numerical data which is why we transform data to numerical format. \n",
    "\n",
    "There are various types of encodings:\n",
    "\n",
    "a) ordinal / label encoding\n",
    "\n",
    "b) Nominal / one hot encoding\n",
    "\n",
    "c) Target guided ordinal encoding."
   ]
  },
  {
   "cell_type": "markdown",
   "id": "29dcdd0e",
   "metadata": {},
   "source": [
    "#### Q2. What is nominal encoding? Provide an example of how you would use it in a real-world scenario."
   ]
  },
  {
   "cell_type": "markdown",
   "id": "b3437c32",
   "metadata": {},
   "source": [
    "Ans - Nominal encoding is a type of encoding done on nominal categorical data. such dataset dosen't have any natural order or rank or we can say it dosen't have any relationship. We use dummy variable technique of statistics which is called One hot encoding in machine learning. Seperate columns are created for each class in categorical feature and then binary values are assigned to labels according to their occurances. \n",
    "\n",
    "For example: suppose we have a categorical feature named eye_color. we have blue, brown, black, green colors eye data. Now this nominal data needs to be transformed into numerical data.  "
   ]
  },
  {
   "cell_type": "code",
   "execution_count": 7,
   "id": "ae4e6820",
   "metadata": {},
   "outputs": [],
   "source": [
    "from sklearn.preprocessing import OneHotEncoder\n",
    "import pandas as pd\n",
    "\n",
    "encode = OneHotEncoder()\n",
    "df = pd.DataFrame(data = ['brown', 'green', 'brown', 'black', 'blue', 'black', 'brown', 'blue'], columns = ['eye_color'])"
   ]
  },
  {
   "cell_type": "code",
   "execution_count": 8,
   "id": "dbe72f49",
   "metadata": {},
   "outputs": [],
   "source": [
    "encoded = encode.fit_transform(df[['eye_color']])\n",
    "encoded_df = pd.DataFrame(encoded.toarray(), columns = encode.get_feature_names_out())\n",
    "df1 = pd.concat([df, encoded_df], axis = 1)"
   ]
  },
  {
   "cell_type": "code",
   "execution_count": 9,
   "id": "aa8dc23f",
   "metadata": {},
   "outputs": [
    {
     "data": {
      "text/html": [
       "<div>\n",
       "<style scoped>\n",
       "    .dataframe tbody tr th:only-of-type {\n",
       "        vertical-align: middle;\n",
       "    }\n",
       "\n",
       "    .dataframe tbody tr th {\n",
       "        vertical-align: top;\n",
       "    }\n",
       "\n",
       "    .dataframe thead th {\n",
       "        text-align: right;\n",
       "    }\n",
       "</style>\n",
       "<table border=\"1\" class=\"dataframe\">\n",
       "  <thead>\n",
       "    <tr style=\"text-align: right;\">\n",
       "      <th></th>\n",
       "      <th>eye_color</th>\n",
       "      <th>eye_color_black</th>\n",
       "      <th>eye_color_blue</th>\n",
       "      <th>eye_color_brown</th>\n",
       "      <th>eye_color_green</th>\n",
       "    </tr>\n",
       "  </thead>\n",
       "  <tbody>\n",
       "    <tr>\n",
       "      <th>0</th>\n",
       "      <td>brown</td>\n",
       "      <td>0.0</td>\n",
       "      <td>0.0</td>\n",
       "      <td>1.0</td>\n",
       "      <td>0.0</td>\n",
       "    </tr>\n",
       "    <tr>\n",
       "      <th>1</th>\n",
       "      <td>green</td>\n",
       "      <td>0.0</td>\n",
       "      <td>0.0</td>\n",
       "      <td>0.0</td>\n",
       "      <td>1.0</td>\n",
       "    </tr>\n",
       "    <tr>\n",
       "      <th>2</th>\n",
       "      <td>brown</td>\n",
       "      <td>0.0</td>\n",
       "      <td>0.0</td>\n",
       "      <td>1.0</td>\n",
       "      <td>0.0</td>\n",
       "    </tr>\n",
       "    <tr>\n",
       "      <th>3</th>\n",
       "      <td>black</td>\n",
       "      <td>1.0</td>\n",
       "      <td>0.0</td>\n",
       "      <td>0.0</td>\n",
       "      <td>0.0</td>\n",
       "    </tr>\n",
       "    <tr>\n",
       "      <th>4</th>\n",
       "      <td>blue</td>\n",
       "      <td>0.0</td>\n",
       "      <td>1.0</td>\n",
       "      <td>0.0</td>\n",
       "      <td>0.0</td>\n",
       "    </tr>\n",
       "  </tbody>\n",
       "</table>\n",
       "</div>"
      ],
      "text/plain": [
       "  eye_color  eye_color_black  eye_color_blue  eye_color_brown  eye_color_green\n",
       "0     brown              0.0             0.0              1.0              0.0\n",
       "1     green              0.0             0.0              0.0              1.0\n",
       "2     brown              0.0             0.0              1.0              0.0\n",
       "3     black              1.0             0.0              0.0              0.0\n",
       "4      blue              0.0             1.0              0.0              0.0"
      ]
     },
     "execution_count": 9,
     "metadata": {},
     "output_type": "execute_result"
    }
   ],
   "source": [
    "df1.head()"
   ]
  },
  {
   "cell_type": "markdown",
   "id": "38ba6a87",
   "metadata": {},
   "source": [
    "#### Q3. In what situations is nominal encoding preferred over one-hot encoding? Provide a practical example."
   ]
  },
  {
   "cell_type": "code",
   "execution_count": null,
   "id": "3944239f",
   "metadata": {},
   "outputs": [],
   "source": []
  },
  {
   "cell_type": "markdown",
   "id": "8e0954c9",
   "metadata": {},
   "source": [
    "#### Q4. Suppose you have a dataset containing categorical data with 5 unique values. Which encoding technique would you use to transform this data into a format suitable for machine learning algorithms? Explain why you made this choice."
   ]
  },
  {
   "cell_type": "markdown",
   "id": "6f91a41c",
   "metadata": {},
   "source": [
    "Ans: The choice of encoding technique depends way more than just knowning the number of unique values. We should be aware of any dependencies among the categorical data i.e order/rank, based on this information we can apply ordinal or one hot encoding. If there is natural order then we can apply ordinal encoding otherwise one hot encoding. Also if the feature is output feature i.e target feature then we can use label encoding otherwise ordinal or one hot encoding. "
   ]
  },
  {
   "cell_type": "markdown",
   "id": "46a095ee",
   "metadata": {},
   "source": [
    "#### Q5. In a machine learning project, you have a dataset with 1000 rows and 5 columns. Two of the columns are categorical, and the remaining three columns are numerical. If you were to use nominal encoding to transform the categorical data, how many new columns would be created? Show your calculations.\n"
   ]
  },
  {
   "cell_type": "markdown",
   "id": "242fcaba",
   "metadata": {},
   "source": [
    "Ans: nominal encoding uses classes/ labels inside the categorical columns to make dummy columns and then assign binary value to each dummy columns. So 1000 rows will contain labels and many labels will be in repetation. Without the actual data one cannot find out the numbers of dummy columns produced through one hot encoding. Therefore without the dataset one cannot answer this question."
   ]
  },
  {
   "cell_type": "markdown",
   "id": "4db8304f",
   "metadata": {},
   "source": [
    "#### Q6. You are working with a dataset containing information about different types of animals, including their species, habitat, and diet. Which encoding technique would you use to transform the categorical data into a format suitable for machine learning algorithms? Justify your answer.\n"
   ]
  },
  {
   "cell_type": "markdown",
   "id": "fb512135",
   "metadata": {},
   "source": [
    "Ans- We will use one hot enoding beacuse animal species, their habitat, diet all are nominal data i.e without order or relationship between classes/ labels in data. So one hot encoding will be correct choice of encoding. "
   ]
  },
  {
   "cell_type": "markdown",
   "id": "c004df14",
   "metadata": {},
   "source": [
    "#### Q7.You are working on a project that involves predicting customer churn for a telecommunications company. You have a dataset with 5 features, including the customer's gender, age, contract type, monthly charges, and tenure. Which encoding technique(s) would you use to transform the categorical data into numerical data? Provide a step-by-step explanation of how you would implement the encoding."
   ]
  },
  {
   "cell_type": "markdown",
   "id": "436b03e4",
   "metadata": {},
   "source": [
    "Ans: We have 5 features in our dataset which are:\n",
    "\n",
    "        - customers gender : categorical nominal data.\n",
    "        - age : numerical data\n",
    "        - contract type : categorical nominal data.\n",
    "        - monthly charges : numerical data\n",
    "        - tenure : numerical data\n",
    "            \n",
    "So out of these 5 features we have 2 categorical feature,\n",
    "\n",
    "- as customer gender and contract type is nominal data we will use one hot encoding.\n",
    "\n",
    "steps:\n",
    "\n",
    "1) we will import onehotencoding class from skelarn.preprocessing\n",
    "2) Then we will make an object of onehotencoding class\n",
    "3) we will use fit_transform to apply and transform both the variables.\n",
    "4) we will create a dataframe which will contain the old and new dummy features of both the variables.\n",
    "5) And at last we can use those dummy columns to apply further processing.\n",
    "        "
   ]
  },
  {
   "cell_type": "code",
   "execution_count": null,
   "id": "5bc17dd3",
   "metadata": {},
   "outputs": [],
   "source": []
  }
 ],
 "metadata": {
  "kernelspec": {
   "display_name": "Python 3 (ipykernel)",
   "language": "python",
   "name": "python3"
  },
  "language_info": {
   "codemirror_mode": {
    "name": "ipython",
    "version": 3
   },
   "file_extension": ".py",
   "mimetype": "text/x-python",
   "name": "python",
   "nbconvert_exporter": "python",
   "pygments_lexer": "ipython3",
   "version": "3.10.10"
  }
 },
 "nbformat": 4,
 "nbformat_minor": 5
}
