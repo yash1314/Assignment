{
 "cells": [
  {
   "cell_type": "markdown",
   "id": "7def0ae5",
   "metadata": {},
   "source": [
    "#### Q1. Create a class called \"Person\" with properties for \"name\", \"age\", and \"gender\". Create an object of this class and print out its properties."
   ]
  },
  {
   "cell_type": "code",
   "execution_count": 2,
   "id": "94858ee2",
   "metadata": {},
   "outputs": [],
   "source": [
    "class Person:\n",
    "    def __init__(self, name, age, gender):\n",
    "        self.name = name\n",
    "        self.age = age\n",
    "        self.gender = gender"
   ]
  },
  {
   "cell_type": "code",
   "execution_count": 3,
   "id": "7012fbe7",
   "metadata": {},
   "outputs": [],
   "source": [
    "person1 = Person('bob', 29, 'male')"
   ]
  },
  {
   "cell_type": "code",
   "execution_count": 4,
   "id": "ba8375dd",
   "metadata": {},
   "outputs": [
    {
     "data": {
      "text/plain": [
       "29"
      ]
     },
     "execution_count": 4,
     "metadata": {},
     "output_type": "execute_result"
    }
   ],
   "source": [
    "person1.age"
   ]
  },
  {
   "cell_type": "code",
   "execution_count": 5,
   "id": "ef9c4e5b",
   "metadata": {},
   "outputs": [
    {
     "data": {
      "text/plain": [
       "'bob'"
      ]
     },
     "execution_count": 5,
     "metadata": {},
     "output_type": "execute_result"
    }
   ],
   "source": [
    "person1.name"
   ]
  },
  {
   "cell_type": "code",
   "execution_count": 6,
   "id": "88e2d791",
   "metadata": {},
   "outputs": [
    {
     "data": {
      "text/plain": [
       "'male'"
      ]
     },
     "execution_count": 6,
     "metadata": {},
     "output_type": "execute_result"
    }
   ],
   "source": [
    "person1.gender"
   ]
  },
  {
   "cell_type": "markdown",
   "id": "66d440e3",
   "metadata": {},
   "source": [
    "#### Q2. Write a Python class called \"Rectangle\" with attributes for \"width\" and \"height\". Implement methods to calculate the area and perimeter of the rectangle. Create an instance of this class and use it to print out the rectangle's area and perimeter."
   ]
  },
  {
   "cell_type": "code",
   "execution_count": 9,
   "id": "9eaeecb6",
   "metadata": {},
   "outputs": [],
   "source": [
    "class Rectangle:\n",
    "    \n",
    "    def __init__(self, width, height):\n",
    "        self.width = width\n",
    "        self.height = height\n",
    "    \n",
    "    def area(self):\n",
    "        return self.width * self.height\n",
    "    \n",
    "    def perimeter(self):\n",
    "        return 2*(self.width + self.height)"
   ]
  },
  {
   "cell_type": "code",
   "execution_count": 10,
   "id": "669af83f",
   "metadata": {},
   "outputs": [],
   "source": [
    "figure1 = Rectangle(10, 5)"
   ]
  },
  {
   "cell_type": "code",
   "execution_count": 12,
   "id": "5f6221e3",
   "metadata": {},
   "outputs": [
    {
     "data": {
      "text/plain": [
       "50"
      ]
     },
     "execution_count": 12,
     "metadata": {},
     "output_type": "execute_result"
    }
   ],
   "source": [
    "figure1.area()"
   ]
  },
  {
   "cell_type": "code",
   "execution_count": 13,
   "id": "7036ee51",
   "metadata": {},
   "outputs": [
    {
     "data": {
      "text/plain": [
       "30"
      ]
     },
     "execution_count": 13,
     "metadata": {},
     "output_type": "execute_result"
    }
   ],
   "source": [
    "figure1.perimeter()"
   ]
  },
  {
   "cell_type": "markdown",
   "id": "0d7289f7",
   "metadata": {},
   "source": [
    "#### Q3. Write a Python class called \"BankAccount\" with attributes for \"balance\" and \"interest_rate\". Implement methods to deposit and withdraw money from the account, as well as to calculate the interest earned on the balance based on the interest rate. Create an instance of this class and use it to test out the implemented methods for deposit, withdrawal, and interest calculation."
   ]
  },
  {
   "cell_type": "code",
   "execution_count": 36,
   "id": "4f4d37c1",
   "metadata": {},
   "outputs": [],
   "source": [
    "class BankAccount:\n",
    "    def __init__(self, balance, interest_rate):\n",
    "        self.balance = balance\n",
    "        self.interest_rate = interest_rate\n",
    "        \n",
    "    def deposit(self,balance):\n",
    "        self.balance += balance\n",
    "        return f\"Total acc balance is: {self.balance}\"\n",
    "        \n",
    "    def withdraw(self, balance):\n",
    "        self.balance -= balance\n",
    "        return f\"Remaining acc balance is: {self.balance}\"\n",
    "    \n",
    "    def interest(self, balance, rate, time):\n",
    "        interest = self.balance * self.interest_rate * time\n",
    "        return f\"Your total interest is: {interest}\""
   ]
  },
  {
   "cell_type": "code",
   "execution_count": 37,
   "id": "bf709d10",
   "metadata": {},
   "outputs": [],
   "source": [
    "acc1 = BankAccount(1000, 5)"
   ]
  },
  {
   "cell_type": "code",
   "execution_count": 38,
   "id": "d40559c1",
   "metadata": {},
   "outputs": [
    {
     "data": {
      "text/plain": [
       "'Total acc balance is: 2000'"
      ]
     },
     "execution_count": 38,
     "metadata": {},
     "output_type": "execute_result"
    }
   ],
   "source": [
    "acc1.deposit(1000)"
   ]
  },
  {
   "cell_type": "code",
   "execution_count": 40,
   "id": "c9fe1ee3",
   "metadata": {},
   "outputs": [
    {
     "data": {
      "text/plain": [
       "'Remaining acc balance is: 1900'"
      ]
     },
     "execution_count": 40,
     "metadata": {},
     "output_type": "execute_result"
    }
   ],
   "source": [
    "acc1.withdraw(100)"
   ]
  },
  {
   "cell_type": "code",
   "execution_count": 41,
   "id": "d2e30ed7",
   "metadata": {},
   "outputs": [
    {
     "data": {
      "text/plain": [
       "'Your total interest is: 47500'"
      ]
     },
     "execution_count": 41,
     "metadata": {},
     "output_type": "execute_result"
    }
   ],
   "source": [
    "acc1.interest(acc1.balance, acc1.interest_rate, 5)"
   ]
  },
  {
   "cell_type": "markdown",
   "id": "ee28ceaa",
   "metadata": {},
   "source": [
    "#### Q4. Write a Python class called \"Animal\" with attributes for \"name\" and \"species\". Create a subclass of \"Animal\" called \"Dog\" with additional attributes for \"breed\" and \"owner\". Implement both classes with appropriate methods and constructors to initialise their properties. Create instances of both classes and use them to print out the various properties of the animals and dogs, such as their names, species, breeds, and owners."
   ]
  },
  {
   "cell_type": "code",
   "execution_count": 42,
   "id": "b749d663",
   "metadata": {},
   "outputs": [],
   "source": [
    "class Animal:\n",
    "    \n",
    "    def __init__(self, name, species):\n",
    "        self.name = name\n",
    "        self.species = species\n",
    "    \n",
    "class Dog(Animal):\n",
    "    \n",
    "    def __init__(self, breed, owner):\n",
    "        self.breed = breed\n",
    "        self.owner = owner"
   ]
  },
  {
   "cell_type": "code",
   "execution_count": 43,
   "id": "2eef2873",
   "metadata": {},
   "outputs": [],
   "source": [
    "animal1 = Animal('munch', 'cat')"
   ]
  },
  {
   "cell_type": "code",
   "execution_count": 44,
   "id": "c8bac347",
   "metadata": {},
   "outputs": [],
   "source": [
    "dog1 = Dog('chihuahua', 'james')"
   ]
  },
  {
   "cell_type": "code",
   "execution_count": 45,
   "id": "162b1e4d",
   "metadata": {},
   "outputs": [
    {
     "data": {
      "text/plain": [
       "'james'"
      ]
     },
     "execution_count": 45,
     "metadata": {},
     "output_type": "execute_result"
    }
   ],
   "source": [
    "dog1.owner"
   ]
  },
  {
   "cell_type": "code",
   "execution_count": 46,
   "id": "5dabf218",
   "metadata": {},
   "outputs": [
    {
     "data": {
      "text/plain": [
       "'cat'"
      ]
     },
     "execution_count": 46,
     "metadata": {},
     "output_type": "execute_result"
    }
   ],
   "source": [
    "animal1.species"
   ]
  },
  {
   "cell_type": "code",
   "execution_count": 47,
   "id": "4350cb5f",
   "metadata": {},
   "outputs": [
    {
     "data": {
      "text/plain": [
       "'munch'"
      ]
     },
     "execution_count": 47,
     "metadata": {},
     "output_type": "execute_result"
    }
   ],
   "source": [
    "animal1.name"
   ]
  },
  {
   "cell_type": "code",
   "execution_count": 49,
   "id": "44096b86",
   "metadata": {},
   "outputs": [
    {
     "data": {
      "text/plain": [
       "'chihuahua'"
      ]
     },
     "execution_count": 49,
     "metadata": {},
     "output_type": "execute_result"
    }
   ],
   "source": [
    "dog1.breed"
   ]
  },
  {
   "cell_type": "markdown",
   "id": "4a0dcaae",
   "metadata": {},
   "source": [
    "#### Q5. Create a class called \"Car\" with properties for \"make\", \"model\", and \"year\". Create a subclass of \"Car\" called \"ElectricCar\" with additional properties for \"battery_size\" and \"range\". Create objects of both classes and print out their properties."
   ]
  },
  {
   "cell_type": "code",
   "execution_count": 52,
   "id": "e6b367f9",
   "metadata": {},
   "outputs": [],
   "source": [
    "class Car:\n",
    "    def __init__(self, make, model, year):\n",
    "        self.make = make\n",
    "        self.model = model \n",
    "        self.year = year\n",
    "        \n",
    "class ElectricCar(Car):\n",
    "    def __init__(self, battery_size, car_range):\n",
    "        self.battery_size = battery_size\n",
    "        self.car_range = car_range"
   ]
  },
  {
   "cell_type": "code",
   "execution_count": 53,
   "id": "890fa00b",
   "metadata": {},
   "outputs": [],
   "source": [
    "car1 = Car('audi', 'sedan', 2020)"
   ]
  },
  {
   "cell_type": "code",
   "execution_count": 55,
   "id": "eb87326d",
   "metadata": {},
   "outputs": [],
   "source": [
    "ev = ElectricCar(50, 275)"
   ]
  },
  {
   "cell_type": "code",
   "execution_count": 56,
   "id": "e7dbf0f1",
   "metadata": {},
   "outputs": [
    {
     "data": {
      "text/plain": [
       "'audi'"
      ]
     },
     "execution_count": 56,
     "metadata": {},
     "output_type": "execute_result"
    }
   ],
   "source": [
    "car1.make"
   ]
  },
  {
   "cell_type": "code",
   "execution_count": 57,
   "id": "19748b76",
   "metadata": {},
   "outputs": [
    {
     "data": {
      "text/plain": [
       "'sedan'"
      ]
     },
     "execution_count": 57,
     "metadata": {},
     "output_type": "execute_result"
    }
   ],
   "source": [
    "car1.model"
   ]
  },
  {
   "cell_type": "code",
   "execution_count": 59,
   "id": "c1027e19",
   "metadata": {},
   "outputs": [
    {
     "data": {
      "text/plain": [
       "2020"
      ]
     },
     "execution_count": 59,
     "metadata": {},
     "output_type": "execute_result"
    }
   ],
   "source": [
    "car1.year"
   ]
  },
  {
   "cell_type": "code",
   "execution_count": 58,
   "id": "d7580f47",
   "metadata": {},
   "outputs": [
    {
     "data": {
      "text/plain": [
       "50"
      ]
     },
     "execution_count": 58,
     "metadata": {},
     "output_type": "execute_result"
    }
   ],
   "source": [
    "ev.battery_size"
   ]
  },
  {
   "cell_type": "code",
   "execution_count": 60,
   "id": "02dd3e08",
   "metadata": {},
   "outputs": [
    {
     "data": {
      "text/plain": [
       "275"
      ]
     },
     "execution_count": 60,
     "metadata": {},
     "output_type": "execute_result"
    }
   ],
   "source": [
    "ev.car_range"
   ]
  },
  {
   "cell_type": "markdown",
   "id": "8ca123dc",
   "metadata": {},
   "source": [
    "#### Q6. Create a class called \"Student\" with properties for \"name\" and \"id\". Create a subclass of \"Student\" called \"GraduateStudent\" with additional properties for \"advisor\" and \"research_area\". Create objects of both classes and print out their properties."
   ]
  },
  {
   "cell_type": "code",
   "execution_count": 64,
   "id": "cce1c924",
   "metadata": {},
   "outputs": [],
   "source": [
    "class Student():\n",
    "    def __init__(self, name, id):\n",
    "        self.id = id\n",
    "        self.name = name\n",
    "        \n",
    "class GraduateStudent(Student):\n",
    "    def __init__(self, advisor, research_area):\n",
    "        self.advisor = advisor\n",
    "        self.research_area = research_area"
   ]
  },
  {
   "cell_type": "code",
   "execution_count": 62,
   "id": "c1445977",
   "metadata": {},
   "outputs": [],
   "source": [
    "stud =  Student('Bob', 11)"
   ]
  },
  {
   "cell_type": "code",
   "execution_count": 65,
   "id": "feefabb2",
   "metadata": {},
   "outputs": [],
   "source": [
    "grad_stud = GraduateStudent('electric', 'current')"
   ]
  },
  {
   "cell_type": "code",
   "execution_count": 63,
   "id": "894de543",
   "metadata": {},
   "outputs": [
    {
     "data": {
      "text/plain": [
       "11"
      ]
     },
     "execution_count": 63,
     "metadata": {},
     "output_type": "execute_result"
    }
   ],
   "source": [
    "stud.id"
   ]
  },
  {
   "cell_type": "code",
   "execution_count": 66,
   "id": "3cfad4ea",
   "metadata": {},
   "outputs": [
    {
     "data": {
      "text/plain": [
       "'Bob'"
      ]
     },
     "execution_count": 66,
     "metadata": {},
     "output_type": "execute_result"
    }
   ],
   "source": [
    "stud.name"
   ]
  },
  {
   "cell_type": "code",
   "execution_count": 67,
   "id": "54a0ca4a",
   "metadata": {},
   "outputs": [
    {
     "data": {
      "text/plain": [
       "'electric'"
      ]
     },
     "execution_count": 67,
     "metadata": {},
     "output_type": "execute_result"
    }
   ],
   "source": [
    "grad_stud.advisor"
   ]
  },
  {
   "cell_type": "code",
   "execution_count": 68,
   "id": "862b32e4",
   "metadata": {},
   "outputs": [
    {
     "data": {
      "text/plain": [
       "'current'"
      ]
     },
     "execution_count": 68,
     "metadata": {},
     "output_type": "execute_result"
    }
   ],
   "source": [
    "grad_stud.research_area"
   ]
  },
  {
   "cell_type": "markdown",
   "id": "5f37b949",
   "metadata": {},
   "source": [
    "#### Q7. Create a class called \"Shape\" with methods to calculate the area and perimeter of the shape. Create subclasses of \"Shape\" for \"Rectangle\", \"Circle\", and \"Triangle\" with their own methods for calculating area and perimeter. Create objects of each class and print out their area and perimeter."
   ]
  },
  {
   "cell_type": "code",
   "execution_count": 1,
   "id": "418c8668",
   "metadata": {},
   "outputs": [],
   "source": [
    "from abc import ABC \n",
    "\n",
    "class Shape(ABC):\n",
    "    \n",
    "    def area():\n",
    "        pass\n",
    "    \n",
    "    def perimeter():\n",
    "        pass"
   ]
  },
  {
   "cell_type": "code",
   "execution_count": 2,
   "id": "14a846c7",
   "metadata": {},
   "outputs": [],
   "source": [
    "class Rectangle(Shape):\n",
    "    \n",
    "    def __init__(self, length, breadth):\n",
    "        self.length = length\n",
    "        self.breadth = breadth\n",
    "        \n",
    "    def area(self):\n",
    "        return self.length * self.breadth\n",
    "    \n",
    "    def perimeter(self):\n",
    "        return 2*(self.length + self.breadth)"
   ]
  },
  {
   "cell_type": "code",
   "execution_count": 31,
   "id": "c9e33a99",
   "metadata": {},
   "outputs": [],
   "source": [
    "class Circle(Shape):\n",
    "    pi = 3.14159\n",
    "    def __init__(self, radius):\n",
    "        self.radius = radius\n",
    "        \n",
    "    def area(self):\n",
    "        return self.pi * ((self.radius)**2) \n",
    "    \n",
    "    def perimeter(self):\n",
    "        return 2 * self.radius * self.pi"
   ]
  },
  {
   "cell_type": "code",
   "execution_count": 32,
   "id": "858b673e",
   "metadata": {},
   "outputs": [],
   "source": [
    "class Triangle(Shape):\n",
    "        \n",
    "    def area(self, height, base):\n",
    "        return (base * height)/2\n",
    "    \n",
    "    def perimeter(self, a, b, c):\n",
    "        return a+b+c"
   ]
  },
  {
   "cell_type": "code",
   "execution_count": 33,
   "id": "2451d2d7",
   "metadata": {},
   "outputs": [],
   "source": [
    "shape1 = Shape()"
   ]
  },
  {
   "cell_type": "code",
   "execution_count": 34,
   "id": "dc0dfeaa",
   "metadata": {},
   "outputs": [],
   "source": [
    "rect1 = Rectangle(15, 7)"
   ]
  },
  {
   "cell_type": "code",
   "execution_count": 35,
   "id": "de2f896e",
   "metadata": {},
   "outputs": [],
   "source": [
    "circle1 = Circle(4)"
   ]
  },
  {
   "cell_type": "code",
   "execution_count": 41,
   "id": "3c50e144",
   "metadata": {},
   "outputs": [],
   "source": [
    "tri1 = Triangle()"
   ]
  },
  {
   "cell_type": "code",
   "execution_count": 37,
   "id": "3b72e802",
   "metadata": {},
   "outputs": [
    {
     "data": {
      "text/plain": [
       "105"
      ]
     },
     "execution_count": 37,
     "metadata": {},
     "output_type": "execute_result"
    }
   ],
   "source": [
    "rect1.area()"
   ]
  },
  {
   "cell_type": "code",
   "execution_count": 38,
   "id": "6c4b0c0c",
   "metadata": {},
   "outputs": [
    {
     "data": {
      "text/plain": [
       "44"
      ]
     },
     "execution_count": 38,
     "metadata": {},
     "output_type": "execute_result"
    }
   ],
   "source": [
    "rect1.perimeter()"
   ]
  },
  {
   "cell_type": "code",
   "execution_count": 39,
   "id": "2ecdf601",
   "metadata": {},
   "outputs": [
    {
     "data": {
      "text/plain": [
       "50.26544"
      ]
     },
     "execution_count": 39,
     "metadata": {},
     "output_type": "execute_result"
    }
   ],
   "source": [
    "circle1.area()"
   ]
  },
  {
   "cell_type": "code",
   "execution_count": 40,
   "id": "d2af6f58",
   "metadata": {},
   "outputs": [
    {
     "data": {
      "text/plain": [
       "25.13272"
      ]
     },
     "execution_count": 40,
     "metadata": {},
     "output_type": "execute_result"
    }
   ],
   "source": [
    "circle1.perimeter()"
   ]
  },
  {
   "cell_type": "code",
   "execution_count": 43,
   "id": "9294445d",
   "metadata": {},
   "outputs": [
    {
     "data": {
      "text/plain": [
       "35.0"
      ]
     },
     "execution_count": 43,
     "metadata": {},
     "output_type": "execute_result"
    }
   ],
   "source": [
    "tri1.area(height= 10, base= 7)"
   ]
  },
  {
   "cell_type": "code",
   "execution_count": 44,
   "id": "a087d094",
   "metadata": {},
   "outputs": [
    {
     "data": {
      "text/plain": [
       "12"
      ]
     },
     "execution_count": 44,
     "metadata": {},
     "output_type": "execute_result"
    }
   ],
   "source": [
    "tri1.perimeter(a= 3, b=4,c=5)"
   ]
  },
  {
   "cell_type": "markdown",
   "id": "3a610b8d",
   "metadata": {},
   "source": [
    "#### Q8. Create a class called \"Employee\" with properties for \"name\", \"id\", and \"salary\". Add methods to give the employee a raise and to calculate their annual salary. Create objects of this class and test out the methods."
   ]
  },
  {
   "cell_type": "code",
   "execution_count": 47,
   "id": "699be7c4",
   "metadata": {},
   "outputs": [],
   "source": [
    "class Employee:\n",
    "    def __init__(self, id, salary):\n",
    "        self.id = id\n",
    "        self.salary = salary\n",
    "        \n",
    "    def sal_raise(self, salary_raise):\n",
    "        self.salary += salary_raise\n",
    "        return self.salary\n",
    "    \n",
    "    def annual_salary(self):\n",
    "        return self.salary"
   ]
  },
  {
   "cell_type": "code",
   "execution_count": 48,
   "id": "79768da5",
   "metadata": {},
   "outputs": [],
   "source": [
    "emp1 = Employee(101, 1000)"
   ]
  },
  {
   "cell_type": "code",
   "execution_count": 49,
   "id": "908a2ab4",
   "metadata": {},
   "outputs": [
    {
     "data": {
      "text/plain": [
       "1100"
      ]
     },
     "execution_count": 49,
     "metadata": {},
     "output_type": "execute_result"
    }
   ],
   "source": [
    "emp1.sal_raise(100)"
   ]
  },
  {
   "cell_type": "code",
   "execution_count": 51,
   "id": "1bb2d18c",
   "metadata": {},
   "outputs": [
    {
     "data": {
      "text/plain": [
       "1100"
      ]
     },
     "execution_count": 51,
     "metadata": {},
     "output_type": "execute_result"
    }
   ],
   "source": [
    "emp1.annual_salary()"
   ]
  },
  {
   "cell_type": "markdown",
   "id": "aba77fe2",
   "metadata": {},
   "source": [
    "#### Q9. Create a class called \"Book\" with properties for \"title\", \"author\", and \"publisher\". Create a subclass of \"Book\" called \"Ebook\" with additional properties for \"file_format\" and \"file_size\". Create objects of both classes and print out their properties."
   ]
  },
  {
   "cell_type": "code",
   "execution_count": 52,
   "id": "5161c2e3",
   "metadata": {},
   "outputs": [],
   "source": [
    "class Book:\n",
    "    def __init__(self, title, author, publisher):\n",
    "        self.title = title\n",
    "        self.author = author\n",
    "        self.publisher = publisher\n",
    "        \n",
    "class Ebook(Book):\n",
    "    def __init__(self, file_format, file_size):\n",
    "        self.file_format = file_format\n",
    "        self.file_size = file_size"
   ]
  },
  {
   "cell_type": "code",
   "execution_count": 57,
   "id": "a7cad187",
   "metadata": {},
   "outputs": [],
   "source": [
    "book1 = Book('Harry Potter', 'j k rowling', 'bloomsbury')"
   ]
  },
  {
   "cell_type": "code",
   "execution_count": 58,
   "id": "f1c12a59",
   "metadata": {},
   "outputs": [
    {
     "data": {
      "text/plain": [
       "'j k rowling'"
      ]
     },
     "execution_count": 58,
     "metadata": {},
     "output_type": "execute_result"
    }
   ],
   "source": [
    "book1.author"
   ]
  },
  {
   "cell_type": "code",
   "execution_count": 59,
   "id": "dfecf5ed",
   "metadata": {},
   "outputs": [
    {
     "data": {
      "text/plain": [
       "'bloomsbury'"
      ]
     },
     "execution_count": 59,
     "metadata": {},
     "output_type": "execute_result"
    }
   ],
   "source": [
    "book1.publisher"
   ]
  },
  {
   "cell_type": "code",
   "execution_count": 60,
   "id": "54194ff4",
   "metadata": {},
   "outputs": [
    {
     "data": {
      "text/plain": [
       "'Harry Potter'"
      ]
     },
     "execution_count": 60,
     "metadata": {},
     "output_type": "execute_result"
    }
   ],
   "source": [
    "book1.title"
   ]
  },
  {
   "cell_type": "code",
   "execution_count": 67,
   "id": "0844697e",
   "metadata": {},
   "outputs": [],
   "source": [
    "ebook1 = Ebook('epub', '2.3 Mb' )"
   ]
  },
  {
   "cell_type": "code",
   "execution_count": 68,
   "id": "f32aed78",
   "metadata": {},
   "outputs": [
    {
     "data": {
      "text/plain": [
       "'epub'"
      ]
     },
     "execution_count": 68,
     "metadata": {},
     "output_type": "execute_result"
    }
   ],
   "source": [
    "ebook1.file_format"
   ]
  },
  {
   "cell_type": "code",
   "execution_count": 69,
   "id": "3cb9e3ab",
   "metadata": {},
   "outputs": [
    {
     "data": {
      "text/plain": [
       "'2.3 Mb'"
      ]
     },
     "execution_count": 69,
     "metadata": {},
     "output_type": "execute_result"
    }
   ],
   "source": [
    "ebook1.file_size"
   ]
  },
  {
   "cell_type": "markdown",
   "id": "2748be64",
   "metadata": {},
   "source": [
    "#### Q10. Create a class called \"Bank\" with properties for \"name\" and \"accounts\". Add methods to create new accounts, deposit and withdraw money from accounts, and to calculate the total balance of all accounts. Create an object of this class and test out the methods.\n",
    "Data Scien"
   ]
  },
  {
   "cell_type": "code",
   "execution_count": 25,
   "id": "e3ece3e0",
   "metadata": {},
   "outputs": [],
   "source": [
    "class Bank:\n",
    "    \n",
    "    def __init__(self, name, account, amount):\n",
    "        self.name = name\n",
    "        self.account = account\n",
    "        self.amount = amount \n",
    "        \n",
    "    def add_acc(self, name, account):\n",
    "        total_account = {}\n",
    "        total_account[self.name] = [self.account]\n",
    "        return total_account\n",
    "    \n",
    "    def deposit(self, deposit_amount):\n",
    "        self.amount += deposit_amount\n",
    "        return self.amount\n",
    "    \n",
    "    def withdraw(self, withdraw_amount):\n",
    "        self.amount -= withdraw_amount\n",
    "        return self.amount\n",
    "    \n",
    "    def total_balance(add_acc, name):\n",
    "        total_bal = 0\n",
    "        for key, value in total_account.items():\n",
    "            total_bal+=value[1]\n",
    "        return total_bal"
   ]
  },
  {
   "cell_type": "code",
   "execution_count": 26,
   "id": "333b3bf2",
   "metadata": {},
   "outputs": [],
   "source": [
    "acc1 = Bank('yash', 101, 1100)"
   ]
  },
  {
   "cell_type": "code",
   "execution_count": 27,
   "id": "d4ae99fb",
   "metadata": {},
   "outputs": [
    {
     "data": {
      "text/plain": [
       "{'yash': [101]}"
      ]
     },
     "execution_count": 27,
     "metadata": {},
     "output_type": "execute_result"
    }
   ],
   "source": [
    "acc1.add_acc('ananya', 102)"
   ]
  },
  {
   "cell_type": "code",
   "execution_count": 28,
   "id": "d47f8ad1",
   "metadata": {},
   "outputs": [
    {
     "data": {
      "text/plain": [
       "1200"
      ]
     },
     "execution_count": 28,
     "metadata": {},
     "output_type": "execute_result"
    }
   ],
   "source": [
    "acc1.deposit(deposit_amount = 100)"
   ]
  },
  {
   "cell_type": "code",
   "execution_count": 29,
   "id": "39f665dd",
   "metadata": {},
   "outputs": [
    {
     "data": {
      "text/plain": [
       "1000"
      ]
     },
     "execution_count": 29,
     "metadata": {},
     "output_type": "execute_result"
    }
   ],
   "source": [
    "acc1.withdraw(200)"
   ]
  }
 ],
 "metadata": {
  "kernelspec": {
   "display_name": "Python 3 (ipykernel)",
   "language": "python",
   "name": "python3"
  },
  "language_info": {
   "codemirror_mode": {
    "name": "ipython",
    "version": 3
   },
   "file_extension": ".py",
   "mimetype": "text/x-python",
   "name": "python",
   "nbconvert_exporter": "python",
   "pygments_lexer": "ipython3",
   "version": "3.10.10"
  }
 },
 "nbformat": 4,
 "nbformat_minor": 5
}
