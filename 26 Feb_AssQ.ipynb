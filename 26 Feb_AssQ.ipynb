{
 "cells": [
  {
   "cell_type": "code",
   "execution_count": 26,
   "id": "79d54f6d",
   "metadata": {},
   "outputs": [],
   "source": [
    "#Consider the below code to answer further questions:\n",
    "\n",
    "import numpy as np\n",
    "\n",
    "list_ = ['1','2','3','4','5']\n",
    "\n",
    "array_list = np.array(object = list_)"
   ]
  },
  {
   "cell_type": "markdown",
   "id": "d234b3ba",
   "metadata": {},
   "source": [
    "#### Q1. Is there any difference in the data type of variables list_ and array_list? If there is then write a code to print the data types of both the variables."
   ]
  },
  {
   "cell_type": "markdown",
   "id": "d831fb0b",
   "metadata": {},
   "source": [
    "Ans: There is obvious difference in the type of both the variables. list_ variable is of list_ type whereas array_list is numpy array type."
   ]
  },
  {
   "cell_type": "code",
   "execution_count": 5,
   "id": "19fbbc5b",
   "metadata": {},
   "outputs": [
    {
     "data": {
      "text/plain": [
       "list"
      ]
     },
     "execution_count": 5,
     "metadata": {},
     "output_type": "execute_result"
    }
   ],
   "source": [
    "type(list_)"
   ]
  },
  {
   "cell_type": "code",
   "execution_count": 6,
   "id": "c4da56f0",
   "metadata": {},
   "outputs": [
    {
     "data": {
      "text/plain": [
       "numpy.ndarray"
      ]
     },
     "execution_count": 6,
     "metadata": {},
     "output_type": "execute_result"
    }
   ],
   "source": [
    "type(array_list)"
   ]
  },
  {
   "cell_type": "markdown",
   "id": "6148182c",
   "metadata": {},
   "source": [
    "#### Q2. Write a code to print the data type of each and every element of both the variables list_ and array_list."
   ]
  },
  {
   "cell_type": "code",
   "execution_count": 28,
   "id": "33d836d3",
   "metadata": {},
   "outputs": [
    {
     "data": {
      "text/plain": [
       "[\"1:<class 'str'>\",\n",
       " \"2:<class 'str'>\",\n",
       " \"3:<class 'str'>\",\n",
       " \"4:<class 'str'>\",\n",
       " \"5:<class 'str'>\"]"
      ]
     },
     "execution_count": 28,
     "metadata": {},
     "output_type": "execute_result"
    }
   ],
   "source": [
    "[f\"{i}:{type(i)}\" for i in list_]"
   ]
  },
  {
   "cell_type": "code",
   "execution_count": 27,
   "id": "9e0a0961",
   "metadata": {},
   "outputs": [
    {
     "data": {
      "text/plain": [
       "[\"1:<class 'numpy.str_'>\",\n",
       " \"2:<class 'numpy.str_'>\",\n",
       " \"3:<class 'numpy.str_'>\",\n",
       " \"4:<class 'numpy.str_'>\",\n",
       " \"5:<class 'numpy.str_'>\"]"
      ]
     },
     "execution_count": 27,
     "metadata": {},
     "output_type": "execute_result"
    }
   ],
   "source": [
    "[f\"{k}:{type(k)}\" for k in array_list]"
   ]
  },
  {
   "cell_type": "markdown",
   "id": "87fe98a7",
   "metadata": {},
   "source": [
    "#### Q3. Considering the following changes in the variable, array_list:\n",
    "\n",
    "array_list = np.array(object = list_, dtype = int)\n",
    "\n",
    "Will there be any difference in the data type of the elements present in both the variables, list_ and \n",
    "arra_list? If so then print the data types of each and every element present in both the variables, list_ \n",
    "and arra_list."
   ]
  },
  {
   "cell_type": "code",
   "execution_count": 29,
   "id": "74d3d463",
   "metadata": {},
   "outputs": [],
   "source": [
    "array_list = np.array(object = list_, dtype = int)"
   ]
  },
  {
   "cell_type": "markdown",
   "id": "2428fd64",
   "metadata": {},
   "source": [
    "Ans: There won't be any change in type of variable list_ but type of array_list will change to integer from string type."
   ]
  },
  {
   "cell_type": "code",
   "execution_count": 31,
   "id": "19552255",
   "metadata": {},
   "outputs": [
    {
     "data": {
      "text/plain": [
       "[\"1:<class 'str'>\",\n",
       " \"2:<class 'str'>\",\n",
       " \"3:<class 'str'>\",\n",
       " \"4:<class 'str'>\",\n",
       " \"5:<class 'str'>\"]"
      ]
     },
     "execution_count": 31,
     "metadata": {},
     "output_type": "execute_result"
    }
   ],
   "source": [
    "[f\"{i}:{type(i)}\" for i in list_]"
   ]
  },
  {
   "cell_type": "code",
   "execution_count": 30,
   "id": "03b10f81",
   "metadata": {},
   "outputs": [
    {
     "data": {
      "text/plain": [
       "[\"1:<class 'numpy.int32'>\",\n",
       " \"2:<class 'numpy.int32'>\",\n",
       " \"3:<class 'numpy.int32'>\",\n",
       " \"4:<class 'numpy.int32'>\",\n",
       " \"5:<class 'numpy.int32'>\"]"
      ]
     },
     "execution_count": 30,
     "metadata": {},
     "output_type": "execute_result"
    }
   ],
   "source": [
    "[f\"{k}:{type(k)}\" for k in array_list]"
   ]
  },
  {
   "cell_type": "code",
   "execution_count": 4,
   "id": "c941931b",
   "metadata": {},
   "outputs": [],
   "source": [
    "# Consider the below code to answer further questions:\n",
    "\n",
    "import numpy as np\n",
    "\n",
    "num_list = [ [ 1 , 2 , 3 ] , [ 4 , 5 , 6 ] ]\n",
    "\n",
    "num_array = np.array(object = num_list)"
   ]
  },
  {
   "cell_type": "markdown",
   "id": "5d8c4c2e",
   "metadata": {},
   "source": [
    "#### Q4. Write a code to find the following characteristics of variable, num_array:\n",
    "\n",
    "(i)\t shape\n",
    "\n",
    "(ii) size"
   ]
  },
  {
   "cell_type": "code",
   "execution_count": 32,
   "id": "4e2c5e6d",
   "metadata": {},
   "outputs": [
    {
     "data": {
      "text/plain": [
       "(2, 3)"
      ]
     },
     "execution_count": 32,
     "metadata": {},
     "output_type": "execute_result"
    }
   ],
   "source": [
    "num_array.shape"
   ]
  },
  {
   "cell_type": "code",
   "execution_count": 33,
   "id": "f79a4c79",
   "metadata": {},
   "outputs": [
    {
     "data": {
      "text/plain": [
       "6"
      ]
     },
     "execution_count": 33,
     "metadata": {},
     "output_type": "execute_result"
    }
   ],
   "source": [
    "num_array.size"
   ]
  },
  {
   "cell_type": "markdown",
   "id": "5b01ef84",
   "metadata": {},
   "source": [
    "#### Q5. Write a code to create numpy array of 3*3 matrix containing zeros only, using a numpy array creation function.\n",
    "\n",
    "[Hint: The size of the array will be 9 and the shape will be (3,3).]\n",
    "\n"
   ]
  },
  {
   "cell_type": "code",
   "execution_count": 37,
   "id": "fbf50c20",
   "metadata": {},
   "outputs": [
    {
     "data": {
      "text/plain": [
       "array([[0., 0., 0.],\n",
       "       [0., 0., 0.],\n",
       "       [0., 0., 0.]])"
      ]
     },
     "execution_count": 37,
     "metadata": {},
     "output_type": "execute_result"
    }
   ],
   "source": [
    "np.zeros(shape = (3,3))"
   ]
  },
  {
   "cell_type": "markdown",
   "id": "f09aa638",
   "metadata": {},
   "source": [
    "#### Q6. Create an identity matrix of shape (5,5) using numpy functions?\n",
    "\n",
    "[Hint: An identity matrix is a matrix containing 1 diagonally and other elements will be 0.]"
   ]
  },
  {
   "cell_type": "code",
   "execution_count": 38,
   "id": "89c840bb",
   "metadata": {},
   "outputs": [
    {
     "data": {
      "text/plain": [
       "array([[1., 0., 0., 0., 0.],\n",
       "       [0., 1., 0., 0., 0.],\n",
       "       [0., 0., 1., 0., 0.],\n",
       "       [0., 0., 0., 1., 0.],\n",
       "       [0., 0., 0., 0., 1.]])"
      ]
     },
     "execution_count": 38,
     "metadata": {},
     "output_type": "execute_result"
    }
   ],
   "source": [
    "np.identity(5)"
   ]
  }
 ],
 "metadata": {
  "kernelspec": {
   "display_name": "Python 3 (ipykernel)",
   "language": "python",
   "name": "python3"
  },
  "language_info": {
   "codemirror_mode": {
    "name": "ipython",
    "version": 3
   },
   "file_extension": ".py",
   "mimetype": "text/x-python",
   "name": "python",
   "nbconvert_exporter": "python",
   "pygments_lexer": "ipython3",
   "version": "3.10.10"
  }
 },
 "nbformat": 4,
 "nbformat_minor": 5
}
