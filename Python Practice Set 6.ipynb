{
 "cells": [
  {
   "cell_type": "markdown",
   "id": "733557ae",
   "metadata": {},
   "source": [
    "#### Q1. Write a program that prints the first 10 even numbers using a for loop.\n"
   ]
  },
  {
   "cell_type": "code",
   "execution_count": 4,
   "id": "9aa502d5",
   "metadata": {},
   "outputs": [
    {
     "name": "stdout",
     "output_type": "stream",
     "text": [
      "2 4 6 8 10 "
     ]
    }
   ],
   "source": [
    "for i in range(1,11):\n",
    "    if i % 2 == 0:\n",
    "        print(i, end = ' ')"
   ]
  },
  {
   "cell_type": "markdown",
   "id": "ee1de111",
   "metadata": {},
   "source": [
    "\n",
    "#### Q2. Write a program that takes a list of strings and prints out each string in reverse order using a for loop.\n"
   ]
  },
  {
   "cell_type": "code",
   "execution_count": 63,
   "id": "7609db00",
   "metadata": {},
   "outputs": [],
   "source": [
    "def rev_string(n):\n",
    "    for i in n:\n",
    "        print(i[::-1], end = ' ')"
   ]
  },
  {
   "cell_type": "code",
   "execution_count": 64,
   "id": "b1db48ee",
   "metadata": {},
   "outputs": [
    {
     "name": "stdout",
     "output_type": "stream",
     "text": [
      "hsay irahsek ecneics atad wp "
     ]
    }
   ],
   "source": [
    "rev_string(['yash', 'keshari', 'data science', 'pw'])"
   ]
  },
  {
   "cell_type": "markdown",
   "id": "278f0cca",
   "metadata": {},
   "source": [
    "\n",
    "#### Q3. Write a program that prints the multiplication table of a given number using a for loop.\n",
    "\n",
    "\n",
    "\n",
    "\n"
   ]
  },
  {
   "cell_type": "code",
   "execution_count": 11,
   "id": "6ca98f98",
   "metadata": {},
   "outputs": [
    {
     "name": "stdout",
     "output_type": "stream",
     "text": [
      "Enter a number: 5\n",
      "5 x 1 = 5\n",
      "5 x 2 = 10\n",
      "5 x 3 = 15\n",
      "5 x 4 = 20\n",
      "5 x 5 = 25\n",
      "5 x 6 = 30\n",
      "5 x 7 = 35\n",
      "5 x 8 = 40\n",
      "5 x 9 = 45\n",
      "5 x 10 = 50\n"
     ]
    }
   ],
   "source": [
    "num = int(input('Enter a number: '))\n",
    "\n",
    "for i in range(1, 11):\n",
    "    print(f\"{num} x {i} = {num*i}\")"
   ]
  },
  {
   "cell_type": "markdown",
   "id": "477e5207",
   "metadata": {},
   "source": [
    "\n",
    "#### Q4. Write a program that takes a list of integers as input and returns the sum of all the numbers in the list using a for loop.\n"
   ]
  },
  {
   "cell_type": "code",
   "execution_count": 20,
   "id": "ab5abbca",
   "metadata": {},
   "outputs": [],
   "source": [
    "def sum_num(n2):\n",
    "    result = 0\n",
    "    for i in n2:\n",
    "        result += i\n",
    "    return result"
   ]
  },
  {
   "cell_type": "code",
   "execution_count": 21,
   "id": "ead05ac5",
   "metadata": {},
   "outputs": [
    {
     "data": {
      "text/plain": [
       "15"
      ]
     },
     "execution_count": 21,
     "metadata": {},
     "output_type": "execute_result"
    }
   ],
   "source": [
    "sum_num([1,2,3,4,5])"
   ]
  },
  {
   "cell_type": "markdown",
   "id": "06e0dc59",
   "metadata": {},
   "source": [
    "\n",
    "#### Q5. Write a program that prompts the user for a positive integer and then prints out all the prime numbers up to that number using a for loop.\n"
   ]
  },
  {
   "cell_type": "code",
   "execution_count": 36,
   "id": "efc60f05",
   "metadata": {},
   "outputs": [],
   "source": [
    "def prime_num():\n",
    "    num = int(input('Enter a number: '))\n",
    "    for i in range(0,num+1):\n",
    "        if i > 1:\n",
    "            for j in range(2, i):\n",
    "                if (i % j) == 0:\n",
    "                    break\n",
    "            else:\n",
    "                print(i, end = ' ')"
   ]
  },
  {
   "cell_type": "code",
   "execution_count": 37,
   "id": "86498e4e",
   "metadata": {},
   "outputs": [
    {
     "name": "stdout",
     "output_type": "stream",
     "text": [
      "Enter a number: 10\n",
      "2 3 5 7 "
     ]
    }
   ],
   "source": [
    "prime_num()"
   ]
  },
  {
   "cell_type": "markdown",
   "id": "7bacd95c",
   "metadata": {},
   "source": [
    "#### Q6. Write a program that prompts the user to enter a password until the correct password is entered using a while loop."
   ]
  },
  {
   "cell_type": "code",
   "execution_count": 42,
   "id": "06958bb5",
   "metadata": {},
   "outputs": [
    {
     "name": "stdout",
     "output_type": "stream",
     "text": [
      "Enter your desired password: yash\n",
      "Enter your password to validate: yash\n"
     ]
    }
   ],
   "source": [
    "password = input('Enter your desired password: ')\n",
    "switch = True\n",
    "while switch:\n",
    "    pass_check = input(\"Enter your password to validate: \")\n",
    "    if pass_check == password:\n",
    "        switch = False\n",
    "    else:\n",
    "        print('invalid, enter again!')\n",
    "        pass_check = input(\"Enter your password to validate: \")"
   ]
  },
  {
   "cell_type": "markdown",
   "id": "dc38d1a8",
   "metadata": {},
   "source": [
    "#### Q7. Write a program that takes a list of strings and prints out each string in reverse order using a while loop."
   ]
  },
  {
   "cell_type": "code",
   "execution_count": 61,
   "id": "0bbdccbb",
   "metadata": {},
   "outputs": [],
   "source": [
    "def rev_string2(n):\n",
    "    x = 0\n",
    "    while x <= (len(n) - 1):\n",
    "        print(n[x][::-1], end = ' ')\n",
    "        x+=1"
   ]
  },
  {
   "cell_type": "code",
   "execution_count": 62,
   "id": "67ec6591",
   "metadata": {},
   "outputs": [
    {
     "name": "stdout",
     "output_type": "stream",
     "text": [
      "hsay irahsek ecneics atad wp "
     ]
    }
   ],
   "source": [
    "rev_string2(['yash', 'keshari', 'data science', 'pw'])"
   ]
  },
  {
   "cell_type": "markdown",
   "id": "d99e6c55",
   "metadata": {},
   "source": [
    "#### Q8. Write a program that prompts the user to enter a positive integer and then prints out all the Fibonacci numbers up to that number using a while loop."
   ]
  },
  {
   "cell_type": "code",
   "execution_count": 79,
   "id": "6cd42c28",
   "metadata": {},
   "outputs": [],
   "source": [
    "def fib_series():\n",
    "    \"\"\"This function takes a number and prints fibonacci numbers times that number.\"\"\"\n",
    "    limit = int(input('Enter your number limit: '))\n",
    "    fibonacci_lst = []\n",
    "    for i in range(0,limit):\n",
    "        if i in [0,1]:\n",
    "            fibonacci_lst.append(i)\n",
    "        else:\n",
    "            s = fibonacci_lst[i-1] + fibonacci_lst[i-2]\n",
    "            fibonacci_lst.append(s)\n",
    "    return fibonacci_lst"
   ]
  },
  {
   "cell_type": "code",
   "execution_count": 78,
   "id": "f7a966cb",
   "metadata": {},
   "outputs": [
    {
     "name": "stdout",
     "output_type": "stream",
     "text": [
      "Enter your number limit: 10\n"
     ]
    },
    {
     "data": {
      "text/plain": [
       "[0, 1, 1, 2, 3, 5, 8, 13, 21, 34]"
      ]
     },
     "execution_count": 78,
     "metadata": {},
     "output_type": "execute_result"
    }
   ],
   "source": [
    "fib_series()"
   ]
  },
  {
   "cell_type": "markdown",
   "id": "c5f2b80f",
   "metadata": {},
   "source": [
    "#### Q9. Write a program that takes a list of integers as input and returns the product of all the numbers in the list using a while loop."
   ]
  },
  {
   "cell_type": "code",
   "execution_count": 72,
   "id": "cbedebd2",
   "metadata": {},
   "outputs": [],
   "source": [
    "def lst_product(n):\n",
    "    x = 1\n",
    "    for i in n:\n",
    "        x*=i\n",
    "    return x"
   ]
  },
  {
   "cell_type": "code",
   "execution_count": 73,
   "id": "7e6e3423",
   "metadata": {},
   "outputs": [
    {
     "data": {
      "text/plain": [
       "120"
      ]
     },
     "execution_count": 73,
     "metadata": {},
     "output_type": "execute_result"
    }
   ],
   "source": [
    "lst_product([1,2,3,4,5])"
   ]
  },
  {
   "cell_type": "markdown",
   "id": "8dcc75b5",
   "metadata": {},
   "source": [
    "#### Q10. Write a program that prompts the user to enter a positive integer and then prints out the factorial of that number using a while loop."
   ]
  },
  {
   "cell_type": "code",
   "execution_count": 89,
   "id": "8438c12a",
   "metadata": {},
   "outputs": [],
   "source": [
    "def num_factorial():\n",
    "    k = int(input('Enter your number to calculate factorial of the same: '))\n",
    "    factorial = 1\n",
    "    \n",
    "    for i in range(1, k+1):\n",
    "        factorial *= i\n",
    "    \n",
    "    return factorial"
   ]
  },
  {
   "cell_type": "code",
   "execution_count": 90,
   "id": "f7538a7f",
   "metadata": {},
   "outputs": [
    {
     "name": "stdout",
     "output_type": "stream",
     "text": [
      "Enter your number to calculate factorial of the same: 5\n"
     ]
    },
    {
     "data": {
      "text/plain": [
       "120"
      ]
     },
     "execution_count": 90,
     "metadata": {},
     "output_type": "execute_result"
    }
   ],
   "source": [
    "num_factorial()"
   ]
  }
 ],
 "metadata": {
  "kernelspec": {
   "display_name": "Python 3 (ipykernel)",
   "language": "python",
   "name": "python3"
  },
  "language_info": {
   "codemirror_mode": {
    "name": "ipython",
    "version": 3
   },
   "file_extension": ".py",
   "mimetype": "text/x-python",
   "name": "python",
   "nbconvert_exporter": "python",
   "pygments_lexer": "ipython3",
   "version": "3.10.10"
  }
 },
 "nbformat": 4,
 "nbformat_minor": 5
}
