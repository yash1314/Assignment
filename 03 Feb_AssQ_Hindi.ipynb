{
 "cells": [
  {
   "cell_type": "markdown",
   "id": "7e574dc2",
   "metadata": {},
   "source": [
    "#### Q1. Which keyword is used to create a function? Create a function to return a list of odd numbers in the range of 1 to 25."
   ]
  },
  {
   "cell_type": "code",
   "execution_count": 3,
   "id": "69ba16b5",
   "metadata": {},
   "outputs": [
    {
     "name": "stdout",
     "output_type": "stream",
     "text": [
      "Ans: 'def' keyword is used to create a function.\n"
     ]
    },
    {
     "data": {
      "text/plain": [
       "[3, 6, 9, 12, 15, 18, 21, 24]"
      ]
     },
     "execution_count": 3,
     "metadata": {},
     "output_type": "execute_result"
    }
   ],
   "source": [
    "print(\"Ans: 'def' keyword is used to create a function.\")\n",
    "\n",
    "def list_of_odd():\n",
    "    return [i for i in range(1,26) if i % 3 == 0]\n",
    "\n",
    "list_of_odd()"
   ]
  },
  {
   "cell_type": "markdown",
   "id": "33b83aeb",
   "metadata": {},
   "source": [
    "#### Q2. Why *args and **kwargs is used in some functions? Create a function each for *args and **kwargs to demonstrate their use."
   ]
  },
  {
   "cell_type": "code",
   "execution_count": 52,
   "id": "557dd1ad",
   "metadata": {},
   "outputs": [
    {
     "name": "stdout",
     "output_type": "stream",
     "text": [
      "Ans: Both *args and **kwargs are used to pass variable length non-keyword and keyword arguments inside a function i.e multiple number of arguments. In **kwargs the formatting is like dictonary and the object we get is dictonary object, whereas in *args it can be anything. In **kwargs we have to use keyword arguments because those keyword arguments will become key-value pairs.\n",
      "*args:  [2, 4, 6, 8, 10]\n",
      "**Kwargs example\n",
      "first_name - yash\n",
      "last_name - keshari\n",
      "course - Data Science\n"
     ]
    }
   ],
   "source": [
    "print(\"\"\"Ans: Both *args and **kwargs are used to pass variable length non-keyword and keyword arguments inside a function i.e multiple number of arguments. In **kwargs the formatting is like dictonary and the object we get is dictonary object, whereas in *args it can be anything. In **kwargs we have to use keyword arguments because those keyword arguments will become key-value pairs.\"\"\")\n",
    "\n",
    "# *args \n",
    "\n",
    "def num_sum(*n):\n",
    "    \"\"\"Summation of individual numbers to itself\"\"\"\n",
    "    a = [i+i for i in n]\n",
    "    return a\n",
    "print('*args: ', num_sum(1,2,3,4,5))   \n",
    "\n",
    "\n",
    "#**kwargs\n",
    "\n",
    "def example(**x):\n",
    "    for i,j in x.items():\n",
    "        print(i,'-',j)\n",
    "\n",
    "print('**Kwargs example')\n",
    "example(first_name = 'yash', last_name = 'keshari', course = 'Data Science' )"
   ]
  },
  {
   "cell_type": "markdown",
   "id": "6604dd3b",
   "metadata": {},
   "source": [
    "#### Q3. What is an iterator in python? Name the method used to initialise the iterator object and the method used for iteration. Use these methods to print the first five elements of the given list [2, 4, 6, 8, 10, 12, 14, 16, 18, 20]."
   ]
  },
  {
   "cell_type": "code",
   "execution_count": 1,
   "id": "f212ed44",
   "metadata": {},
   "outputs": [
    {
     "name": "stdout",
     "output_type": "stream",
     "text": [
      "Ans: = An iterator is an object on which we can traverse over. Traversing means going over every item in a iterable object, selecting every item one by one and then doing some operation on every item. Iter() method is used to initialise the iterator object and next() method is used for iteration i.e to get next element in a sequence.\n",
      "2 4 6 8 10 "
     ]
    }
   ],
   "source": [
    "print('Ans: = An iterator is an object on which we can traverse over. Traversing means going over every item in a iterable object, selecting every item one by one and then doing some operation on each item. Iter() method is used to initialise the iterator object and next() method is used for iteration i.e to get next element in a sequence.')\n",
    "\n",
    "l = [2, 4, 6, 8, 10, 12, 14, 16, 18, 20]\n",
    "l1 = iter(l)\n",
    "\n",
    "a = 1\n",
    "while a <= 5:\n",
    "    print(next(l1), end = ' ')\n",
    "    a+=1"
   ]
  },
  {
   "cell_type": "markdown",
   "id": "306bebf1",
   "metadata": {},
   "source": [
    "#### Q4. What is a generator function in python? Why yield keyword is used? Give an example of a generator function."
   ]
  },
  {
   "cell_type": "code",
   "execution_count": 2,
   "id": "949fac7b",
   "metadata": {},
   "outputs": [
    {
     "name": "stdout",
     "output_type": "stream",
     "text": [
      "Ans: Generator function generates values one by one and not all at once. It is used to optimise memory utilization and computational power. It makes use of yield statement instead of return statement. If a function contains a yield statement then the function becomes a generator function. Yield statement generates a value one at a time and with loop/next method, the next value in a sequence is computed. This saves memory and computational power by not giving whole sequence of data all at once instead one at a time. Range is one the example of generator function.\n",
      "Generator example :-\n",
      "1 4 9 16 25 "
     ]
    }
   ],
   "source": [
    "print('Ans: Generator function generates values one by one and not all at once. It is used to optimise memory utilization and computational power. It makes use of yield statement instead of return statement. If a function contains a yield statement then the function becomes a generator function. Yield statement generates a value one at a time and with loop/next method, the next value in a sequence is computed. This saves memory and computational power by not giving whole sequence of data all at once instead one at a time. Range is one the example of generator function.')\n",
    "\n",
    "print('Generator example :-')\n",
    "\n",
    "def generator_example(n):\n",
    "    \"\"\"Generates sqaured values from 1 to 5\"\"\"\n",
    "    while n <= 5:\n",
    "        yield n**2\n",
    "        n+=1\n",
    "a = generator_example(1)\n",
    "\n",
    "for i in a:\n",
    "    print(i, end = ' ')"
   ]
  },
  {
   "cell_type": "markdown",
   "id": "46766bc7",
   "metadata": {},
   "source": [
    "#### Q5. Create a generator function for prime numbers less than 1000. Use the next() method to print the first 20 prime numbers."
   ]
  },
  {
   "cell_type": "code",
   "execution_count": 124,
   "id": "75d2e756",
   "metadata": {},
   "outputs": [],
   "source": [
    "def prime_gen(n):\n",
    "    for i in range(0, n+1):\n",
    "        flag = False\n",
    "        if i > 1:\n",
    "            for j in range (2,i):\n",
    "                if i%j == 0:\n",
    "                    flag = True\n",
    "                    break\n",
    "            if flag == False:\n",
    "                yield i"
   ]
  },
  {
   "cell_type": "code",
   "execution_count": 125,
   "id": "2b648be9",
   "metadata": {},
   "outputs": [
    {
     "name": "stdout",
     "output_type": "stream",
     "text": [
      "2 3 5 7 11 13 17 19 23 29 31 37 41 43 47 53 59 61 67 71 "
     ]
    }
   ],
   "source": [
    "m = [i for i in prime_gen(1000)]\n",
    "m2 = iter(m)\n",
    "l = 0\n",
    "while l < 20:\n",
    "    print(next(m2), end = ' ')\n",
    "    l += 1"
   ]
  },
  {
   "cell_type": "markdown",
   "id": "f6bdb51a",
   "metadata": {},
   "source": [
    "#### Q6. Write a python program to print the first 10 Fibonacci numbers using a while loop."
   ]
  },
  {
   "cell_type": "code",
   "execution_count": 61,
   "id": "8b0aa450",
   "metadata": {},
   "outputs": [
    {
     "name": "stdout",
     "output_type": "stream",
     "text": [
      "0 1 1 2 3 5 8 13 21 34 "
     ]
    }
   ],
   "source": [
    "a, b = 0, 1\n",
    "n = 0\n",
    "while n < 10:\n",
    "    print(a, end = ' ')\n",
    "    a, b = b , a + b\n",
    "    n += 1"
   ]
  },
  {
   "cell_type": "markdown",
   "id": "7d6c6bb7",
   "metadata": {},
   "source": [
    "#### Q7. Write a List Comprehension to iterate through the given string: ‘pwskills’. Expected output: ['p', 'w', 's', 'k', 'i', 'l', 'l', 's'] "
   ]
  },
  {
   "cell_type": "code",
   "execution_count": 113,
   "id": "9438690e",
   "metadata": {},
   "outputs": [
    {
     "data": {
      "text/plain": [
       "['p', 'w', 's', 'k', 'i', 'l', 'l', 's']"
      ]
     },
     "execution_count": 113,
     "metadata": {},
     "output_type": "execute_result"
    }
   ],
   "source": [
    "s = 'pwskills'\n",
    "l = [i for i in s]\n",
    "l"
   ]
  },
  {
   "cell_type": "markdown",
   "id": "26339803",
   "metadata": {},
   "source": [
    "#### Q8.Write a python program to check whether a given number is Palindrome or not using a while loop."
   ]
  },
  {
   "cell_type": "code",
   "execution_count": 20,
   "id": "74a899ce",
   "metadata": {},
   "outputs": [
    {
     "name": "stdout",
     "output_type": "stream",
     "text": [
      "Enter the number to check for palindrome: 258\n",
      "No, the given number is not palindrome\n"
     ]
    }
   ],
   "source": [
    "num = input('Enter the number to check for palindrome: ')\n",
    "n = True\n",
    "while n:\n",
    "    if num[::] == num[::-1]:\n",
    "        print('Yes, the given number is palindrome.')\n",
    "        n = False\n",
    "    else:\n",
    "        print('No, the given number is not palindrome')\n",
    "        n = False"
   ]
  },
  {
   "cell_type": "markdown",
   "id": "11e9cd6f",
   "metadata": {},
   "source": [
    "#### Q9.Write a code to print odd numbers from 1 to 100 using list comprehension.\n",
    "#### Note: Use a list comprehension to create a list from 1 to 100 and use another List comprehension to filter out odd numbers."
   ]
  },
  {
   "cell_type": "code",
   "execution_count": 3,
   "id": "9142f8ac",
   "metadata": {},
   "outputs": [
    {
     "name": "stdout",
     "output_type": "stream",
     "text": [
      "[3, 6, 9, 12, 15, 18, 21, 24, 27, 30, 33, 36, 39, 42, 45, 48, 51, 54, 57, 60, 63, 66, 69, 72, 75, 78, 81, 84, 87, 90, 93, 96, 99] "
     ]
    }
   ],
   "source": [
    "l2 = [i for i in range(1,101)]\n",
    "odd_nums = [j for j in l2 if j % 3 == 0]\n",
    "print(odd_nums, end = ' ')"
   ]
  }
 ],
 "metadata": {
  "kernelspec": {
   "display_name": "Python 3 (ipykernel)",
   "language": "python",
   "name": "python3"
  },
  "language_info": {
   "codemirror_mode": {
    "name": "ipython",
    "version": 3
   },
   "file_extension": ".py",
   "mimetype": "text/x-python",
   "name": "python",
   "nbconvert_exporter": "python",
   "pygments_lexer": "ipython3",
   "version": "3.9.7"
  }
 },
 "nbformat": 4,
 "nbformat_minor": 5
}
