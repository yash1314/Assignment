{
 "cells": [
  {
   "cell_type": "markdown",
   "id": "5696195a",
   "metadata": {},
   "source": [
    "#### Q1. Create a list in python using the followings: 2,3,4,5,6,7 with variable ‘a’\n",
    "\n",
    "Add ‘mango to the above list\n",
    "\n",
    "Also add banana, grapes & orange in the list \n",
    "\n",
    "insert apple in the 5th position of a variable ‘a’\n",
    "\n",
    "Remove last item from the list                                                                                        "
   ]
  },
  {
   "cell_type": "code",
   "execution_count": 28,
   "id": "9f307faf",
   "metadata": {},
   "outputs": [],
   "source": [
    "a = [2,3,4,5,6,7]"
   ]
  },
  {
   "cell_type": "code",
   "execution_count": 29,
   "id": "634c7fec",
   "metadata": {},
   "outputs": [],
   "source": [
    "a.append('mango')"
   ]
  },
  {
   "cell_type": "code",
   "execution_count": 30,
   "id": "1f87345a",
   "metadata": {},
   "outputs": [],
   "source": [
    "a.extend(['banana', 'grapes', 'orange'])"
   ]
  },
  {
   "cell_type": "code",
   "execution_count": 31,
   "id": "17b7ec01",
   "metadata": {},
   "outputs": [
    {
     "data": {
      "text/plain": [
       "[2, 3, 4, 5, 6, 'apple', 7, 'mango', 'banana', 'grapes', 'orange']"
      ]
     },
     "execution_count": 31,
     "metadata": {},
     "output_type": "execute_result"
    }
   ],
   "source": [
    "a.insert(5, 'apple')"
   ]
  },
  {
   "cell_type": "code",
   "execution_count": 32,
   "id": "2f3109cf",
   "metadata": {},
   "outputs": [
    {
     "data": {
      "text/plain": [
       "'orange'"
      ]
     },
     "execution_count": 32,
     "metadata": {},
     "output_type": "execute_result"
    }
   ],
   "source": [
    "a.pop(-1)"
   ]
  },
  {
   "cell_type": "code",
   "execution_count": 33,
   "id": "187534c6",
   "metadata": {},
   "outputs": [
    {
     "data": {
      "text/plain": [
       "[2, 3, 4, 5, 6, 'apple', 7, 'mango', 'banana', 'grapes']"
      ]
     },
     "execution_count": 33,
     "metadata": {},
     "output_type": "execute_result"
    }
   ],
   "source": [
    "a"
   ]
  },
  {
   "cell_type": "markdown",
   "id": "c78e3b8b",
   "metadata": {},
   "source": [
    "#### Q2.\n",
    "\n",
    "L = [1,2,3,4,5,6,7]\n",
    "\n",
    "Using the above list slice from 1:4"
   ]
  },
  {
   "cell_type": "code",
   "execution_count": 39,
   "id": "b3b4e51c",
   "metadata": {},
   "outputs": [],
   "source": [
    "l1 = [1,2,3,4,5,6,7]"
   ]
  },
  {
   "cell_type": "code",
   "execution_count": 40,
   "id": "8b740698",
   "metadata": {},
   "outputs": [
    {
     "data": {
      "text/plain": [
       "[2, 3, 4]"
      ]
     },
     "execution_count": 40,
     "metadata": {},
     "output_type": "execute_result"
    }
   ],
   "source": [
    "l1[1:4]"
   ]
  },
  {
   "cell_type": "markdown",
   "id": "71b4720d",
   "metadata": {},
   "source": [
    "#### Q3. Reverse the order of given string L = [4,5,6,8,3] Without using reverse() function."
   ]
  },
  {
   "cell_type": "code",
   "execution_count": 42,
   "id": "d124b27b",
   "metadata": {},
   "outputs": [],
   "source": [
    "l2 = [4,5,6,8,3]"
   ]
  },
  {
   "cell_type": "code",
   "execution_count": 43,
   "id": "22c42027",
   "metadata": {},
   "outputs": [
    {
     "data": {
      "text/plain": [
       "[3, 8, 6, 5, 4]"
      ]
     },
     "execution_count": 43,
     "metadata": {},
     "output_type": "execute_result"
    }
   ],
   "source": [
    "l2[::-1]"
   ]
  },
  {
   "cell_type": "markdown",
   "id": "8490819b",
   "metadata": {},
   "source": [
    "#### Q4. Use list comprehension to square the given list L=[2,4,7,3,6,8]"
   ]
  },
  {
   "cell_type": "code",
   "execution_count": 44,
   "id": "c0c1ae9d",
   "metadata": {},
   "outputs": [],
   "source": [
    "l3 = [2,4,7,3,6,8]"
   ]
  },
  {
   "cell_type": "code",
   "execution_count": 46,
   "id": "a15b626d",
   "metadata": {},
   "outputs": [
    {
     "data": {
      "text/plain": [
       "[4, 16, 49, 9, 36, 64]"
      ]
     },
     "execution_count": 46,
     "metadata": {},
     "output_type": "execute_result"
    }
   ],
   "source": [
    "l4 = [i**2 for i in l3]\n",
    "l4"
   ]
  },
  {
   "cell_type": "markdown",
   "id": "5a11896c",
   "metadata": {},
   "source": [
    "#### Q5. Create a function that takes in a tuple of integers and returns the sum of the integers. Test the function with a tuple of your choice. "
   ]
  },
  {
   "cell_type": "code",
   "execution_count": 95,
   "id": "f88dc2e7",
   "metadata": {},
   "outputs": [],
   "source": [
    "def sum_integer(n1):\n",
    "    n = list(n1)\n",
    "    s = 0\n",
    "    for i in n:\n",
    "        s += i\n",
    "    return s"
   ]
  },
  {
   "cell_type": "code",
   "execution_count": 97,
   "id": "95a9ee78",
   "metadata": {},
   "outputs": [
    {
     "data": {
      "text/plain": [
       "6"
      ]
     },
     "execution_count": 97,
     "metadata": {},
     "output_type": "execute_result"
    }
   ],
   "source": [
    "sum_integer((1,2,3))"
   ]
  },
  {
   "cell_type": "markdown",
   "id": "19556cd1",
   "metadata": {},
   "source": [
    "#### Q6. Create two sets of your favourite fruits, and use the union() method to combine them into a single set. Print the resulting set to the console.\n",
    "\n"
   ]
  },
  {
   "cell_type": "code",
   "execution_count": 98,
   "id": "35006cb6",
   "metadata": {},
   "outputs": [],
   "source": [
    "fruits1 = {'mango', 'kiwi', 'apple', 'banana', 'pineapple'}\n",
    "fruits2 = {'mango', 'grapes', 'papaya', 'apple', 'strawberry'}"
   ]
  },
  {
   "cell_type": "code",
   "execution_count": 99,
   "id": "77a57cfd",
   "metadata": {},
   "outputs": [
    {
     "data": {
      "text/plain": [
       "{'apple',\n",
       " 'banana',\n",
       " 'grapes',\n",
       " 'kiwi',\n",
       " 'mango',\n",
       " 'papaya',\n",
       " 'pineapple',\n",
       " 'strawberry'}"
      ]
     },
     "execution_count": 99,
     "metadata": {},
     "output_type": "execute_result"
    }
   ],
   "source": [
    "fruits1.union(fruits2)"
   ]
  },
  {
   "cell_type": "markdown",
   "id": "c0eff2b0",
   "metadata": {},
   "source": [
    "#### Q7. Create a set of random words, and use the add() method to add a new word to the set. Print the resulting set to the console."
   ]
  },
  {
   "cell_type": "code",
   "execution_count": 101,
   "id": "5ebd3918",
   "metadata": {},
   "outputs": [
    {
     "data": {
      "text/plain": [
       "{'a', 'h', 'k', 'l', 's', 'w'}"
      ]
     },
     "execution_count": 101,
     "metadata": {},
     "output_type": "execute_result"
    }
   ],
   "source": [
    "word1 = {'w','s','h','k','l'}\n",
    "word1.add('a')\n",
    "word1"
   ]
  },
  {
   "cell_type": "markdown",
   "id": "fb1da377",
   "metadata": {},
   "source": [
    "#### Q8. Create a set of your favourite animals, and use the remove() method to remove one animal from the set. Print the resulting set to the console."
   ]
  },
  {
   "cell_type": "code",
   "execution_count": 103,
   "id": "83ca5533",
   "metadata": {},
   "outputs": [
    {
     "data": {
      "text/plain": [
       "{'cow', 'dog', 'donkey', 'monkey'}"
      ]
     },
     "execution_count": 103,
     "metadata": {},
     "output_type": "execute_result"
    }
   ],
   "source": [
    "animals1 = {'cat', 'dog', 'cow', 'monkey', 'donkey'}\n",
    "animals1.remove('cat')\n",
    "animals1"
   ]
  },
  {
   "cell_type": "markdown",
   "id": "851cc54a",
   "metadata": {},
   "source": [
    "#### Q9. Use the zip() function to combine the book set and movie list into a list of tuples  representing book/movie pairs. Print the resulting list."
   ]
  },
  {
   "cell_type": "code",
   "execution_count": 105,
   "id": "94e38070",
   "metadata": {},
   "outputs": [],
   "source": [
    "favorite_books = {\"1984\", \"To Kill a Mockingbird\", \"Pride and Prejudice\"}"
   ]
  },
  {
   "cell_type": "code",
   "execution_count": 106,
   "id": "27378810",
   "metadata": {},
   "outputs": [],
   "source": [
    "favorite_movies = [\"The Shawshank Redemption\", \"The Godfather\", \"The Dark Knight\"]"
   ]
  },
  {
   "cell_type": "code",
   "execution_count": 107,
   "id": "9fe11f77",
   "metadata": {},
   "outputs": [
    {
     "data": {
      "text/plain": [
       "[('To Kill a Mockingbird', 'The Shawshank Redemption'),\n",
       " ('Pride and Prejudice', 'The Godfather'),\n",
       " ('1984', 'The Dark Knight')]"
      ]
     },
     "execution_count": 107,
     "metadata": {},
     "output_type": "execute_result"
    }
   ],
   "source": [
    "list(zip(favorite_books, favorite_movies))"
   ]
  },
  {
   "cell_type": "markdown",
   "id": "6b1c5782",
   "metadata": {},
   "source": [
    "#### Q10. Write a Python program to find the difference between consecutive numbers in a list."
   ]
  },
  {
   "cell_type": "code",
   "execution_count": 125,
   "id": "6968fd09",
   "metadata": {},
   "outputs": [],
   "source": [
    "l1 = [1,3,6,8,10]\n",
    "diff = []\n",
    "for index, value in enumerate(l1):\n",
    "    if index < (len(l1) - 1):\n",
    "        diff.append(l1[index+1] - l1[index])"
   ]
  },
  {
   "cell_type": "code",
   "execution_count": 126,
   "id": "72780db8",
   "metadata": {},
   "outputs": [
    {
     "data": {
      "text/plain": [
       "[2, 3, 2, 2]"
      ]
     },
     "execution_count": 126,
     "metadata": {},
     "output_type": "execute_result"
    }
   ],
   "source": [
    "diff"
   ]
  }
 ],
 "metadata": {
  "kernelspec": {
   "display_name": "Python 3 (ipykernel)",
   "language": "python",
   "name": "python3"
  },
  "language_info": {
   "codemirror_mode": {
    "name": "ipython",
    "version": 3
   },
   "file_extension": ".py",
   "mimetype": "text/x-python",
   "name": "python",
   "nbconvert_exporter": "python",
   "pygments_lexer": "ipython3",
   "version": "3.10.10"
  }
 },
 "nbformat": 4,
 "nbformat_minor": 5
}
