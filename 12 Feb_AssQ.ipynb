{
 "cells": [
  {
   "cell_type": "markdown",
   "id": "81b264e5",
   "metadata": {},
   "source": [
    "#### Q1. What is an Exception in python? Write the difference between exception and syntax errors."
   ]
  },
  {
   "cell_type": "code",
   "execution_count": 15,
   "id": "c6472b9f",
   "metadata": {},
   "outputs": [
    {
     "name": "stdout",
     "output_type": "stream",
     "text": [
      "Exception is an condition that occurs during the execution of a programm. This condition or an event obstruct the \n",
      "normal flow of the program. When this happens an error is generated. we should create our program in such a way that it can \n",
      "handle almost any exception that occurs. such as KeyError, TypeError, ImportError, etc\n",
      "\n",
      "Syntax error occurs when we make mistakes like typos, omission, incorrect use of syntax. It is basically an error \n",
      "in structure of program.\n",
      "\n",
      "Difference: \n",
      "- Syntax error is code structure/rule error whereas exception is an event/condition error that intrupts the \n",
      "execution of program.\n",
      "- Syntax error is unchecked while exception is both checked and unchecked.\n",
      "- Syntax error will not be converted to machine code by compiler whereas code with execution error will be compiled into \n",
      "machine code.\n"
     ]
    }
   ],
   "source": [
    "print(\"\"\"Exception is an condition that occurs during the execution of a programm. This condition or an event obstruct the \n",
    "normal flow of the program. When this happens an error is generated. we should create our program in such a way that it can \n",
    "handle almost any exception that occurs. such as KeyError, TypeError, ImportError, etc\"\"\")\n",
    "print('')\n",
    "print(\"\"\"Syntax error occurs when we make mistakes like typos, omission, incorrect use of syntax. It is basically an error \n",
    "in structure of program.\"\"\")\n",
    "print('')\n",
    "print('Difference: ')\n",
    "print(\"\"\"- Syntax error is code structure/rule error whereas exception is an event/condition error that intrupts the \n",
    "execution of program.\n",
    "- Syntax error is unchecked while exception is both checked and unchecked.\n",
    "- Syntax error will not be converted to machine code by compiler whereas code with execution error will be compiled into \n",
    "machine code.\"\"\")"
   ]
  },
  {
   "cell_type": "markdown",
   "id": "78da6822",
   "metadata": {},
   "source": [
    "#### Q2. What happens when an exception is not handled? Explain with an example."
   ]
  },
  {
   "cell_type": "code",
   "execution_count": 41,
   "id": "bf1457cd",
   "metadata": {},
   "outputs": [
    {
     "name": "stdout",
     "output_type": "stream",
     "text": [
      "If the exception is not handled in the program then the program terminates and an error message is printed.\n",
      "Also the code after the line where error occured is not executed (if finally block is included, then only finally will \n",
      "run regardless of condition/error).\n",
      "Example:\n",
      "\n",
      "Enter any number: 54\n",
      "This line of code will run regardless of above conditions or errors.\n"
     ]
    },
    {
     "ename": "TypeError",
     "evalue": "can't multiply sequence by non-int of type 'str'",
     "output_type": "error",
     "traceback": [
      "\u001b[1;31m---------------------------------------------------------------------------\u001b[0m",
      "\u001b[1;31mTypeError\u001b[0m                                 Traceback (most recent call last)",
      "\u001b[1;32m~\\AppData\\Local\\Temp/ipykernel_5116/1466366477.py\u001b[0m in \u001b[0;36m<module>\u001b[1;34m\u001b[0m\n\u001b[0;32m      7\u001b[0m \u001b[1;32mtry\u001b[0m\u001b[1;33m:\u001b[0m\u001b[1;33m\u001b[0m\u001b[1;33m\u001b[0m\u001b[0m\n\u001b[0;32m      8\u001b[0m     \u001b[0mn\u001b[0m \u001b[1;33m=\u001b[0m \u001b[0minput\u001b[0m\u001b[1;33m(\u001b[0m\u001b[1;34m'Enter any number: '\u001b[0m\u001b[1;33m)\u001b[0m\u001b[1;33m\u001b[0m\u001b[1;33m\u001b[0m\u001b[0m\n\u001b[1;32m----> 9\u001b[1;33m     \u001b[0ma\u001b[0m \u001b[1;33m=\u001b[0m \u001b[0mn\u001b[0m\u001b[1;33m*\u001b[0m\u001b[0mn\u001b[0m\u001b[1;33m\u001b[0m\u001b[1;33m\u001b[0m\u001b[0m\n\u001b[0m\u001b[0;32m     10\u001b[0m \u001b[1;32mexcept\u001b[0m \u001b[0mValueError\u001b[0m \u001b[1;32mas\u001b[0m \u001b[0me\u001b[0m\u001b[1;33m:\u001b[0m\u001b[1;33m\u001b[0m\u001b[1;33m\u001b[0m\u001b[0m\n\u001b[0;32m     11\u001b[0m     \u001b[0mprint\u001b[0m\u001b[1;33m(\u001b[0m\u001b[0me\u001b[0m\u001b[1;33m)\u001b[0m\u001b[1;33m\u001b[0m\u001b[1;33m\u001b[0m\u001b[0m\n",
      "\u001b[1;31mTypeError\u001b[0m: can't multiply sequence by non-int of type 'str'"
     ]
    }
   ],
   "source": [
    "print(\"\"\"If the exception is not handled in the program then the program terminates and an error message is printed.\n",
    "Also the code after the line where error occured is not executed (if finally block is included, then only finally will \n",
    "run regardless of condition/error).\"\"\")\n",
    "print('Example:')\n",
    "print('')\n",
    "\n",
    "try:\n",
    "    n = input('Enter any number: ')\n",
    "    a = n*n\n",
    "except ValueError as e:\n",
    "    print(e)\n",
    "finally:\n",
    "    print('This line of code will run regardless of above conditions or errors.')"
   ]
  },
  {
   "cell_type": "markdown",
   "id": "c8d35e9f",
   "metadata": {},
   "source": [
    "#### Q3. Which python statement are used to catch and handle exceptions? Explain with an exapmple."
   ]
  },
  {
   "cell_type": "code",
   "execution_count": 72,
   "id": "acc51e54",
   "metadata": {},
   "outputs": [
    {
     "name": "stdout",
     "output_type": "stream",
     "text": [
      "We use try and except block to catch and handle exceptions. For example: \n",
      "\n",
      "Error:  'str' object cannot be interpreted as an integer\n",
      "I will always run. Always!\n"
     ]
    }
   ],
   "source": [
    "print(\"\"\"We use try and except block to catch and handle exceptions. For example: \"\"\")\n",
    "print(\"\")\n",
    "\n",
    "try: \n",
    "    for i in range('a'):\n",
    "        print(i)\n",
    "        \n",
    "except TypeError as e:\n",
    "    print('Error: ', e)\n",
    "\n",
    "else:\n",
    "    print(\"It works fine\")\n",
    "    \n",
    "finally:\n",
    "    print(\"I will always run. Always!\")"
   ]
  },
  {
   "cell_type": "markdown",
   "id": "e19215a0",
   "metadata": {},
   "source": [
    "#### Q4. Explain with an example:\n",
    "    a. try and except\n",
    "    b. finally\n",
    "    c. raise"
   ]
  },
  {
   "cell_type": "code",
   "execution_count": 80,
   "id": "8e253d88",
   "metadata": {},
   "outputs": [
    {
     "name": "stdout",
     "output_type": "stream",
     "text": [
      "a. try and except: we use try and except blocks to catch and handle exceptions in python.\n",
      "\n",
      "b. finally: finally block is run after try and except is executed. It will run regardless of result of try and except. \n",
      "Generally this block is used to conclude our condition like closing a file or any closing any connection, etc.\n",
      "\n",
      "c. raise: The raise condition is used to raise an exception. we can specifically define for what condition to raise an \n",
      "exception and the text to print along with it.\n",
      "\n",
      "- Error:  can only concatenate str (not \"int\") to str\n"
     ]
    },
    {
     "ename": "TypeError",
     "evalue": "Always hello world!",
     "output_type": "error",
     "traceback": [
      "\u001b[1;31m---------------------------------------------------------------------------\u001b[0m",
      "\u001b[1;31mTypeError\u001b[0m                                 Traceback (most recent call last)",
      "\u001b[1;32m~\\AppData\\Local\\Temp/ipykernel_5116/4163475592.py\u001b[0m in \u001b[0;36m<module>\u001b[1;34m\u001b[0m\n\u001b[0;32m     15\u001b[0m \u001b[1;33m\u001b[0m\u001b[0m\n\u001b[0;32m     16\u001b[0m \u001b[1;32mfinally\u001b[0m\u001b[1;33m:\u001b[0m\u001b[1;33m\u001b[0m\u001b[1;33m\u001b[0m\u001b[0m\n\u001b[1;32m---> 17\u001b[1;33m     \u001b[1;32mraise\u001b[0m \u001b[0mTypeError\u001b[0m\u001b[1;33m(\u001b[0m\u001b[1;34m'Always hello world!'\u001b[0m\u001b[1;33m)\u001b[0m\u001b[1;33m\u001b[0m\u001b[1;33m\u001b[0m\u001b[0m\n\u001b[0m\u001b[0;32m     18\u001b[0m \u001b[1;33m\u001b[0m\u001b[0m\n",
      "\u001b[1;31mTypeError\u001b[0m: Always hello world!"
     ]
    }
   ],
   "source": [
    "print(\"\"\"a. try and except: we use try and except blocks to catch and handle exceptions in python.\n",
    "\n",
    "b. finally: finally block is run after try and except is executed. It will run regardless of result of try and except. \n",
    "Generally this block is used to conclude our condition like closing a file or any closing any connection, etc.\n",
    "\n",
    "c. raise: The raise condition is used to raise an exception. we can specifically define for what condition to raise an \n",
    "exception and the text to print along with it.\"\"\")\n",
    "print('')\n",
    "\n",
    "try:\n",
    "    print('Hello world' + 23)\n",
    "    \n",
    "except TypeError as e:\n",
    "    print('- Error: ',e)\n",
    "    \n",
    "finally:\n",
    "    raise TypeError('Always hello world!')\n",
    "    \n"
   ]
  },
  {
   "cell_type": "markdown",
   "id": "04219cc9",
   "metadata": {},
   "source": [
    "#### Q5. What are Custom Exceptions in python? Why do we need Custom excpetion in python? Explain with an example. "
   ]
  },
  {
   "cell_type": "code",
   "execution_count": 104,
   "id": "c261ee6f",
   "metadata": {},
   "outputs": [
    {
     "name": "stdout",
     "output_type": "stream",
     "text": [
      "Custom Exceptions are user defined exceptions in python. When developing a large code, we may encounter many \n",
      "conditions specific to our developement and that may require us to define our own excepiton and in that case we create our \n",
      "own custom exceptions. We can add information about project-related problems using custom exception. This is done by \n",
      "inheriting a built-in exception class. To use our custom exception we use raise statement. \n",
      "\n",
      "This is my custom exception example.\n"
     ]
    }
   ],
   "source": [
    "print(\"\"\"Custom Exceptions are user defined exceptions in python. When developing a large code, we may encounter many \n",
    "conditions specific to our developement and that may require us to define our own excepiton and in that case we create our \n",
    "own custom exceptions. We can add information about project-related problems using custom exception. This is done by \n",
    "inheriting a built-in exception class. To use our custom exception we use raise statement. \"\"\")\n",
    "print('')\n",
    "\n",
    "class CustomException(Exception):\n",
    "    \"\"\"This is Custom Exception Class\"\"\"\n",
    "    pass\n",
    "\n",
    "try:\n",
    "    raise CustomException('This is my custom exception example.')  \n",
    "\n",
    "except CustomException as e:\n",
    "    print(e)"
   ]
  },
  {
   "cell_type": "markdown",
   "id": "48278d71",
   "metadata": {},
   "source": [
    "#### Q6. Create a custom exception class. Use this class to handle an exception."
   ]
  },
  {
   "cell_type": "code",
   "execution_count": 113,
   "id": "4e955baa",
   "metadata": {},
   "outputs": [],
   "source": [
    "class AgeError(Exception):\n",
    "    min_age = 18\n",
    "    \n",
    "    def __init__(self, a):\n",
    "        self.a = a\n",
    "    def __str__(self):\n",
    "        return f'The age {a} is not a valid age!'"
   ]
  },
  {
   "cell_type": "code",
   "execution_count": 114,
   "id": "e935fa7d",
   "metadata": {},
   "outputs": [
    {
     "name": "stdout",
     "output_type": "stream",
     "text": [
      "Enter your age for a ride: 18\n",
      "All good!\n"
     ]
    }
   ],
   "source": [
    "try:\n",
    "    a = int(input('Enter your age for a ride: '))\n",
    "    \n",
    "    if a >= AgeError.min_age:\n",
    "        print('All good!')\n",
    "    else:\n",
    "        raise AgeError(a)\n",
    "except AgeError as e:\n",
    "    print(e)"
   ]
  }
 ],
 "metadata": {
  "kernelspec": {
   "display_name": "Python 3 (ipykernel)",
   "language": "python",
   "name": "python3"
  },
  "language_info": {
   "codemirror_mode": {
    "name": "ipython",
    "version": 3
   },
   "file_extension": ".py",
   "mimetype": "text/x-python",
   "name": "python",
   "nbconvert_exporter": "python",
   "pygments_lexer": "ipython3",
   "version": "3.9.7"
  }
 },
 "nbformat": 4,
 "nbformat_minor": 5
}
