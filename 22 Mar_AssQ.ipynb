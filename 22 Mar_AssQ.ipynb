{
 "cells": [
  {
   "cell_type": "code",
   "execution_count": 164,
   "id": "7e164d54",
   "metadata": {},
   "outputs": [],
   "source": [
    "import pandas as pd\n",
    "import numpy as np\n",
    "import seaborn as sns\n",
    "np.random.seed(42)"
   ]
  },
  {
   "cell_type": "markdown",
   "id": "39a98006",
   "metadata": {},
   "source": [
    "#### Q1. Pearson correlation coefficient is a measure of the linear relationship between two variables. Suppose you have collected data on the amount of time students spend studying for an exam and their final exam scores. Calculate the Pearson correlation coefficient between these two variables and interpret the result."
   ]
  },
  {
   "cell_type": "code",
   "execution_count": 63,
   "id": "5cf514c7",
   "metadata": {},
   "outputs": [
    {
     "data": {
      "text/html": [
       "<div>\n",
       "<style scoped>\n",
       "    .dataframe tbody tr th:only-of-type {\n",
       "        vertical-align: middle;\n",
       "    }\n",
       "\n",
       "    .dataframe tbody tr th {\n",
       "        vertical-align: top;\n",
       "    }\n",
       "\n",
       "    .dataframe thead th {\n",
       "        text-align: right;\n",
       "    }\n",
       "</style>\n",
       "<table border=\"1\" class=\"dataframe\">\n",
       "  <thead>\n",
       "    <tr style=\"text-align: right;\">\n",
       "      <th></th>\n",
       "      <th>hours</th>\n",
       "      <th>score</th>\n",
       "    </tr>\n",
       "  </thead>\n",
       "  <tbody>\n",
       "    <tr>\n",
       "      <th>0</th>\n",
       "      <td>5</td>\n",
       "      <td>88</td>\n",
       "    </tr>\n",
       "    <tr>\n",
       "      <th>1</th>\n",
       "      <td>6</td>\n",
       "      <td>76</td>\n",
       "    </tr>\n",
       "    <tr>\n",
       "      <th>2</th>\n",
       "      <td>4</td>\n",
       "      <td>69</td>\n",
       "    </tr>\n",
       "    <tr>\n",
       "      <th>3</th>\n",
       "      <td>7</td>\n",
       "      <td>81</td>\n",
       "    </tr>\n",
       "    <tr>\n",
       "      <th>4</th>\n",
       "      <td>8</td>\n",
       "      <td>90</td>\n",
       "    </tr>\n",
       "  </tbody>\n",
       "</table>\n",
       "</div>"
      ],
      "text/plain": [
       "   hours  score\n",
       "0      5     88\n",
       "1      6     76\n",
       "2      4     69\n",
       "3      7     81\n",
       "4      8     90"
      ]
     },
     "execution_count": 63,
     "metadata": {},
     "output_type": "execute_result"
    }
   ],
   "source": [
    "# Generating the data \n",
    "data = {'hours': [5,6,4,7,8,5,4,9,7,9], 'score': [88,76,69,81,90,71,62,93,82,95]}\n",
    "df1 = pd.DataFrame(data = data)\n",
    "df1.head()"
   ]
  },
  {
   "cell_type": "code",
   "execution_count": 66,
   "id": "9191539b",
   "metadata": {},
   "outputs": [
    {
     "data": {
      "text/plain": [
       "0.8644334560458191"
      ]
     },
     "execution_count": 66,
     "metadata": {},
     "output_type": "execute_result"
    }
   ],
   "source": [
    "df1['hours'].corr(df1['score'], method = 'pearson')"
   ]
  },
  {
   "cell_type": "markdown",
   "id": "67ddbbae",
   "metadata": {},
   "source": [
    "#### Interpretation : The pearson relation of coefficient for studying hours of student and their exam score comes out to be r = 0.8644 which signifies high correlation which means that when students study for long hours their performance in exam tends to be better. When study hours increases, exam score increases too in same direction. This is clearly the example of positive linear relaionship between the hours and score variable.  "
   ]
  },
  {
   "cell_type": "markdown",
   "id": "a1c28bc8",
   "metadata": {},
   "source": [
    "#### Q2. Spearman's rank correlation is a measure of the monotonic relationship between two variables. Suppose you have collected data on the amount of sleep individuals get each night and their overall job satisfaction level on a scale of 1 to 10. Calculate the Spearman's rank correlation between these two variables and interpret the result."
   ]
  },
  {
   "cell_type": "code",
   "execution_count": 77,
   "id": "a449fc5d",
   "metadata": {},
   "outputs": [],
   "source": [
    "# Data generation \n",
    "data = {'sleep_hours': [7,8,5,6,7,6], 'job_satisfaction': [7,9,5,7,7,5]}\n",
    "df2 = pd.DataFrame(data = data)"
   ]
  },
  {
   "cell_type": "code",
   "execution_count": 71,
   "id": "7fe945a7",
   "metadata": {},
   "outputs": [
    {
     "data": {
      "text/plain": [
       "0.8740073734751262"
      ]
     },
     "execution_count": 71,
     "metadata": {},
     "output_type": "execute_result"
    }
   ],
   "source": [
    "df2['sleep_hours'].corr(df2['job_satisfaction'], method = 'spearman')"
   ]
  },
  {
   "cell_type": "markdown",
   "id": "0f5f8be2",
   "metadata": {},
   "source": [
    "#### Interpretation : The Spearman rank correlation coefficient for sleeping hours of individuals and their job satisfaction comes out to be r = 0.8740 which signifies high positive correlation which means that when individulas take enough sleep their performance and job satisfaction tends to be better."
   ]
  },
  {
   "cell_type": "markdown",
   "id": "db699b17",
   "metadata": {},
   "source": [
    "#### Q3. Suppose you are conducting a study to examine the relationship between the number of hours of exercise per week and body mass index (BMI) in a sample of adults. You collected data on both variables for 50 participants. Calculate the Pearson correlation coefficient and the Spearman's rank correlation between these two variables and compare the results."
   ]
  },
  {
   "cell_type": "code",
   "execution_count": 97,
   "id": "c4c35617",
   "metadata": {},
   "outputs": [],
   "source": [
    "# Data generation :\n",
    "np.random.seed(42)\n",
    "\n",
    "hours = np.random.randint(5,10,50)\n",
    "bmi = np.random.randint(18, 30, 50)\n",
    "data = {'hours': hours, 'bmi': bmi}\n",
    "df3 = pd.DataFrame(data = data)"
   ]
  },
  {
   "cell_type": "code",
   "execution_count": 98,
   "id": "63cde3fd",
   "metadata": {},
   "outputs": [
    {
     "data": {
      "text/plain": [
       "0.18819692827827827"
      ]
     },
     "execution_count": 98,
     "metadata": {},
     "output_type": "execute_result"
    }
   ],
   "source": [
    "# Pearson Correlation coefficient \n",
    "\n",
    "df3['hours'].corr(df3['bmi'], method = 'pearson')"
   ]
  },
  {
   "cell_type": "code",
   "execution_count": 99,
   "id": "13e0d51f",
   "metadata": {},
   "outputs": [
    {
     "data": {
      "text/plain": [
       "0.20357968858475514"
      ]
     },
     "execution_count": 99,
     "metadata": {},
     "output_type": "execute_result"
    }
   ],
   "source": [
    "# spearman's rank correlation coefficient \n",
    "\n",
    "df3['hours'].corr(df3['bmi'], method = 'spearman')"
   ]
  },
  {
   "cell_type": "markdown",
   "id": "1a0c3b86",
   "metadata": {},
   "source": [
    "#### Interpretation: We can see from the above obseravations that spearman's and pearson correlation coefficient for exercise hours per week and bmi comes out to be almost same with spearmans correlation having slight high value, this means that our correlation is monotonic in nature. Apart from this both values signifies less to negligable correlation between the two factors into consideration. "
   ]
  },
  {
   "cell_type": "markdown",
   "id": "d949b2da",
   "metadata": {},
   "source": [
    "#### Q4. A researcher is interested in examining the relationship between the number of hours individuals spend watching television per day and their level of physical activity. The researcher collected data on both variables from a sample of 50 participants. Calculate the Pearson correlation coefficient between these two variables."
   ]
  },
  {
   "cell_type": "code",
   "execution_count": 104,
   "id": "cae4321f",
   "metadata": {},
   "outputs": [
    {
     "data": {
      "text/html": [
       "<div>\n",
       "<style scoped>\n",
       "    .dataframe tbody tr th:only-of-type {\n",
       "        vertical-align: middle;\n",
       "    }\n",
       "\n",
       "    .dataframe tbody tr th {\n",
       "        vertical-align: top;\n",
       "    }\n",
       "\n",
       "    .dataframe thead th {\n",
       "        text-align: right;\n",
       "    }\n",
       "</style>\n",
       "<table border=\"1\" class=\"dataframe\">\n",
       "  <thead>\n",
       "    <tr style=\"text-align: right;\">\n",
       "      <th></th>\n",
       "      <th>hours</th>\n",
       "      <th>activity_level</th>\n",
       "    </tr>\n",
       "  </thead>\n",
       "  <tbody>\n",
       "    <tr>\n",
       "      <th>0</th>\n",
       "      <td>2</td>\n",
       "      <td>3</td>\n",
       "    </tr>\n",
       "    <tr>\n",
       "      <th>1</th>\n",
       "      <td>1</td>\n",
       "      <td>2</td>\n",
       "    </tr>\n",
       "    <tr>\n",
       "      <th>2</th>\n",
       "      <td>2</td>\n",
       "      <td>1</td>\n",
       "    </tr>\n",
       "    <tr>\n",
       "      <th>3</th>\n",
       "      <td>3</td>\n",
       "      <td>2</td>\n",
       "    </tr>\n",
       "    <tr>\n",
       "      <th>4</th>\n",
       "      <td>2</td>\n",
       "      <td>2</td>\n",
       "    </tr>\n",
       "  </tbody>\n",
       "</table>\n",
       "</div>"
      ],
      "text/plain": [
       "   hours  activity_level\n",
       "0      2               3\n",
       "1      1               2\n",
       "2      2               1\n",
       "3      3               2\n",
       "4      2               2"
      ]
     },
     "execution_count": 104,
     "metadata": {},
     "output_type": "execute_result"
    }
   ],
   "source": [
    "# here we have two variables hours per day and level of physical activity. \n",
    "# We will take level of physical activity in range of 1-5. where value close to 5 signifies high level of activity and \n",
    "# if close to 1 siginifies very low level of activity.\n",
    "\n",
    "hours = np.random.randint(1, 4, 50)\n",
    "activity_level = np.random.randint(1, 5, 50)\n",
    "\n",
    "data = {'hours': hours, 'activity_level': activity_level}\n",
    "df = pd.DataFrame(data = data)\n",
    "df4.head()"
   ]
  },
  {
   "cell_type": "code",
   "execution_count": 106,
   "id": "d33abf00",
   "metadata": {},
   "outputs": [
    {
     "data": {
      "text/plain": [
       "-0.045662972460075106"
      ]
     },
     "execution_count": 106,
     "metadata": {},
     "output_type": "execute_result"
    }
   ],
   "source": [
    "df4['hours'].corr(df4['activity_level'], method = 'pearson')"
   ]
  },
  {
   "cell_type": "markdown",
   "id": "a937584b",
   "metadata": {},
   "source": [
    "#### Interpretation: The pearson correlation coefficient comes out to be -0.04566 which signifies low to negligable level of correlation between both factors. "
   ]
  },
  {
   "cell_type": "markdown",
   "id": "f797467a",
   "metadata": {},
   "source": [
    "#### Q5. A survey was conducted to examine the relationship between age and preference for a particular brand of soft drink. The survey results are shown below:"
   ]
  },
  {
   "cell_type": "code",
   "execution_count": 160,
   "id": "aaf4735f",
   "metadata": {},
   "outputs": [],
   "source": [
    "data = {'age' : [25,42,37,19,31,28], 'drink' : ['Coke', 'Pepsi', 'Mountain dew', 'Coke', 'Pepsi', 'Coke']}\n",
    "\n",
    "df5 = pd.DataFrame(data)"
   ]
  },
  {
   "cell_type": "code",
   "execution_count": 161,
   "id": "cf9fa4e7",
   "metadata": {},
   "outputs": [],
   "source": [
    "from sklearn.preprocessing import OneHotEncoder\n",
    "encode = OneHotEncoder()\n",
    "encoded = encode.fit_transform(df5[['drink']])"
   ]
  },
  {
   "cell_type": "code",
   "execution_count": 162,
   "id": "fedb47af",
   "metadata": {},
   "outputs": [],
   "source": [
    "encoded_df = pd.DataFrame(encoded.toarray(), columns = encode.get_feature_names_out())"
   ]
  },
  {
   "cell_type": "code",
   "execution_count": 163,
   "id": "b4f9dcc7",
   "metadata": {},
   "outputs": [
    {
     "data": {
      "text/html": [
       "<div>\n",
       "<style scoped>\n",
       "    .dataframe tbody tr th:only-of-type {\n",
       "        vertical-align: middle;\n",
       "    }\n",
       "\n",
       "    .dataframe tbody tr th {\n",
       "        vertical-align: top;\n",
       "    }\n",
       "\n",
       "    .dataframe thead th {\n",
       "        text-align: right;\n",
       "    }\n",
       "</style>\n",
       "<table border=\"1\" class=\"dataframe\">\n",
       "  <thead>\n",
       "    <tr style=\"text-align: right;\">\n",
       "      <th></th>\n",
       "      <th>age</th>\n",
       "      <th>drink</th>\n",
       "      <th>drink_Coke</th>\n",
       "      <th>drink_Mountain dew</th>\n",
       "      <th>drink_Pepsi</th>\n",
       "    </tr>\n",
       "  </thead>\n",
       "  <tbody>\n",
       "    <tr>\n",
       "      <th>0</th>\n",
       "      <td>25</td>\n",
       "      <td>Coke</td>\n",
       "      <td>1.0</td>\n",
       "      <td>0.0</td>\n",
       "      <td>0.0</td>\n",
       "    </tr>\n",
       "    <tr>\n",
       "      <th>1</th>\n",
       "      <td>42</td>\n",
       "      <td>Pepsi</td>\n",
       "      <td>0.0</td>\n",
       "      <td>0.0</td>\n",
       "      <td>1.0</td>\n",
       "    </tr>\n",
       "    <tr>\n",
       "      <th>2</th>\n",
       "      <td>37</td>\n",
       "      <td>Mountain dew</td>\n",
       "      <td>0.0</td>\n",
       "      <td>1.0</td>\n",
       "      <td>0.0</td>\n",
       "    </tr>\n",
       "    <tr>\n",
       "      <th>3</th>\n",
       "      <td>19</td>\n",
       "      <td>Coke</td>\n",
       "      <td>1.0</td>\n",
       "      <td>0.0</td>\n",
       "      <td>0.0</td>\n",
       "    </tr>\n",
       "    <tr>\n",
       "      <th>4</th>\n",
       "      <td>31</td>\n",
       "      <td>Pepsi</td>\n",
       "      <td>0.0</td>\n",
       "      <td>0.0</td>\n",
       "      <td>1.0</td>\n",
       "    </tr>\n",
       "    <tr>\n",
       "      <th>5</th>\n",
       "      <td>28</td>\n",
       "      <td>Coke</td>\n",
       "      <td>1.0</td>\n",
       "      <td>0.0</td>\n",
       "      <td>0.0</td>\n",
       "    </tr>\n",
       "  </tbody>\n",
       "</table>\n",
       "</div>"
      ],
      "text/plain": [
       "   age         drink  drink_Coke  drink_Mountain dew  drink_Pepsi\n",
       "0   25          Coke         1.0                 0.0          0.0\n",
       "1   42         Pepsi         0.0                 0.0          1.0\n",
       "2   37  Mountain dew         0.0                 1.0          0.0\n",
       "3   19          Coke         1.0                 0.0          0.0\n",
       "4   31         Pepsi         0.0                 0.0          1.0\n",
       "5   28          Coke         1.0                 0.0          0.0"
      ]
     },
     "execution_count": 163,
     "metadata": {},
     "output_type": "execute_result"
    }
   ],
   "source": [
    "df6 = pd.concat([df5, encoded_df], axis = 1)\n",
    "df6"
   ]
  },
  {
   "cell_type": "code",
   "execution_count": 31,
   "id": "7e607516",
   "metadata": {},
   "outputs": [],
   "source": [
    "age_coke_corr = df6['age'].corr(df6['drink_Coke'])\n",
    "age_dew_corr = df6['age'].corr(df6['drink_Mountain dew'])\n",
    "age_pepsi_corr = df6['age'].corr(df6['drink_Pepsi'])"
   ]
  },
  {
   "cell_type": "markdown",
   "id": "ad3b1155",
   "metadata": {},
   "source": [
    "####\n",
    "- The coefficient of correlation for age and coke drink comes out to be -0.837 which is sufficiently high degree of negative correlation. \n",
    "- The coefficient of correlation for age and MOuntain dew drink comes out to be 0.394 which is sufficiently less positively correlated. \n",
    "- The coefficient of correlation for age and Pepsi drink comes out to be 0.576 which is moderately positively correlated. "
   ]
  },
  {
   "cell_type": "markdown",
   "id": "ebd10f03",
   "metadata": {},
   "source": [
    "#### Q6. A company is interested in examining the relationship between the number of sales calls made per day and the number of sales made per week. The company collected data on both variables from a sample of 30 sales representatives. Calculate the Pearson correlation coefficient between these two variables."
   ]
  },
  {
   "cell_type": "code",
   "execution_count": 165,
   "id": "88b2e775",
   "metadata": {},
   "outputs": [],
   "source": [
    "num_calls = np.random.randint(1, 30, 30)\n",
    "num_sales = np.random.randint(5, 50, 30)"
   ]
  },
  {
   "cell_type": "code",
   "execution_count": 167,
   "id": "423aed01",
   "metadata": {},
   "outputs": [
    {
     "data": {
      "text/html": [
       "<div>\n",
       "<style scoped>\n",
       "    .dataframe tbody tr th:only-of-type {\n",
       "        vertical-align: middle;\n",
       "    }\n",
       "\n",
       "    .dataframe tbody tr th {\n",
       "        vertical-align: top;\n",
       "    }\n",
       "\n",
       "    .dataframe thead th {\n",
       "        text-align: right;\n",
       "    }\n",
       "</style>\n",
       "<table border=\"1\" class=\"dataframe\">\n",
       "  <thead>\n",
       "    <tr style=\"text-align: right;\">\n",
       "      <th></th>\n",
       "      <th>num_calls</th>\n",
       "      <th>num_sales</th>\n",
       "    </tr>\n",
       "  </thead>\n",
       "  <tbody>\n",
       "    <tr>\n",
       "      <th>0</th>\n",
       "      <td>7</td>\n",
       "      <td>16</td>\n",
       "    </tr>\n",
       "    <tr>\n",
       "      <th>1</th>\n",
       "      <td>20</td>\n",
       "      <td>26</td>\n",
       "    </tr>\n",
       "    <tr>\n",
       "      <th>2</th>\n",
       "      <td>29</td>\n",
       "      <td>48</td>\n",
       "    </tr>\n",
       "    <tr>\n",
       "      <th>3</th>\n",
       "      <td>15</td>\n",
       "      <td>29</td>\n",
       "    </tr>\n",
       "    <tr>\n",
       "      <th>4</th>\n",
       "      <td>11</td>\n",
       "      <td>31</td>\n",
       "    </tr>\n",
       "  </tbody>\n",
       "</table>\n",
       "</div>"
      ],
      "text/plain": [
       "   num_calls  num_sales\n",
       "0          7         16\n",
       "1         20         26\n",
       "2         29         48\n",
       "3         15         29\n",
       "4         11         31"
      ]
     },
     "execution_count": 167,
     "metadata": {},
     "output_type": "execute_result"
    }
   ],
   "source": [
    "data = {'num_calls': num_calls, 'num_sales': num_sales}\n",
    "df7 = pd.DataFrame(data = data)\n",
    "df7.head()"
   ]
  },
  {
   "cell_type": "code",
   "execution_count": 168,
   "id": "62ba4925",
   "metadata": {},
   "outputs": [
    {
     "data": {
      "text/plain": [
       "0.28191061347194113"
      ]
     },
     "execution_count": 168,
     "metadata": {},
     "output_type": "execute_result"
    }
   ],
   "source": [
    "df7['num_calls'].corr(df7['num_sales'])"
   ]
  },
  {
   "cell_type": "markdown",
   "id": "e809779c",
   "metadata": {},
   "source": [
    "#### Interpretation: The pearson correlation coefficient comes out to be 0.2819 which signifies low to negligable positive correlation between factors."
   ]
  }
 ],
 "metadata": {
  "kernelspec": {
   "display_name": "Python 3 (ipykernel)",
   "language": "python",
   "name": "python3"
  },
  "language_info": {
   "codemirror_mode": {
    "name": "ipython",
    "version": 3
   },
   "file_extension": ".py",
   "mimetype": "text/x-python",
   "name": "python",
   "nbconvert_exporter": "python",
   "pygments_lexer": "ipython3",
   "version": "3.10.10"
  }
 },
 "nbformat": 4,
 "nbformat_minor": 5
}
