{
 "cells": [
  {
   "cell_type": "markdown",
   "id": "e5639522",
   "metadata": {},
   "source": [
    "#### Q1: What is Estimation Statistics? Explain point estimate and interval estimate."
   ]
  },
  {
   "cell_type": "markdown",
   "id": "a893dddf",
   "metadata": {},
   "source": [
    "Ans: Estimation is the process by which numerical value of unknown parameter is estimated by using incomplete, raw data such as sample. There is also a term called estimand which is our aim/objective or interest of analysis. To calculate or find this estimand we use estimator which defines rules or framework. And the value or conlusion which we get is known as estimate.     \n",
    "\n",
    "There are mainly two types of estimation:\n",
    "\n",
    "a) Point estimation: Point estimate is the single numerical value which estimates the unknown population parameter.\n",
    "    Ex: Sample mean, Avg. height, Avg. weight is point estimate of population .\n",
    "\n",
    "b) Interval estimation: Interval estimate is the range of value which estimates the unknown pupulation parameter.\n",
    "    Ex: confidence interval is the interval estimate. "
   ]
  },
  {
   "cell_type": "markdown",
   "id": "0c368218",
   "metadata": {},
   "source": [
    "#### Q2. Write a Python function to estimate the population mean using a sample mean and standard deviation."
   ]
  },
  {
   "cell_type": "code",
   "execution_count": 22,
   "id": "6802f22f",
   "metadata": {},
   "outputs": [],
   "source": [
    "# We will be using x̄ ± 1.96(σ/√n) formula to calculate population mean with 95% confidence interval.\n",
    "# here, x̄ = sample mean, σ = pipulation standard deviation and n = sample size\n",
    "\n",
    "import math\n",
    "\n",
    "def population_mean(sample_mean, std, sample_size):\n",
    "    \n",
    "    \"\"\"This funciton is used to calculate population_mean with 95% confidence interval.\n",
    "    parameters : (sample_mean, population_std, sample_size) \"\"\"\n",
    "    \n",
    "    margin_of_error = 1.96 * (std/math.sqrt(sample_size))\n",
    "        \n",
    "    return [sample_mean ,'±', round(margin_of_error, ndigits= 4)] "
   ]
  },
  {
   "cell_type": "code",
   "execution_count": 54,
   "id": "25bb7d72",
   "metadata": {},
   "outputs": [
    {
     "data": {
      "text/plain": [
       "[3, '±', 0.2479]"
      ]
     },
     "execution_count": 54,
     "metadata": {},
     "output_type": "execute_result"
    }
   ],
   "source": [
    "population_mean(sample_mean=3, std=4, sample_size=1000)"
   ]
  },
  {
   "cell_type": "markdown",
   "id": "6953862e",
   "metadata": {},
   "source": [
    "#### Q3: What is Hypothesis testing? Why is it used? State the importance of Hypothesis testing."
   ]
  },
  {
   "cell_type": "markdown",
   "id": "f2c98002",
   "metadata": {},
   "source": [
    "Ans: Hypothesis testing verifies that the findings of an experiment are valid and the particular results did not happen by any chance. Hypothesis testing uses systematic and scientific method of examining whether the hypothesis set by the researcher is valid or not. If research is vaild then we conclude 'we fail to reject the null hypothesis' and if its invaild then we conclude 'we reject the null hypothesis'.\n",
    "For this purpose we have many estimators and tests such as z-test, t-test, f-test, ANOVA, etc. \n",
    "\n",
    "A hypothesis enables researchers not only predict a relationship based on theoretical guidelines and/or empirical evidence, it also helps assess the likelihood of similarities and differences of sample and population parameters. It also helps us to find if the conclusion or result happened by chance because if it did happen by chance then for every iteration we may receive different result this means that our results are not accurate and reliable which is unfavourable for our analysis. That is why its important to well formulate our hypothesis and conduct test accurately and precisely.   "
   ]
  },
  {
   "cell_type": "markdown",
   "id": "eb731950",
   "metadata": {},
   "source": [
    "#### Q4. Create a hypothesis that states whether the average weight of male college students is greater than the average weight of female college students."
   ]
  },
  {
   "cell_type": "markdown",
   "id": "e6083b77",
   "metadata": {},
   "source": [
    "Ans: Null hypothesis (Ho): The average weight of male college students is greater than the average weight of female college students.  \n",
    "\n",
    "Alternative hypothesis (H1): The average wieight of male college students is not greater than the average weight of female college students. "
   ]
  },
  {
   "cell_type": "markdown",
   "id": "b37216e2",
   "metadata": {},
   "source": [
    "#### Q5. Write a Python script to conduct a hypothesis test on the difference between two population means, given a sample from each population."
   ]
  },
  {
   "cell_type": "code",
   "execution_count": 43,
   "id": "72201e17",
   "metadata": {},
   "outputs": [],
   "source": [
    "from scipy import stats\n",
    "import numpy as np\n",
    "\n",
    "def hypothesis_conclusion(sample1, sample2):\n",
    "    t_value, p_value = stats.ttest_ind(sample1, sample2)\n",
    "\n",
    "    print(f\"Test statistic is {t_value}\")\n",
    "\n",
    "    print(f\"p-value for two tailed test is {p_value}\")\n",
    "\n",
    "    alpha = 0.05\n",
    "\n",
    "    if p_value<=alpha:\n",
    "\n",
    "        print(f\"Since p_value < significance value hence we reject null hypothesis i.e μ1 ≠ μ2\")\n",
    "    else:\n",
    "        print(f\"Since p_value > significance value hence we fail to reject the null hypothesis i.e μ1 = μ2\")"
   ]
  },
  {
   "cell_type": "code",
   "execution_count": 44,
   "id": "12036db7",
   "metadata": {},
   "outputs": [
    {
     "name": "stdout",
     "output_type": "stream",
     "text": [
      "Test statistic is 0.1846496543760765\n",
      "p-value for two tailed test is 0.8551954147800473\n",
      "Since p_value > significance value hence we fail to reject the null hypothesis i.e μ1 = μ2\n"
     ]
    }
   ],
   "source": [
    "sample_mean1 =[13.4,10.9,11.2,11.8,14,15.3,14.2,12.6,17,16.2,16.5,15.7]\n",
    "sample_mean2 =[12,11.7,10.7,11.2,14.8,14.4,13.9,13.7,16.9,16,15.6,16]\n",
    "\n",
    "hypothesis_conclusion(sample_mean1, sample_mean2)"
   ]
  },
  {
   "cell_type": "markdown",
   "id": "1dac9958",
   "metadata": {},
   "source": [
    "#### Q6: What is a null and alternative hypothesis? Give some examples."
   ]
  },
  {
   "cell_type": "markdown",
   "id": "9b673dfd",
   "metadata": {},
   "source": [
    "Ans: Null hypothesis (H0) is an asumption that there is no significant difference between the observed value and the expected value or we can say that the test condition is true. Whereas alternative (H1) hypothesis is opposite of null hypothesis where there is a difference between the values or the test condition is false. We either :\n",
    "\n",
    "- Reject the null hypothesis, or\n",
    "- Fail to reject the null hypothesis.\n",
    "To estimate above conditions we perform various tests. experiments such as z-test, t-test, f-test, ANOVA test, etc.  \n",
    "\n",
    "For Example:\n",
    "\n",
    "Case 1 - a) Null: Consumption of sugary drinks every day leads to obesity.\n",
    "\n",
    "         b) Alternative: Consumption of sugary drinks every day does not leads to obesity.\n",
    "   \n",
    "Case 2 - a) Null: All lilies have the same number of petals.\n",
    "\n",
    "         b) Alternative: Not every lilies have the same number of petals.\n",
    "         \n",
    "Case 3 - a) Null: If you drink coffee before going to bed, then it will take longer to fall asleep.\n",
    "\n",
    "         b) Alternative: If you do not drink coffee before going to bed, then it won't take longer to fall asleep."
   ]
  },
  {
   "cell_type": "markdown",
   "id": "cc45f1bc",
   "metadata": {},
   "source": [
    "#### Q7: Write down the steps involved in hypothesis testing."
   ]
  },
  {
   "cell_type": "markdown",
   "id": "390bc946",
   "metadata": {},
   "source": [
    "Ans: There are various steps involved in hypothesis testing :\n",
    "\n",
    "1) We state the Null hypothesis (H0).\n",
    "\n",
    "2) We state the alternative hypothesis (H1).\n",
    "\n",
    "3) Set a significance value (alpha).\n",
    "\n",
    "4) Perform test statistics.\n",
    "\n",
    "5) Based on test create a decision boundary/critical region i.e acceptance and rejection region.\n",
    "\n",
    "6) Compare the test statistics to critical value. \n",
    "\n",
    "7) Then formulate the conclusion about hypothesis."
   ]
  },
  {
   "cell_type": "markdown",
   "id": "c060233f",
   "metadata": {},
   "source": [
    "#### Q8. Define p-value and explain its significance in hypothesis testing"
   ]
  },
  {
   "cell_type": "markdown",
   "id": "9477a46a",
   "metadata": {},
   "source": [
    "Ans: A p-value (probability-value) is used in hypothesis testing to help us support the null hypothesis or reject the null hypothesis. The p-value is the evidence against the null hypothesis. P-value also tells us the probability of chance i.e if any conclusion or result happened by chance. p-values are expressed in decimal but we can also convert it to percentage.\n",
    "\n",
    "For exp: 0.0245 or 2.45%. A p-value of 2.45 means that there could be 2.45 % of chance of randomness of result.\n",
    "\n",
    "When we run hypothesis testing we get p-value and then we compare this p-value to significane value (alpha) to finally decide whether to reject the null hypothesis or fail to reject the null hypothesis.\n",
    "\n",
    "- A small p ≤ 0.05 value, reject the null hypothesis. This is strong evidence that the null hypothesis is invalid.\n",
    "- A large p > 0.05 value means the alternate hypothesis is weak, so you do not reject the null.\n",
    "\n",
    "If we don't have alpha value then we could use below points to decide :\n",
    "\n",
    "-If p > .10 → “not significant”\n",
    "\n",
    "-If p ≤ .10 → “marginally significant”\n",
    "\n",
    "-If p ≤ .05 → “significant”\n",
    "\n",
    "-If p ≤ .01 → “highly significant.”"
   ]
  },
  {
   "cell_type": "markdown",
   "id": "f8acb98e",
   "metadata": {},
   "source": [
    "#### Q9. Generate a Student's t-distribution plot using Python's matplotlib library, with the degrees of freedom parameter set to 10"
   ]
  },
  {
   "cell_type": "code",
   "execution_count": 72,
   "id": "7ecf3a62",
   "metadata": {},
   "outputs": [
    {
     "data": {
      "text/plain": [
       "(array([0.00233896, 0.        , 0.        , 0.00467793, 0.01169482,\n",
       "        0.02338963, 0.04210134, 0.13332091, 0.20348981, 0.34850554,\n",
       "        0.39528481, 0.35318347, 0.24325219, 0.18711707, 0.09121957,\n",
       "        0.03508445, 0.01403378, 0.01169482, 0.00233896, 0.00233896]),\n",
       " array([-5.07262082, -4.59757657, -4.12253231, -3.64748806, -3.1724438 ,\n",
       "        -2.69739955, -2.22235529, -1.74731104, -1.27226679, -0.79722253,\n",
       "        -0.32217828,  0.15286598,  0.62791023,  1.10295448,  1.57799874,\n",
       "         2.05304299,  2.52808725,  3.0031315 ,  3.47817576,  3.95322001,\n",
       "         4.42826426]),\n",
       " <BarContainer object of 20 artists>)"
      ]
     },
     "execution_count": 72,
     "metadata": {},
     "output_type": "execute_result"
    },
    {
     "data": {
      "image/png": "[encoded data removed]",
      "text/plain": [
       "<Figure size 432x288 with 1 Axes>"
      ]
     },
     "metadata": {
      "needs_background": "light"
     },
     "output_type": "display_data"
    }
   ],
   "source": [
    "import scipy.stats as stat\n",
    "from matplotlib import pyplot as plt  \n",
    "\n",
    "z = stat.t.rvs(df = 10, size = 900)\n",
    "\n",
    "plt.hist(z, density= True, bins = 20, edgecolor = 'black')"
   ]
  },
  {
   "cell_type": "markdown",
   "id": "9b0eb8af",
   "metadata": {},
   "source": [
    "#### Q10. Write a Python program to calculate the two-sample t-test for independent samples, given two random samples of equal size and a null hypothesis that the population means are equal."
   ]
  },
  {
   "cell_type": "code",
   "execution_count": 50,
   "id": "be1bf583",
   "metadata": {},
   "outputs": [],
   "source": [
    "# Here we have to calculate the t-test for two independent samples having the same size and null hypothesis that population\n",
    "# means are equal. For this calculation we use scipy function scipy.stats.ttest_rel.\n",
    "\n",
    "import scipy.stats as stat\n",
    "\n",
    "\n",
    "def t_2sample_test(sample1, sample2):\n",
    "    # using ttest_rel function from scipy.stats to calculate the t-test for two sample. \n",
    "    test_statistics, p_value = stat.ttest_rel(s1, s2)\n",
    "    print('calculated test value is: ', test_statistics)\n",
    "    print('calculated p_value is:',p_value)\n",
    "    \n",
    "    significance_value = 0.05\n",
    "    print('significance_value is :', significance_value)\n",
    "    print('')\n",
    "    if p_value <= significance_value:\n",
    "        print('We reject the null hypothesis.')\n",
    "    else:\n",
    "        print('We fail to reject the null hypothesis.')"
   ]
  },
  {
   "cell_type": "code",
   "execution_count": 51,
   "id": "997dd369",
   "metadata": {},
   "outputs": [
    {
     "name": "stdout",
     "output_type": "stream",
     "text": [
      "calculated test value is:  1.1353099542917562\n",
      "calculated p_value is: 0.2674567700372964\n",
      "significance_value is : 0.05\n",
      "\n",
      "We fail to reject the null hypothesis.\n"
     ]
    }
   ],
   "source": [
    "# Generating the two independent samples having same size from t-distribution. \n",
    "s1 = stat.t.rvs(df = 2, size = 25)\n",
    "s2 = stat.t.rvs(df = 2, size = 25)\n",
    "t_2sample_test(s1, s2)"
   ]
  },
  {
   "cell_type": "markdown",
   "id": "aaf64d21",
   "metadata": {},
   "source": [
    "#### Q11: What is Student’s t distribution? When to use the t-Distribution."
   ]
  },
  {
   "cell_type": "markdown",
   "id": "8fe9167d",
   "metadata": {},
   "source": [
    "Ans: Students-t distribution is exactly like normal distribution except having smaller sample size (less than 30) and where the populatioin variance is unknown. It follows a bell curve shape having most of the data points centred around mean and fewer observaitons in the tails. It is used to find the corresponding pvalue form test statistics using t-distribution. As the degree of freedom increases in t-distribution it closes and reaches to standard normal distribution.\n",
    "\n",
    "Use case: \n",
    "\n",
    "- We use t-distribution when data is normally distributed.\n",
    "- when the population standard deviation is unknown.\n",
    "- when the sample size is less (less than 30)."
   ]
  },
  {
   "cell_type": "markdown",
   "id": "33df9f93",
   "metadata": {},
   "source": [
    "#### Q12: What is t-statistic? State the formula for t-statistic."
   ]
  },
  {
   "cell_type": "markdown",
   "id": "bd4d62cf",
   "metadata": {},
   "source": [
    "Ans: The t-statistics is used in a t-test to help us support or reject the null hypothesis. It is used to find the difference between observed value to the expected value of population and hence validate our hypothesis. It compares the means of two groups of sample and tell the significance of it. T-test uses t-distribution and is related characteristics.\n",
    "\n",
    "We use t-test when the sample size is small and we don't know the population variance.\n",
    "\n",
    "Formula:"
   ]
  },
  {
   "attachments": {
    "geogebra-export--7-9218705377612374794.png": {
     "image/png": "[encoded data removed]"
    }
   },
   "cell_type": "markdown",
   "id": "d0e7e174",
   "metadata": {},
   "source": [
    "![geogebra-export--7-9218705377612374794.png](attachment:geogebra-export--7-9218705377612374794.png)"
   ]
  },
  {
   "cell_type": "markdown",
   "id": "c98dad8d",
   "metadata": {},
   "source": [
    "where, x̄ = sample mean\n",
    "\n",
    "       u = assumed mean\n",
    "\n",
    "       s = standard deviation \n",
    "\n",
    "       n = sample size"
   ]
  },
  {
   "cell_type": "markdown",
   "id": "7c8f3bc0",
   "metadata": {},
   "source": [
    "#### Q13. A coffee shop owner wants to estimate the average daily revenue for their shop. They take a random sample of 50 days and find the sample mean revenue to be dollar 500 with a standard deviation of dollar 50. Estimate the population mean revenue with a 95% confidence interval.\n"
   ]
  },
  {
   "cell_type": "code",
   "execution_count": 25,
   "id": "cf6b46ad",
   "metadata": {},
   "outputs": [
    {
     "name": "stdout",
     "output_type": "stream",
     "text": [
      "Ans: To calculate population mean based on sample mean ,standard deviation and 95% confidence interval we will use a population mean function created in Question.\n",
      "\n",
      "This function uses a formula : Population mean = Sample mean + T_critical*(Standard error of the mean) \n",
      "\n",
      "The population mean revenue with 95% confidence interval is [500, '±', 13.8593].\n"
     ]
    }
   ],
   "source": [
    "print(\"Ans: To calculate population mean based on sample mean ,standard deviation and 95% confidence interval we will use a population mean function created in Question.\")\n",
    "print('\\nThis function uses a formula : Population mean = Sample mean + T_critical*(Standard error of the mean) ')\n",
    "pop_revenue = population_mean(sample_mean = 500 ,std = 50 ,sample_size = 50 )\n",
    "print(f\"\\nThe population mean revenue with 95% confidence interval is {pop_revenue}.\")"
   ]
  },
  {
   "cell_type": "markdown",
   "id": "2a74fee4",
   "metadata": {},
   "source": [
    "#### Q14. A researcher hypothesizes that a new drug will decrease blood pressure by 10 mmHg. They conduct a clinical trial with 100 patients and find that the sample mean decrease in blood pressure is 8 mmHg with a standard deviation of 3 mmHg. Test the hypothesis with a significance level of 0.05.\n"
   ]
  },
  {
   "cell_type": "code",
   "execution_count": 20,
   "id": "4e170d52",
   "metadata": {},
   "outputs": [
    {
     "name": "stdout",
     "output_type": "stream",
     "text": [
      "Null: The new drug will decrease blood pressure by 10mmhg i.e u = 10,\n",
      "Alternative: The new drug will not decrease blood pressure by 10mmgh i.e u != 10.\n",
      "\n",
      "z_test score is : -6.666666666666667\n",
      "left critical value :  -1.96\n",
      "\n",
      "Our z-test value lies on the left tail negative region and its value is less than -1.96 which means we reject the null hypothesis. \n",
      "Therefore with 95% confidence level we reject the null hypothesis that the new drug will decrease the blood pressure by 10mmgh.\n"
     ]
    }
   ],
   "source": [
    "import math\n",
    "\n",
    "sample_mean = 8\n",
    "hypothesis_mean = 10\n",
    "sample_size = 100\n",
    "sample_std = 3\n",
    "alpha_value = 0.05\n",
    "right_critical_value = 1.96\n",
    "left_critical_value = -1.96\n",
    "\n",
    "#step 01: State the hypothesis.\n",
    "\n",
    "print(\"\"\"Null: The new drug will decrease blood pressure by 10mmhg i.e u = 10,\n",
    "Alternative: The new drug will not decrease blood pressure by 10mmgh i.e u != 10.\\n\"\"\")\n",
    "\n",
    "#step 02: perform two-tailed z-test.\n",
    "\n",
    "z_test = (sample_mean - hypothesis_mean ) / (sample_std / (math.sqrt(sample_size)))\n",
    "print('z_test score is :', z_test)\n",
    "print('left critical value : ', left_critical_value)\n",
    "\n",
    "#step 03 : compare the test-statistics with critical_value.\n",
    "\n",
    "print(\"\\nOur z-test value lies on the left tail negative region and its value is less than -1.96 which means we reject the null hypothesis. \\nTherefore with 95% confidence level we reject the null hypothesis that the new drug will decrease the blood pressure by 10mmgh.\")"
   ]
  },
  {
   "cell_type": "markdown",
   "id": "d7bba77d",
   "metadata": {},
   "source": [
    "#### Q15. An electronics company produces a certain type of product with a mean weight of 5 pounds and a standard deviation of 0.5 pounds. A random sample of 25 products is taken, and the sample mean weight is found to be 4.8 pounds. Test the hypothesis that the true mean weight of the products is less than 5 pounds with a significance level of 0.01."
   ]
  },
  {
   "cell_type": "code",
   "execution_count": 19,
   "id": "d9f0b66b",
   "metadata": {},
   "outputs": [
    {
     "name": "stdout",
     "output_type": "stream",
     "text": [
      "Null: The true mean weight of product is 5 pounds i.e, u <= 5,\n",
      "Alternative: The true mean weight of porduct is less than 5 pounds i.e, u > 5.\n",
      "\n",
      "Since we are calculating alternative hypothesis for a mean less than a particular value our test will be left tail negative region of distribution.\n",
      "\n",
      "Calculated t-test score is:  -2.0000000000000018\n",
      "\n",
      "We calculated critical value using alpha_value and degree of freedom (24) from the t-table.\n",
      "Critical value is:  -2.492\n",
      "\n",
      "On comparing critial value and test value we observe that the t-test score lies in the acceptance region of distribution which means that we fail to reject the null hypothesis. \n",
      "Therefore with 99% confidence interval we fail to reject the null hypothesis that the true mean weight of the product is less than 5 pounds.\n"
     ]
    }
   ],
   "source": [
    "hypothesis_mean = 5\n",
    "std = 0.5\n",
    "sample_mean = 4.8\n",
    "sample_size = 25\n",
    "alpha_value = 0.01\n",
    "critical_value = -2.492\n",
    "\n",
    "# step 01: Formulating our Hypothesis:\n",
    "print(\"\"\"Null: The true mean weight of product is 5 pounds i.e, u <= 5,\n",
    "Alternative: The true mean weight of porduct is less than 5 pounds i.e, u > 5.\\n\"\"\")\n",
    "print('Since we are calculating alternative hypothesis for a mean less than a particular value our test will be left tail negative region of distribution.')\n",
    "\n",
    "# step 02 : Calculating test-statistics.\n",
    "t_test = (sample_mean - hypothesis_mean) / (std / (math.sqrt(sample_size)))\n",
    "print('\\nCalculated t-test score is: ', t_test)\n",
    "\n",
    "# step 03 : Comparing t-test score with critical value. \n",
    "print(\"\\nWe calculated critical value using alpha_value and degree of freedom (24) from the t-table.\")\n",
    "print('Critical value is: ', critical_value)\n",
    "print(\"\"\"\\nOn comparing critial value and test value we observe that the t-test score lies in the acceptance region of distribution which means that we fail to reject the null hypothesis. \\nTherefore with 99% confidence interval we fail to reject the null hypothesis that the true mean weight of the product is less than 5 pounds.\"\"\")"
   ]
  },
  {
   "cell_type": "markdown",
   "id": "9e88ff6f",
   "metadata": {},
   "source": [
    "#### Q16. Two groups of students are given different study materials to prepare for a test. The first group (n1 = 30) has a mean score of 80 with a standard deviation of 10, and the second group (n2 = 40) has a mean score of 75 with a standard deviation of 8. Test the hypothesis that the population means for the two groups are equal with a significance level of 0.01."
   ]
  },
  {
   "cell_type": "code",
   "execution_count": 6,
   "id": "daad9c8d",
   "metadata": {},
   "outputs": [
    {
     "name": "stdout",
     "output_type": "stream",
     "text": [
      "Null: The population means of two groups are equal i.e u1 = u2,\n",
      "Alternative: The population means of two groups are not equal i.e u1 != u2.\n",
      "\n",
      "Z-test value is:  2.2511258444537408\n",
      "p-value (two-tailed) : 0.024378\n",
      "significance_leve is :  0.01\n",
      "\n",
      "On comparing values of p-value and significance value we observe that p-value is not less than significance value which means we fail to reject the null hypothesis. Therefore with 99% confidence level we fail to reject the null hypothesis and conclude that the population mean of two groups are equal.\n"
     ]
    }
   ],
   "source": [
    "#group 01:\n",
    "s1_m = 80\n",
    "s1_s = 30\n",
    "p1_std = 10\n",
    "    \n",
    "#group 02:\n",
    "s2_m = 75\n",
    "s2_s = 40\n",
    "p2_std = 8\n",
    "    \n",
    "significance_level = 0.01\n",
    "    \n",
    "# step 01: Formulating the hypothesis\n",
    "\n",
    "print(\"\"\"Null: The population means of two groups are equal i.e u1 = u2,\n",
    "Alternative: The population means of two groups are not equal i.e u1 != u2.\\n\"\"\")\n",
    "\n",
    "# step 02: calculating the test statistics :\n",
    "\n",
    "z_test = (s1_m - s2_m) / (math.sqrt(p1_std**2/s1_s + p2_std**2/s2_s))\n",
    "print('Z-test value is: ',z_test)\n",
    "\n",
    "print('p-value (two-tailed) :', 0.024378)\n",
    "print('significance_leve is : ', significance_level)\n",
    "\n",
    "print(\"\"\"\\nOn comparing values of p-value and significance value we observe that p-value is not less than significance value which means we fail to reject the null hypothesis. Therefore with 99% confidence level we fail to reject the null hypothesis and conclude that the population mean of two groups are equal.\"\"\")"
   ]
  },
  {
   "cell_type": "markdown",
   "id": "2314b585",
   "metadata": {},
   "source": [
    "#### Q17. A marketing company wants to estimate the average number of ads watched by viewers during a TV program. They take a random sample of 50 viewers and find that the sample mean is 4 with a standard deviation of 1.5. Estimate the population mean with a 99% confidence interval."
   ]
  },
  {
   "cell_type": "code",
   "execution_count": 4,
   "id": "d109061f",
   "metadata": {},
   "outputs": [
    {
     "name": "stdout",
     "output_type": "stream",
     "text": [
      "2.6666666666666665\n",
      "Therefore population mean for 99% confidence interval is : 4.211177440201363\n"
     ]
    }
   ],
   "source": [
    "import math\n",
    "sample_mean = 4\n",
    "sample_std = 1.5\n",
    "sample_size = 50\n",
    "alpha_level = 0.01\n",
    "hypothesis_mean = 0\n",
    "\n",
    "\n",
    "# calculating z-score:\n",
    "z_score = (sample_mean - hypothesis_mean)/ sample_std \n",
    "print(z_score)\n",
    "\n",
    "# using z-table we can find the critical value.\n",
    "z_critical_value = 0.9955\n",
    "\n",
    "# using formula \"Population mean = Sample mean + z_critical*(Standard error of the mean)\" we can calculate population mean.\n",
    "\n",
    "population_mean = sample_mean + z_critical_value * (sample_std/math.sqrt(sample_size))\n",
    "\n",
    "print(f\"Therefore population mean for 99% confidence interval is : {population_mean}\" )"
   ]
  }
 ],
 "metadata": {
  "kernelspec": {
   "display_name": "Python 3 (ipykernel)",
   "language": "python",
   "name": "python3"
  },
  "language_info": {
   "codemirror_mode": {
    "name": "ipython",
    "version": 3
   },
   "file_extension": ".py",
   "mimetype": "text/x-python",
   "name": "python",
   "nbconvert_exporter": "python",
   "pygments_lexer": "ipython3",
   "version": "3.9.7"
  }
 },
 "nbformat": 4,
 "nbformat_minor": 5
}
