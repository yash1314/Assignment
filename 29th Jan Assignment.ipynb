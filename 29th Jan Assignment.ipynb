{
 "cells": [
  {
   "cell_type": "markdown",
   "id": "8033998d",
   "metadata": {},
   "source": [
    "#### Q1. Who developed python programming langauage?"
   ]
  },
  {
   "cell_type": "code",
   "execution_count": 3,
   "id": "18abbda1",
   "metadata": {},
   "outputs": [
    {
     "name": "stdout",
     "output_type": "stream",
     "text": [
      "Python programming language was developed by 'Guido Van Rossum' in 1990s.\n"
     ]
    }
   ],
   "source": [
    "print(\"Python programming language was developed by 'Guido Van Rossum' in 1990s.\")"
   ]
  },
  {
   "cell_type": "markdown",
   "id": "1217a067",
   "metadata": {},
   "source": [
    "#### Q2. Which type of programming does python support?"
   ]
  },
  {
   "cell_type": "code",
   "execution_count": 5,
   "id": "32cfb872",
   "metadata": {},
   "outputs": [
    {
     "name": "stdout",
     "output_type": "stream",
     "text": [
      "Python support Object Oriented programming.\n"
     ]
    }
   ],
   "source": [
    "print('Python support Object Oriented programming.')"
   ]
  },
  {
   "cell_type": "markdown",
   "id": "11ff2ecf",
   "metadata": {},
   "source": [
    "#### Q3. Is python case sensitive when dealing with identifiers?"
   ]
  },
  {
   "cell_type": "code",
   "execution_count": 6,
   "id": "f04bcd31",
   "metadata": {},
   "outputs": [
    {
     "name": "stdout",
     "output_type": "stream",
     "text": [
      "Yes, python is case sensitive when dealing with identifiers.\n"
     ]
    }
   ],
   "source": [
    "print('Yes, python is case sensitive when dealing with identifiers.')"
   ]
  },
  {
   "cell_type": "markdown",
   "id": "9ec4f420",
   "metadata": {},
   "source": [
    "#### Q4. what is the correct extension for the python file?"
   ]
  },
  {
   "cell_type": "code",
   "execution_count": 9,
   "id": "7bf77684",
   "metadata": {},
   "outputs": [
    {
     "name": "stdout",
     "output_type": "stream",
     "text": [
      "'.py' is the correct python file extension.\n"
     ]
    }
   ],
   "source": [
    "print(\"'.py' is the correct python file extension.\")"
   ]
  },
  {
   "cell_type": "markdown",
   "id": "2f135b46",
   "metadata": {},
   "source": [
    "#### Q5. Is python code compiled or interpreted?"
   ]
  },
  {
   "cell_type": "code",
   "execution_count": 10,
   "id": "97e331a3",
   "metadata": {},
   "outputs": [
    {
     "name": "stdout",
     "output_type": "stream",
     "text": [
      "Python code is interpreted and not compiled.\n"
     ]
    }
   ],
   "source": [
    "print('Python code is interpreted and not compiled.')"
   ]
  },
  {
   "cell_type": "markdown",
   "id": "0788d3bc",
   "metadata": {},
   "source": [
    "#### Q6. Name a few blocks of code use to define in python programming language?"
   ]
  },
  {
   "cell_type": "code",
   "execution_count": 11,
   "id": "873a4596",
   "metadata": {},
   "outputs": [
    {
     "name": "stdout",
     "output_type": "stream",
     "text": [
      "Those are for, while loop, fuctions, if-else statement, etc.\n"
     ]
    }
   ],
   "source": [
    "print('Those are for, while loop, fuctions, if-else statement, etc.')"
   ]
  },
  {
   "cell_type": "markdown",
   "id": "bdaadf41",
   "metadata": {},
   "source": [
    "#### Q7. State a character used to give single-line comments in python?"
   ]
  },
  {
   "cell_type": "code",
   "execution_count": 13,
   "id": "944607de",
   "metadata": {},
   "outputs": [
    {
     "name": "stdout",
     "output_type": "stream",
     "text": [
      "The character used for single-line comment is '#'.\n"
     ]
    }
   ],
   "source": [
    "print(\"The character used for single-line comment is '#'.\")"
   ]
  },
  {
   "cell_type": "markdown",
   "id": "93aecdc7",
   "metadata": {},
   "source": [
    "#### Q8. Mention functions which can help use to find the version of python that we are currently working on?"
   ]
  },
  {
   "cell_type": "code",
   "execution_count": 16,
   "id": "cf84f065",
   "metadata": {},
   "outputs": [
    {
     "name": "stdout",
     "output_type": "stream",
     "text": [
      "We can use sys.version, python_version to find the current python version. But first we have to import sys and platform module respectively.\n"
     ]
    }
   ],
   "source": [
    "print('We can use sys.version, python_version to find the current python version. But first we have to import sys and platform module respectively.')"
   ]
  },
  {
   "cell_type": "markdown",
   "id": "e3d07e5d",
   "metadata": {},
   "source": [
    "#### Q9. Python supports the creation of anonymous functions at runtime, using a construct called-"
   ]
  },
  {
   "cell_type": "code",
   "execution_count": 17,
   "id": "9d3dd465",
   "metadata": {},
   "outputs": [
    {
     "name": "stdout",
     "output_type": "stream",
     "text": [
      "Lambda function.\n"
     ]
    }
   ],
   "source": [
    "print('Lambda function.')"
   ]
  },
  {
   "cell_type": "markdown",
   "id": "87b1b272",
   "metadata": {},
   "source": [
    "#### Q10. What does pip stand in python?"
   ]
  },
  {
   "cell_type": "code",
   "execution_count": 19,
   "id": "a05e6a6b",
   "metadata": {},
   "outputs": [
    {
     "name": "stdout",
     "output_type": "stream",
     "text": [
      "PIP stands for 'Preferred Install Program.'\n"
     ]
    }
   ],
   "source": [
    "print(\"PIP stands for 'Preferred Install Program.'\")"
   ]
  },
  {
   "cell_type": "markdown",
   "id": "9d078be2",
   "metadata": {},
   "source": [
    "#### Q11. Mention a few built-in function in python?"
   ]
  },
  {
   "cell_type": "code",
   "execution_count": 20,
   "id": "ed58669a",
   "metadata": {},
   "outputs": [
    {
     "name": "stdout",
     "output_type": "stream",
     "text": [
      "Few built-in funcitons in python are len(), print(), type(), range(), etc\n"
     ]
    }
   ],
   "source": [
    "print('Few built-in funcitons in python are len(), print(), type(), range(), etc')"
   ]
  },
  {
   "cell_type": "markdown",
   "id": "09f8384b",
   "metadata": {},
   "source": [
    "#### Q12. What is the maximum possible length of an identifier in python? "
   ]
  },
  {
   "cell_type": "code",
   "execution_count": 21,
   "id": "aaf1c410",
   "metadata": {},
   "outputs": [
    {
     "name": "stdout",
     "output_type": "stream",
     "text": [
      "The maximum possible length of an identifier in python is 79 characters.\n"
     ]
    }
   ],
   "source": [
    "print('The maximum possible length of an identifier in python is 79 characters.')"
   ]
  },
  {
   "cell_type": "markdown",
   "id": "228a6877",
   "metadata": {},
   "source": [
    "#### Q13. What are the benefits of using python?"
   ]
  },
  {
   "cell_type": "code",
   "execution_count": 5,
   "id": "ac280a77",
   "metadata": {},
   "outputs": [
    {
     "name": "stdout",
     "output_type": "stream",
     "text": [
      "The benefits of python are huge, I have listed most common of them:  \n",
      "1.Simple to Use and Understand. Most english proficient.\n",
      "2.Free and Open source. This means anyone can contribute to the overall development.\n",
      "3.It is interpreted language i.e code is written and run line by line which makes it easy.\n",
      "4.Its portability is huge.\n",
      "5.Supportive and developing community\n",
      "6.Has huge applications.\n",
      "7.Has extensive and developing library, etc\n"
     ]
    }
   ],
   "source": [
    "print(\"\"\"The benefits of python programmign language is huge, I have listed most common of them:  \n",
    "1.Simple to Use and Understand. Most english proficient.\n",
    "2.Free and Open source. This means anyone can contribute to the overall development.\n",
    "3.It is interpreted language i.e code is written and run line by line which makes it easy.\n",
    "4.Its portability is huge.\n",
    "5.Supportive and developing community\n",
    "6.Has huge applications.\n",
    "7.Has extensive and developing library, etc\"\"\")"
   ]
  },
  {
   "cell_type": "markdown",
   "id": "60df4a8c",
   "metadata": {},
   "source": [
    "#### Q14. How is memory managed in Python?"
   ]
  },
  {
   "cell_type": "code",
   "execution_count": 4,
   "id": "a0ff1de0",
   "metadata": {},
   "outputs": [
    {
     "name": "stdout",
     "output_type": "stream",
     "text": [
      "Memory in python is managed by python memory manager. It makes use of dynamic memory allocation, garbage collector, heap data structure, etc. \n"
     ]
    }
   ],
   "source": [
    "print('''Memory in python is managed by python memory manager. It makes use of dynamic memory allocation, garbage collector, heap data structure, etc. ''')"
   ]
  },
  {
   "cell_type": "markdown",
   "id": "b15e346f",
   "metadata": {},
   "source": [
    "#### Q15. How to install python on windows and set path variables? "
   ]
  },
  {
   "cell_type": "code",
   "execution_count": 26,
   "id": "19e4a34c",
   "metadata": {},
   "outputs": [
    {
     "name": "stdout",
     "output_type": "stream",
     "text": [
      "First download python.exe file from official python site. After downloading, install on your system. Then Follow the bellow steps to add python to path variable :\n",
      "\n",
      "1. Right click on My Computer and click on properties.\n",
      "\n",
      "2. Click on Advanced System settings\n",
      "\n",
      "3. Click on Environment Variable tab.\n",
      "\n",
      "4. Click on new tab of user variables.\n",
      "\n",
      "5. Write path in variable name.\n",
      "\n",
      "6. Copy the path of Python folder.\n",
      "\n",
      "7. Paste path of Python in variable value.\n",
      "\n",
      "8. Click on Ok button.\n",
      "\n",
      "8. Again click on Ok button and you are done.\n"
     ]
    }
   ],
   "source": [
    "print(\"\"\"First download python.exe file from official python site. After downloading, install on your system. Then Follow the bellow steps to add python to path variable :\n",
    "\n",
    "1. Right click on My Computer and click on properties.\n",
    "\n",
    "2. Click on Advanced System settings\n",
    "\n",
    "3. Click on Environment Variable tab.\n",
    "\n",
    "4. Click on new tab of user variables.\n",
    "\n",
    "5. Write path in variable name.\n",
    "\n",
    "6. Copy the path of Python folder.\n",
    "\n",
    "7. Paste path of Python in variable value.\n",
    "\n",
    "8. Click on Ok button.\n",
    "\n",
    "8. Again click on Ok button and you are done.\"\"\")"
   ]
  },
  {
   "cell_type": "markdown",
   "id": "62669dce",
   "metadata": {},
   "source": [
    "####  Q16. Is indentation required in python?"
   ]
  },
  {
   "cell_type": "code",
   "execution_count": 27,
   "id": "929d49f3",
   "metadata": {},
   "outputs": [
    {
     "name": "stdout",
     "output_type": "stream",
     "text": [
      "Yes, indentation is required in python for functions, loops, conditional statements, etc.\n"
     ]
    }
   ],
   "source": [
    "print('Yes, indentation is required in python for functions, loops, conditional statements, etc.')"
   ]
  }
 ],
 "metadata": {
  "kernelspec": {
   "display_name": "Python 3 (ipykernel)",
   "language": "python",
   "name": "python3"
  },
  "language_info": {
   "codemirror_mode": {
    "name": "ipython",
    "version": 3
   },
   "file_extension": ".py",
   "mimetype": "text/x-python",
   "name": "python",
   "nbconvert_exporter": "python",
   "pygments_lexer": "ipython3",
   "version": "3.9.7"
  }
 },
 "nbformat": 4,
 "nbformat_minor": 5
}
