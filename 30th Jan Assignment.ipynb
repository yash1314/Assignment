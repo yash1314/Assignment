{
 "cells": [
  {
   "cell_type": "markdown",
   "id": "422f2084",
   "metadata": {},
   "source": [
    "#### Q1. Write a program to accept percentage from the user and display the grade according to the following criteria: "
   ]
  },
  {
   "cell_type": "code",
   "execution_count": 4,
   "id": "cdb34a7e",
   "metadata": {},
   "outputs": [
    {
     "name": "stdout",
     "output_type": "stream",
     "text": [
      "Enter your percentage: 85\n",
      "You scored 'B' grade\n"
     ]
    }
   ],
   "source": [
    "per = int(input('Enter your percentage: '))\n",
    "\n",
    "if per > 90:\n",
    "    print(\"You scored 'A' grade\")\n",
    "elif per > 80 and per <= 90:\n",
    "    print(\"You scored 'B' grade\")\n",
    "elif per >= 60 and per <= 80:\n",
    "    print(\"You socred  'C' grade\")\n",
    "elif per < 60:\n",
    "    print(\"You scored 'D' grade\")"
   ]
  },
  {
   "cell_type": "markdown",
   "id": "9829e3c0",
   "metadata": {},
   "source": [
    "#### Q2. Write a program to accept cost price of a bike and display the road tax to be paid according to the following criteria:"
   ]
  },
  {
   "cell_type": "code",
   "execution_count": 9,
   "id": "75365d31",
   "metadata": {},
   "outputs": [
    {
     "name": "stdout",
     "output_type": "stream",
     "text": [
      "Enter cost price (in rs) of bike: 56000\n",
      "Road tax will be 10%\n"
     ]
    }
   ],
   "source": [
    "cp = int(input('Enter cost price (in rs) of bike: '))\n",
    "\n",
    "if cp > 100000:\n",
    "    print('Road tax will be 15%')\n",
    "elif cp > 50000 and cp<100000:\n",
    "    print('Road tax will be 10%')\n",
    "elif cp <= 50000:\n",
    "    print('Road tax will be 5%')"
   ]
  },
  {
   "cell_type": "markdown",
   "id": "894d60b8",
   "metadata": {},
   "source": [
    "#### Q3. Accept any city from the user and display monuments of that city."
   ]
  },
  {
   "cell_type": "code",
   "execution_count": 12,
   "id": "9cf82f95",
   "metadata": {},
   "outputs": [
    {
     "name": "stdout",
     "output_type": "stream",
     "text": [
      "Enter city name from the following - Delhi, Agra, Jaipur: jaipur\n",
      "Jal mahal is a famous monumnet of jaipur\n"
     ]
    }
   ],
   "source": [
    "city = input('Enter city name from the following - Delhi, Agra, Jaipur: ')\n",
    "\n",
    "if city.lower() == 'delhi' : \n",
    "    print('Red fort is a famous monument of delhi.')\n",
    "    \n",
    "elif city.lower() == 'agra' :\n",
    "    print('Taj mahal is a famous monument of agra.')\n",
    "\n",
    "elif city.lower() == 'jaipur' :\n",
    "    print('Jal mahal is a famous monumnet of jaipur')"
   ]
  },
  {
   "cell_type": "markdown",
   "id": "56ec8ebf",
   "metadata": {},
   "source": [
    "#### Q4. Check how many times a given number can be divided by 3 before it is less than or equal to 10."
   ]
  },
  {
   "cell_type": "code",
   "execution_count": 4,
   "id": "08cc454b",
   "metadata": {},
   "outputs": [
    {
     "name": "stdout",
     "output_type": "stream",
     "text": [
      "Enter number to check: 18\n",
      "Count: 1\n"
     ]
    }
   ],
   "source": [
    "num = int(input('Enter number to check: '))\n",
    "\n",
    "count = 0\n",
    "while num >= 10:\n",
    "    if num % 3==0:\n",
    "        remainder = num/3\n",
    "        num = remainder\n",
    "        count += 1\n",
    "    else:\n",
    "        break\n",
    "print('Count:',count)"
   ]
  },
  {
   "cell_type": "markdown",
   "id": "66566b40",
   "metadata": {},
   "source": [
    "#### Q5. Why and when to use while loop in python give a detailed description with example."
   ]
  },
  {
   "cell_type": "code",
   "execution_count": 12,
   "id": "54882d64",
   "metadata": {},
   "outputs": [
    {
     "name": "stdout",
     "output_type": "stream",
     "text": [
      "We use while loop when we don't know the exact number of iterations and we only know the condition for which our loop should stop. That condition is stopping point for our loop. Also while loop keep a counter variable for the condition to flip and stop the loop. For example we have a case where we want to print squares of numbers until it reaches a specific number and this part right here becomes our condition to stop the loop, so let's see the implementation of such case.\n",
      "0\n",
      "1\n",
      "4\n",
      "9\n",
      "16\n",
      "25\n",
      "36\n",
      "49\n",
      "64\n",
      "81\n",
      "100\n",
      "So here our loop starts with the number 0 and goes all the way to 10 while also calculating sqaures of each number. Also we made use of counter_var as a counter variable and a variable for calculating sqaures of each number. So in this way we can implement a while loop using coutner_variable and a condition to stop the loop.\n"
     ]
    }
   ],
   "source": [
    "print(\"\"\"We use while loop when we don't know the exact number of iterations and we only know the condition for which our loop should stop. That condition is stopping point for our loop. Also while loop keep a counter variable for the condition to flip and stop the loop. For example we have a case where we want to print squares of numbers until it reaches a specific number and this part right here becomes our condition to stop the loop, so let's see the implementation of such case.\"\"\")\n",
    "\n",
    "counter_var = 0 \n",
    "while counter_var <= 10:\n",
    "    print(counter_var*counter_var)\n",
    "    counter_var+=1\n",
    "    \n",
    "print(\"\"\"So here our loop starts with the number 0 and goes all the way to 10 while also calculating sqaures of each number. Also we made use of counter_var as a counter variable and a variable for calculating sqaures of each number. So in this way we can implement a while loop using coutner_variable and a condition to stop the loop.\"\"\")"
   ]
  },
  {
   "cell_type": "markdown",
   "id": "0530c4e3",
   "metadata": {},
   "source": [
    "#### Q6. Use nested while loop to print 3 different patterns."
   ]
  },
  {
   "cell_type": "code",
   "execution_count": 33,
   "id": "6e7e2fd6",
   "metadata": {},
   "outputs": [
    {
     "name": "stdout",
     "output_type": "stream",
     "text": [
      "first pattern:Right angle triangle \n",
      "\n",
      "- \n",
      "- - \n",
      "- - - \n",
      "- - - - \n",
      "- - - - - \n",
      "\n",
      "Second pattern: Reverse right angle triangle\n",
      "\n",
      "* * * * * \n",
      "* * * * \n",
      "* * * \n",
      "* * \n",
      "* \n",
      "\n",
      "Third pattern: Simple rectangle\n",
      "\n",
      "\n",
      "+ + + + + + \n",
      "+ + + + + + \n",
      "+ + + + + + "
     ]
    }
   ],
   "source": [
    "print('first pattern:Right angle triangle ')\n",
    "print('')\n",
    "\n",
    "i=1\n",
    "while i<=5:\n",
    "    j=1\n",
    "    while j<=i:\n",
    "        print('-',end=\" \")\n",
    "        j=j+1\n",
    "    print(\"\")\n",
    "    i=i+1\n",
    "\n",
    "print('')\n",
    "print('Second pattern: Reverse right angle triangle')\n",
    "print('')\n",
    "\n",
    "i = 1\n",
    "while i <= 5 :\n",
    "    j = 5\n",
    "    while j >= i:\n",
    "        print(\"*\", end = \" \")\n",
    "        j -= 1\n",
    "    print()\n",
    "    i += 1\n",
    "    \n",
    "print('')\n",
    "print('Third pattern: Simple rectangle')\n",
    "print('')\n",
    "\n",
    "rows = 3\n",
    "columns = 5\n",
    "while rows > 0:\n",
    "    print('')\n",
    "    while columns >= 0:\n",
    "        print('+', end = ' ')\n",
    "        columns -= 1\n",
    "    rows -= 1\n",
    "    columns = 5"
   ]
  },
  {
   "cell_type": "markdown",
   "id": "9cf7773d",
   "metadata": {},
   "source": [
    "#### Q7. Reverse a while loop to display numbers from 10 to 1."
   ]
  },
  {
   "cell_type": "code",
   "execution_count": 71,
   "id": "195d8401",
   "metadata": {},
   "outputs": [
    {
     "name": "stdout",
     "output_type": "stream",
     "text": [
      "10 9 8 7 6 5 4 3 2 1 "
     ]
    }
   ],
   "source": [
    "n = 10\n",
    "while n >= 1:\n",
    "    print(n, end = ' ')\n",
    "    n-=1"
   ]
  },
  {
   "cell_type": "markdown",
   "id": "53e24048",
   "metadata": {},
   "source": [
    "#### Q8. Reverse a while loop to display numbers from 10 to 1."
   ]
  },
  {
   "cell_type": "code",
   "execution_count": 5,
   "id": "76da122f",
   "metadata": {},
   "outputs": [
    {
     "name": "stdout",
     "output_type": "stream",
     "text": [
      "10 9 8 7 6 5 4 3 2 1 "
     ]
    }
   ],
   "source": [
    "n = 10\n",
    "while n >= 1:\n",
    "    print(n, end = ' ')\n",
    "    n-=1"
   ]
  }
 ],
 "metadata": {
  "kernelspec": {
   "display_name": "Python 3 (ipykernel)",
   "language": "python",
   "name": "python3"
  },
  "language_info": {
   "codemirror_mode": {
    "name": "ipython",
    "version": 3
   },
   "file_extension": ".py",
   "mimetype": "text/x-python",
   "name": "python",
   "nbconvert_exporter": "python",
   "pygments_lexer": "ipython3",
   "version": "3.9.7"
  }
 },
 "nbformat": 4,
 "nbformat_minor": 5
}
