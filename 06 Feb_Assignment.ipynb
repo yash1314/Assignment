{
 "cells": [
  {
   "cell_type": "markdown",
   "id": "73fae932",
   "metadata": {},
   "source": [
    "#### Q1. Create a function which will take a list as an argument and return the product of all the numbers after creating a flat list.\n",
    "Use the below-given list as an argument for your function.\n",
    "\n",
    "list1 = [1,2,3,4, [44,55,66, True], False, (34,56,78,89,34), {1,2,3,3,2,1}, {1:34, \"key2\": [55, 67, 78, 89], 4: (45,\n",
    "22, 61, 34)}, [56, 'data science'], 'Machine Learning']\n",
    "\n",
    "Note: you must extract numeric keys and values of the dictionary also"
   ]
  },
  {
   "cell_type": "code",
   "execution_count": 70,
   "id": "ccfea5b6",
   "metadata": {},
   "outputs": [],
   "source": [
    "def f_list_product(n):\n",
    "    list2 = []\n",
    "    result = 1\n",
    "    for i in n:\n",
    "        if type(i) in [list, set, tuple]:\n",
    "            for j in i: \n",
    "                list2.append(j)\n",
    "                \n",
    "        elif type(i) == dict:\n",
    "            for m in i.items():\n",
    "                for o in m:\n",
    "                    if type(o) in [list, tuple]:\n",
    "                        for p in o:\n",
    "                            list2.append(p)\n",
    "                    else:\n",
    "                        list2.append(o)\n",
    "                        \n",
    "        else:\n",
    "            list2.append(i)\n",
    "    \n",
    "    for s in list2:\n",
    "        if type(s) == int:\n",
    "            result *= s\n",
    "            \n",
    "    return result"
   ]
  },
  {
   "cell_type": "code",
   "execution_count": 71,
   "id": "75ff4747",
   "metadata": {},
   "outputs": [],
   "source": [
    "list1 = [1,2,3,4, [44,55,66, True], False, (34,56,78,89,34), {1,2,3,3,2,1}, {1:34, \"key2\": [55, 67, 78, 89], 4: (45, 22, 61, 34)}, [56, 'data science'], 'Machine Learning']"
   ]
  },
  {
   "cell_type": "code",
   "execution_count": 72,
   "id": "b1e62e8a",
   "metadata": {},
   "outputs": [
    {
     "name": "stdout",
     "output_type": "stream",
     "text": [
      "4134711838987085478833841242112000\n"
     ]
    }
   ],
   "source": [
    "print(f_list_product(list1))"
   ]
  },
  {
   "cell_type": "markdown",
   "id": "ea9bbfd0",
   "metadata": {},
   "source": [
    "#### Q2. Write a python program for encrypting a message sent to you by your friend. The logic of encryption should be such that, for a the output should be z. For b, the output should be y. For c, the output should be x respectively. Also, the whitespace should be replaced with a dollar sign. Keep the punctuation marks unchanged."
   ]
  },
  {
   "cell_type": "code",
   "execution_count": 114,
   "id": "41a2bbc9",
   "metadata": {},
   "outputs": [],
   "source": [
    "def encrypt(sms):\n",
    "    sms = list(sms)\n",
    "    final_str = \"\"\n",
    "    for i in sms:\n",
    "        if i.lower() == 'a':\n",
    "            sms[sms.index(i)] = 'z'\n",
    "        elif i.lower() == 'b':\n",
    "            sms[sms.index(i)] = 'y'\n",
    "        elif i.lower() == 'c':\n",
    "            sms[sms.index(i)] = 'x'\n",
    "        elif i == ' ':\n",
    "            sms[sms.index(i)] = '$'\n",
    "        else:\n",
    "            pass\n",
    "        \n",
    "    return final_str.join(sms).lower()"
   ]
  },
  {
   "cell_type": "code",
   "execution_count": 115,
   "id": "bcfee49b",
   "metadata": {},
   "outputs": [
    {
     "data": {
      "text/plain": [
       "'i$wznt$to$yexome$z$dztz$sxientist.'"
      ]
     },
     "execution_count": 115,
     "metadata": {},
     "output_type": "execute_result"
    }
   ],
   "source": [
    "message = 'I want to become a Data Scientist.'\n",
    "encrypt(message)"
   ]
  }
 ],
 "metadata": {
  "kernelspec": {
   "display_name": "Python 3 (ipykernel)",
   "language": "python",
   "name": "python3"
  },
  "language_info": {
   "codemirror_mode": {
    "name": "ipython",
    "version": 3
   },
   "file_extension": ".py",
   "mimetype": "text/x-python",
   "name": "python",
   "nbconvert_exporter": "python",
   "pygments_lexer": "ipython3",
   "version": "3.9.7"
  }
 },
 "nbformat": 4,
 "nbformat_minor": 5
}
